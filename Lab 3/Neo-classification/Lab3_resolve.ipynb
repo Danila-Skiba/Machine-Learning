{
 "cells": [
  {
   "cell_type": "markdown",
   "metadata": {},
   "source": [
    "# Лабораторная работа №2"
   ]
  },
  {
   "cell_type": "markdown",
   "metadata": {},
   "source": [
    "## Задача классификаиции"
   ]
  },
  {
   "cell_type": "code",
   "execution_count": null,
   "metadata": {},
   "outputs": [],
   "source": [
    "\n",
    "path = DecisionTreeRegressor().cost_complexity_pruning_path(X_train_mumb, y_train_mumb)\n",
    "ccp_alphas = path.ccp_alphas\n",
    "optimal_alpha = None\n",
    "best_accuracy = -np.inf \n",
    "for alpha in ccp_alphas:\n",
    "    mean_accuracy = k_fold(DecisionTreeRegressor(ccp_alpha=alpha), X_train_mumb, y_train_mumb, 'r2', False)\n",
    "    if mean_accuracy > best_accuracy:\n",
    "        best_accuracy = mean_accuracy\n",
    "        optimal_alpha = alpha\n",
    "\n",
    "optimal_alpha\n"
   ]
  },
  {
   "cell_type": "markdown",
   "metadata": {},
   "source": [
    "#### Импорты"
   ]
  },
  {
   "cell_type": "code",
   "execution_count": 106,
   "metadata": {},
   "outputs": [],
   "source": [
    "from ml_library.hyperparams import  optuna_params, gridSearchCV_params, randomizedSearchCV_params\n",
    "from ml_library.graphics_neo import plot_miss_distance_vs_velocity, plot_magnitude_vs_velocity\n",
    "from ml_library.graphics import plot_roc_curves\n",
    "from ml_library.metrics import custom_classifier_metrics\n",
    "from sklearn.metrics import accuracy_score\n",
    "import numpy as np\n",
    "import pandas as pd\n",
    "import matplotlib.pyplot as plt\n",
    "import warnings\n",
    "warnings.filterwarnings(\"ignore\")\n",
    "import joblib\n"
   ]
  },
  {
   "cell_type": "code",
   "execution_count": 107,
   "metadata": {},
   "outputs": [],
   "source": [
    "from matplotlib import pyplot as plt\n",
    "from sklearn.metrics import roc_curve, roc_auc_score\n",
    "\n",
    "def ROC_curve(model, X_test, y_test):\n",
    "    y_proba = model.predict_proba(X_test)[:,1]\n",
    "    fpr, tpr,tresholds = roc_curve(y_test, y_proba)\n",
    "    auc = roc_auc_score(y_test, y_proba)\n",
    "    plt.figure(figsize=(8, 6))\n",
    "    plt.plot(fpr, tpr, label=f'ROC curve (AUC = {auc:.2f})')\n",
    "    plt.plot([0, 1], [0, 1], 'k--')\n",
    "    plt.xlabel('False Positive Rate (FPR)')\n",
    "    plt.ylabel('True Positive Rate (TPR)')\n",
    "    plt.title('Receiver Operating Characteristic (ROC) Curve')\n",
    "    plt.legend()\n",
    "    plt.show()"
   ]
  },
  {
   "cell_type": "markdown",
   "metadata": {},
   "source": [
    "### Загрузка данных"
   ]
  },
  {
   "cell_type": "code",
   "execution_count": 1,
   "metadata": {},
   "outputs": [
    {
     "ename": "NameError",
     "evalue": "name 'pd' is not defined",
     "output_type": "error",
     "traceback": [
      "\u001b[31m---------------------------------------------------------------------------\u001b[39m",
      "\u001b[31mNameError\u001b[39m                                 Traceback (most recent call last)",
      "\u001b[36mCell\u001b[39m\u001b[36m \u001b[39m\u001b[32mIn[1]\u001b[39m\u001b[32m, line 1\u001b[39m\n\u001b[32m----> \u001b[39m\u001b[32m1\u001b[39m data = \u001b[43mpd\u001b[49m.read_csv(\u001b[33m'\u001b[39m\u001b[33mresult_neo.csv\u001b[39m\u001b[33m'\u001b[39m)\n",
      "\u001b[31mNameError\u001b[39m: name 'pd' is not defined"
     ]
    }
   ],
   "source": [
    "data = pd.read_csv('result_neo.csv')"
   ]
  },
  {
   "cell_type": "code",
   "execution_count": 109,
   "metadata": {},
   "outputs": [
    {
     "data": {
      "text/html": [
       "<div>\n",
       "<style scoped>\n",
       "    .dataframe tbody tr th:only-of-type {\n",
       "        vertical-align: middle;\n",
       "    }\n",
       "\n",
       "    .dataframe tbody tr th {\n",
       "        vertical-align: top;\n",
       "    }\n",
       "\n",
       "    .dataframe thead th {\n",
       "        text-align: right;\n",
       "    }\n",
       "</style>\n",
       "<table border=\"1\" class=\"dataframe\">\n",
       "  <thead>\n",
       "    <tr style=\"text-align: right;\">\n",
       "      <th></th>\n",
       "      <th>est_diameter_min</th>\n",
       "      <th>est_diameter_max</th>\n",
       "      <th>relative_velocity</th>\n",
       "      <th>miss_distance</th>\n",
       "      <th>absolute_magnitude</th>\n",
       "      <th>hazardous</th>\n",
       "    </tr>\n",
       "  </thead>\n",
       "  <tbody>\n",
       "    <tr>\n",
       "      <th>0</th>\n",
       "      <td>0.016016</td>\n",
       "      <td>0.035813</td>\n",
       "      <td>56014.080</td>\n",
       "      <td>1024333.0</td>\n",
       "      <td>26.09</td>\n",
       "      <td>0</td>\n",
       "    </tr>\n",
       "    <tr>\n",
       "      <th>1</th>\n",
       "      <td>0.030518</td>\n",
       "      <td>0.068240</td>\n",
       "      <td>7864.348</td>\n",
       "      <td>32681860.0</td>\n",
       "      <td>24.70</td>\n",
       "      <td>0</td>\n",
       "    </tr>\n",
       "    <tr>\n",
       "      <th>2</th>\n",
       "      <td>0.055533</td>\n",
       "      <td>0.124177</td>\n",
       "      <td>55257.543</td>\n",
       "      <td>65386360.0</td>\n",
       "      <td>23.41</td>\n",
       "      <td>0</td>\n",
       "    </tr>\n",
       "    <tr>\n",
       "      <th>3</th>\n",
       "      <td>0.019256</td>\n",
       "      <td>0.043057</td>\n",
       "      <td>41531.406</td>\n",
       "      <td>12607958.0</td>\n",
       "      <td>25.70</td>\n",
       "      <td>0</td>\n",
       "    </tr>\n",
       "    <tr>\n",
       "      <th>4</th>\n",
       "      <td>0.139494</td>\n",
       "      <td>0.311918</td>\n",
       "      <td>67639.390</td>\n",
       "      <td>71305896.0</td>\n",
       "      <td>21.41</td>\n",
       "      <td>0</td>\n",
       "    </tr>\n",
       "    <tr>\n",
       "      <th>...</th>\n",
       "      <td>...</td>\n",
       "      <td>...</td>\n",
       "      <td>...</td>\n",
       "      <td>...</td>\n",
       "      <td>...</td>\n",
       "      <td>...</td>\n",
       "    </tr>\n",
       "    <tr>\n",
       "      <th>82463</th>\n",
       "      <td>0.017561</td>\n",
       "      <td>0.039268</td>\n",
       "      <td>23264.740</td>\n",
       "      <td>1635006.6</td>\n",
       "      <td>25.91</td>\n",
       "      <td>0</td>\n",
       "    </tr>\n",
       "    <tr>\n",
       "      <th>82464</th>\n",
       "      <td>0.110804</td>\n",
       "      <td>0.247765</td>\n",
       "      <td>24802.520</td>\n",
       "      <td>33519008.0</td>\n",
       "      <td>21.91</td>\n",
       "      <td>0</td>\n",
       "    </tr>\n",
       "    <tr>\n",
       "      <th>82465</th>\n",
       "      <td>0.035039</td>\n",
       "      <td>0.078350</td>\n",
       "      <td>116289.000</td>\n",
       "      <td>54713964.0</td>\n",
       "      <td>24.41</td>\n",
       "      <td>0</td>\n",
       "    </tr>\n",
       "    <tr>\n",
       "      <th>82466</th>\n",
       "      <td>0.044112</td>\n",
       "      <td>0.098637</td>\n",
       "      <td>45763.316</td>\n",
       "      <td>26948772.0</td>\n",
       "      <td>23.91</td>\n",
       "      <td>0</td>\n",
       "    </tr>\n",
       "    <tr>\n",
       "      <th>82467</th>\n",
       "      <td>0.084441</td>\n",
       "      <td>0.188817</td>\n",
       "      <td>79519.520</td>\n",
       "      <td>36312068.0</td>\n",
       "      <td>22.48</td>\n",
       "      <td>0</td>\n",
       "    </tr>\n",
       "  </tbody>\n",
       "</table>\n",
       "<p>82468 rows × 6 columns</p>\n",
       "</div>"
      ],
      "text/plain": [
       "       est_diameter_min  est_diameter_max  ...  absolute_magnitude  hazardous\n",
       "0              0.016016          0.035813  ...               26.09          0\n",
       "1              0.030518          0.068240  ...               24.70          0\n",
       "2              0.055533          0.124177  ...               23.41          0\n",
       "3              0.019256          0.043057  ...               25.70          0\n",
       "4              0.139494          0.311918  ...               21.41          0\n",
       "...                 ...               ...  ...                 ...        ...\n",
       "82463          0.017561          0.039268  ...               25.91          0\n",
       "82464          0.110804          0.247765  ...               21.91          0\n",
       "82465          0.035039          0.078350  ...               24.41          0\n",
       "82466          0.044112          0.098637  ...               23.91          0\n",
       "82467          0.084441          0.188817  ...               22.48          0\n",
       "\n",
       "[82468 rows x 6 columns]"
      ]
     },
     "execution_count": 109,
     "metadata": {},
     "output_type": "execute_result"
    }
   ],
   "source": [
    "#Удалим лишний столбец name\n",
    "data = data.drop(columns=['name'])\n",
    "data"
   ]
  },
  {
   "cell_type": "markdown",
   "metadata": {},
   "source": [
    "### Шаг 1: Выделим целевой признак и предикторы"
   ]
  },
  {
   "cell_type": "code",
   "execution_count": 110,
   "metadata": {},
   "outputs": [
    {
     "data": {
      "text/plain": [
       "0    0\n",
       "1    0\n",
       "2    0\n",
       "3    0\n",
       "4    0\n",
       "Name: hazardous, dtype: int64"
      ]
     },
     "execution_count": 110,
     "metadata": {},
     "output_type": "execute_result"
    }
   ],
   "source": [
    "Y = data['hazardous']\n",
    "X = data.drop(['hazardous'], axis=1)\n",
    "Y.head()"
   ]
  },
  {
   "cell_type": "code",
   "execution_count": 111,
   "metadata": {},
   "outputs": [
    {
     "data": {
      "text/html": [
       "<div>\n",
       "<style scoped>\n",
       "    .dataframe tbody tr th:only-of-type {\n",
       "        vertical-align: middle;\n",
       "    }\n",
       "\n",
       "    .dataframe tbody tr th {\n",
       "        vertical-align: top;\n",
       "    }\n",
       "\n",
       "    .dataframe thead th {\n",
       "        text-align: right;\n",
       "    }\n",
       "</style>\n",
       "<table border=\"1\" class=\"dataframe\">\n",
       "  <thead>\n",
       "    <tr style=\"text-align: right;\">\n",
       "      <th></th>\n",
       "      <th>est_diameter_min</th>\n",
       "      <th>est_diameter_max</th>\n",
       "      <th>relative_velocity</th>\n",
       "      <th>miss_distance</th>\n",
       "      <th>absolute_magnitude</th>\n",
       "    </tr>\n",
       "  </thead>\n",
       "  <tbody>\n",
       "    <tr>\n",
       "      <th>0</th>\n",
       "      <td>0.016016</td>\n",
       "      <td>0.035813</td>\n",
       "      <td>56014.080</td>\n",
       "      <td>1024333.0</td>\n",
       "      <td>26.09</td>\n",
       "    </tr>\n",
       "    <tr>\n",
       "      <th>1</th>\n",
       "      <td>0.030518</td>\n",
       "      <td>0.068240</td>\n",
       "      <td>7864.348</td>\n",
       "      <td>32681860.0</td>\n",
       "      <td>24.70</td>\n",
       "    </tr>\n",
       "    <tr>\n",
       "      <th>2</th>\n",
       "      <td>0.055533</td>\n",
       "      <td>0.124177</td>\n",
       "      <td>55257.543</td>\n",
       "      <td>65386360.0</td>\n",
       "      <td>23.41</td>\n",
       "    </tr>\n",
       "    <tr>\n",
       "      <th>3</th>\n",
       "      <td>0.019256</td>\n",
       "      <td>0.043057</td>\n",
       "      <td>41531.406</td>\n",
       "      <td>12607958.0</td>\n",
       "      <td>25.70</td>\n",
       "    </tr>\n",
       "    <tr>\n",
       "      <th>4</th>\n",
       "      <td>0.139494</td>\n",
       "      <td>0.311918</td>\n",
       "      <td>67639.390</td>\n",
       "      <td>71305896.0</td>\n",
       "      <td>21.41</td>\n",
       "    </tr>\n",
       "  </tbody>\n",
       "</table>\n",
       "</div>"
      ],
      "text/plain": [
       "   est_diameter_min  est_diameter_max  ...  miss_distance  absolute_magnitude\n",
       "0          0.016016          0.035813  ...      1024333.0               26.09\n",
       "1          0.030518          0.068240  ...     32681860.0               24.70\n",
       "2          0.055533          0.124177  ...     65386360.0               23.41\n",
       "3          0.019256          0.043057  ...     12607958.0               25.70\n",
       "4          0.139494          0.311918  ...     71305896.0               21.41\n",
       "\n",
       "[5 rows x 5 columns]"
      ]
     },
     "execution_count": 111,
     "metadata": {},
     "output_type": "execute_result"
    }
   ],
   "source": [
    "X.head()"
   ]
  },
  {
   "cell_type": "markdown",
   "metadata": {},
   "source": [
    "#### Тип задачи классификации"
   ]
  },
  {
   "cell_type": "markdown",
   "metadata": {},
   "source": [
    "<font size = 4> Все признаки кроме ```hazardous``` являются числовыми непрерывными, а значит задача является __бинарной__</font>"
   ]
  },
  {
   "cell_type": "markdown",
   "metadata": {},
   "source": [
    "### Шаг 2: Проверим баланс класса"
   ]
  },
  {
   "cell_type": "code",
   "execution_count": 112,
   "metadata": {},
   "outputs": [
    {
     "data": {
      "image/png": "[encoded data removed]",
      "text/plain": [
       "<Figure size 640x480 with 1 Axes>"
      ]
     },
     "metadata": {},
     "output_type": "display_data"
    }
   ],
   "source": [
    "data['hazardous'].value_counts().plot.barh();"
   ]
  },
  {
   "cell_type": "markdown",
   "metadata": {},
   "source": [
    "<font size =4 > Наблюдается явное преимущество безопасных космических объектов. Распредление данных **неравномерно**</font>"
   ]
  },
  {
   "cell_type": "markdown",
   "metadata": {},
   "source": [
    "#### Сбалансируем классы"
   ]
  },
  {
   "cell_type": "code",
   "execution_count": 113,
   "metadata": {},
   "outputs": [],
   "source": [
    "from imblearn.under_sampling import  RandomUnderSampler\n",
    "\n",
    "# oversample = SMOTE()\n",
    "# transformed_X, transformed_Y = oversample.fit_resample(X, Y)\n",
    "\n",
    "undersample = RandomUnderSampler(replacement=True)\n",
    "transformed_X, transformed_Y = undersample.fit_resample(X,Y)"
   ]
  },
  {
   "cell_type": "markdown",
   "metadata": {},
   "source": [
    "#### Сохранение данных"
   ]
  },
  {
   "cell_type": "code",
   "execution_count": 114,
   "metadata": {},
   "outputs": [
    {
     "data": {
      "image/png": "[encoded data removed]",
      "text/plain": [
       "<Figure size 640x480 with 1 Axes>"
      ]
     },
     "metadata": {},
     "output_type": "display_data"
    }
   ],
   "source": [
    "transformed_df = pd.concat([transformed_X, transformed_Y], axis=1, join='outer')\n",
    "transformed_df['hazardous'].value_counts().plot.barh();"
   ]
  },
  {
   "cell_type": "code",
   "execution_count": 115,
   "metadata": {},
   "outputs": [
    {
     "data": {
      "text/html": [
       "<div>\n",
       "<style scoped>\n",
       "    .dataframe tbody tr th:only-of-type {\n",
       "        vertical-align: middle;\n",
       "    }\n",
       "\n",
       "    .dataframe tbody tr th {\n",
       "        vertical-align: top;\n",
       "    }\n",
       "\n",
       "    .dataframe thead th {\n",
       "        text-align: right;\n",
       "    }\n",
       "</style>\n",
       "<table border=\"1\" class=\"dataframe\">\n",
       "  <thead>\n",
       "    <tr style=\"text-align: right;\">\n",
       "      <th></th>\n",
       "      <th>est_diameter_min</th>\n",
       "      <th>est_diameter_max</th>\n",
       "      <th>relative_velocity</th>\n",
       "      <th>miss_distance</th>\n",
       "      <th>absolute_magnitude</th>\n",
       "    </tr>\n",
       "  </thead>\n",
       "  <tbody>\n",
       "    <tr>\n",
       "      <th>71797</th>\n",
       "      <td>0.042126</td>\n",
       "      <td>0.094198</td>\n",
       "      <td>43385.848</td>\n",
       "      <td>24237444.00</td>\n",
       "      <td>24.00</td>\n",
       "    </tr>\n",
       "    <tr>\n",
       "      <th>9081</th>\n",
       "      <td>0.004411</td>\n",
       "      <td>0.009864</td>\n",
       "      <td>45698.010</td>\n",
       "      <td>201771.31</td>\n",
       "      <td>23.70</td>\n",
       "    </tr>\n",
       "    <tr>\n",
       "      <th>33114</th>\n",
       "      <td>0.105817</td>\n",
       "      <td>0.236614</td>\n",
       "      <td>32263.516</td>\n",
       "      <td>70633180.00</td>\n",
       "      <td>22.00</td>\n",
       "    </tr>\n",
       "    <tr>\n",
       "      <th>51852</th>\n",
       "      <td>0.022108</td>\n",
       "      <td>0.049436</td>\n",
       "      <td>45930.695</td>\n",
       "      <td>5711521.00</td>\n",
       "      <td>25.41</td>\n",
       "    </tr>\n",
       "    <tr>\n",
       "      <th>59886</th>\n",
       "      <td>0.253837</td>\n",
       "      <td>0.567597</td>\n",
       "      <td>34747.492</td>\n",
       "      <td>56039812.00</td>\n",
       "      <td>20.09</td>\n",
       "    </tr>\n",
       "    <tr>\n",
       "      <th>...</th>\n",
       "      <td>...</td>\n",
       "      <td>...</td>\n",
       "      <td>...</td>\n",
       "      <td>...</td>\n",
       "      <td>...</td>\n",
       "    </tr>\n",
       "    <tr>\n",
       "      <th>82389</th>\n",
       "      <td>0.150853</td>\n",
       "      <td>0.337318</td>\n",
       "      <td>48243.418</td>\n",
       "      <td>51347500.00</td>\n",
       "      <td>21.23</td>\n",
       "    </tr>\n",
       "    <tr>\n",
       "      <th>82399</th>\n",
       "      <td>0.104847</td>\n",
       "      <td>0.234444</td>\n",
       "      <td>66320.030</td>\n",
       "      <td>53792056.00</td>\n",
       "      <td>22.02</td>\n",
       "    </tr>\n",
       "    <tr>\n",
       "      <th>82419</th>\n",
       "      <td>0.176423</td>\n",
       "      <td>0.394494</td>\n",
       "      <td>108286.820</td>\n",
       "      <td>43743810.00</td>\n",
       "      <td>20.89</td>\n",
       "    </tr>\n",
       "    <tr>\n",
       "      <th>82449</th>\n",
       "      <td>0.201630</td>\n",
       "      <td>0.450858</td>\n",
       "      <td>52389.516</td>\n",
       "      <td>23651644.00</td>\n",
       "      <td>20.59</td>\n",
       "    </tr>\n",
       "    <tr>\n",
       "      <th>82455</th>\n",
       "      <td>0.278327</td>\n",
       "      <td>0.622358</td>\n",
       "      <td>37183.926</td>\n",
       "      <td>11538638.00</td>\n",
       "      <td>19.91</td>\n",
       "    </tr>\n",
       "  </tbody>\n",
       "</table>\n",
       "<p>13402 rows × 5 columns</p>\n",
       "</div>"
      ],
      "text/plain": [
       "       est_diameter_min  est_diameter_max  ...  miss_distance  absolute_magnitude\n",
       "71797          0.042126          0.094198  ...    24237444.00               24.00\n",
       "9081           0.004411          0.009864  ...      201771.31               23.70\n",
       "33114          0.105817          0.236614  ...    70633180.00               22.00\n",
       "51852          0.022108          0.049436  ...     5711521.00               25.41\n",
       "59886          0.253837          0.567597  ...    56039812.00               20.09\n",
       "...                 ...               ...  ...            ...                 ...\n",
       "82389          0.150853          0.337318  ...    51347500.00               21.23\n",
       "82399          0.104847          0.234444  ...    53792056.00               22.02\n",
       "82419          0.176423          0.394494  ...    43743810.00               20.89\n",
       "82449          0.201630          0.450858  ...    23651644.00               20.59\n",
       "82455          0.278327          0.622358  ...    11538638.00               19.91\n",
       "\n",
       "[13402 rows x 5 columns]"
      ]
     },
     "execution_count": 115,
     "metadata": {},
     "output_type": "execute_result"
    }
   ],
   "source": [
    "transformed_X"
   ]
  },
  {
   "cell_type": "markdown",
   "metadata": {},
   "source": [
    "#### Масштабирование данных"
   ]
  },
  {
   "cell_type": "code",
   "execution_count": 116,
   "metadata": {},
   "outputs": [],
   "source": [
    "from sklearn.preprocessing import StandardScaler\n",
    "\n",
    "scaler = StandardScaler()\n",
    "X_scaled = scaler.fit_transform(transformed_X)"
   ]
  },
  {
   "cell_type": "markdown",
   "metadata": {},
   "source": [
    "### Шаг 3: Разделим данные на обучающую и тестовую выборки"
   ]
  },
  {
   "cell_type": "markdown",
   "metadata": {},
   "source": [
    "**hold-out**"
   ]
  },
  {
   "cell_type": "code",
   "execution_count": 117,
   "metadata": {},
   "outputs": [],
   "source": [
    "import numpy as np\n",
    "from sklearn.model_selection import train_test_split, cross_val_score"
   ]
  },
  {
   "cell_type": "code",
   "execution_count": 118,
   "metadata": {},
   "outputs": [],
   "source": [
    "X_train, X_test, y_train, y_test = train_test_split(X_scaled, transformed_Y, test_size=0.3)"
   ]
  },
  {
   "cell_type": "markdown",
   "metadata": {},
   "source": [
    "**k-fold**"
   ]
  },
  {
   "cell_type": "code",
   "execution_count": 119,
   "metadata": {},
   "outputs": [],
   "source": [
    "def k_fold(model):\n",
    "    scores  = cross_val_score(model, X_train,y_train, cv = 5, scoring='accuracy')\n",
    "    print(\"Оценки кросс-валидации на обучающем наборе\", scores)\n",
    "    print(\"Средняя оценка кросс-валидации на обучающем наборе\", np.mean(scores))"
   ]
  },
  {
   "cell_type": "markdown",
   "metadata": {},
   "source": [
    "## <span style = \"color: #FFA500\"> Решение задачи классификации <span>"
   ]
  },
  {
   "cell_type": "code",
   "execution_count": 120,
   "metadata": {},
   "outputs": [],
   "source": [
    "from sklearn.linear_model import LogisticRegression\n",
    "from sklearn.neighbors import KNeighborsClassifier\n",
    "from sklearn.svm import SVC\n",
    "from sklearn.naive_bayes import GaussianNB\n"
   ]
  },
  {
   "cell_type": "markdown",
   "metadata": {},
   "source": [
    "### ОБУЧЕНИЕ <span style = \"color:rgb(117, 191, 234)\">SVM</span> МОДЕЛЕЙ"
   ]
  },
  {
   "cell_type": "markdown",
   "metadata": {},
   "source": [
    "#### <span style = \"color:rgb(117, 191, 234)\"> SVC </span> / <span style = \"color: rgb(79, 211, 180)\"> Linear </span>"
   ]
  },
  {
   "cell_type": "code",
   "execution_count": 121,
   "metadata": {},
   "outputs": [],
   "source": [
    "svc_linear = SVC(kernel='linear', C=0.1, max_iter = 100000, probability=True)\n",
    "#svc_linear.fit(X_train, y_train)"
   ]
  },
  {
   "cell_type": "code",
   "execution_count": 122,
   "metadata": {},
   "outputs": [],
   "source": [
    "svc_linear = joblib.load('svc_linear_model.joblib')"
   ]
  },
  {
   "cell_type": "code",
   "execution_count": 123,
   "metadata": {},
   "outputs": [],
   "source": [
    "y_pred = svc_linear.predict(X_test)"
   ]
  },
  {
   "cell_type": "code",
   "execution_count": 124,
   "metadata": {},
   "outputs": [
    {
     "name": "stdout",
     "output_type": "stream",
     "text": [
      "                 Метрики качества\n",
      "accuracy_score             0.8811\n",
      "precision_score            0.8117\n",
      "recall_score               0.9884\n",
      "f1_score                   0.8914\n",
      "Confusion Matrix (Rows: Predicted, Columns: True):\n",
      "------------------\n",
      "              Class 0     Class 1\n",
      "-----------------------------------\n",
      "Predicted  Class 0  |   1582      455 |\n",
      "Predicted  Class 1  |     23     1961 |\n",
      "-----------------------------------\n"
     ]
    }
   ],
   "source": [
    "custom_classifier_metrics(y_test, y_pred)"
   ]
  },
  {
   "cell_type": "markdown",
   "metadata": {},
   "source": [
    "#### <span style = \"color:rgb(117, 191, 234)\"> SVC </span> / <span style = \"color: rgb(253, 149, 122)\"> Poly </span>"
   ]
  },
  {
   "cell_type": "code",
   "execution_count": 125,
   "metadata": {},
   "outputs": [],
   "source": [
    "svc_poly = SVC(kernel='poly', C=10, max_iter = 100000, probability=True)\n",
    "#svc_poly.fit(X_train, y_train)"
   ]
  },
  {
   "cell_type": "code",
   "execution_count": 126,
   "metadata": {},
   "outputs": [],
   "source": [
    "svc_poly = joblib.load('svc_poly_model.joblib')"
   ]
  },
  {
   "cell_type": "code",
   "execution_count": 127,
   "metadata": {},
   "outputs": [],
   "source": [
    "y_pred = svc_poly.predict(X_test)"
   ]
  },
  {
   "cell_type": "code",
   "execution_count": 128,
   "metadata": {},
   "outputs": [
    {
     "name": "stdout",
     "output_type": "stream",
     "text": [
      "                 Метрики качества\n",
      "accuracy_score             0.8893\n",
      "precision_score            0.8397\n",
      "recall_score               0.9587\n",
      "f1_score                   0.8953\n",
      "Confusion Matrix (Rows: Predicted, Columns: True):\n",
      "------------------\n",
      "              Class 0     Class 1\n",
      "-----------------------------------\n",
      "Predicted  Class 0  |   1674      363 |\n",
      "Predicted  Class 1  |     82     1902 |\n",
      "-----------------------------------\n"
     ]
    }
   ],
   "source": [
    "custom_classifier_metrics(y_test, y_pred)"
   ]
  },
  {
   "cell_type": "markdown",
   "metadata": {},
   "source": [
    "#### <span style = \"color:rgb(117, 191, 234)\"> SVC </span> / <span style = \"color: rgb(193, 10, 46)\"> RBF </span>"
   ]
  },
  {
   "cell_type": "code",
   "execution_count": 129,
   "metadata": {},
   "outputs": [],
   "source": [
    "svc_rbf = SVC(kernel='rbf', C=10, max_iter = 100000, probability=True)\n",
    "#svc_rbf.fit(X_train, y_train)"
   ]
  },
  {
   "cell_type": "code",
   "execution_count": 130,
   "metadata": {},
   "outputs": [],
   "source": [
    "svc_rbf = joblib.load('svc_rbf_model.joblib')"
   ]
  },
  {
   "cell_type": "code",
   "execution_count": 131,
   "metadata": {},
   "outputs": [],
   "source": [
    "y_pred = svc_rbf.predict(X_test)"
   ]
  },
  {
   "cell_type": "code",
   "execution_count": 132,
   "metadata": {},
   "outputs": [
    {
     "name": "stdout",
     "output_type": "stream",
     "text": [
      "                 Метрики качества\n",
      "accuracy_score             0.8811\n",
      "precision_score            0.8117\n",
      "recall_score               0.9884\n",
      "f1_score                   0.8914\n",
      "Confusion Matrix (Rows: Predicted, Columns: True):\n",
      "------------------\n",
      "              Class 0     Class 1\n",
      "-----------------------------------\n",
      "Predicted  Class 0  |   1582      455 |\n",
      "Predicted  Class 1  |     23     1961 |\n",
      "-----------------------------------\n"
     ]
    }
   ],
   "source": [
    "custom_classifier_metrics(y_test, y_pred)"
   ]
  },
  {
   "cell_type": "markdown",
   "metadata": {},
   "source": [
    "#### <span style = \"color:rgb(117, 191, 234)\"> SVC </span> / <span style = \"color: rgb(142, 153, 246)\"> Sigmoid </span>"
   ]
  },
  {
   "cell_type": "code",
   "execution_count": 133,
   "metadata": {},
   "outputs": [],
   "source": [
    "svc_sigmoid = SVC(kernel='sigmoid', C=10, max_iter = 100000, probability=True)\n",
    "#svc_sigmoid.fit(X_train, y_train)"
   ]
  },
  {
   "cell_type": "code",
   "execution_count": 134,
   "metadata": {},
   "outputs": [],
   "source": [
    "svc_sigmoid = joblib.load('svc_sigmoid_model.joblib')"
   ]
  },
  {
   "cell_type": "code",
   "execution_count": 135,
   "metadata": {},
   "outputs": [],
   "source": [
    "y_pred = svc_sigmoid.predict(X_test)"
   ]
  },
  {
   "cell_type": "code",
   "execution_count": 136,
   "metadata": {},
   "outputs": [
    {
     "name": "stdout",
     "output_type": "stream",
     "text": [
      "                 Метрики качества\n",
      "accuracy_score             0.7804\n",
      "precision_score            0.7981\n",
      "recall_score               0.7429\n",
      "f1_score                   0.7695\n",
      "Confusion Matrix (Rows: Predicted, Columns: True):\n",
      "------------------\n",
      "              Class 0     Class 1\n",
      "-----------------------------------\n",
      "Predicted  Class 0  |   1664      373 |\n",
      "Predicted  Class 1  |    510     1474 |\n",
      "-----------------------------------\n"
     ]
    }
   ],
   "source": [
    "custom_classifier_metrics(y_test, y_pred)"
   ]
  },
  {
   "cell_type": "markdown",
   "metadata": {},
   "source": [
    "#### Выводы\n",
    "- Все 4 модели показали неплохие метрики\n",
    "- Нам важна метрика _Recall_,  так как она учитывает количество ложно-отрицательных (FN) предсказаний опасности космического объекта. (пропущенная угроза)\n",
    "- Модели <span style = \"color:rgb(117, 191, 234) \"> SVC</span>: Linear/RBF лучше всех предсказывают опасность космических объектов\n",
    "- Модель <span style = \"color:rgb(117, 191, 234) \"> SVC</span>/<span style=\"color:rgb(253, 149, 122) \">Poly</span> является самой сбалансированной по предсказаниями:\n",
    "\n",
    "    1. **f1_score** = ${0.90}$\n",
    "\n",
    "    2. **recall** = ${0.95}$\n",
    "\n",
    "    3. **accuracy** = ${0.88}$"
   ]
  },
  {
   "cell_type": "markdown",
   "metadata": {},
   "source": [
    "### Классификаторы ```Logistic Regression```, ```kNN```, ```Naive Bayes```"
   ]
  },
  {
   "cell_type": "code",
   "execution_count": 137,
   "metadata": {},
   "outputs": [],
   "source": [
    "classifiers_without_SVC = {\n",
    "    'Logistic Regression': LogisticRegression(), \n",
    "    'KNN': KNeighborsClassifier(),\n",
    "    'Naive bayes': GaussianNB(),\n",
    "}"
   ]
  },
  {
   "cell_type": "code",
   "execution_count": 138,
   "metadata": {},
   "outputs": [
    {
     "name": "stdout",
     "output_type": "stream",
     "text": [
      "Оценки кросс-валидации на обучающем наборе [0.89238146 0.88539446 0.89552239 0.88646055 0.88059701]\n",
      "Средняя оценка кросс-валидации на обучающем наборе 0.8880711746844587\n",
      "Метрики Logistic Regression\n",
      "                 Метрики качества\n",
      "accuracy_score             0.8891\n",
      "precision_score            0.8270\n",
      "recall_score               0.9803\n",
      "f1_score                   0.8971\n",
      "Confusion Matrix (Rows: Predicted, Columns: True):\n",
      "------------------\n",
      "              Class 0     Class 1\n",
      "-----------------------------------\n",
      "Predicted  Class 0  |   1630      407 |\n",
      "Predicted  Class 1  |     39     1945 |\n",
      "-----------------------------------\n",
      "Оценки кросс-валидации на обучающем наборе [0.89397975 0.88965885 0.89978678 0.8880597  0.88486141]\n",
      "Средняя оценка кросс-валидации на обучающем наборе 0.8912692985335898\n",
      "Метрики KNN\n",
      "                 Метрики качества\n",
      "accuracy_score             0.8878\n",
      "precision_score            0.8366\n",
      "recall_score               0.9602\n",
      "f1_score                   0.8942\n",
      "Confusion Matrix (Rows: Predicted, Columns: True):\n",
      "------------------\n",
      "              Class 0     Class 1\n",
      "-----------------------------------\n",
      "Predicted  Class 0  |   1665      372 |\n",
      "Predicted  Class 1  |     79     1905 |\n",
      "-----------------------------------\n",
      "Оценки кросс-валидации на обучающем наборе [0.88545551 0.87100213 0.88326226 0.88006397 0.86993603]\n",
      "Средняя оценка кросс-валидации на обучающем наборе 0.8779439812884735\n",
      "Метрики Naive bayes\n",
      "                 Метрики качества\n",
      "accuracy_score             0.8754\n",
      "precision_score            0.8348\n",
      "recall_score               0.9320\n",
      "f1_score                   0.8807\n",
      "Confusion Matrix (Rows: Predicted, Columns: True):\n",
      "------------------\n",
      "              Class 0     Class 1\n",
      "-----------------------------------\n",
      "Predicted  Class 0  |   1671      366 |\n",
      "Predicted  Class 1  |    135     1849 |\n",
      "-----------------------------------\n"
     ]
    }
   ],
   "source": [
    "for index, (name, classifier) in enumerate(classifiers_without_SVC.items()):\n",
    "\n",
    "    classifier.fit(X_train, y_train)\n",
    "    k_fold(classifier)\n",
    "\n",
    "    y_pred = classifier.predict(X_test)\n",
    "    print(f\"Метрики {name}\")\n",
    "    custom_classifier_metrics(y_test, y_pred)"
   ]
  },
  {
   "cell_type": "markdown",
   "metadata": {},
   "source": [
    "#### <span style= \"color:rgb(133, 247, 201)\"  > Выводы </span>\n",
    "\n",
    "<font size = 4> Без подбора параметров ```Logistic Regression```,  ```KNN```, и ```Naive Bayes``` уже показывают неплохие результаты. \n",
    "\n",
    "Подберём оптимальные параметры с помощью **GridSearch** , **RandomisedSearch** и **Optuna**\n",
    "\n",
    "</font>"
   ]
  },
  {
   "cell_type": "markdown",
   "metadata": {},
   "source": [
    "### Оптимальные параметры для Logistic Regression,  KNN, и Naive Bayes"
   ]
  },
  {
   "cell_type": "markdown",
   "metadata": {},
   "source": [
    "- <span style = \"color:rgb(240, 102, 102)\">Logistic Regression </span>"
   ]
  },
  {
   "cell_type": "code",
   "execution_count": 139,
   "metadata": {},
   "outputs": [
    {
     "name": "stdout",
     "output_type": "stream",
     "text": [
      " Лучшие параметры для модели (GridSearchCV) 'C':0.001, 'l1_ratio':0.778, 'penalty':'elasticnet', 'solver':'saga'\n"
     ]
    }
   ],
   "source": [
    "lr_params = {\n",
    "    'penalty': ['l1', 'l2', 'elasticnet', 'None'],\n",
    "    'C': [0.001, 0.01, 0.1, 1, 10, 100],\n",
    "    'solver':['liblinear', 'saga'],\n",
    "    'l1_ratio': np.linspace(0,1,10),\n",
    "}\n",
    "\n",
    "grid_search_lr = gridSearchCV_params(LogisticRegression(), lr_params, X_train, y_train)\n"
   ]
  },
  {
   "cell_type": "code",
   "execution_count": 140,
   "metadata": {},
   "outputs": [
    {
     "data": {
      "text/plain": [
       "['lr_model.joblib']"
      ]
     },
     "execution_count": 140,
     "metadata": {},
     "output_type": "execute_result"
    }
   ],
   "source": [
    "joblib.dump(grid_search_lr, 'lr_model.joblib')"
   ]
  },
  {
   "cell_type": "code",
   "execution_count": 141,
   "metadata": {},
   "outputs": [
    {
     "name": "stdout",
     "output_type": "stream",
     "text": [
      "                 Метрики качества\n",
      "accuracy_score             0.8931\n",
      "precision_score            0.8329\n",
      "recall_score               0.9798\n",
      "f1_score                   0.9004\n",
      "Confusion Matrix (Rows: Predicted, Columns: True):\n",
      "------------------\n",
      "              Class 0     Class 1\n",
      "-----------------------------------\n",
      "Predicted  Class 0  |   1647      390 |\n",
      "Predicted  Class 1  |     40     1944 |\n",
      "-----------------------------------\n"
     ]
    }
   ],
   "source": [
    "y_pred = grid_search_lr.predict(X_test)\n",
    "\n",
    "custom_classifier_metrics(y_test, y_pred)\n"
   ]
  },
  {
   "cell_type": "markdown",
   "metadata": {},
   "source": [
    "- <span style = \"color:rgb(154, 198, 242)\">KNN </span>"
   ]
  },
  {
   "cell_type": "code",
   "execution_count": 142,
   "metadata": {},
   "outputs": [
    {
     "name": "stdout",
     "output_type": "stream",
     "text": [
      "Лучшие параметры для модели (RandomizedSearchCV) 'metric':'minkowski', 'n_neighbors':35.0, 'p':2.0, 'weights':'distance'\n"
     ]
    }
   ],
   "source": [
    "from scipy.stats import randint\n",
    "\n",
    "knn_params = {\n",
    "    'n_neighbors' : randint(1,50),\n",
    "    'weights': ['uniform', 'distance'],\n",
    "    'metric': ['euclidean', 'manhattan', 'minkowski'],\n",
    "    'p':[1,2]\n",
    "}\n",
    "\n",
    "random_search_knn = randomizedSearchCV_params(KNeighborsClassifier(), knn_params, X_train, y_train)"
   ]
  },
  {
   "cell_type": "code",
   "execution_count": 143,
   "metadata": {},
   "outputs": [
    {
     "data": {
      "text/plain": [
       "['knn_model.joblib']"
      ]
     },
     "execution_count": 143,
     "metadata": {},
     "output_type": "execute_result"
    }
   ],
   "source": [
    "joblib.dump(random_search_knn,'knn_model.joblib')"
   ]
  },
  {
   "cell_type": "code",
   "execution_count": 144,
   "metadata": {},
   "outputs": [
    {
     "name": "stdout",
     "output_type": "stream",
     "text": [
      "                 Метрики качества\n",
      "accuracy_score             0.8931\n",
      "precision_score            0.8329\n",
      "recall_score               0.9798\n",
      "f1_score                   0.9004\n",
      "Confusion Matrix (Rows: Predicted, Columns: True):\n",
      "------------------\n",
      "              Class 0     Class 1\n",
      "-----------------------------------\n",
      "Predicted  Class 0  |   1647      390 |\n",
      "Predicted  Class 1  |     40     1944 |\n",
      "-----------------------------------\n"
     ]
    }
   ],
   "source": [
    "y_pred_best_knn = random_search_knn.predict(X_test)\n",
    "custom_classifier_metrics(y_test, y_pred)"
   ]
  },
  {
   "cell_type": "markdown",
   "metadata": {},
   "source": [
    "- <span style = \"color:rgb(231, 243, 119)\"> Naive bayes </span>"
   ]
  },
  {
   "cell_type": "code",
   "execution_count": 145,
   "metadata": {},
   "outputs": [],
   "source": [
    "def objective(trial):\n",
    "    var_smoothing = trial.suggest_loguniform('var_smoothing', 1e-10, 1e-1)\n",
    "    model = GaussianNB(var_smoothing=var_smoothing)\n",
    "\n",
    "    scores = cross_val_score(model, X_train,y_train, cv=5,scoring='accuracy')\n",
    "\n",
    "    return scores.mean()"
   ]
  },
  {
   "cell_type": "code",
   "execution_count": 146,
   "metadata": {},
   "outputs": [],
   "source": [
    "best_params = optuna_params(objective, 'maximize')"
   ]
  },
  {
   "cell_type": "code",
   "execution_count": 147,
   "metadata": {},
   "outputs": [
    {
     "data": {
      "text/html": [
       "<style>#sk-container-id-2 {\n",
       "  /* Definition of color scheme common for light and dark mode */\n",
       "  --sklearn-color-text: #000;\n",
       "  --sklearn-color-text-muted: #666;\n",
       "  --sklearn-color-line: gray;\n",
       "  /* Definition of color scheme for unfitted estimators */\n",
       "  --sklearn-color-unfitted-level-0: #fff5e6;\n",
       "  --sklearn-color-unfitted-level-1: #f6e4d2;\n",
       "  --sklearn-color-unfitted-level-2: #ffe0b3;\n",
       "  --sklearn-color-unfitted-level-3: chocolate;\n",
       "  /* Definition of color scheme for fitted estimators */\n",
       "  --sklearn-color-fitted-level-0: #f0f8ff;\n",
       "  --sklearn-color-fitted-level-1: #d4ebff;\n",
       "  --sklearn-color-fitted-level-2: #b3dbfd;\n",
       "  --sklearn-color-fitted-level-3: cornflowerblue;\n",
       "\n",
       "  /* Specific color for light theme */\n",
       "  --sklearn-color-text-on-default-background: var(--sg-text-color, var(--theme-code-foreground, var(--jp-content-font-color1, black)));\n",
       "  --sklearn-color-background: var(--sg-background-color, var(--theme-background, var(--jp-layout-color0, white)));\n",
       "  --sklearn-color-border-box: var(--sg-text-color, var(--theme-code-foreground, var(--jp-content-font-color1, black)));\n",
       "  --sklearn-color-icon: #696969;\n",
       "\n",
       "  @media (prefers-color-scheme: dark) {\n",
       "    /* Redefinition of color scheme for dark theme */\n",
       "    --sklearn-color-text-on-default-background: var(--sg-text-color, var(--theme-code-foreground, var(--jp-content-font-color1, white)));\n",
       "    --sklearn-color-background: var(--sg-background-color, var(--theme-background, var(--jp-layout-color0, #111)));\n",
       "    --sklearn-color-border-box: var(--sg-text-color, var(--theme-code-foreground, var(--jp-content-font-color1, white)));\n",
       "    --sklearn-color-icon: #878787;\n",
       "  }\n",
       "}\n",
       "\n",
       "#sk-container-id-2 {\n",
       "  color: var(--sklearn-color-text);\n",
       "}\n",
       "\n",
       "#sk-container-id-2 pre {\n",
       "  padding: 0;\n",
       "}\n",
       "\n",
       "#sk-container-id-2 input.sk-hidden--visually {\n",
       "  border: 0;\n",
       "  clip: rect(1px 1px 1px 1px);\n",
       "  clip: rect(1px, 1px, 1px, 1px);\n",
       "  height: 1px;\n",
       "  margin: -1px;\n",
       "  overflow: hidden;\n",
       "  padding: 0;\n",
       "  position: absolute;\n",
       "  width: 1px;\n",
       "}\n",
       "\n",
       "#sk-container-id-2 div.sk-dashed-wrapped {\n",
       "  border: 1px dashed var(--sklearn-color-line);\n",
       "  margin: 0 0.4em 0.5em 0.4em;\n",
       "  box-sizing: border-box;\n",
       "  padding-bottom: 0.4em;\n",
       "  background-color: var(--sklearn-color-background);\n",
       "}\n",
       "\n",
       "#sk-container-id-2 div.sk-container {\n",
       "  /* jupyter's `normalize.less` sets `[hidden] { display: none; }`\n",
       "     but bootstrap.min.css set `[hidden] { display: none !important; }`\n",
       "     so we also need the `!important` here to be able to override the\n",
       "     default hidden behavior on the sphinx rendered scikit-learn.org.\n",
       "     See: https://github.com/scikit-learn/scikit-learn/issues/21755 */\n",
       "  display: inline-block !important;\n",
       "  position: relative;\n",
       "}\n",
       "\n",
       "#sk-container-id-2 div.sk-text-repr-fallback {\n",
       "  display: none;\n",
       "}\n",
       "\n",
       "div.sk-parallel-item,\n",
       "div.sk-serial,\n",
       "div.sk-item {\n",
       "  /* draw centered vertical line to link estimators */\n",
       "  background-image: linear-gradient(var(--sklearn-color-text-on-default-background), var(--sklearn-color-text-on-default-background));\n",
       "  background-size: 2px 100%;\n",
       "  background-repeat: no-repeat;\n",
       "  background-position: center center;\n",
       "}\n",
       "\n",
       "/* Parallel-specific style estimator block */\n",
       "\n",
       "#sk-container-id-2 div.sk-parallel-item::after {\n",
       "  content: \"\";\n",
       "  width: 100%;\n",
       "  border-bottom: 2px solid var(--sklearn-color-text-on-default-background);\n",
       "  flex-grow: 1;\n",
       "}\n",
       "\n",
       "#sk-container-id-2 div.sk-parallel {\n",
       "  display: flex;\n",
       "  align-items: stretch;\n",
       "  justify-content: center;\n",
       "  background-color: var(--sklearn-color-background);\n",
       "  position: relative;\n",
       "}\n",
       "\n",
       "#sk-container-id-2 div.sk-parallel-item {\n",
       "  display: flex;\n",
       "  flex-direction: column;\n",
       "}\n",
       "\n",
       "#sk-container-id-2 div.sk-parallel-item:first-child::after {\n",
       "  align-self: flex-end;\n",
       "  width: 50%;\n",
       "}\n",
       "\n",
       "#sk-container-id-2 div.sk-parallel-item:last-child::after {\n",
       "  align-self: flex-start;\n",
       "  width: 50%;\n",
       "}\n",
       "\n",
       "#sk-container-id-2 div.sk-parallel-item:only-child::after {\n",
       "  width: 0;\n",
       "}\n",
       "\n",
       "/* Serial-specific style estimator block */\n",
       "\n",
       "#sk-container-id-2 div.sk-serial {\n",
       "  display: flex;\n",
       "  flex-direction: column;\n",
       "  align-items: center;\n",
       "  background-color: var(--sklearn-color-background);\n",
       "  padding-right: 1em;\n",
       "  padding-left: 1em;\n",
       "}\n",
       "\n",
       "\n",
       "/* Toggleable style: style used for estimator/Pipeline/ColumnTransformer box that is\n",
       "clickable and can be expanded/collapsed.\n",
       "- Pipeline and ColumnTransformer use this feature and define the default style\n",
       "- Estimators will overwrite some part of the style using the `sk-estimator` class\n",
       "*/\n",
       "\n",
       "/* Pipeline and ColumnTransformer style (default) */\n",
       "\n",
       "#sk-container-id-2 div.sk-toggleable {\n",
       "  /* Default theme specific background. It is overwritten whether we have a\n",
       "  specific estimator or a Pipeline/ColumnTransformer */\n",
       "  background-color: var(--sklearn-color-background);\n",
       "}\n",
       "\n",
       "/* Toggleable label */\n",
       "#sk-container-id-2 label.sk-toggleable__label {\n",
       "  cursor: pointer;\n",
       "  display: flex;\n",
       "  width: 100%;\n",
       "  margin-bottom: 0;\n",
       "  padding: 0.5em;\n",
       "  box-sizing: border-box;\n",
       "  text-align: center;\n",
       "  align-items: start;\n",
       "  justify-content: space-between;\n",
       "  gap: 0.5em;\n",
       "}\n",
       "\n",
       "#sk-container-id-2 label.sk-toggleable__label .caption {\n",
       "  font-size: 0.6rem;\n",
       "  font-weight: lighter;\n",
       "  color: var(--sklearn-color-text-muted);\n",
       "}\n",
       "\n",
       "#sk-container-id-2 label.sk-toggleable__label-arrow:before {\n",
       "  /* Arrow on the left of the label */\n",
       "  content: \"▸\";\n",
       "  float: left;\n",
       "  margin-right: 0.25em;\n",
       "  color: var(--sklearn-color-icon);\n",
       "}\n",
       "\n",
       "#sk-container-id-2 label.sk-toggleable__label-arrow:hover:before {\n",
       "  color: var(--sklearn-color-text);\n",
       "}\n",
       "\n",
       "/* Toggleable content - dropdown */\n",
       "\n",
       "#sk-container-id-2 div.sk-toggleable__content {\n",
       "  max-height: 0;\n",
       "  max-width: 0;\n",
       "  overflow: hidden;\n",
       "  text-align: left;\n",
       "  /* unfitted */\n",
       "  background-color: var(--sklearn-color-unfitted-level-0);\n",
       "}\n",
       "\n",
       "#sk-container-id-2 div.sk-toggleable__content.fitted {\n",
       "  /* fitted */\n",
       "  background-color: var(--sklearn-color-fitted-level-0);\n",
       "}\n",
       "\n",
       "#sk-container-id-2 div.sk-toggleable__content pre {\n",
       "  margin: 0.2em;\n",
       "  border-radius: 0.25em;\n",
       "  color: var(--sklearn-color-text);\n",
       "  /* unfitted */\n",
       "  background-color: var(--sklearn-color-unfitted-level-0);\n",
       "}\n",
       "\n",
       "#sk-container-id-2 div.sk-toggleable__content.fitted pre {\n",
       "  /* unfitted */\n",
       "  background-color: var(--sklearn-color-fitted-level-0);\n",
       "}\n",
       "\n",
       "#sk-container-id-2 input.sk-toggleable__control:checked~div.sk-toggleable__content {\n",
       "  /* Expand drop-down */\n",
       "  max-height: 200px;\n",
       "  max-width: 100%;\n",
       "  overflow: auto;\n",
       "}\n",
       "\n",
       "#sk-container-id-2 input.sk-toggleable__control:checked~label.sk-toggleable__label-arrow:before {\n",
       "  content: \"▾\";\n",
       "}\n",
       "\n",
       "/* Pipeline/ColumnTransformer-specific style */\n",
       "\n",
       "#sk-container-id-2 div.sk-label input.sk-toggleable__control:checked~label.sk-toggleable__label {\n",
       "  color: var(--sklearn-color-text);\n",
       "  background-color: var(--sklearn-color-unfitted-level-2);\n",
       "}\n",
       "\n",
       "#sk-container-id-2 div.sk-label.fitted input.sk-toggleable__control:checked~label.sk-toggleable__label {\n",
       "  background-color: var(--sklearn-color-fitted-level-2);\n",
       "}\n",
       "\n",
       "/* Estimator-specific style */\n",
       "\n",
       "/* Colorize estimator box */\n",
       "#sk-container-id-2 div.sk-estimator input.sk-toggleable__control:checked~label.sk-toggleable__label {\n",
       "  /* unfitted */\n",
       "  background-color: var(--sklearn-color-unfitted-level-2);\n",
       "}\n",
       "\n",
       "#sk-container-id-2 div.sk-estimator.fitted input.sk-toggleable__control:checked~label.sk-toggleable__label {\n",
       "  /* fitted */\n",
       "  background-color: var(--sklearn-color-fitted-level-2);\n",
       "}\n",
       "\n",
       "#sk-container-id-2 div.sk-label label.sk-toggleable__label,\n",
       "#sk-container-id-2 div.sk-label label {\n",
       "  /* The background is the default theme color */\n",
       "  color: var(--sklearn-color-text-on-default-background);\n",
       "}\n",
       "\n",
       "/* On hover, darken the color of the background */\n",
       "#sk-container-id-2 div.sk-label:hover label.sk-toggleable__label {\n",
       "  color: var(--sklearn-color-text);\n",
       "  background-color: var(--sklearn-color-unfitted-level-2);\n",
       "}\n",
       "\n",
       "/* Label box, darken color on hover, fitted */\n",
       "#sk-container-id-2 div.sk-label.fitted:hover label.sk-toggleable__label.fitted {\n",
       "  color: var(--sklearn-color-text);\n",
       "  background-color: var(--sklearn-color-fitted-level-2);\n",
       "}\n",
       "\n",
       "/* Estimator label */\n",
       "\n",
       "#sk-container-id-2 div.sk-label label {\n",
       "  font-family: monospace;\n",
       "  font-weight: bold;\n",
       "  display: inline-block;\n",
       "  line-height: 1.2em;\n",
       "}\n",
       "\n",
       "#sk-container-id-2 div.sk-label-container {\n",
       "  text-align: center;\n",
       "}\n",
       "\n",
       "/* Estimator-specific */\n",
       "#sk-container-id-2 div.sk-estimator {\n",
       "  font-family: monospace;\n",
       "  border: 1px dotted var(--sklearn-color-border-box);\n",
       "  border-radius: 0.25em;\n",
       "  box-sizing: border-box;\n",
       "  margin-bottom: 0.5em;\n",
       "  /* unfitted */\n",
       "  background-color: var(--sklearn-color-unfitted-level-0);\n",
       "}\n",
       "\n",
       "#sk-container-id-2 div.sk-estimator.fitted {\n",
       "  /* fitted */\n",
       "  background-color: var(--sklearn-color-fitted-level-0);\n",
       "}\n",
       "\n",
       "/* on hover */\n",
       "#sk-container-id-2 div.sk-estimator:hover {\n",
       "  /* unfitted */\n",
       "  background-color: var(--sklearn-color-unfitted-level-2);\n",
       "}\n",
       "\n",
       "#sk-container-id-2 div.sk-estimator.fitted:hover {\n",
       "  /* fitted */\n",
       "  background-color: var(--sklearn-color-fitted-level-2);\n",
       "}\n",
       "\n",
       "/* Specification for estimator info (e.g. \"i\" and \"?\") */\n",
       "\n",
       "/* Common style for \"i\" and \"?\" */\n",
       "\n",
       ".sk-estimator-doc-link,\n",
       "a:link.sk-estimator-doc-link,\n",
       "a:visited.sk-estimator-doc-link {\n",
       "  float: right;\n",
       "  font-size: smaller;\n",
       "  line-height: 1em;\n",
       "  font-family: monospace;\n",
       "  background-color: var(--sklearn-color-background);\n",
       "  border-radius: 1em;\n",
       "  height: 1em;\n",
       "  width: 1em;\n",
       "  text-decoration: none !important;\n",
       "  margin-left: 0.5em;\n",
       "  text-align: center;\n",
       "  /* unfitted */\n",
       "  border: var(--sklearn-color-unfitted-level-1) 1pt solid;\n",
       "  color: var(--sklearn-color-unfitted-level-1);\n",
       "}\n",
       "\n",
       ".sk-estimator-doc-link.fitted,\n",
       "a:link.sk-estimator-doc-link.fitted,\n",
       "a:visited.sk-estimator-doc-link.fitted {\n",
       "  /* fitted */\n",
       "  border: var(--sklearn-color-fitted-level-1) 1pt solid;\n",
       "  color: var(--sklearn-color-fitted-level-1);\n",
       "}\n",
       "\n",
       "/* On hover */\n",
       "div.sk-estimator:hover .sk-estimator-doc-link:hover,\n",
       ".sk-estimator-doc-link:hover,\n",
       "div.sk-label-container:hover .sk-estimator-doc-link:hover,\n",
       ".sk-estimator-doc-link:hover {\n",
       "  /* unfitted */\n",
       "  background-color: var(--sklearn-color-unfitted-level-3);\n",
       "  color: var(--sklearn-color-background);\n",
       "  text-decoration: none;\n",
       "}\n",
       "\n",
       "div.sk-estimator.fitted:hover .sk-estimator-doc-link.fitted:hover,\n",
       ".sk-estimator-doc-link.fitted:hover,\n",
       "div.sk-label-container:hover .sk-estimator-doc-link.fitted:hover,\n",
       ".sk-estimator-doc-link.fitted:hover {\n",
       "  /* fitted */\n",
       "  background-color: var(--sklearn-color-fitted-level-3);\n",
       "  color: var(--sklearn-color-background);\n",
       "  text-decoration: none;\n",
       "}\n",
       "\n",
       "/* Span, style for the box shown on hovering the info icon */\n",
       ".sk-estimator-doc-link span {\n",
       "  display: none;\n",
       "  z-index: 9999;\n",
       "  position: relative;\n",
       "  font-weight: normal;\n",
       "  right: .2ex;\n",
       "  padding: .5ex;\n",
       "  margin: .5ex;\n",
       "  width: min-content;\n",
       "  min-width: 20ex;\n",
       "  max-width: 50ex;\n",
       "  color: var(--sklearn-color-text);\n",
       "  box-shadow: 2pt 2pt 4pt #999;\n",
       "  /* unfitted */\n",
       "  background: var(--sklearn-color-unfitted-level-0);\n",
       "  border: .5pt solid var(--sklearn-color-unfitted-level-3);\n",
       "}\n",
       "\n",
       ".sk-estimator-doc-link.fitted span {\n",
       "  /* fitted */\n",
       "  background: var(--sklearn-color-fitted-level-0);\n",
       "  border: var(--sklearn-color-fitted-level-3);\n",
       "}\n",
       "\n",
       ".sk-estimator-doc-link:hover span {\n",
       "  display: block;\n",
       "}\n",
       "\n",
       "/* \"?\"-specific style due to the `<a>` HTML tag */\n",
       "\n",
       "#sk-container-id-2 a.estimator_doc_link {\n",
       "  float: right;\n",
       "  font-size: 1rem;\n",
       "  line-height: 1em;\n",
       "  font-family: monospace;\n",
       "  background-color: var(--sklearn-color-background);\n",
       "  border-radius: 1rem;\n",
       "  height: 1rem;\n",
       "  width: 1rem;\n",
       "  text-decoration: none;\n",
       "  /* unfitted */\n",
       "  color: var(--sklearn-color-unfitted-level-1);\n",
       "  border: var(--sklearn-color-unfitted-level-1) 1pt solid;\n",
       "}\n",
       "\n",
       "#sk-container-id-2 a.estimator_doc_link.fitted {\n",
       "  /* fitted */\n",
       "  border: var(--sklearn-color-fitted-level-1) 1pt solid;\n",
       "  color: var(--sklearn-color-fitted-level-1);\n",
       "}\n",
       "\n",
       "/* On hover */\n",
       "#sk-container-id-2 a.estimator_doc_link:hover {\n",
       "  /* unfitted */\n",
       "  background-color: var(--sklearn-color-unfitted-level-3);\n",
       "  color: var(--sklearn-color-background);\n",
       "  text-decoration: none;\n",
       "}\n",
       "\n",
       "#sk-container-id-2 a.estimator_doc_link.fitted:hover {\n",
       "  /* fitted */\n",
       "  background-color: var(--sklearn-color-fitted-level-3);\n",
       "}\n",
       "</style><div id=\"sk-container-id-2\" class=\"sk-top-container\"><div class=\"sk-text-repr-fallback\"><pre>GaussianNB(var_smoothing=0.09990553912660763)</pre><b>In a Jupyter environment, please rerun this cell to show the HTML representation or trust the notebook. <br />On GitHub, the HTML representation is unable to render, please try loading this page with nbviewer.org.</b></div><div class=\"sk-container\" hidden><div class=\"sk-item\"><div class=\"sk-estimator fitted sk-toggleable\"><input class=\"sk-toggleable__control sk-hidden--visually\" id=\"sk-estimator-id-2\" type=\"checkbox\" checked><label for=\"sk-estimator-id-2\" class=\"sk-toggleable__label fitted sk-toggleable__label-arrow\"><div><div>GaussianNB</div></div><div><a class=\"sk-estimator-doc-link fitted\" rel=\"noreferrer\" target=\"_blank\" href=\"https://scikit-learn.org/1.6/modules/generated/sklearn.naive_bayes.GaussianNB.html\">?<span>Documentation for GaussianNB</span></a><span class=\"sk-estimator-doc-link fitted\">i<span>Fitted</span></span></div></label><div class=\"sk-toggleable__content fitted\"><pre>GaussianNB(var_smoothing=0.09990553912660763)</pre></div> </div></div></div></div>"
      ],
      "text/plain": [
       "GaussianNB(var_smoothing=0.09990553912660763)"
      ]
     },
     "execution_count": 147,
     "metadata": {},
     "output_type": "execute_result"
    }
   ],
   "source": [
    "best_model_nb = GaussianNB(**best_params)\n",
    "best_model_nb.fit(X_train, y_train)"
   ]
  },
  {
   "cell_type": "code",
   "execution_count": 148,
   "metadata": {},
   "outputs": [
    {
     "data": {
      "text/plain": [
       "['naive_bayes_model.joblib']"
      ]
     },
     "execution_count": 148,
     "metadata": {},
     "output_type": "execute_result"
    }
   ],
   "source": [
    "joblib.dump(best_model_nb,'naive_bayes_model.joblib')"
   ]
  },
  {
   "cell_type": "code",
   "execution_count": 149,
   "metadata": {},
   "outputs": [
    {
     "name": "stdout",
     "output_type": "stream",
     "text": [
      "                 Метрики качества\n",
      "accuracy_score             0.8824\n",
      "precision_score            0.8327\n",
      "recall_score               0.9531\n",
      "f1_score                   0.8888\n",
      "Confusion Matrix (Rows: Predicted, Columns: True):\n",
      "------------------\n",
      "              Class 0     Class 1\n",
      "-----------------------------------\n",
      "Predicted  Class 0  |   1657      380 |\n",
      "Predicted  Class 1  |     93     1891 |\n",
      "-----------------------------------\n"
     ]
    }
   ],
   "source": [
    "y_pred = best_model_nb.predict(X_test)\n",
    "custom_classifier_metrics(y_test, y_pred)"
   ]
  },
  {
   "cell_type": "markdown",
   "metadata": {},
   "source": [
    "#### Выводы"
   ]
  },
  {
   "cell_type": "markdown",
   "metadata": {},
   "source": [
    "- Лучшие метрики имеет модель <span style = \"color:rgb(154, 198, 242)\">KNN </span> c параметрами:\n",
    "    - ```metric```: minkowski,\n",
    "    - ```n_neighbors``` : 29,\n",
    "    - ```p```: 2,\n",
    "    - ```weights```: distance\n",
    "- **f1_score**: 0.92,\n",
    "- **recall**: 0.99\n",
    "- **accuracy**: 0.92"
   ]
  },
  {
   "cell_type": "markdown",
   "metadata": {},
   "source": [
    "#### <span style=\"color: rgb(150, 206, 134)\">Итоговая модель классификаторов"
   ]
  },
  {
   "cell_type": "code",
   "execution_count": 150,
   "metadata": {},
   "outputs": [],
   "source": [
    "total_classifiers = {\n",
    "    \"LogisticRegression\": grid_search_lr,\n",
    "    \"kNN\": random_search_knn,\n",
    "    \"NaiveBayes\": best_model_nb,\n",
    "    \"SVC/linear\": svc_linear,\n",
    "    \"SVC/poly\": svc_poly,\n",
    "    \"SVC/rbf\": svc_rbf,\n",
    "    \"SVC/sigmoid\": svc_sigmoid,\n",
    "}"
   ]
  },
  {
   "cell_type": "markdown",
   "metadata": {},
   "source": [
    "### Исследование графиков"
   ]
  },
  {
   "cell_type": "markdown",
   "metadata": {},
   "source": [
    "#### ROC-кривые"
   ]
  },
  {
   "cell_type": "code",
   "execution_count": 151,
   "metadata": {},
   "outputs": [
    {
     "data": {
      "application/vnd.plotly.v1+json": {
       "config": {
        "plotlyServerURL": "https://plot.ly"
       },
       "data": [
        {
         "line": {
          "color": "#2f39ce",
          "width": 2
         },
         "mode": "lines",
         "name": "LogisticRegression (AUC = 0.90)",
         "type": "scatter",
         "x": {
          "bdata": "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",
          "dtype": "f8"
         },
         "y": {
          "bdata": "AAAAAAAAAACEEEIIIYRAP4QQQgghhFA/jDHGGGOMgT+VUkoppZSCP6WUUkoppYQ/pZRSSimlhD/fe++9996LP++99957740/+N577733jj8IIYQQQgiRP5VSSimllJI/QgghhBBCmD/OOeecc86ZP99777333qM/KaWUUkoppT8yxhhjjDGmPwAAAAAAAKg/SimllFJKqT+VUkoppZSqPxljjDHGGKs/AAAAAAAAsD8hhBBCCCGwPyGEEEIIIbA/hBBCCCGEsD+MMcYYY4yxP5VSSimllLI/AAAAAAAAtD8AAAAAAAC0P0IIIYQQQrg/hBBCCCGEuD/GGGOMMca4P2uttdZaa7k/MsYYY4wxuj90zjnnnHO6P5VSSimllLo/+N577733uj8655xzzjnBPzrnnHPOOcE/SimllFJKwT9ba6211lrBP99777333sE/U0oppZRSwj90zjnnnHPCPwghhBBCCMM/Ouecc845wz9jjDHGGGPEP6WUUkoppcQ/pZRSSimlxD/nnHPOOefEPxljjDHGGMU/GWOMMcYYxT/OOeecc87FPxFCCCGEEMY/hBBCCCGEyD/43nvvvffIPymllFJKKck/rbXWWmutyT++9957773JP++9995778k/Y4wxxhhjyj8ZY4wxxhjLP1trrbXWWss/W2uttdZayz/vvffee+/LP3zvvffee80/fO+99957zT+dc84555zNP7733nvvvc0/IYQQQgghzj+EEEIIIYTOPxljjDHGGM8/rbXWWmut0D++9957773QPwAAAAAAANE/dM4555xz0T+dc84555zRP8YYY4wxxtE/33vvvffe0T9CCCGEEELSP0oppZRSStI/SimllFJK0j/fe++9997TP2OMMcYYY9Q/a6211lpr1D9877333nvUP3zvvffee9Q/hBBCCCGE1D+dc84555zUP9daa6211tU/11prrbXW1T8ppZRSSinWPzrnnHPOOdY/QgghhBBC1j9TSimllFLWP2uttdZaa9Y/jDHGGGOM1j+21lprrbXWP9daa6211tY/dM4555xz2D+21lprrbXYP99777333tg/55xzzjnn2D8AAAAAAADZPwghhBBCCNk/GWOMMcYY2T9KKaWUUkrZP5VSSimllNo/rbXWWmut2j/fe++9997aP/jee++999o/QgghhBBC2z9CCCGEEELbP3TOOeecc9s/fO+999572z+VUkoppZTbP5VSSimllNs/ttZaa6212z/OOeecc87bP3zvvffee90/ttZaa6213T/OOeecc87dP99777333t0/GWOMMcYY3j8ppZRSSinePzLGGGOMMd4/fO+999573j8AAAAAAADgP4QQQgghBOA/IYQQQggh4D9CCCGEEELgP8YYY4wxRuA/zjnnnHNO4D/vvffee2/gP3TOOeecc+A/lVJKKaWU4D8yxhhjjLHgP9daa621VuE/77333ntv4T/vvffee2/hP4wxxhhjjOE/vvfee++94T9TSimllNLhP99777333uE/Y4wxxhjj4T8IIYQQQgjiP4wxxhhjDOI/nXPOOecc4j+llFJKKSXjP84555xzTuM/U0oppZRS4z8AAAAAAIDjPwghhBBCiOM/jDHGGGOM4z+VUkoppZTjP5VSSimllOM/IYQQQgih4z+ttdZaa63jP7bWWmutteM/lVJKKaWU5D+dc84555zkP7733nvvveQ/xhhjjDHG5D/XWmuttdbkP2OMMcYY4+Q/hBBCCCEE5T+21lprrTXlP7733nvvPeU/77333ntv5T90zjnnnHPlP6211lprreY/MsYYY4yx5j8655xzzrnmP7733nvvveY/QgghhBDC5j9KKaWUUsrmP84555xzzuY/U0oppZTS5j9rrbXWWuvmP++999577+Y/CCGEEEII5z+MMcYYYwznP5VSSimlFOc/KaWUUkqp5z+ttdZaa63nPzLGGGOMsec/ttZaa6215z+21lprrbXnP1NKKaWU0uc/Y4wxxhjj5z9877333vvnPwghhBBCCOg/rbXWWmst6T8655xzzjnpP0oppZRSSuk/U0oppZRS6T/OOeecc87pP84555xzzuk/U0oppZTS6T90zjnnnPPpP3TOOeec8+k/MsYYY4wx6z/nnHPOOWfrP+ecc845Z+s/a6211lpr6z+EEEIIIYTrPwghhBBCiOs/lVJKKaWU6z8ZY4wxxpjrPxljjDHGmOs/IYQQQgih6z+ttdZaa63rP7bWWmuttes/pZRSSiml7D8ppZRSSqnsPymllFJKqew/rbXWWmut7D++9957773sP7733nvvvew/xhhjjDHG7D8IIYQQQgjtP4wxxhhjDO0/IYQQQggh7T8AAAAAAIDuPwAAAAAAgO4/CCGEEEKI7j+VUkoppZTuPxljjDHGmO4/GWOMMcaY7j+llFJKKaXuP6211lprre4/SimllFJK7z9KKaWUUkrvP1trrbXWWu8/W2uttdZa7z9rrbXWWmvvP++99957b+8/77333ntv7z/vvffee2/vPzLGGGOMse8/Ouecc8657z++9957773vP7733nvvve8/zjnnnHPO7z/XWmuttdbvP9daa6211u8/W2uttdba7z9ba6211trvP1trrbXW2u8/W2uttdba7z9jjDHGGOPvP2OMMcYY4+8/55xzzjnn7z/nnHPOOefvP2uttdZa6+8/a6211lrr7z/vvffee+/vP++999577+8/77333nvv7z/vvffee+/vP++999577+8/77333nvv7z/vvffee+/vP++999577+8/dM4555zz7z90zjnnnPPvP3TOOeec8+8/dM4555zz7z/43nvvvffvP/jee++99+8/+N5777337z9877333vvvP3zvvffe++8/AAAAAAAA8D8AAAAAAADwPwAAAAAAAPA/AAAAAAAA8D8AAAAAAADwPwAAAAAAAPA/AAAAAAAA8D8AAAAAAADwPwAAAAAAAPA/AAAAAAAA8D8AAAAAAADwPwAAAAAAAPA/AAAAAAAA8D8AAAAAAADwPwAAAAAAAPA/AAAAAAAA8D8AAAAAAADwPwAAAAAAAPA/AAAAAAAA8D8AAAAAAADwPwAAAAAAAPA/AAAAAAAA8D8AAAAAAADwPwAAAAAAAPA/AAAAAAAA8D8AAAAAAADwPwAAAAAAAPA/AAAAAAAA8D8AAAAAAADwPwAAAAAAAPA/AAAAAAAA8D8AAAAAAADwPwAAAAAAAPA/AAAAAAAA8D8AAAAAAADwPwAAAAAAAPA/AAAAAAAA8D8AAAAAAADwPwAAAAAAAPA/AAAAAAAA8D8AAAAAAADwPwAAAAAAAPA/AAAAAAAA8D8AAAAAAADwPwAAAAAAAPA/AAAAAAAA8D8AAAAAAADwPwAAAAAAAPA/AAAAAAAA8D8AAAAAAADwPwAAAAAAAPA/AAAAAAAA8D8AAAAAAADwPwAAAAAAAPA/AAAAAAAA8D8AAAAAAADwPwAAAAAAAPA/AAAAAAAA8D8AAAAAAADwPwAAAAAAAPA/AAAAAAAA8D8AAAAAAADwPwAAAAAAAPA/AAAAAAAA8D8AAAAAAADwPwAAAAAAAPA/AAAAAAAA8D8AAAAAAADwPwAAAAAAAPA/AAAAAAAA8D8AAAAAAADwPwAAAAAAAPA/AAAAAAAA8D8AAAAAAADwPwAAAAAAAPA/AAAAAAAA8D8AAAAAAADwPwAAAAAAAPA/AAAAAAAA8D8AAAAAAADwPwAAAAAAAPA/AAAAAAAA8D8AAAAAAADwPwAAAAAAAPA/AAAAAAAA8D8AAAAAAADwPwAAAAAAAPA/AAAAAAAA8D8AAAAAAADwPwAAAAAAAPA/AAAAAAAA8D8AAAAAAADwPwAAAAAAAPA/AAAAAAAA8D8AAAAAAADwPwAAAAAAAPA/AAAAAAAA8D8AAAAAAADwPwAAAAAAAPA/AAAAAAAA8D8AAAAAAADwPwAAAAAAAPA/AAAAAAAA8D8AAAAAAADwPwAAAAAAAPA/AAAAAAAA8D8AAAAAAADwPwAAAAAAAPA/AAAAAAAA8D8AAAAAAADwPwAAAAAAAPA/AAAAAAAA8D8AAAAAAADwPwAAAAAAAPA/AAAAAAAA8D8AAAAAAADwPwAAAAAAAPA/AAAAAAAA8D8AAAAAAADwPwAAAAAAAPA/AAAAAAAA8D8AAAAAAADwPwAAAAAAAPA/AAAAAAAA8D8AAAAAAADwPwAAAAAAAPA/AAAAAAAA8D8AAAAAAADwPwAAAAAAAPA/AAAAAAAA8D8AAAAAAADwPwAAAAAAAPA/AAAAAAAA8D8AAAAAAADwPwAAAAAAAPA/AAAAAAAA8D8AAAAAAADwPwAAAAAAAPA/AAAAAAAA8D8AAAAAAADwPwAAAAAAAPA/AAAAAAAA8D8AAAAAAADwPwAAAAAAAPA/AAAAAAAA8D8AAAAAAADwPwAAAAAAAPA/AAAAAAAA8D8AAAAAAADwPwAAAAAAAPA/AAAAAAAA8D8AAAAAAADwPwAAAAAAAPA/AAAAAAAA8D8AAAAAAADwPwAAAAAAAPA/AAAAAAAA8D8AAAAAAADwPwAAAAAAAPA/AAAAAAAA8D8AAAAAAADwPwAAAAAAAPA/AAAAAAAA8D8AAAAAAADwPwAAAAAAAPA/AAAAAAAA8D8AAAAAAADwPwAAAAAAAPA/AAAAAAAA8D8AAAAAAADwPwAAAAAAAPA/AAAAAAAA8D8AAAAAAADwPwAAAAAAAPA/AAAAAAAA8D8AAAAAAADwPwAAAAAAAPA/AAAAAAAA8D8AAAAAAADwPwAAAAAAAPA/AAAAAAAA8D8AAAAAAADwPwAAAAAAAPA/AAAAAAAA8D8AAAAAAADwPwAAAAAAAPA/AAAAAAAA8D8AAAAAAADwPwAAAAAAAPA/AAAAAAAA8D8AAAAAAADwPwAAAAAAAPA/AAAAAAAA8D8AAAAAAADwPwAAAAAAAPA/AAAAAAAA8D8AAAAAAADwPwAAAAAAAPA/AAAAAAAA8D8AAAAAAADwPwAAAAAAAPA/AAAAAAAA8D8AAAAAAADwPwAAAAAAAPA/AAAAAAAA8D8AAAAAAADwPwAAAAAAAPA/AAAAAAAA8D8AAAAAAADwPwAAAAAAAPA/AAAAAAAA8D8AAAAAAADwPwAAAAAAAPA/AAAAAAAA8D8AAAAAAADwPwAAAAAAAPA/AAAAAAAA8D8AAAAAAADwPw==",
          "dtype": "f8"
         }
        },
        {
         "line": {
          "color": "#1b1740",
          "width": 2
         },
         "mode": "lines",
         "name": "kNN (AUC = 0.94)",
         "type": "scatter",
         "x": {
          "bdata": "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",
          "dtype": "f8"
         },
         "y": {
          "bdata": "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",
          "dtype": "f8"
         }
        },
        {
         "line": {
          "color": "#01a5c4",
          "width": 2
         },
         "mode": "lines",
         "name": "NaiveBayes (AUC = 0.90)",
         "type": "scatter",
         "x": {
          "bdata": "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",
          "dtype": "f8"
         },
         "y": {
          "bdata": "AAAAAAAAAACEEEIIIYRAP8YYY4wxxmg/xhhjjDHGaD+MMcYYY4yBP4wxxhhjjIE/nXPOOeecgz+dc84555yDP99777333os/33vvvffeiz/43nvvvfeOP/jee++9944/lVJKKaWUkj+VUkoppZSSP0IIIYQQQpg/QgghhBBCmD9jjDHGGGOcP2OMMcYYY5w/55xzzjnnnD/nnHPOOeecPwAAAAAAAKA/AAAAAAAAoD8AAAAAAACgPwAAAAAAAKA/jDHGGGOMoT+MMcYYY4yhPxljjDHGGKM/GWOMMcYYoz8hhBBCCCGkPyGEEEIIIaQ/ttZaa621pj+21lprrbWmPwghhBBCCKk/CCGEEEIIqT+ttdZaa62tP6211lprra0/+N577733rj/43nvvvfeuP6WUUkoppbA/pZRSSimlsD/vvffee++xP++9995777E/MsYYY4wxsj8yxhhjjDGyP5VSSimllLI/lVJKKaWUsj+21lprrbWyP7bWWmuttbI/vvfee++9sz++9957772zP2OMMcYYY7Q/Y4wxxhhjtD/nnHPOOee0P+ecc84557Q/jDHGGGOMtT+MMcYYY4y1P6211lprrbU/rbXWWmuttT/vvffee++1P++9995777U/dM4555xztj90zjnnnHO2P/jee++997Y/+N577733tj9ba6211lq3P1trrbXWWrc/fO+99957tz9877333nu3P+ecc84557g/55xzzjnnuD8ppZRSSim5PymllFJKKbk/KaWUUkopuT+MMcYYY4y5P4wxxhhjjLk/zjnnnHPOuT/OOeecc865PxFCCCGEELo/EUIIIYQQuj+21lprrbW6P7bWWmuttbo/+N577733uj/43nvvvfe6PzrnnHPOObs/Ouecc845uz9CCCGEEEK8P0IIIYQQQrw/xhhjjDHGvD/GGGOMMca8P4wxxhhjjL0/jDHGGGOMvT90zjnnnHO+P3TOOeecc74/+N577733vj/43nvvvfe+P3zvvffee78/fO+99957vz9jjDHGGGPAP2OMMcYYY8A/11prrbXWwD/XWmuttdbAP3zvvffee8E/fO+99957wT+ttdZaa63BP6211lprrcE/CCGEEEIIwz8IIYQQQgjDP4wxxhhjjMM/jDHGGGOMwz/OOeecc87DP84555xzzsM/+N577733xD/43nvvvffEP2uttdZaa8U/a6211lprxT9877333nvFP3zvvffee8U/EUIIIYQQxj8RQgghhBDGPyGEEEIIIcY/IYQQQgghxj8yxhhjjDHGPzLGGGOMMcY/Y4wxxhhjxj9jjDHGGGPGP5VSSimllMY/lVJKKaWUxj/GGGOMMcbGP8YYY4wxxsY/rbXWWmutxz+ttdZaa63HP1NKKaWUUsg/U0oppZRSyD90zjnnnHPIP3TOOeecc8g/ttZaa621yD+21lprrbXIP8YYY4wxxsg/xhhjjDHGyD/XWmuttdbIP9daa6211sg/vvfee++9yT++9957773JP++9995778k/77333nvvyT9rrbXWWmvLP2uttdZaa8s/rbXWWmutyz+ttdZaa63LPyGEEEIIIcw/IYQQQgghzD+EEEIIIYTMP4QQQgghhMw/GWOMMcYYzT8ZY4wxxhjNPzrnnHPOOc0/Ouecc845zT9KKaWUUkrNP0oppZRSSs0/jDHGGGOMzT+MMcYYY4zNP84555xzzs0/zjnnnHPOzT90zjnnnHPOP3TOOeecc84/ttZaa621zj+21lprrbXOP7733nvvvc8/vvfee++9zz/vvffee+/PP++99957788/QgghhBBC0D9CCCGEEELQP0oppZRSStA/SimllFJK0D9rrbXWWmvQP2uttdZaa9A/hBBCCCGE0D+EEEIIIYTQP51zzjnnnNA/nXPOOeec0D+ttdZaa63QP6211lprrdA/ttZaa6210D+21lprrbXQP84555xzztA/zjnnnHPO0D/vvffee+/QP++9995779A/IYQQQggh0T8yxhhjjDHRP2OMMcYYY9E/Y4wxxhhj0T+llFJKKaXRP7bWWmuttdE/vvfee++90T++9957773RP+ecc84559E/55xzzjnn0T8655xzzjnTPzrnnHPOOdM/vvfee++90z/OOeecc87TP84555xzztM/77333nvv0z/vvffee+/TP1NKKaWUUtQ/U0oppZRS1D8yxhhjjDHVPzLGGGOMMdU/dM4555xz1T90zjnnnHPVP6WUUkoppdU/pZRSSiml1T/OOeecc87VP84555xzztU/77333nvv1T/vvffee+/VPwghhBBCCNY/CCGEEEII1j8ZY4wxxhjWPxljjDHGGNY/IYQQQggh1j8hhBBCCCHWPzLGGGOMMdY/MsYYY4wx1j9rrbXWWmvWP2uttdZaa9Y/pZRSSiml1j+llFJKKaXWP8YYY4wxxtY/xhhjjDHG1j/OOeecc87WP84555xzztY/GWOMMcYY1z8ZY4wxxhjXPyGEEEIIIdc/IYQQQggh1z90zjnnnHPXP3TOOeecc9c/jDHGGGOM1z+MMcYYY4zXP5VSSimllNc/lVJKKaWU1z+21lprrbXXP7bWWmuttdc/vvfee++91z++9957773XP99777333tc/33vvvffe1z/nnHPOOefXP/jee++999c/IYQQQggh2D8hhBBCCCHYP0oppZRSStg/SimllFJK2D90zjnnnHPYP3TOOeecc9g/lVJKKaWU2D+VUkoppZTYP6WUUkoppdg/pZRSSiml2D+ttdZaa63YP6211lprrdg/a6211lpr2T9rrbXWWmvZP7733nvvvdk/vvfee++92T/vvffee+/ZP++9995779k/CCGEEEII2j8IIYQQQgjaPyGEEEIIIdo/IYQQQggh2j8ppZRSSinaPymllFJKKdo/QgghhBBC2j9TSimllFLaP1trrbXWWto/W2uttdZa2j+ttdZaa63aP7733nvvvdo/Y4wxxhhj2z9jjDHGGGPbP2uttdZaa9s/a6211lpr2z8IIYQQQgjcPwghhBBCCNw/vvfee++93D++9957773cP++9995779w/77333nvv3D8RQgghhBDdPxFCCCGEEN0/W2uttdZa3T9ba6211lrdP2OMMcYYY90/Y4wxxhhj3T9877333nvdP3zvvffee90/dM4555xz3j90zjnnnHPeP4wxxhhjjN4/jDHGGGOM3j+VUkoppZTeP5VSSimllN4/zjnnnHPO3z/OOeecc87fP/jee++9998/+N5777333z8IIYQQQgjgPwghhBBCCOA/EUIIIYQQ4D8RQgghhBDgP6211lprLeA/rbXWWmst4D++99577z3gP7733nvvPeA/11prrbVW4D/XWmuttVbgPwAAAAAAgOA/AAAAAACA4D+VUkoppZTgP5VSSimllOA/nXPOOeec4D+dc84555zgPzLGGGOMseA/MsYYY4yx4D+21lprrbXgP7bWWmutteA/Ouecc8654D8655xzzrngP8YYY4wxxuA/xhhjjDHG4D/nnHPOOefgP+ecc8455+A/+N5777334D/43nvvvffgPwAAAAAAAOE/AAAAAAAA4T8ZY4wxxhjhPxljjDHGGOE/IYQQQggh4T8hhBBCCCHhP8YYY4wxRuE/xhhjjDFG4T+EEEIIIYThP4QQQgghhOE/EUIIIYSQ4T8RQgghhJDhP6WUUkoppeE/pZRSSiml4T8ppZRSSqnhPymllFJKqeE/rbXWWmut4T+ttdZaa63hPzLGGGOMseE/MsYYY4yx4T9877333vvhP3zvvffe++E/GWOMMcYY4j8ZY4wxxhjiPyGEEEIIIeI/IYQQQggh4j8yxhhjjDHiPzLGGGOMMeI/QgghhBBC4j9CCCGEEELiP+ecc845Z+I/55xzzjln4j90zjnnnHPiP3TOOeecc+I/IYQQQgih4j8hhBBCCKHiP2uttdZa6+I/a6211lrr4j+EEEIIIQTjP4QQQgghBOM/CCGEEEII4z8IIYQQQgjjPxljjDHGGOM/GWOMMcYY4z+llFJKKSXjP6WUUkopJeM/KaWUUkop4z8ppZRSSinjP7733nvvPeM/vvfee+894z9CCCGEEELjP0IIIYQQQuM/W2uttdZa4z9ba6211lrjPyGEEEIIoeM/IYQQQgih4z+ttdZaa63jP6211lprreM/11prrbXW4z/XWmuttdbjP99777333uM/33vvvffe4z90zjnnnPPjP3TOOeec8+M/fO+999774z9877333vvjP4QQQgghBOQ/hBBCCCEE5D8RQgghhBDkPxFCCCGEEOQ/33vvvfde5D/fe++9917kP9977733XuQ/55xzzjln5D/nnHPOOWfkP2uttdZaa+Q/a6211lpr5D/43nvvvXfkP/jee++9d+Q/EUIIIYSQ5D8RQgghhJDkPymllFJKqeQ/KaWUUkqp5D9CCCGEEMLkP0IIIYQQwuQ/SimllFLK5D9KKaWUUsrkP3TOOeec8+Q/dM4555zz5D+VUkoppRTlP5VSSimlFOU/GWOMMcYY5T8ZY4wxxhjlP51zzjnnHOU/nXPOOecc5T+21lprrTXlP7bWWmutNeU/Ouecc8455T8655xzzjnlP7733nvvPeU/vvfee+895T9KKaWUUkrlP0oppZRSSuU/Y4wxxhhj5T9jjDHGGGPlP4QQQgghhOU/hBBCCCGE5T+MMcYYY4zlP4wxxhhjjOU/EUIIIYSQ5T8RQgghhJDlP0IIIYQQQuY/QgghhBBC5j9ba6211lrmP1trrbXWWuY/KaWUUkqp5j8ppZRSSqnmP8YYY4wxxuY/xhhjjDHG5j8IIYQQQgjnPwghhBBCCOc/QgghhBBC5z9CCCGEEELnP8YYY4wxRuc/xhhjjDFG5z/XWmuttVbnP9977733Xuc/33vvvfde5z9jjDHGGGPnP2OMMcYYY+c/Y4wxxhjj5z9jjDHGGOPnP+ecc8455+c/55xzzjnn5z9877333vvnP3zvvffe++c/IYQQQggh6D8hhBBCCCHoP6WUUkopJeg/rbXWWmst6D/XWmuttVboP9daa621Vug/55xzzjln6D/nnHPOOWfoPxljjDHGmOg/GWOMMcaY6D8hhBBCCKHoPyGEEEIIoeg/rbXWWmut6D+ttdZaa63oP0IIIYQQwug/QgghhBDC6D/GGGOMMcboP8YYY4wxxug/11prrbXW6D/XWmuttdboP99777333ug/33vvvffe6D/vvffee+/oP++999577+g/hBBCCCEE6T+EEEIIIQTpPxljjDHGGOk/GWOMMcYY6T+21lprrTXpP7bWWmutNek/Ouecc8456T8655xzzjnpP7733nvvPek/vvfee+896T/GGGOMMUbpP8YYY4wxRuk/SimllFJK6T9KKaWUUkrpP1NKKaWUUuk/U0oppZRS6T90zjnnnHPpP3TOOeecc+k/pZRSSiml6T+llFJKKaXpPymllFJKqek/KaWUUkqp6T++9957773pP7733nvvvek/dM4555zz6T90zjnnnPPpP/jee++99+k/+N5777336T8AAAAAAADqPwAAAAAAAOo/lVJKKaUU6j+VUkoppRTqPyGEEEIIIeo/KaWUUkop6j9rrbXWWmvqP2uttdZaa+o/AAAAAACA6j8AAAAAAIDqPwghhBBCiOo/CCGEEEKI6j+dc84555zqP51zzjnnnOo/IYQQQgih6j8hhBBCCKHqP6211lprreo/rbXWWmut6j++9957773qP7733nvvveo/U0oppZTS6j9TSimllNLqPwghhBBCCOs/CCGEEEII6z8RQgghhBDrPxFCCCGEEOs/GWOMMcYY6z8ZY4wxxhjrPymllFJKKes/KaWUUkop6z++99577z3rP7733nvvPes/QgghhBBC6z9CCCGEEELrP8YYY4wxRus/xhhjjDFG6z/OOeecc07rP84555xzTus/11prrbVW6z/XWmuttVbrP+ecc845Z+s/55xzzjln6z/43nvvvXfrPwAAAAAAgOs/CCGEEEKI6z8IIYQQQojrPxFCCCGEkOs/EUIIIYSQ6z9CCCGEEMLrP0IIIYQQwus/a6211lrr6z9rrbXWWuvrP6WUUkopJew/pZRSSikl7D8655xzzjnsPzrnnHPOOew/SimllFJK7D9KKaWUUkrsP2uttdZaa+w/a6211lpr7D9877333nvsP3zvvffee+w/hBBCCCGE7D+EEEIIIYTsPyGEEEIIoew/IYQQQgih7D9CCCGEEMLsP0IIIYQQwuw/U0oppZTS7D9TSimllNLsP3TOOeec8+w/dM4555zz7D9877333vvsP3zvvffe++w/CCGEEEII7T8IIYQQQgjtP4wxxhhjDO0/jDHGGGMM7T+VUkoppRTtP5VSSimlFO0/pZRSSikl7T+llFJKKSXtP/jee++9d+0/+N5777137T8IIYQQQojtPwghhBBCiO0/lVJKKaWU7T+VUkoppZTtP0IIIYQQwu0/QgghhBDC7T/OOeecc87tP84555xzzu0/11prrbXW7T/XWmuttdbtP+ecc8455+0/55xzzjnn7T9877333vvtP3zvvffe++0/AAAAAAAA7j8AAAAAAADuPxFCCCGEEO4/EUIIIYQQ7j8ppZRSSinuPymllFJKKe4/MsYYY4wx7j8yxhhjjDHuP1NKKaWUUu4/U0oppZRS7j9ba6211lruP1trrbXWWu4/hBBCCCGE7j+EEEIIIYTuPxljjDHGmO4/GWOMMcaY7j+dc84555zuP51zzjnnnO4/pZRSSiml7j+llFJKKaXuPymllFJKqe4/KaWUUkqp7j++9957773uP7733nvvve4/77333nvv7j/vvffee+/uP3zvvffe++4/fO+999777j+MMcYYYwzvP4wxxhhjDO8/EUIIIYQQ7z8RQgghhBDvPyGEEEIIIe8/IYQQQggh7z8ppZRSSinvPymllFJKKe8/ttZaa6017z+21lprrTXvPzrnnHPOOe8/Ouecc8457z++99577z3vP7733nvvPe8/QgghhBBC7z9CCCGEEELvP9daa621Vu8/11prrbVW7z/fe++9917vP9977733Xu8/Y4wxxhhj7z9jjDHGGGPvP+ecc845Z+8/55xzzjln7z9rrbXWWmvvP2uttdZaa+8/dM4555xz7z90zjnnnHPvP/jee++9d+8/+N5777137z9877333nvvP3zvvffee+8/AAAAAACA7z8AAAAAAIDvPwghhBBCiO8/CCGEEEKI7z+VUkoppZTvP5VSSimllO8/GWOMMcaY7z8ZY4wxxpjvP6WUUkoppe8/pZRSSiml7z8ppZRSSqnvPymllFJKqe8/rbXWWmut7z+ttdZaa63vPzLGGGOMse8/MsYYY4yx7z+21lprrbXvP7bWWmutte8/Ouecc8657z8655xzzrnvP7733nvvve8/vvfee++97z9CCCGEEMLvP0IIIYQQwu8/xhhjjDHG7z/GGGOMMcbvP0oppZRSyu8/SimllFLK7z/OOeecc87vP84555xzzu8/U0oppZTS7z9TSimllNLvP9daa6211u8/11prrbXW7z9ba6211trvP1trrbXW2u8/33vvvffe7z/fe++9997vP2OMMcYY4+8/Y4wxxhjj7z/nnHPOOefvP+ecc8455+8/a6211lrr7z9rrbXWWuvvP++999577+8/77333nvv7z90zjnnnPPvP3TOOeec8+8/+N5777337z/43nvvvffvP/jee++99+8/+N5777337z/43nvvvffvP/jee++99+8/AAAAAAAA8D8AAAAAAADwPwAAAAAAAPA/AAAAAAAA8D8AAAAAAADwPwAAAAAAAPA/AAAAAAAA8D8AAAAAAADwPwAAAAAAAPA/AAAAAAAA8D8AAAAAAADwPwAAAAAAAPA/AAAAAAAA8D8AAAAAAADwPwAAAAAAAPA/AAAAAAAA8D8AAAAAAADwPwAAAAAAAPA/AAAAAAAA8D8AAAAAAADwPwAAAAAAAPA/AAAAAAAA8D8AAAAAAADwPwAAAAAAAPA/AAAAAAAA8D8AAAAAAADwPwAAAAAAAPA/AAAAAAAA8D8AAAAAAADwPwAAAAAAAPA/AAAAAAAA8D8AAAAAAADwPwAAAAAAAPA/AAAAAAAA8D8AAAAAAADwPwAAAAAAAPA/AAAAAAAA8D8AAAAAAADwPwAAAAAAAPA/AAAAAAAA8D8AAAAAAADwPwAAAAAAAPA/",
          "dtype": "f8"
         }
        },
        {
         "line": {
          "color": "#15af9d",
          "width": 2
         },
         "mode": "lines",
         "name": "SVC/linear (AUC = 0.91)",
         "type": "scatter",
         "x": {
          "bdata": "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",
          "dtype": "f8"
         },
         "y": {
          "bdata": "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",
          "dtype": "f8"
         }
        },
        {
         "line": {
          "color": "#9b403d",
          "width": 2
         },
         "mode": "lines",
         "name": "SVC/poly (AUC = 0.91)",
         "type": "scatter",
         "x": {
          "bdata": "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",
          "dtype": "f8"
         },
         "y": {
          "bdata": "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",
          "dtype": "f8"
         }
        },
        {
         "line": {
          "color": "#16421c",
          "width": 2
         },
         "mode": "lines",
         "name": "SVC/rbf (AUC = 0.91)",
         "type": "scatter",
         "x": {
          "bdata": "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",
          "dtype": "f8"
         },
         "y": {
          "bdata": "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",
          "dtype": "f8"
         }
        },
        {
         "line": {
          "color": "#209f2c",
          "width": 2
         },
         "mode": "lines",
         "name": "SVC/sigmoid (AUC = 0.86)",
         "type": "scatter",
         "x": {
          "bdata": "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",
          "dtype": "f8"
         },
         "y": {
          "bdata": "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",
          "dtype": "f8"
         }
        },
        {
         "line": {
          "color": "gray",
          "dash": "dash",
          "width": 2
         },
         "mode": "lines",
         "name": "Случайный (AUC = 0.5)",
         "type": "scatter",
         "x": [
          0,
          1
         ],
         "y": [
          0,
          1
         ]
        }
       ],
       "layout": {
        "hovermode": "x unified",
        "legend": {
         "title": {
          "text": "Классификаторы"
         }
        },
        "template": {
         "data": {
          "bar": [
           {
            "error_x": {
             "color": "#2a3f5f"
            },
            "error_y": {
             "color": "#2a3f5f"
            },
            "marker": {
             "line": {
              "color": "#E5ECF6",
              "width": 0.5
             },
             "pattern": {
              "fillmode": "overlay",
              "size": 10,
              "solidity": 0.2
             }
            },
            "type": "bar"
           }
          ],
          "barpolar": [
           {
            "marker": {
             "line": {
              "color": "#E5ECF6",
              "width": 0.5
             },
             "pattern": {
              "fillmode": "overlay",
              "size": 10,
              "solidity": 0.2
             }
            },
            "type": "barpolar"
           }
          ],
          "carpet": [
           {
            "aaxis": {
             "endlinecolor": "#2a3f5f",
             "gridcolor": "white",
             "linecolor": "white",
             "minorgridcolor": "white",
             "startlinecolor": "#2a3f5f"
            },
            "baxis": {
             "endlinecolor": "#2a3f5f",
             "gridcolor": "white",
             "linecolor": "white",
             "minorgridcolor": "white",
             "startlinecolor": "#2a3f5f"
            },
            "type": "carpet"
           }
          ],
          "choropleth": [
           {
            "colorbar": {
             "outlinewidth": 0,
             "ticks": ""
            },
            "type": "choropleth"
           }
          ],
          "contour": [
           {
            "colorbar": {
             "outlinewidth": 0,
             "ticks": ""
            },
            "colorscale": [
             [
              0,
              "#0d0887"
             ],
             [
              0.1111111111111111,
              "#46039f"
             ],
             [
              0.2222222222222222,
              "#7201a8"
             ],
             [
              0.3333333333333333,
              "#9c179e"
             ],
             [
              0.4444444444444444,
              "#bd3786"
             ],
             [
              0.5555555555555556,
              "#d8576b"
             ],
             [
              0.6666666666666666,
              "#ed7953"
             ],
             [
              0.7777777777777778,
              "#fb9f3a"
             ],
             [
              0.8888888888888888,
              "#fdca26"
             ],
             [
              1,
              "#f0f921"
             ]
            ],
            "type": "contour"
           }
          ],
          "contourcarpet": [
           {
            "colorbar": {
             "outlinewidth": 0,
             "ticks": ""
            },
            "type": "contourcarpet"
           }
          ],
          "heatmap": [
           {
            "colorbar": {
             "outlinewidth": 0,
             "ticks": ""
            },
            "colorscale": [
             [
              0,
              "#0d0887"
             ],
             [
              0.1111111111111111,
              "#46039f"
             ],
             [
              0.2222222222222222,
              "#7201a8"
             ],
             [
              0.3333333333333333,
              "#9c179e"
             ],
             [
              0.4444444444444444,
              "#bd3786"
             ],
             [
              0.5555555555555556,
              "#d8576b"
             ],
             [
              0.6666666666666666,
              "#ed7953"
             ],
             [
              0.7777777777777778,
              "#fb9f3a"
             ],
             [
              0.8888888888888888,
              "#fdca26"
             ],
             [
              1,
              "#f0f921"
             ]
            ],
            "type": "heatmap"
           }
          ],
          "histogram": [
           {
            "marker": {
             "pattern": {
              "fillmode": "overlay",
              "size": 10,
              "solidity": 0.2
             }
            },
            "type": "histogram"
           }
          ],
          "histogram2d": [
           {
            "colorbar": {
             "outlinewidth": 0,
             "ticks": ""
            },
            "colorscale": [
             [
              0,
              "#0d0887"
             ],
             [
              0.1111111111111111,
              "#46039f"
             ],
             [
              0.2222222222222222,
              "#7201a8"
             ],
             [
              0.3333333333333333,
              "#9c179e"
             ],
             [
              0.4444444444444444,
              "#bd3786"
             ],
             [
              0.5555555555555556,
              "#d8576b"
             ],
             [
              0.6666666666666666,
              "#ed7953"
             ],
             [
              0.7777777777777778,
              "#fb9f3a"
             ],
             [
              0.8888888888888888,
              "#fdca26"
             ],
             [
              1,
              "#f0f921"
             ]
            ],
            "type": "histogram2d"
           }
          ],
          "histogram2dcontour": [
           {
            "colorbar": {
             "outlinewidth": 0,
             "ticks": ""
            },
            "colorscale": [
             [
              0,
              "#0d0887"
             ],
             [
              0.1111111111111111,
              "#46039f"
             ],
             [
              0.2222222222222222,
              "#7201a8"
             ],
             [
              0.3333333333333333,
              "#9c179e"
             ],
             [
              0.4444444444444444,
              "#bd3786"
             ],
             [
              0.5555555555555556,
              "#d8576b"
             ],
             [
              0.6666666666666666,
              "#ed7953"
             ],
             [
              0.7777777777777778,
              "#fb9f3a"
             ],
             [
              0.8888888888888888,
              "#fdca26"
             ],
             [
              1,
              "#f0f921"
             ]
            ],
            "type": "histogram2dcontour"
           }
          ],
          "mesh3d": [
           {
            "colorbar": {
             "outlinewidth": 0,
             "ticks": ""
            },
            "type": "mesh3d"
           }
          ],
          "parcoords": [
           {
            "line": {
             "colorbar": {
              "outlinewidth": 0,
              "ticks": ""
             }
            },
            "type": "parcoords"
           }
          ],
          "pie": [
           {
            "automargin": true,
            "type": "pie"
           }
          ],
          "scatter": [
           {
            "fillpattern": {
             "fillmode": "overlay",
             "size": 10,
             "solidity": 0.2
            },
            "type": "scatter"
           }
          ],
          "scatter3d": [
           {
            "line": {
             "colorbar": {
              "outlinewidth": 0,
              "ticks": ""
             }
            },
            "marker": {
             "colorbar": {
              "outlinewidth": 0,
              "ticks": ""
             }
            },
            "type": "scatter3d"
           }
          ],
          "scattercarpet": [
           {
            "marker": {
             "colorbar": {
              "outlinewidth": 0,
              "ticks": ""
             }
            },
            "type": "scattercarpet"
           }
          ],
          "scattergeo": [
           {
            "marker": {
             "colorbar": {
              "outlinewidth": 0,
              "ticks": ""
             }
            },
            "type": "scattergeo"
           }
          ],
          "scattergl": [
           {
            "marker": {
             "colorbar": {
              "outlinewidth": 0,
              "ticks": ""
             }
            },
            "type": "scattergl"
           }
          ],
          "scattermap": [
           {
            "marker": {
             "colorbar": {
              "outlinewidth": 0,
              "ticks": ""
             }
            },
            "type": "scattermap"
           }
          ],
          "scattermapbox": [
           {
            "marker": {
             "colorbar": {
              "outlinewidth": 0,
              "ticks": ""
             }
            },
            "type": "scattermapbox"
           }
          ],
          "scatterpolar": [
           {
            "marker": {
             "colorbar": {
              "outlinewidth": 0,
              "ticks": ""
             }
            },
            "type": "scatterpolar"
           }
          ],
          "scatterpolargl": [
           {
            "marker": {
             "colorbar": {
              "outlinewidth": 0,
              "ticks": ""
             }
            },
            "type": "scatterpolargl"
           }
          ],
          "scatterternary": [
           {
            "marker": {
             "colorbar": {
              "outlinewidth": 0,
              "ticks": ""
             }
            },
            "type": "scatterternary"
           }
          ],
          "surface": [
           {
            "colorbar": {
             "outlinewidth": 0,
             "ticks": ""
            },
            "colorscale": [
             [
              0,
              "#0d0887"
             ],
             [
              0.1111111111111111,
              "#46039f"
             ],
             [
              0.2222222222222222,
              "#7201a8"
             ],
             [
              0.3333333333333333,
              "#9c179e"
             ],
             [
              0.4444444444444444,
              "#bd3786"
             ],
             [
              0.5555555555555556,
              "#d8576b"
             ],
             [
              0.6666666666666666,
              "#ed7953"
             ],
             [
              0.7777777777777778,
              "#fb9f3a"
             ],
             [
              0.8888888888888888,
              "#fdca26"
             ],
             [
              1,
              "#f0f921"
             ]
            ],
            "type": "surface"
           }
          ],
          "table": [
           {
            "cells": {
             "fill": {
              "color": "#EBF0F8"
             },
             "line": {
              "color": "white"
             }
            },
            "header": {
             "fill": {
              "color": "#C8D4E3"
             },
             "line": {
              "color": "white"
             }
            },
            "type": "table"
           }
          ]
         },
         "layout": {
          "annotationdefaults": {
           "arrowcolor": "#2a3f5f",
           "arrowhead": 0,
           "arrowwidth": 1
          },
          "autotypenumbers": "strict",
          "coloraxis": {
           "colorbar": {
            "outlinewidth": 0,
            "ticks": ""
           }
          },
          "colorscale": {
           "diverging": [
            [
             0,
             "#8e0152"
            ],
            [
             0.1,
             "#c51b7d"
            ],
            [
             0.2,
             "#de77ae"
            ],
            [
             0.3,
             "#f1b6da"
            ],
            [
             0.4,
             "#fde0ef"
            ],
            [
             0.5,
             "#f7f7f7"
            ],
            [
             0.6,
             "#e6f5d0"
            ],
            [
             0.7,
             "#b8e186"
            ],
            [
             0.8,
             "#7fbc41"
            ],
            [
             0.9,
             "#4d9221"
            ],
            [
             1,
             "#276419"
            ]
           ],
           "sequential": [
            [
             0,
             "#0d0887"
            ],
            [
             0.1111111111111111,
             "#46039f"
            ],
            [
             0.2222222222222222,
             "#7201a8"
            ],
            [
             0.3333333333333333,
             "#9c179e"
            ],
            [
             0.4444444444444444,
             "#bd3786"
            ],
            [
             0.5555555555555556,
             "#d8576b"
            ],
            [
             0.6666666666666666,
             "#ed7953"
            ],
            [
             0.7777777777777778,
             "#fb9f3a"
            ],
            [
             0.8888888888888888,
             "#fdca26"
            ],
            [
             1,
             "#f0f921"
            ]
           ],
           "sequentialminus": [
            [
             0,
             "#0d0887"
            ],
            [
             0.1111111111111111,
             "#46039f"
            ],
            [
             0.2222222222222222,
             "#7201a8"
            ],
            [
             0.3333333333333333,
             "#9c179e"
            ],
            [
             0.4444444444444444,
             "#bd3786"
            ],
            [
             0.5555555555555556,
             "#d8576b"
            ],
            [
             0.6666666666666666,
             "#ed7953"
            ],
            [
             0.7777777777777778,
             "#fb9f3a"
            ],
            [
             0.8888888888888888,
             "#fdca26"
            ],
            [
             1,
             "#f0f921"
            ]
           ]
          },
          "colorway": [
           "#636efa",
           "#EF553B",
           "#00cc96",
           "#ab63fa",
           "#FFA15A",
           "#19d3f3",
           "#FF6692",
           "#B6E880",
           "#FF97FF",
           "#FECB52"
          ],
          "font": {
           "color": "#2a3f5f"
          },
          "geo": {
           "bgcolor": "white",
           "lakecolor": "white",
           "landcolor": "#E5ECF6",
           "showlakes": true,
           "showland": true,
           "subunitcolor": "white"
          },
          "hoverlabel": {
           "align": "left"
          },
          "hovermode": "closest",
          "mapbox": {
           "style": "light"
          },
          "paper_bgcolor": "white",
          "plot_bgcolor": "#E5ECF6",
          "polar": {
           "angularaxis": {
            "gridcolor": "white",
            "linecolor": "white",
            "ticks": ""
           },
           "bgcolor": "#E5ECF6",
           "radialaxis": {
            "gridcolor": "white",
            "linecolor": "white",
            "ticks": ""
           }
          },
          "scene": {
           "xaxis": {
            "backgroundcolor": "#E5ECF6",
            "gridcolor": "white",
            "gridwidth": 2,
            "linecolor": "white",
            "showbackground": true,
            "ticks": "",
            "zerolinecolor": "white"
           },
           "yaxis": {
            "backgroundcolor": "#E5ECF6",
            "gridcolor": "white",
            "gridwidth": 2,
            "linecolor": "white",
            "showbackground": true,
            "ticks": "",
            "zerolinecolor": "white"
           },
           "zaxis": {
            "backgroundcolor": "#E5ECF6",
            "gridcolor": "white",
            "gridwidth": 2,
            "linecolor": "white",
            "showbackground": true,
            "ticks": "",
            "zerolinecolor": "white"
           }
          },
          "shapedefaults": {
           "line": {
            "color": "#2a3f5f"
           }
          },
          "ternary": {
           "aaxis": {
            "gridcolor": "white",
            "linecolor": "white",
            "ticks": ""
           },
           "baxis": {
            "gridcolor": "white",
            "linecolor": "white",
            "ticks": ""
           },
           "bgcolor": "#E5ECF6",
           "caxis": {
            "gridcolor": "white",
            "linecolor": "white",
            "ticks": ""
           }
          },
          "title": {
           "x": 0.05
          },
          "xaxis": {
           "automargin": true,
           "gridcolor": "white",
           "linecolor": "white",
           "ticks": "",
           "title": {
            "standoff": 15
           },
           "zerolinecolor": "white",
           "zerolinewidth": 2
          },
          "yaxis": {
           "automargin": true,
           "gridcolor": "white",
           "linecolor": "white",
           "ticks": "",
           "title": {
            "standoff": 15
           },
           "zerolinecolor": "white",
           "zerolinewidth": 2
          }
         }
        },
        "title": {
         "text": "ROC-Кривые для различных классификаторов"
        },
        "xaxis": {
         "title": {
          "text": "False Positive Rate (FPR)"
         }
        },
        "yaxis": {
         "title": {
          "text": "True Positive Rate (TPR)"
         }
        }
       }
      }
     },
     "metadata": {},
     "output_type": "display_data"
    }
   ],
   "source": [
    "plot_roc_curves(classifiers=total_classifiers, X_test=X_test, y_test=y_test)"
   ]
  },
  {
   "cell_type": "markdown",
   "metadata": {},
   "source": [
    "#### Выводы\n",
    "- Лучшие показатели у модели kNN (AUC = 0.95), что говорит о почти идеальном различии классов\n",
    "- Худшие показатели имеет модель SVC/sigmoid"
   ]
  },
  {
   "cell_type": "markdown",
   "metadata": {},
   "source": [
    "#### <span style= \"color:rgb(207, 219, 104)\"> График зависимости **kNN** от _k_\n"
   ]
  },
  {
   "cell_type": "code",
   "execution_count": 152,
   "metadata": {},
   "outputs": [],
   "source": [
    "k_values = range(1,51)\n",
    "test_accuracies = []\n",
    "\n",
    "for k in k_values:\n",
    "    knn = KNeighborsClassifier(n_neighbors=k)\n",
    "    knn.fit(X_train,y_train)\n",
    "    y_pred_knn = knn.predict(X_test)\n",
    "    test_accuracy = accuracy_score(y_test, y_pred_knn)\n",
    "\n",
    "    test_accuracies.append(test_accuracy)\n"
   ]
  },
  {
   "cell_type": "code",
   "execution_count": 153,
   "metadata": {},
   "outputs": [
    {
     "data": {
      "image/png": "[encoded data removed]",
      "text/plain": [
       "<Figure size 1200x600 with 1 Axes>"
      ]
     },
     "metadata": {},
     "output_type": "display_data"
    }
   ],
   "source": [
    "plt.figure(figsize=(12,6))\n",
    "plt.plot(k_values, test_accuracies, label= \"Точность на тестовом наборе\")\n",
    "plt.xlabel('Количество соседей')\n",
    "plt.ylabel(\"Точность\")\n",
    "plt.title('Влияние k на точность модели KNN')\n",
    "plt.legend()\n",
    "plt.grid(True)\n",
    "plt.show;"
   ]
  },
  {
   "cell_type": "markdown",
   "metadata": {},
   "source": [
    "##### Выводы\n",
    "\n",
    "- Точность модели kNN зависит количества используемых для классификации соседей\n",
    "- Чем больше соседей, тем стабильнее точность"
   ]
  },
  {
   "cell_type": "markdown",
   "metadata": {},
   "source": [
    "#### **График зависимости kNN от метрики**"
   ]
  },
  {
   "cell_type": "code",
   "execution_count": 154,
   "metadata": {},
   "outputs": [],
   "source": [
    "metric_values = ['euclidean','minkowski','manhattan' ]\n",
    "test_accuracies = []\n",
    "\n",
    "for metric in metric_values:\n",
    "    knn = KNeighborsClassifier(n_neighbors=10, metric=metric, p=4)\n",
    "    knn.fit(X_train,y_train)\n",
    "    y_pred_knn = knn.predict(X_test)\n",
    "    test_accuracy = accuracy_score(y_test, y_pred_knn)\n",
    "\n",
    "    test_accuracies.append(test_accuracy)"
   ]
  },
  {
   "cell_type": "code",
   "execution_count": 155,
   "metadata": {},
   "outputs": [
    {
     "data": {
      "image/png": "[encoded data removed]",
      "text/plain": [
       "<Figure size 1200x600 with 1 Axes>"
      ]
     },
     "metadata": {},
     "output_type": "display_data"
    }
   ],
   "source": [
    "plt.figure(figsize=(12,6))\n",
    "plt.plot(metric_values, test_accuracies, label= \"Точность на тестовом наборе\")\n",
    "plt.xlabel('Метрика')\n",
    "plt.ylabel(\"Точность\")\n",
    "plt.title('Влияние метрики на точность модели KNN')\n",
    "plt.legend()\n",
    "plt.grid(True)\n",
    "plt.show;"
   ]
  },
  {
   "cell_type": "markdown",
   "metadata": {},
   "source": [
    "##### Выводы\n",
    "\n",
    "- Наилучший результат наблюдается при использовании метрики ```manhattan```"
   ]
  },
  {
   "cell_type": "markdown",
   "metadata": {},
   "source": [
    "#### График распределения астероидов по расстоянию промаха от Земли и скорости"
   ]
  },
  {
   "cell_type": "markdown",
   "metadata": {},
   "source": [
    "Наблюдения проводятся на основе модели kNN с лучшими показателями метрик"
   ]
  },
  {
   "cell_type": "code",
   "execution_count": 156,
   "metadata": {},
   "outputs": [
    {
     "data": {
      "application/vnd.plotly.v1+json": {
       "config": {
        "plotlyServerURL": "https://plot.ly"
       },
       "data": [
        {
         "marker": {
          "color": "#2ca02c",
          "opacity": 0.7,
          "symbol": "circle"
         },
         "mode": "markers",
         "name": "TP (Опасный - Опасный)",
         "type": "scatter",
         "x": {
          "bdata": "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",
          "dtype": "f8"
         },
         "y": {
          "bdata": "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",
          "dtype": "f8"
         }
        },
        {
         "marker": {
          "color": "#1f77b4",
          "opacity": 0.7,
          "symbol": "circle"
         },
         "mode": "markers",
         "name": "TN (Безопасный - Безопасный)",
         "type": "scatter",
         "x": {
          "bdata": "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",
          "dtype": "f8"
         },
         "y": {
          "bdata": "8Gr/YOkY7L/5E4JyLTTzv+yoxp0ovPG/QhofpXxT7L9k5yrhXg3hP/ndVLP2vOk/Ft+Dc+Sz9L/0ywiU6VVdP1kuAwRADte/3EOb1eTt8T/62VMj2mbiP68d7egePrY/7H/dCGbR4r9AXy29HOfCvy+ktJ4pbuy/ICdxlK+I4r9XCF61Lk7svxsp7iiRKPO/RAan0M/G4D8yIG9xT0HHv2vb0VqApLu/2VtQ+Cv8yT+XsId8SLDwP6Wig7hbi8i/wDcZN0O8yb/o5BV1bAXdP8s7m72FsMw/FxWRtJbb2D8w5gfDUk7yv8GQsSVJs90/aelu4AkUs78uXzhBgj71v24UvQ514/Q/XTS/3u9x1T9T/sB6Vhfyv3Ug6gZ+Ou6/EJhjt+284r9agTb9j9TEv+PSOiHGY+g/hjXIUoon4D9fjNXy+b7qv6uSKKUuqu+/LOxeRAdbqj/c9G3pqzjkvw6PtieoUKu/U7G0LGmerb+6ORCKfcX8v8+uq2de0te/Vz6QbB98xb8ZA0o/ZSrPv+Tfw2I64vC/Uhl82ntA9L+PFIIrw2PbvwfXKkamndM/5Ulc6m33rj91XUkv9z30v4oqF5JETuC/cCs0jVZ69L9jM9BoQLf3vw3ydU1vUeG/Hz3RS/+L8b87J/LWJtakP+cbDqOcaPe/7fE1tvj2w78O0KHvRSn4v/ciKrVgtbA/Z0lj2x2T6L9oc+HWXOzlP0k0fOhkhcQ/XFXL12JV5z+09ZFdbfDsv8lQGC2Ulrw/ycMGYv0v6D+IzfIvouXgv47Gv3ZbPPO/48eKxQeK1L/M7PWBJhTsv6meaduK1uO/TWfuXDqa77/jx4rFB4rUv1I5uw0Vota/NNrMDaDo578JtXm5ikb1v9kLsTzFOvW/HNPzuWJ6yb+eJg4Vl7HYP2sK+y0vuvQ/UrW2G++F6L8JPS/hZ/zdvwok/bpBM+E/S0dsv9eb4z9/S1xCPRfrvyCy5euekNi/hdq2vfwJ7b8hnRFp3hHuv0agwIj6a+e/Ew1Pgzcg1T9hCfqGp/nsvzBkqJc/4Ne/Sg6XdqqQ7b/L1Ld69uLivwgcAgTZguu/KZ1A3Syq3r8cXSveSQHSv2+7FQ7dQPG/W3SmcwJV3L+G7bu7vUfsv0zQ4TrnzOG/SNNvxz6jpz8f6AUYPqPrP/Q4mzNZ898/hNHh6L2u8L+nn0Xkm6njv2FVfa1m57Y/xSNsboFn6r+ho5uVX33vv5wBJFPUbfa/wjJ1iV5w3L8rxUpp9iirP9owI3aFv/e/nqXKlVZU2z+26Lidr03yP93wwxPNadG/X/tUazsn7r/RZHvR66/qvxlmcxNEtuK/48eKxQeK1L8nlvXdc43hv7MLVun6IeS/M7P/BwR85L9zfqBP0ePjvzY2rWGtq/i/tpfnI4zU8L/DtnFyBuPyv7icXK1HcNK/8IKwvfBezb/Y/N+H5CXvP2bvu4sXiNQ/1BEx+YW+wj8c4KIBPn3bv9tSA+bnzuq/rM8S6PWV5T8aLP6Ktu/sv4ZFKaarh/Q/K8d0Q87s7L9YW8oHzgDhP08O0Z29UtC/6+xcZR4t8L+gvrlduonvv1D+qjkgG9i/E3CPUCZc1L/Tr1EC1KPlPznf3OpvnfG/sAjT4hm37r+gu6ogv57mv/rsJKJKLuC/uurvxO4p3D9zxj3fVbLzP1MshIQSAn+/5+6Qb/DP678ECtXt0Aeov9PFvYXWQ+i/Y63bNKeT+7+jdElMJIPov1dei3MydPO/n37CxlXi6r/eEE4XlDfVvyj6MLbBadG/Gix/uEHf5r+MCtJ93xjnv1mYUT243ei/fTK0npD40D+2q5vfVRLIP057lQ62EOa/XbfFl6XDyj+G6VLwjyHlP+PHisUHitS/NpvjZIGs6L9NukxtZMfmv7MkU6/Tku6/VjLAcIPmxb/PdpAEAqP+Pz3gqHacYOW/PeyUb9hT779Dx3wB/LPMv1mWh11vRta/d/iWtYL/4b/qlpCEu3fjP2hFjMbQHOg//zT1Wm6G/L8DNAFcECjyv8NKfYruHOI/ZXrPTSuHqb/Tm+cR09/gP0c27Pt1dc2/d2XGR3Y/77/RO2dmMVbpvwu99Ef6qcg/Zp+mQvw5yD+AmpWaBlzPv5eUP1MKx/W/ol8eDevBzz9K405FPHP0v5dRBk8V0tA/k0rHcR/lBUBFeiCuJ2Dtv30qD4D7gvS/A3QsSpx54b/Cjd9NZynyP3PfbCH6NOu/T+cpyWKr9r/rGDHsON3yPytNctNHzOm/22+z0cvh5L/kkcnHl9ftv7hcot/f8uC/HS13A3gu5D9Rlwq2Z6Dmv4zptTMU15A/zRAY+c7V/T+yMvi9wqLsP/d3h6tY/ty/JMdVQgX0578/PzLp6WOcv9jT9/4Hed2/Vt2PHvG2xb+u7ACBHrfsv6lcC4icd/M/cA6clIML2D+HPR9nChD0v54GICLmq9a/KAqo+9Z04b/zJ07oYLKmv91DFBdVUNs/l/DF6CEd8T9YmWg+qx3yvzgBncmnc9M/0HScAovt47/3ECYwr17Zv6/KKGZAu/K/b1Tw1uPh4r8KWbxhA/vhv79by31L98a/5h1Mdk2c4z8hYetbYOf0v040QB4vmei/aHH9Kg+E6r/6Unk6PHzovytNctNHzOm/p4RqvgN707/WUzvpseXOvyhOkkspbOe/rv+9T5rE578iv2GCvODSPwy5ohJ+P/O/8vqLLONcxr/0kKr7iIPsv61PobIoVvu/5r4ESI8m4z9Cp+vV4M7qv7j3C0tMSPG/mCYKeXtD9L/+VMOzGre4P6PZ/UZwAfO/H2scgel3yb+KNSc27azhv16reqIgb/Y//QxIq4z46L+Xn1xn8sDevwHkYyeqzdC/Qa9DHY0q3L9QMOyqJVL0vwl7vbwC7OO/Bs6dqbcgsr/dxdyio2rmP6TLEnagZe0/rAB1tBqe4L/O5vwTRyfjP+5jxu4WM9A/54UEQcuz1z97mYwvVf6wP1BTRS+EbPW/HZ+g9AnRwD+VNXLwIX34P63YJi4i4OS/TDQh3usT77+ABgXwyTnWP9IVq05hyfm/QQuaEGVMq79VjSzbzBvlPx+odMnPaeG/2vmUzbrk7r9S1CYuHC/wv1GgL1zsYvG/WgV3E3A15D/KtJ8uwefqvzxxhkSx/c8/1tSUjcZO4r9MlMbGHHzXP9ObkEnE07G/rsuhCJT9gL+D71Z1E5+sP25RxaWtp/e/bwk7V9lg479CfL6nwnPbv8jm9jaxnNG/fxMgcD2R8L8qhkzmZw3Bvwk2ljKjf+m/M2OcarlK+b8WG3wko8rwP91Imul9Fuu/OCDWBplXyb+oxrlsXcDcv9xV2PTSVNs/hux6TnN4yL/x/Qfo+VHiP5tsfWPSPsM/UB8HiN/a+r96KyqdQM/vv7CzIaJ2JOm/j17Nm4gA0b+lF41ZVuLZvy4ZO0j/Y+g/zgR3peYNxT9COEDT3ab6P//zhztzLey/6QR5BsQD7b+MQHezgqzDP0jgucb3s+i/VBKae+Zl9r/BFemdIJb6Pz0g4q930+a/Dm8LQRmvwL9yRtVCd3fZv0VTSp48Y/O/VlCTltlV87/0OJszWfPfP1dvlyUeJ8+/hpAVb2GQ8L/WFY63HlDfP8QvrtjsneK/hC0W2bRQ7r8jI7KA0w/nPwH1D/1nNNa/6hfWpk8R3L8jgBbdzs7avy8OBwrPUN6/CZi77/bh5r+2pIP281f2v2OPmnjbluE/CvVLZYCF+b8rozKdWLrwv4nEDCB0Tvq/0cjSj5/02D+8OL+Bk6XyvwlkeSK/aPa/tYj2xDzo1T99TdVXF77PPxFnmLtjwOm/aiwtRu5k4r+TtNQvVx/wv8KHUuTnC+S/p2pZMCWJ7r8x1kBq6Yv/vw6d04sq6vG/W7muDGGN279mCkpmpoHtv+PHisUHitS/JTfVURgI0b+ETbQclSH6vw+OEGpa/O0/r3w90Tdu6r/kX4mgbZa3v+mP+l6cxNs/cPS5NeMg3b8EQ9cumQTVP8mreXYtwNe/Eqnpy1Qw9b8Vf/KcMn7uv6Xqno1G3PC/12tiAQQn5L8s75UwBb23v5KPpFEv9/C/mwe2FRPm5z9pKMcC4TPcv7hT2nUW+r6/kjbmA3sa9r/fcNJBamrhP5KYYUjgkNq/Gyw5qVm9+r/CH8Cix6bcv72ajZxoSvO/yK+TOQTw6r9c7BMSHhngP+K4k9NLhPq/2k33npgKhT/w/k61wb7uv+jkFXVsBd0/RIT/2NUc7L+dpGl4//jqv7cvLNpS1tM/PVoZDkIs9r/eNkeSQmrov2ZexPZDqvW/lN+0oFXT0z8jc7Lg707NPwQ6mZH2z/C/VFEQhRtanr8qzQHfqJbpv9l1I0gcwvC/TIKNeOH27b8VsgDpwcm9P4RJusltWui/vi9Kpofw6L+n7lZWtqHtv2PTDLRL6uO/eGR1xaCfuL9C+x18Oj3pv/X97U+4eOo/DvacbGl54L8JeLPwhSXWv53pClXO5ce/XWy5NA3dzr8c88e9Dd7jv8nWZXKeVu2/2KiQ5VQuwb/PulB+HcvRv98JuF1A2MA/LCNYiO2r4r+tM75FtePTv0qoXdQix6C/pu1nQpU38r/u9zQzazjiv4WVuCc80fG/iR9jqXzk87+BJpC7WGbzv1xUi7OqcvK//oee0z8w47/6UQca6T/8v0s1pdPRi/i/vbc7dBTt8r87qKySWwXVv9+/F4mJWu2/woF32HuO5L9nU1J4+cr/P1ByEScUJ+8/DJ3HWNT08r8qtCK8g0/Kv37+EtyQafS/CCq8iwmA8b9Goq+yT6TrvxBZgkFT7/C/wWpEyOB2iD8jgBbdzs7avwzsmkiEH/C/94cFywSk6L+CxUkB/pbsvw9Bn5lWT/W//0FaN6Mc6b/4f6/E0mT0P9+4HGnyVc2/Eax0+9bwzr8WYsPhmerjv070JuSiA+K/ZhthYaTO6z+eGeU37+6gP94+S/vdvdE/iOYw/6Yq678nLZWFkvLyP8C7VqW5le2/ULuJGbVe6L+3EXxzdJX0vzPsxC8qIPq/FUwrOW866L8ltQW6eQTBP1zokOrG2Pq/du7aP6IaoL96euG8kkj1vzcb3J9Ha+Y/fwIgA8no4z9a0J6dqqzkvyaj3uWtLQJAQn5/IuD97j9d+AG/b2/nvxiSa9YcXue/SwvsQxg30D9SPMoTEa7xvyIaFGUb89G/6THYKJjO87845dRCrBnSP/kFDJsNvty/d4E6O9ML0r9UjtDxGTRzv37cR0Bmgfu/D8U1+ELF4z/DauzPZp7WPztcSNTXVvk/jsyHblne6b/loTbCL0jtv/xBp/Afndi/gYCk4eUPvL9VH8xAnYfWv5GTEHPT3ss/NmUkNkj08T/w5nSVdaX5v3YvL1XNBey/cW63YS3J979s4fo1zIbgvwIvyMWW27k/FM/ojUt92b+Q92WIWWfivzBSgNcjVOg/8x3Nx55e9r95DuptUbXav+PHisUHitS/zEkApzZws78jytwtOYzxv2iTlld6Z+2/5olGK2DYtD+/7dQsltzov3Z4Jg1mi+q/g+h2MLYN5b9Ha8fk/vbwv/YxFjhJwOM/Oqk1RF/M27+G86E8DBOvv4QLtFD+Idk/MrL8fwYX0L/mS1C9IGLhv1mvqKJQEtw/j+sV02+uAkAFxYrWQR30v1miEFzLDL6/elZgvkYV0b+U5aH2XSTrv+vgsb+z1u+/WQOcv9AX57+DW2fy5hCrP3NLEAGBouy/MVyoi1w54L8dE9AinR70v+PHisUHitS/eXm93Fgy1L/IEYD67ovxv1cRa/FFauC/Kum2NbaP4b/90q4/tUvHv3C4OaT5Db0/RV80pF3097/hXNkgbjDtPw3MzPWxbtA/1bxcpRfvm7+clde7dBXFPyVkijoD5ua/iAHXjsad9b811Ra8+DL4v4c9H2cKEPS/PtyzvJEX0r8RGIV4qmLNvyqYg/XB87G/ig+UTXzu578Q4czCYfzfP+58376BUdK/xa3ueTbCsL9u7hM0EHrvv8xVYHPkA+O/odq8uE5Cgr+HKNBRBCvwv8QLTfBW7e2/bMxkEC+Qp79fjNXy+b7qv86o2FfGi7a/Z6EVDYpY7r/HpTrj/zfxv71G+sfSyfW/UzzqC8TqiD/3hZV0qVDWPyeW9d1zjeG/kz612dmZ9r8ClHTp4TPBv3U0hdElfe6/E2GPs7j+5L8xj6SHAKTeP/GF9gvAFKE/NB0+RH8yyT9QZZLbkzXxv+uWzwwQDOs/MH1YbhKr5L+56tpFhBX5Pw92xgYf8oa/tA9PMDyr2D8dv4uJPvXUv5C06K51IdA/6P6tVR5c4b/NA3jmCvjCvyKgNBUSpfA/dX/dIePb6b+1u6g9ijezP8k1tKN0V+O/8v9Nvop67r/TIW+YREfXv9BGE9s0l+a/lOJY3dAM9b+fwcLDnwnCvyFly7zBfOm/Wh9L1qG0zz/HFe+Fy3fqv90qTS1r5gFAHyZvUoSA97+O1gKU87TNP8rOsBYkMuW/3BHLpX5bw78cPo6grL7rv8/UkMqRW+a/dvsYE9wg5D9tl21K1lPeP0FNT9JZV8i/+M+/F41M17/7Pmak+G/wv134Ab9vb+e/lMnOwP4hQb8/ymbeJsL3v8pQ9WjHvO2/YTuvsjj11T+w4to7+r73v7sHRAJvCvK/jtQh3AYj0z8fDemxsDG5v4velsKA9vW/HS7LU9ravr+lPrpHTem2vxPTIlfy1fW/pVuE0aoX8L8X25mzB3bwP47x4gM5YOW/nnGtxgZ93r+Az3DL3y35vx+XheeNeuA//ZpYrilVuz+jiTlaQT3QvyIC6EAR7d2/gjwG3dut7b+otDdlGX/qv9y8fjIRbvO/cJ9fZWO/9b9d8RKTVhH3v2HMMXrs1PO/JawBw8gL+r/B1wtL2M2xPyhwXRLM+tI/5/J0g+tDyz+S4J/xFJrKvxO7f77Rbtm///fSy3MZ2j/DsyjlWLDwv1u6M89U9PK/RakJtLQSsr94msPviJ/oP65JEsuRiNq/vMgf9M6R67+jzW5m9KS6vx4adSC8vvA/gARPAbYW2L/9ME6jcqrnvxbXCNpf+fK/l0Du+wxI578mfmc43lX0v7bqayMyOOS/sy4nafdB5b/vwpT4Cj79vxakNigTefO/Fj8/EeiK2j/3QBm6G/vevwbT8pkRUea/Y7h0mPyI5b+psk2GgQrdv4wZjx4GQNG/NbaCdeYB0L9uccCKk0rRv9i4rbtFaNC/6eJIlZ35+z/7W/lh9HTsv3z+8OMqs9E/78Vkim3o8L8yHXzMWgT1v8onqWcOM9i/oIOxImj17b+G3f0HeQ3BP9K40AQ1EMC/6kKxHSyj/b82kGuUf/vBv6ApNipDSey/V0f21lkP6b92Fje08PfTvyHsiaX/eeM/VlwzVbyK4L/tP7LBOL7Uv+PHisUHitS/w/zs8bps7T+NbkXsKyXrv2N/IJaeC+2/iEMryb+e7D+BSFHrd/DsvxESzLXwlfa/ieEKQaXx17811yIzdo7wvwplgMQqF/O/gSW4HPlZ7b9XTEmoDBjzv2VtS3rIM82/8vZEZeLI9L/05c34WnHyv1OJLJL42+Y/6XHi1ysN+j+J3dYXirLgv630qqNdrpY/VspjA85f8b/zXiGo5+/FP9DdR1B4vvG/Y5jIyIzc5b+r6rYNGvzoP3aItLdWmtm/uJMLwR/N7r9UBTR4H4jWvxloKUEwKPC/7op/AJHr8L8ZP1s4Yf3xv0I/zGl/dfq/OVxhBSrF4r+FFOw9L+PhP+hQRAUlJv+/PiZeCjoazr/NcEQyazfjvzRkW3BA+fO/VkNyh43wyb992d4YFhThv8aNAkAde/W/K6AleTmS8b/QUIUymJztP6AkzW3wMLy/5e7KM8My8b/zOhPsV1rxP3+Qa0AvOOO/wTh4VALz4z8Zw1XjBga9P0xzPzrfXeC/d+Uj46Uj7L9v8VaKsuT2vxrTI3k+jdS/+NUJq4aU9L9jhHquh37wv1e7WiB1Ctk/hlZOOdPb8D/HyFARwHPAP9640rwaSuK/9wktEron578MVpomAK7xvwUdz00uB+q/J0VPh08Z9z/TFBdo67PEvwd9s70uL+6/fFdU0wrt7L9dhfIT0xjgv7kUFkT3Y/W/2ezJHQgg97/s0y+Uclr1v+/yoznSuvC/GhADyACV5j84oocvdNn3v7anTR7MSfC/m6Flhs265b8Co9V0WzDtP/rj3p2NQ/Y/V4Slx7o18L9uSjGVWlSyP6WWr1DTc/W/864Hmvks7D9aWYGaEc/yv2tWkw6/9ua/48eKxQeK1L+90A2d0cbnv+lEyPT1jeQ/F3AauraV8r8zgCoW1GPrv+DlYfQJHPi/ii6wgpm7yj+EvUZ2MlnTv4Kuik8WFPC/VW2lE6SB2b9QG8uRXrH1v9BEPtbjs9S/qEiGrmML47+HAMX5rS/Yv2EBfEJ90PK/ZpfWQah51r/BjCZNYwbLv7aoCPVhzOe/W3ggsEoa8b+HTq2/M3Dtv+hXT8NJ5eW/CBJQQGR31j+uERnoW3b0PzomKTZu5NQ/QSxexfxA9L/jXQXM1te7vz0HptoOPPC/AtNnBafW97+jQGh7zY/oP1aTZnzeodM/UQhFz/CX4b+kiEVhDAbhP6VdwMriSfW/l0f65a5U4r+h3LREsGm3P+PHisUHitS/uTYoa2nI5L/zMK6n/iLzP1nKePxUBuO/vUjYi9MS/L+nKJ04+AXfv9om9FWtM+W/H03OI4R/7D8clf1vls22PzHK9Ys6hPS/YKCzB0jy978d28UkEArtv5bjeMq1XvW/zZ2Prgd78r9l4H4WJpXZv9QAsIuMB8q/SpSJutXuyr/6Paauj7HBP2RwlJp41Pa/imHkI2lh5D9W1I8+zIDLP1kztk9l2PW/sW6/KXYm6b+dubeJ+A/zv+rupb1XfPO/JIqr54Rk8j9IpeS9ou3gv3hfCCMUYfS/IK0j4kJM9L8A+xV5rZzYv4GoWA7LqPG/QHuzgCal97/N2F702g+pPznAu3RO3bk/iqABID0ztL9yv497V88GQNLbf7ZNluu/nvS1WFI51D85AVu4KW32v+0np0PKI+W/7Jjz6LR91b9PlvgT0m/4v5QKHf5Ueto/XSz8N4pldD+syC6gAoztv7dP1LQFU9C/eZSpp0pP6j8xPj2hRErrv/Z7GDa+Key/RG9B7psum7+HObhMMr30v0Mdrw8DLu+/GNxImQyS1j//JuiAzQXyvwILkmbEU+q/JNS3dKRiyz9tDYwk4Yvuv7MkU6/Tku6/4GAJcdBt2r+Us2gfgLT3P0oC1yEmgLg/TYotJXNz87/zu8R2szTjv+4OiVgg1ds/YDS6H3BV7b+iLGzjzOemP4zYSFg9b5o/e0eAubHs2T/vb9+xvRvlvw9Z1zw5DPG/yjg5oTHg9r+ot5Hy/Bz7v8TShQJYk+W/PagJYihY8b8K4zHFrCnzv5XDCuWr/PC/nCg/k9ZKyb8+jht56Qa/v3ULTltxM9a/UeqbIhG49L9BUizhDwfuv+TpVFcWOtC/ryLY5YXG8b/JDCiJnrnqvyzONBtAB+I/aENnMygkA0DEDjNxMI72P/ylrJovm/G/g+zn/AwW67+GFpG24tbdv1Rh8PFaZuK/mIcUD0l+8r/OSbmnitPfv65Q7Z0cM80/h7cr7y1q7b//8YP761S7P/x1myYec/i/8+YFI2u99r8BAcAHt4PnvyMfBgN5CfE/DTGTOprA8r9phy2sJnL1v+8NQy3bveu/gJgZRDV0+D8xUOSQuwzxPzliLL1QuPy/OpLJX4kz7r9A3ZR8Pt6lv60fSPncOda/4R+s2d2W0L/7zIbSinjgv92YkkDv++C/JrUIRNW027+po55zx7flv6qnp1NPQeo/BK4DWHYt6b+ME8imaggCQEweK1GpxPG/P0mN4Ioxw79TyKpNPVD6v+gjWWg3z5y/RLkW8lmS/L9DIjCm9ZvgP3bG2AlHney/rDGmHQRF9b/OCkciXOTwv9tpum2pJ+e/XYlBignJ2D8Owmac5wTfvyXnvsq778g/INhZ79X22T98Fs18SOzUvxVHbk2ODei/DQJ25e/lxr8lIXmz3innvxyNslVUN/A/4407PNWJ5r8mq3dIeBHuv0sntO9PHeq/cyQR/9Nq8r+xV2dFXG3oPy7KSdHu5Ne/KLmHRnyk8b/FD3cw9Jfwvwbw+ljDm+u/k2yEPVq+8r8tXCQppUbQv5OyX6V4/fK/1VjjVco70b9IKeEqFQq1vyW/USkxxui/PpS5sqtu378H+aNlwAzvP9KFaHJcROu/XVHLXm5E9L+YKsU8zSrwv37G9Fjp2+q/4k9gMrpn7r9F2rzu4lftv3rRx5jQ/dG/XOQ948Xc8L/jPDQt0NnSv8zzj9jPz6+/VU1/2IC247+D+GVUaYD+v/hEsoGVF76/jO8ZRi1ltb9CWC7fpZrnP0TLK0CmHcc/VA5HLQf78r+bzOZW5F7zv8zynXYUHd+/5x75wdgXwz/oq03sukj1vwHiux5MHNG/EEjZ9DpS+L9P63x9YJrpv1a5YDXOnuK/EQuMO8CU4L+Muc4gt2ibv5nUi4yzydu/0pmnW4/hyj9+yTjsdOzav5UeNYiRgfm/qZM2Rg+99b89k1Jjj9vovzWmNdFhN+u/zFgj/5Kpoz/jx4rFB4rUv7UO28DJrZe/be29Gt0eob/ANPmmOwn0P0Yw3jKyGfy/T655S64MzT+DSXIOSUXwv75rp4VUoPW/okOg1IFf+7/jOLy35Z7sv8dcTN2ZVfY/6Y52g1IP6T+s6J5ARdriPym3OU6li/G/p580v4d0179mnWT2EtTpvxVPShzQJfe/z0ZdT2b4sT9KztURySvxv5/o391HmPS/w5adK8J08L+q17XpaeT2P3AOnJSDC9g/7piTjgem8r9eutTrTzHcv93OuJ5TRtq/6ctCZADspj/qz6VuzcfHP4j9y6+JhuG/WBuNPvy96L+jtRp7oU3wP8/H4G32fuI/2i+S1Rtp579V1fzL6bTnP8l+5mWynOA/WamcwThh4L/K9NJ1kgjsv0uF+q7s8N+/Cb3yN1ZF7r9xer0HLnjkP53b8Nv71Nw/vL2ZUeRq879+jUH3hUbzv0+oaGrWhOe//FlAQoQl7b9kmZ2UqCDwv7BeqjhM3vQ/Q+nzfWDCqD88Ay2Rlcbtv/DPJannKfq/6YhhNo4F8L8Si8Ox01HRv9VL5FYjnbE/wJtu/xsP7b9T5NmKn87yv36KMW3CJfa/jzTqZia35D9H+Tg0Zvbzv+mANYf0p7a/wEbc/rsB4b9n8JNu8zXpv/7bcnGkYfW/LzU5mVXTyr9+Bu99kNXwv0q6hB3/ufG/U90gLL+qxb95UpVaWpLPP0Uo3r8rGtm/sdWOHl/n+j/tDwaOC3XQP4Yf0S85yOK/c0sQAYGi7L8KhMk2TiDhvxx/4s6yzP0/jQ2TjA6/6j9Bi/fQjM60P1XD6i97Iv0/oTufwrTx+D/eGTcULczhv8q0ny7B5+q/4JxKb31F3b+3yXcOTe+gv24m5oKHcNc/xk2nFNjI87/pWJsv25/UPwv6K12zxtO/e/CN8QrMsz/qeVOfbCjTvzpTDagbIuq/JHZO+UDV8L+XVupcnqjaP0BCXG0ENfc/rqfuUMAi1L8GQv4yi2j0PwdQy4sMjtI/YiVkSMvJ4r+SKk75uTHjv0koKFxZl8I/AHgDdW3+778cgwxnbGTzvwjF9gsp/fK/yXxBOPyV4T8fueOjNRr1v3BgatDM/PC/8cSVQWPW4j8VrlbozO7lv37JOOx07Nq/HOCiAT59279vAPzl1KH7Pyzd75QTR+k/5K3p8meqxj+Hz9i5h832v0wRhmTkvwRAlIU4sbpOqj8AtO/IUwPwv9avsFlXRPO/VIif+OFX9j/i3FJv9mvVv/QBlS3qQvC/b03NAKDM8L+F9KGniWLrP9VKPG9s0/M/Rld91Q0n9D8aog68WaL1v0PUaQ/V8Mu/eDMJEoQD6L9BB8fhOr7LP8H2VhcctrS/P1sp6aaC3j8CHEYFJ+n0vx+YIW3RWgpAxQ93MPSX8L8LsUJkin3jv/DxN9BZjum/bzcKob3C+L8Jfkw//H3rvyO0Zt2Wn+W/d00Ah4M++L9wzu5GmHv0v+k8CbFcw/W/u44L26q7rD/nPqzDWQ7sv/r3mgz0+Os/clzEi+Up6D8OC9b3vsf7v263hSCDyOe/FkAGaK7o7L9rJDnAZMDwP4Tp3zGtSO+/he9WPnbk8r9moIU1PCOxP36MkXfeDv0/3bQ+Y9RP1T/oLXzs6Vj6vxjMuawK4tY/GhHJXgW0yT9euyTa1STVP6Vr6SeLPsQ/TA/DvSsN3T+ArHtGN+jSP32yaMxfCv8/48eKxQeK1L+EHUKqBQqcP37K95JeYuS/s6E6GgTU9b9GfwLyFsXrv7zxEDtLXcK/Q7tudu7//r9Bbg7pcAf2v42JDBIIdO6/48eKxQeK1L8cF0iicTzeP5SJ9j7YhvG/s9eCt06B8L/DLJuZQjPpvxEbeUn7H/A/IyNVeMwiwz8+Hg7EtqDrv5gmBYbabOC/tYj2xDzo1T8z/rN5wFPkvy4z5z/UP/4/wofZaHS/vL/AP9ZfxQj1P2wCWR0iUPO/gfPITM9yzb80WgLFWzvkv43T8+BvQ+Y/9GGHyfl28D+yK04CHkjQvxW8M6V5+O8/mk4OQjiR3b+YyV2R2QLoP1QvZqz6ybg/sihfg7zy4z8AgxLaxEvWv7orBEuPp9E/4wrClwnO5L+3WkkNoLjzvybjfMWnce6/xuF/LQFY7r8xgFp0qtLyv4+deQYy0+2/owXaKmSMx78c8k6vDUrIv+OGlA2mz+s/IBJzbiMO4z8SklhJ6hTTv0H2lsLcUvG/KoCQc2tJ/b8FiMc6BR3mv+g191Isjq0/BunwyLKZyL/KCbmPlMyuP/oJaatKbvK/vw2k+9ra8b9hjhTCNUnhv7MIeTWmzbO/EqBfPqBD87/YTT+1rTDwv7KhvTSurtI/G/75BN4q578uZyeee3TEP0jTb8c+o6c/IdMpfRpNxj+H7cj73BHPv9SR086JteO/RXogridg7b9uafSjBzTZP1i2S8UTGts/snhtcboGm7/JR+yuGWfQv7E2BZCPqfK/ms5367Lwsr8nscd02unsvyQ88akdTea/OvDpMRI86j+JbvKL5rrCP9y/6USJEPi/yK5528r78L9PlZeKYBn2vw163sFtO/K/TKNi6UWR8D/QaNN6Z27wvzxIcPLTL+6/HolL3xqT7L9tY5ZQry/qv3E+G5l//+S/u7uqOVKF5D/8JE0j8zL5v+iaDir/HLQ/9tCKx8byyb9DG4NrkfihP+np+elrhOm/p5w3GTDz2r/Dsom2goXtvw0E0vC+HPg/v6UKoxWS/7/55V3tBZLyv7wEGC2s0eK/U5U2pOUM579olqWWUkv1vw9dvii+2LA/ZzsSfq438T+6F4gKRUDxvyh14zB3guu/TN4Cnucq0D88hUa0FK7Bv2zBmGZTTKG/WwXVxoRs+r+df0BvVYvrPzq+jVy3nvC/UndR1VWR8L9ipLhC2nHzPxovQIfmsca/Def7SJ325r/SsEb9vFj6v78/VDPRne4/1ObFC9xZ6D+7cKwZtPjRvyGilhdi0Pi/1WBRdc5/579q75JPmbnoPx5eecjya+M/jRtjJO6n9r9v0Qoqc/L0vy/fVg1/H/G/tRTSOWKE8L+pmHJeT9mev4YgPb2VXO+/a7XiJGKw4r+llA32YDXyv7Wx6f7TFeK/+C6mPdAQ3b/jx4rFB4rUv0q0L9qes6M/xUSXANmR9L9fHVy8ic7RP/qF+jDSidS/XdhjbWBXtr+7hkc6RvTwv+ucIRJmEfW/LtNLs+KY+L8TQ8ioJmvXPwpZ81C1nOy/X7VrjZXDwD+xBUmsYr3pP55ym1DZ6PG/iLYF6n1l6L8MnD5y5iO6v3JPGXmCPO+/UBqZEnpI+L8mmHizodDwv5LsY/wfydi/+AgCJo7q679hEvu1KYHmv1YZ1YSYQuE/CoVygmXX6b8PQNAOh67pvxKSWEnqFNO/bPUu3W3V678hfmz22J3wv6GbUWj/2vS/y1ec4DxR9L828zSKgqMFQA68Hhcqtum/idEpzWO04r8vQ2drsjXav4jJuRiKIvW/hzkUIq908L+oe3qi9MymvzvUIUOQ8ua/r71Ju3Vp7b+DAj5o/Ofiv51xU3+ABfG/QB2odiHbwb+638ioIqD6v9zNdU0A8+w/b6Qtdlgh8j8Lp4Rc/VXtP5MB+jK7EK0/2z8HcNcX8r8nDYk504vvvwuuTMULQ/W/7mPsHGu427/Z+gpP0Ersv7pnQ/1/W/A/x8hQEcBzwD+NUq+J3+/jv3SyVL2+/O6/BTYyHcfUxD95rt9JtPOGv1QSmnvmZfa/vKexGpEG2r98on5OzzzTP+II9+S20PG/gbwLGAZR2D+dLTH+9T3zP5KcHjItO/a/m5iSVkoH578n3Oc30onwv/VH+HsN/vC/tQECVqQfwj8ot1vpxlnJv1TnuG1r06m/raCSpYjdAEC5xsD1xZbqPxcjtYboHdG/Lmx9WPq1sb8Ameud3iL3v45HmmZBSO4/fF8P30198L/qcjVn6ePev2mVM8dLeHi/gJPF4Fr9xD9xWo8JpEkAQH8Yy9pcJd2/kuxj/B/J2L/g0KDIUIPevyZpfHDaDPS/Q5URE44f5b8wcD3VWrX2v8Sp43ew/Om/7/BbIOp8+D/Bh4nUHoLaPwZrvRPAMOw/F69LIw5Ohz/LKHgmocv0v2ByF2MpVdU/IjFm5XKq2L/99ydUkT/hv5zgmJSW7Mc/8Y2hT7Q9pr96dJ3DhmX1v+zSjfnOD8m/AsxkoW/cpr+z1fsmUC3qv4QicIxbUvE/fuCJut9L9r+udBQU00bkv4v4McRgQuG/UAvP/6sa9L/mxdfm493TvzcQz+RITtI/xy7f9+cJhT/pXHC20xPcP/06/ZNURsI/i+WvsSo6/T8j8D9wEtbzv4x2C0M4YvK/itYAlo6Hnj8kydI8Ghn8v4UFqlT/O9a/+nUIhH4J9L/jgHQ4mRrmPxctHp4rkL8/bkHDQbao1z8MdwwcdhKiv2w6fQWRbaO/Uny9LwJo6r8AxtPlCHvpPyGmGLJmB8a/Y6qH6ZRt1T+mXR3OcpTSP5FXdpwRcrs/HXDht68a5L94wd8WNS7Qv63O/aC2bfG/fFrb11Vzwb/hCud7rASmv0R0DRq/Sea/Rt0YHN5K7L9eqQ9wPKr6v2uiramK7uW/HcT8US0J7b/pf9igTLv/P6p7UcdZq9i/u0jWJJiV6r8I1cw55x3ZP/eTloiTq98/N9QDwljF7r/SHCS0vBLtP3BGLKs2xvK/p8r4t0Rk9r+tkxAKF2PovyvixFwayvm/GKG/vWYX4r/ONU3WMQD7vyYXBSTqvvO/8PaoGAPp57+AulF3f2Hgvx6Rkemn3ea/55qx82gYnT8/bd/Ir0vov+lseI9868A/tSgmkvP17r+zcBkPSpraPyj9UC1UbPE/I4sogbGP978AjswBnp33P5Xdc8ad3/q/O7dXsrlQj7/C91iQFYvrv3sZ+B7fsda/vbBeM/op2b+yBVMmXb/2v54ufNwgRrE/Ii1dU3eL1D+3vaBuQcDfP2QGprWxZfW/HQ9O5Ff75T91vkUfmdr3P9SHndub2uO/mfqXu08I4D8gv1EAsNXuvyuw6me8SPG/3e4Sij992b+RUluvnr6wPyCIPzMy2+q/nEfI8QFs8L/J2HjbcRbZv+UjvRKr7/Y/VOTZxeMR4j+/HxIfZ2rwvwKPnVnHP+Q/Zt4RpwwY8r8LHBmreRXov29zsSkml/O/eWWOoDmR8b9bW5W91wb0PxXzmOOgwfM/PK6N46WABkDWl0KeurfOPyYiwavfZqy/MJ85ysK+678JUFVFZ4L2v/oDiGD6uNY/eFbSHbz6+b/jx4rFB4rUv7Rtepd7Bsa/YeA02Uap4r9daHPZFJTnv0Vdys0mk+O/Kk6TzZcw8788CSxPSMLtP5PV2nNdRNe/8h213JPa8j9U1aJbQA/rv2vV7hM78cW/i0r3y4GO9r+fXPkPV7jpPzHoYwDb0+y/JGNjwI6P3z/EmdmebwDvvzJvoi/6Dvw/HfnoK2WK5r8DXWj0/njfP7AbZgdJffa/JF+3KfDq9b+ynN57n87qv+veCPhJze6/T321N5CR878JYO1jVhzwv7cHKWn+h+A/oDW8TwEO67/hh3JuDfLpP4SD0vvyO92/XlqsR8N/+b+79wrYwrH4v3tTC19IkfO/I28wI0gJzD/4sOc5rjLzv8oysSPSTd6/tEtFortg8b/gUH/rj6/qv2osYoRKM+U/LVtJyUQLoz9+1q900M7uvwHs11S8keA/9Vg7rOwE5r8JbYwoQn3nv/PVjaiVvPS/QA+VYV3e478IuFIzf7fyvxSxXIC0NvG/gRImjtij5T8dSi3r8bO3P7bOtsAsUcc/0RfaznCp1r/M7NKELrvhvyOHsIxkMu6/Hzzrm7EK8j8IeVYJU9Dsvz23ODZlT+i/E01Of3vC5T93i/dBvPzxvzwIcBwF3O4/+AeYV4nA07/BEFMkgojVv7/rX1Y1+eK/x4SgpN628D+5+DtXWwjzP1OM76xZ0vq/WnOSO5aq87+XaNiToKLQvy5LVKM1fcU/6ujlXB/U+r9C32+6wmjyv1Wh4K4oc+u/iAECjARC2D8fihoRSXLZv+mbJZdqGto/99OcRSpK6L8uGNRrfhfyv5nJe9fM7PC/AAzABBdL7L87bMJ6eApIv3GfP8utkc6/1ySIST696r8mhigOjd70v8U4sdNDUsG/Nrz5Hvqw2T9smGB6QgDhP9JVfYd/9ri/8Gs1s11c2L+3HM8f/lXVv/xHcX54YeK/e8m+pwcD1T9PcaQyyCf0v54FC9pOX++/G1dM0jityT+EFRWDwn/gP2RRkwSX7vW/J1luygWt3L/9uH3Ck7zLP31l6uklC7i/wXaYC7oe6b9PnXqsn3fBP/YWEAeeBt0/7m5/7tho8r9BU6GE2f/zv2zAKnsNbdE/ZAj49Dh04L8frNL8Wf34vwTlz1zqdPq/1C69sACh8z+7mgoh5nvrP0k0fOhkhcQ/c311aiby9r8iL2q1vRb1v1iFHCaXNMm/n1XUwnw+0z9wBb0xqmLaP6a8zHZH2do/xISEZCGm5T/RAu1OlkHwvy0VEreHt/C/s5IrT9Ps1L9ACr/DjGXdP9CxIFKLGMS/IgvXCy4uwL8sep0SFQjyP0KsiygXF+6/Mz0jacy29b8xm9hw8VXRv7Xk3zdl3/6/DXEN3qar5z9jQczwnUniP9Eb2+IXHdk/fJugYcSY8L+vzHuwVePnv6aEBt1Iivo/J4iPi5wJ3L9yyJopSUr3P3hDNjYcE/W/cudhyXHO8L9n6cZP8CDPP+PEiAE18fO/UFNFL4Rs9b97KjgxfQPzP2zZZxV+0+u/mHnOJvg7w78ILRXWVqjFv5kTiCl798G/5WZsuCFt4L82P3upQkX0vxfB+Cy9p+I/2HIw+utNzj8oh414kKbyvyUKU9dvZ+e/esMKJDUDxr/KW6KRlE7VvyJIjIEmh9I/jzT2oznf7r+q61mlHBnavw==",
          "dtype": "f8"
         }
        },
        {
         "marker": {
          "color": "#ff7f0e",
          "opacity": 0.7,
          "symbol": "x"
         },
         "mode": "markers",
         "name": "FP (Ложная тревога)",
         "type": "scatter",
         "x": {
          "bdata": "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",
          "dtype": "f8"
         },
         "y": {
          "bdata": "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",
          "dtype": "f8"
         }
        },
        {
         "marker": {
          "color": "#d62728",
          "opacity": 0.7,
          "symbol": "x"
         },
         "mode": "markers",
         "name": "FN (Пропущенная угроза!)",
         "type": "scatter",
         "x": {
          "bdata": "q7vBVaZJ8z82Dg79sNzLP7NVYUv7L9U/Dko5lIOp8D9Lu1fZNtDOPysd1REuVvE/fDgdDxfrgj+seaoMP+L3P7ZFAelPj8M/7rx1uOWvxz+dPijekczkPw==",
          "dtype": "f8"
         },
         "y": {
          "bdata": "mAnAofdW3D9TvNWLQpD5vz9aTxgnFfu/ZBRywu8pyz/BxMKneSLsPxJKwLQMPfE/75TVyi9K6L9RATgEQ475v6vhW1JuSfK/SFZ7p+As+L+hi5KmyrnkPw==",
          "dtype": "f8"
         }
        }
       ],
       "layout": {
        "legend": {
         "title": {
          "text": "Категории"
         }
        },
        "template": {
         "data": {
          "bar": [
           {
            "error_x": {
             "color": "#2a3f5f"
            },
            "error_y": {
             "color": "#2a3f5f"
            },
            "marker": {
             "line": {
              "color": "#E5ECF6",
              "width": 0.5
             },
             "pattern": {
              "fillmode": "overlay",
              "size": 10,
              "solidity": 0.2
             }
            },
            "type": "bar"
           }
          ],
          "barpolar": [
           {
            "marker": {
             "line": {
              "color": "#E5ECF6",
              "width": 0.5
             },
             "pattern": {
              "fillmode": "overlay",
              "size": 10,
              "solidity": 0.2
             }
            },
            "type": "barpolar"
           }
          ],
          "carpet": [
           {
            "aaxis": {
             "endlinecolor": "#2a3f5f",
             "gridcolor": "white",
             "linecolor": "white",
             "minorgridcolor": "white",
             "startlinecolor": "#2a3f5f"
            },
            "baxis": {
             "endlinecolor": "#2a3f5f",
             "gridcolor": "white",
             "linecolor": "white",
             "minorgridcolor": "white",
             "startlinecolor": "#2a3f5f"
            },
            "type": "carpet"
           }
          ],
          "choropleth": [
           {
            "colorbar": {
             "outlinewidth": 0,
             "ticks": ""
            },
            "type": "choropleth"
           }
          ],
          "contour": [
           {
            "colorbar": {
             "outlinewidth": 0,
             "ticks": ""
            },
            "colorscale": [
             [
              0,
              "#0d0887"
             ],
             [
              0.1111111111111111,
              "#46039f"
             ],
             [
              0.2222222222222222,
              "#7201a8"
             ],
             [
              0.3333333333333333,
              "#9c179e"
             ],
             [
              0.4444444444444444,
              "#bd3786"
             ],
             [
              0.5555555555555556,
              "#d8576b"
             ],
             [
              0.6666666666666666,
              "#ed7953"
             ],
             [
              0.7777777777777778,
              "#fb9f3a"
             ],
             [
              0.8888888888888888,
              "#fdca26"
             ],
             [
              1,
              "#f0f921"
             ]
            ],
            "type": "contour"
           }
          ],
          "contourcarpet": [
           {
            "colorbar": {
             "outlinewidth": 0,
             "ticks": ""
            },
            "type": "contourcarpet"
           }
          ],
          "heatmap": [
           {
            "colorbar": {
             "outlinewidth": 0,
             "ticks": ""
            },
            "colorscale": [
             [
              0,
              "#0d0887"
             ],
             [
              0.1111111111111111,
              "#46039f"
             ],
             [
              0.2222222222222222,
              "#7201a8"
             ],
             [
              0.3333333333333333,
              "#9c179e"
             ],
             [
              0.4444444444444444,
              "#bd3786"
             ],
             [
              0.5555555555555556,
              "#d8576b"
             ],
             [
              0.6666666666666666,
              "#ed7953"
             ],
             [
              0.7777777777777778,
              "#fb9f3a"
             ],
             [
              0.8888888888888888,
              "#fdca26"
             ],
             [
              1,
              "#f0f921"
             ]
            ],
            "type": "heatmap"
           }
          ],
          "histogram": [
           {
            "marker": {
             "pattern": {
              "fillmode": "overlay",
              "size": 10,
              "solidity": 0.2
             }
            },
            "type": "histogram"
           }
          ],
          "histogram2d": [
           {
            "colorbar": {
             "outlinewidth": 0,
             "ticks": ""
            },
            "colorscale": [
             [
              0,
              "#0d0887"
             ],
             [
              0.1111111111111111,
              "#46039f"
             ],
             [
              0.2222222222222222,
              "#7201a8"
             ],
             [
              0.3333333333333333,
              "#9c179e"
             ],
             [
              0.4444444444444444,
              "#bd3786"
             ],
             [
              0.5555555555555556,
              "#d8576b"
             ],
             [
              0.6666666666666666,
              "#ed7953"
             ],
             [
              0.7777777777777778,
              "#fb9f3a"
             ],
             [
              0.8888888888888888,
              "#fdca26"
             ],
             [
              1,
              "#f0f921"
             ]
            ],
            "type": "histogram2d"
           }
          ],
          "histogram2dcontour": [
           {
            "colorbar": {
             "outlinewidth": 0,
             "ticks": ""
            },
            "colorscale": [
             [
              0,
              "#0d0887"
             ],
             [
              0.1111111111111111,
              "#46039f"
             ],
             [
              0.2222222222222222,
              "#7201a8"
             ],
             [
              0.3333333333333333,
              "#9c179e"
             ],
             [
              0.4444444444444444,
              "#bd3786"
             ],
             [
              0.5555555555555556,
              "#d8576b"
             ],
             [
              0.6666666666666666,
              "#ed7953"
             ],
             [
              0.7777777777777778,
              "#fb9f3a"
             ],
             [
              0.8888888888888888,
              "#fdca26"
             ],
             [
              1,
              "#f0f921"
             ]
            ],
            "type": "histogram2dcontour"
           }
          ],
          "mesh3d": [
           {
            "colorbar": {
             "outlinewidth": 0,
             "ticks": ""
            },
            "type": "mesh3d"
           }
          ],
          "parcoords": [
           {
            "line": {
             "colorbar": {
              "outlinewidth": 0,
              "ticks": ""
             }
            },
            "type": "parcoords"
           }
          ],
          "pie": [
           {
            "automargin": true,
            "type": "pie"
           }
          ],
          "scatter": [
           {
            "fillpattern": {
             "fillmode": "overlay",
             "size": 10,
             "solidity": 0.2
            },
            "type": "scatter"
           }
          ],
          "scatter3d": [
           {
            "line": {
             "colorbar": {
              "outlinewidth": 0,
              "ticks": ""
             }
            },
            "marker": {
             "colorbar": {
              "outlinewidth": 0,
              "ticks": ""
             }
            },
            "type": "scatter3d"
           }
          ],
          "scattercarpet": [
           {
            "marker": {
             "colorbar": {
              "outlinewidth": 0,
              "ticks": ""
             }
            },
            "type": "scattercarpet"
           }
          ],
          "scattergeo": [
           {
            "marker": {
             "colorbar": {
              "outlinewidth": 0,
              "ticks": ""
             }
            },
            "type": "scattergeo"
           }
          ],
          "scattergl": [
           {
            "marker": {
             "colorbar": {
              "outlinewidth": 0,
              "ticks": ""
             }
            },
            "type": "scattergl"
           }
          ],
          "scattermap": [
           {
            "marker": {
             "colorbar": {
              "outlinewidth": 0,
              "ticks": ""
             }
            },
            "type": "scattermap"
           }
          ],
          "scattermapbox": [
           {
            "marker": {
             "colorbar": {
              "outlinewidth": 0,
              "ticks": ""
             }
            },
            "type": "scattermapbox"
           }
          ],
          "scatterpolar": [
           {
            "marker": {
             "colorbar": {
              "outlinewidth": 0,
              "ticks": ""
             }
            },
            "type": "scatterpolar"
           }
          ],
          "scatterpolargl": [
           {
            "marker": {
             "colorbar": {
              "outlinewidth": 0,
              "ticks": ""
             }
            },
            "type": "scatterpolargl"
           }
          ],
          "scatterternary": [
           {
            "marker": {
             "colorbar": {
              "outlinewidth": 0,
              "ticks": ""
             }
            },
            "type": "scatterternary"
           }
          ],
          "surface": [
           {
            "colorbar": {
             "outlinewidth": 0,
             "ticks": ""
            },
            "colorscale": [
             [
              0,
              "#0d0887"
             ],
             [
              0.1111111111111111,
              "#46039f"
             ],
             [
              0.2222222222222222,
              "#7201a8"
             ],
             [
              0.3333333333333333,
              "#9c179e"
             ],
             [
              0.4444444444444444,
              "#bd3786"
             ],
             [
              0.5555555555555556,
              "#d8576b"
             ],
             [
              0.6666666666666666,
              "#ed7953"
             ],
             [
              0.7777777777777778,
              "#fb9f3a"
             ],
             [
              0.8888888888888888,
              "#fdca26"
             ],
             [
              1,
              "#f0f921"
             ]
            ],
            "type": "surface"
           }
          ],
          "table": [
           {
            "cells": {
             "fill": {
              "color": "#EBF0F8"
             },
             "line": {
              "color": "white"
             }
            },
            "header": {
             "fill": {
              "color": "#C8D4E3"
             },
             "line": {
              "color": "white"
             }
            },
            "type": "table"
           }
          ]
         },
         "layout": {
          "annotationdefaults": {
           "arrowcolor": "#2a3f5f",
           "arrowhead": 0,
           "arrowwidth": 1
          },
          "autotypenumbers": "strict",
          "coloraxis": {
           "colorbar": {
            "outlinewidth": 0,
            "ticks": ""
           }
          },
          "colorscale": {
           "diverging": [
            [
             0,
             "#8e0152"
            ],
            [
             0.1,
             "#c51b7d"
            ],
            [
             0.2,
             "#de77ae"
            ],
            [
             0.3,
             "#f1b6da"
            ],
            [
             0.4,
             "#fde0ef"
            ],
            [
             0.5,
             "#f7f7f7"
            ],
            [
             0.6,
             "#e6f5d0"
            ],
            [
             0.7,
             "#b8e186"
            ],
            [
             0.8,
             "#7fbc41"
            ],
            [
             0.9,
             "#4d9221"
            ],
            [
             1,
             "#276419"
            ]
           ],
           "sequential": [
            [
             0,
             "#0d0887"
            ],
            [
             0.1111111111111111,
             "#46039f"
            ],
            [
             0.2222222222222222,
             "#7201a8"
            ],
            [
             0.3333333333333333,
             "#9c179e"
            ],
            [
             0.4444444444444444,
             "#bd3786"
            ],
            [
             0.5555555555555556,
             "#d8576b"
            ],
            [
             0.6666666666666666,
             "#ed7953"
            ],
            [
             0.7777777777777778,
             "#fb9f3a"
            ],
            [
             0.8888888888888888,
             "#fdca26"
            ],
            [
             1,
             "#f0f921"
            ]
           ],
           "sequentialminus": [
            [
             0,
             "#0d0887"
            ],
            [
             0.1111111111111111,
             "#46039f"
            ],
            [
             0.2222222222222222,
             "#7201a8"
            ],
            [
             0.3333333333333333,
             "#9c179e"
            ],
            [
             0.4444444444444444,
             "#bd3786"
            ],
            [
             0.5555555555555556,
             "#d8576b"
            ],
            [
             0.6666666666666666,
             "#ed7953"
            ],
            [
             0.7777777777777778,
             "#fb9f3a"
            ],
            [
             0.8888888888888888,
             "#fdca26"
            ],
            [
             1,
             "#f0f921"
            ]
           ]
          },
          "colorway": [
           "#636efa",
           "#EF553B",
           "#00cc96",
           "#ab63fa",
           "#FFA15A",
           "#19d3f3",
           "#FF6692",
           "#B6E880",
           "#FF97FF",
           "#FECB52"
          ],
          "font": {
           "color": "#2a3f5f"
          },
          "geo": {
           "bgcolor": "white",
           "lakecolor": "white",
           "landcolor": "#E5ECF6",
           "showlakes": true,
           "showland": true,
           "subunitcolor": "white"
          },
          "hoverlabel": {
           "align": "left"
          },
          "hovermode": "closest",
          "mapbox": {
           "style": "light"
          },
          "paper_bgcolor": "white",
          "plot_bgcolor": "#E5ECF6",
          "polar": {
           "angularaxis": {
            "gridcolor": "white",
            "linecolor": "white",
            "ticks": ""
           },
           "bgcolor": "#E5ECF6",
           "radialaxis": {
            "gridcolor": "white",
            "linecolor": "white",
            "ticks": ""
           }
          },
          "scene": {
           "xaxis": {
            "backgroundcolor": "#E5ECF6",
            "gridcolor": "white",
            "gridwidth": 2,
            "linecolor": "white",
            "showbackground": true,
            "ticks": "",
            "zerolinecolor": "white"
           },
           "yaxis": {
            "backgroundcolor": "#E5ECF6",
            "gridcolor": "white",
            "gridwidth": 2,
            "linecolor": "white",
            "showbackground": true,
            "ticks": "",
            "zerolinecolor": "white"
           },
           "zaxis": {
            "backgroundcolor": "#E5ECF6",
            "gridcolor": "white",
            "gridwidth": 2,
            "linecolor": "white",
            "showbackground": true,
            "ticks": "",
            "zerolinecolor": "white"
           }
          },
          "shapedefaults": {
           "line": {
            "color": "#2a3f5f"
           }
          },
          "ternary": {
           "aaxis": {
            "gridcolor": "white",
            "linecolor": "white",
            "ticks": ""
           },
           "baxis": {
            "gridcolor": "white",
            "linecolor": "white",
            "ticks": ""
           },
           "bgcolor": "#E5ECF6",
           "caxis": {
            "gridcolor": "white",
            "linecolor": "white",
            "ticks": ""
           }
          },
          "title": {
           "x": 0.05
          },
          "xaxis": {
           "automargin": true,
           "gridcolor": "white",
           "linecolor": "white",
           "ticks": "",
           "title": {
            "standoff": 15
           },
           "zerolinecolor": "white",
           "zerolinewidth": 2
          },
          "yaxis": {
           "automargin": true,
           "gridcolor": "white",
           "linecolor": "white",
           "ticks": "",
           "title": {
            "standoff": 15
           },
           "zerolinecolor": "white",
           "zerolinewidth": 2
          }
         }
        },
        "title": {
         "text": "Распределение астероидов по расстоянию промаха и скорости"
        },
        "xaxis": {
         "title": {
          "text": "Расстояние промаха от земли (miss_distance)"
         }
        },
        "yaxis": {
         "title": {
          "text": "Относительная скорость (relative_velocity)"
         }
        }
       }
      }
     },
     "metadata": {},
     "output_type": "display_data"
    }
   ],
   "source": [
    "plot_miss_distance_vs_velocity(X_test, y_test, y_pred_best_knn)"
   ]
  },
  {
   "cell_type": "markdown",
   "metadata": {},
   "source": [
    "##### Выводы\n",
    "\n",
    "- Опасность астероидов повышается при небольшом расстоянии промаха и высокой скорости\n",
    "- Модель использует эту зависимость, выбирая соседей по данным характеристикам, и в основном верно классифицирует объект"
   ]
  },
  {
   "cell_type": "markdown",
   "metadata": {},
   "source": [
    "#### График распределения астроидов по звёздной величине и скорости"
   ]
  },
  {
   "cell_type": "code",
   "execution_count": 157,
   "metadata": {},
   "outputs": [
    {
     "data": {
      "application/vnd.plotly.v1+json": {
       "config": {
        "plotlyServerURL": "https://plot.ly"
       },
       "data": [
        {
         "marker": {
          "color": "#2ca02c",
          "opacity": 0.7,
          "symbol": "circle"
         },
         "mode": "markers",
         "name": "TP (Опасный - Опасный)",
         "type": "scatter",
         "x": {
          "bdata": "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",
          "dtype": "f8"
         },
         "y": {
          "bdata": "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",
          "dtype": "f8"
         }
        },
        {
         "marker": {
          "color": "#1f77b4",
          "opacity": 0.7,
          "symbol": "circle"
         },
         "mode": "markers",
         "name": "TN (Безопасный - Безопасный)",
         "type": "scatter",
         "x": {
          "bdata": "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",
          "dtype": "f8"
         },
         "y": {
          "bdata": "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",
          "dtype": "f8"
         }
        },
        {
         "marker": {
          "color": "#ff7f0e",
          "opacity": 0.7,
          "symbol": "x"
         },
         "mode": "markers",
         "name": "FP (Ложная тревога)",
         "type": "scatter",
         "x": {
          "bdata": "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",
          "dtype": "f8"
         },
         "y": {
          "bdata": "qSXmSJg9wT9bMoYf/SLiP/5TAvPPqck/MZ4Orhju4D830JiB7Yr5v8p3+lMZONC/UDS4MhE97D9EZFKOuksDQEdknTulkvE/48eKxQeK1L+gOfpaA7Gxv1dxNman8KS/87sBDlFwrj/MMGj/W/brv2OeB6dZj96/6pJY5ijC4r9Nf7ctkp/wPznpv4ga/K6/Tuh2DRes4b98DCeCl4wIQMrwjsCti+W/D7u97r0D+z9w/bSEHqn7vz8RdoDAGNG/jKffaDSb3r+aN6kQs13Lv4/+LzsYHgpAESPiz+Ll1z8yS33SZ5vSv1dBn8xwfwBAwGDT2dnA4L998b4x7crkvxNnO095CvC/5xkEcrIJ2L/qjbBHVx3XP5vmCVgNxeI/JzigfceQuL9rwYgJEi/xv6NiRr3Q+ea/pwX9Io+jl78tx6C9BWQBQBHzj0n+hgJASh7BdPvK579p5Ph4L7vyvx+VGAPPDeG/msAF6Vmu6z+Ue6e4f1/mv5+FZ3FxdfC/kSzSDTmG/T/QJd1ktxjkPx+VGAPPDeG/xvpc3qga9T9BJHYJvs3Dv7PfmucJaby/zmekFBFNsL9QQ56stQDTvwMp+LZnoN0/fTMW7Qke979fBcFOugWwv2XR4YFtS/A/o2JGvdD55r8Xde+p5uT5P8MGGZlIFvY/HwObHbAxxj+v9ABCBHHnPybupkNXOOU/P0aspCM2wD/yKM8+VRrlv+fJXxmbvuS/2TXs2kIs3T9UlOsUzEP1PwHsWNkLSto/KJAzkEmq3j8ZDFSwPp7xv74a01Ex/fs/S9hD0eCZyD+fsRENLoUDQNuLTnptU7g/VcAzTmyY+r/IgnIIF7vtv7qRtVDDz+a/HvyciI8G9T/N+Y38nyPtP3luaRViyN2/m0IybwUazr9JiI6ohgTzP68r9+lDtP0/zKh9uedb4j+b8HgToW74v6He9NnHPvw/Mn6k2R6R578GRYtcSxTnP410VZ1qGdC/v297yOIi9j+aaxJENQjSv5ntgtO/bOu/Lkb0b5QX379RkBnjtaH5v1VDqXn/Icq/oiPf8DzFvr8HUct5ogLYP1NbaxZp5NI/7Tr4SrJWAEC8FKKy7I/Sv7OBr88ShfU/xHANDDYO0r/cPWOijzDzP8Lvc97KF9Y/uGu3VTy9+D8zCAPe6DLsv8nIDPZ5OQJAVjn2MyC0or8sDL2mB+jQv3XtChdNq+W/O1kxvVeB3L+fzahX2KHQP2VoJOLdhvC/oXkZVYnyuj/nV5KgUAb1v+S5JWm/5da/kT6U4b/15j8RTzsc1Bz0P9npAjYTxva/ZsKTdVGx5D992jKOJXj3vxd176nm5Pk/vnsn6bqrpL9Ngudb94EFQBXpbgOAvbU/VIkmEZr7rT+tVTKWZysEQIZ6VoZmi5u/wKq3tOC55z/GDnG7Fqjpv+PWdn1lEf0/554sHzRy2b89LCf5S3D4v+g85OQtcOu/XnXulacywz+yubpkDZj6P3MboP2pegBAHzmhOnWd47+DyvR7/Lrkv6SqQZPKL++/QRjfma9H0L/xbUjEQd/JP2aEkdMFX9S/BBidj7Y58r9XKeC3qankP4nARB4+WPW/DtdrOCaFhj/Ud4/yHlXIv75305zzN9c/v2l/spmu8T8HaVZwTWfrv2pHTuYwjO2/vN2EvPDSyz8Pjc2M+hPkv2XjPOSODP0/QWUKFspc8j/kWfbcaqEGQPcifPuQmua/it2i/zpXxb/NcUv6l0bkv1GlUASbm7C/3KQm/+YO3T9mYwM2jtgBQCV5TyTJdtS/kAw3i6rJAkB57ga+ya6iv9PIjPnwzeQ/N0D8AHxozb9xKuM4H2yRvzE1I88sMvs/vt46lllexr8l1XF+oYPxPwI36dnBXeu/DB0F6RrQ6j/IVGLRCrPxP/mExZFxsMQ/eSYvkPp49j+t9rNTZkDtv4z6Q4Dr/PC/YlpeOnIL1L/pNXfOLErwv69mp75n4PE/vJUK+TNFwr8rfMTrf17Vv/mHjpjopJ2/3+HusnX/079xUATDcRD5P4lygTnmpNy/z2i9RzMJ478pOTn25/Ppv8wRzp5DV/U/O9QJHiTC2r/OZ6QUEU2wv82ZscygLPe/jFbL2bL9/D9a+tcuNa67vyUT4uWBCPC/0nKw2BnsyL+J3fLIp07iv/J1ZQCxyqY/N9U/feS1xT+6q+awOWX3v0dehj9veOo/e9KZrzKoyD9EfpBJL+7kv4kZv8HdJNO/5wNN2HNJpz8+Xv4mAFXfv2aWAgbMfrI/Pn5qFrNt8T8vOmjjyE7dv37lsOf4Bri/TnL3FQ7g+z8XfZeXKxeyPwCxrLpDPQNALHD+ZJaJAUA5NkYYVwzpv3aumkCXlt+/AbJsMiu/6D8c/dEziFoCQCaa9r1XCdM/CYSQOY011z/3/tq+HTvoP8+srKTCmeO/pY43Gmsskz/P8Gtl+5Dwvy16Cz/YBe8/fDOB2V4R17/1ox43wq6Bv66LwM8tFfA/S1MMTF9E0j+bE8iyoHLYv0X33S6uNvY/TRvqKb4j0r9tcz46bQbbP7WBO5epcvE/VtDjNJKVwT+H6U8UY6LYv4Aq68Ea2em/x8ca2UW15T+UhJHRmUaxv2zha/qOCdq/DnoRwNTBwz+pBkRlNArTP2Z/0U8lrfe/s5z1SYaW1z8WLzym9n3wvw2GHZEZXeg/FGb6CNMyx7/P1ghK4ZrDP8tODsx6S/w/kT6U4b/15j9PviR2BWLlP03Y1JVKHvA/cfR7IoCO8D/kKDMoNMDkPyLv6Zg85gVAgDWyUCx6xb98sUeTCqfdvwN0bDngePc/Lw1hTIVe+j80kP3lxvv0v6LeUZfRPvM/XS0N8ak/0r/sLxlYL4YAQGB+4TU4Ee4/1POHtlhu5b/84EKZDRvZv6sIy2Iw8OG/Cea8HPrz2D/0Dbq3Zp+UP+A4yMI/eN0/U7JJO5gNx7+W4rhFgHvkv0S29Y4wyvE/svEz96Q58D9B7zBpFnX1P+Yo52xshQBAy6tbfKJkpL9qMNd0zLfev+31dfhvpui/MzR/nHey6j/BcszdIysBQOPHisUHitS/7Pjrdb7Qk78s/gIBHKrgP63dUYeoAtk/tzGSlu4917+TL7JPAT/hvxtj6nJINre/o9CCAMM8xj/jYhO3Pa/kP41VKGnJZeM/KpBQqd/ns7/26PNbWRHrPyJijGo2/eQ/j4kdexzz4b8EJleddeVwv2HsgA51M+U/EXOxAbIv8z9+gB3DpJDLP4olj1XzysC/qx3NU3PV3r8zTX/XTtfyv2nS45a0acO/5frtvvCH4z9cd54WtLeVPysFwdqssvC/GPY+WAsjvL+8MAN7u76jPwxSvedz2bW/eMz1ez7Xtz9KNQ2niRzvP8KsecHWCrY/dEwW41skzL9NvnwKzprov5IiTId+pOC/ytGa1R5yuT/m0cF5aSj4P+vuRUEIwt+/GPY+WAsjvL/ZYxjFScnpP3t62ZCPJfa//4kzw7hjwz+S/FxxdEH4P+AADfWns+2/39snNIjd279ZtPFHxpXrP74pmd11usI/0XDwthbm779g3b6SbP/+P+870Wjv+PG/vLMm+JMlvz+54l+MOnHVv9Wqh3PTeuM/dwNug4P48L9VWznI9U4HQFDJXst7U+g/KDnHVNov7D9YUEMCtSrzP6Ykrs0799a/3cGwXSgL6b/D35Gjd2L1v+D7leRc8Ki/yVM3L/nL3L/Ou81alFnQP+D7leRc8Ki/rCvh3q2o8z9VfsV0UrDiPzEsmDayIZi/Cb1stVBf0j/TyIz58M3kP/UrJ+GBOPW/eNoYm3yv479hWDC5y6bjv7yLklC/4K8/hr3Haxqnmj+AOdJEVE8FQDLhbrBcl+0/uXKmAsSXAEBRm+GvNb3Zv0guyNdafO4/X4eYK3pxoz9Eqfc+XJPWvyuoE8eQXLe/BCZXnXXlcL/Wl7Hae6fxv9PjJ/Dn2eM/T9JoKVxHuL8qkQ98VSPyvx1DM/SFdP8/JDhkqwvL8T+BpXsNyR7+Pxrx3h+kc/C/dLCqj+pc+z8=",
          "dtype": "f8"
         }
        },
        {
         "marker": {
          "color": "#d62728",
          "opacity": 0.7,
          "symbol": "x"
         },
         "mode": "markers",
         "name": "FN (Пропущенная угроза!)",
         "type": "scatter",
         "x": {
          "bdata": "Obu3LPfswb9aVMvYfSngv2C8Btv4eum/Y1rWYTnzzL8A0HaleEbJv7HurfDlLMe/ANB2pXhGyb/fUS3kQobivw6KX8ULyds/276kzzMe579jWtZhOfPMvw==",
          "dtype": "f8"
         },
         "y": {
          "bdata": "mAnAofdW3D9TvNWLQpD5vz9aTxgnFfu/ZBRywu8pyz/BxMKneSLsPxJKwLQMPfE/75TVyi9K6L9RATgEQ475v6vhW1JuSfK/SFZ7p+As+L+hi5KmyrnkPw==",
          "dtype": "f8"
         }
        }
       ],
       "layout": {
        "legend": {
         "title": {
          "text": "Категории"
         }
        },
        "template": {
         "data": {
          "bar": [
           {
            "error_x": {
             "color": "#2a3f5f"
            },
            "error_y": {
             "color": "#2a3f5f"
            },
            "marker": {
             "line": {
              "color": "#E5ECF6",
              "width": 0.5
             },
             "pattern": {
              "fillmode": "overlay",
              "size": 10,
              "solidity": 0.2
             }
            },
            "type": "bar"
           }
          ],
          "barpolar": [
           {
            "marker": {
             "line": {
              "color": "#E5ECF6",
              "width": 0.5
             },
             "pattern": {
              "fillmode": "overlay",
              "size": 10,
              "solidity": 0.2
             }
            },
            "type": "barpolar"
           }
          ],
          "carpet": [
           {
            "aaxis": {
             "endlinecolor": "#2a3f5f",
             "gridcolor": "white",
             "linecolor": "white",
             "minorgridcolor": "white",
             "startlinecolor": "#2a3f5f"
            },
            "baxis": {
             "endlinecolor": "#2a3f5f",
             "gridcolor": "white",
             "linecolor": "white",
             "minorgridcolor": "white",
             "startlinecolor": "#2a3f5f"
            },
            "type": "carpet"
           }
          ],
          "choropleth": [
           {
            "colorbar": {
             "outlinewidth": 0,
             "ticks": ""
            },
            "type": "choropleth"
           }
          ],
          "contour": [
           {
            "colorbar": {
             "outlinewidth": 0,
             "ticks": ""
            },
            "colorscale": [
             [
              0,
              "#0d0887"
             ],
             [
              0.1111111111111111,
              "#46039f"
             ],
             [
              0.2222222222222222,
              "#7201a8"
             ],
             [
              0.3333333333333333,
              "#9c179e"
             ],
             [
              0.4444444444444444,
              "#bd3786"
             ],
             [
              0.5555555555555556,
              "#d8576b"
             ],
             [
              0.6666666666666666,
              "#ed7953"
             ],
             [
              0.7777777777777778,
              "#fb9f3a"
             ],
             [
              0.8888888888888888,
              "#fdca26"
             ],
             [
              1,
              "#f0f921"
             ]
            ],
            "type": "contour"
           }
          ],
          "contourcarpet": [
           {
            "colorbar": {
             "outlinewidth": 0,
             "ticks": ""
            },
            "type": "contourcarpet"
           }
          ],
          "heatmap": [
           {
            "colorbar": {
             "outlinewidth": 0,
             "ticks": ""
            },
            "colorscale": [
             [
              0,
              "#0d0887"
             ],
             [
              0.1111111111111111,
              "#46039f"
             ],
             [
              0.2222222222222222,
              "#7201a8"
             ],
             [
              0.3333333333333333,
              "#9c179e"
             ],
             [
              0.4444444444444444,
              "#bd3786"
             ],
             [
              0.5555555555555556,
              "#d8576b"
             ],
             [
              0.6666666666666666,
              "#ed7953"
             ],
             [
              0.7777777777777778,
              "#fb9f3a"
             ],
             [
              0.8888888888888888,
              "#fdca26"
             ],
             [
              1,
              "#f0f921"
             ]
            ],
            "type": "heatmap"
           }
          ],
          "histogram": [
           {
            "marker": {
             "pattern": {
              "fillmode": "overlay",
              "size": 10,
              "solidity": 0.2
             }
            },
            "type": "histogram"
           }
          ],
          "histogram2d": [
           {
            "colorbar": {
             "outlinewidth": 0,
             "ticks": ""
            },
            "colorscale": [
             [
              0,
              "#0d0887"
             ],
             [
              0.1111111111111111,
              "#46039f"
             ],
             [
              0.2222222222222222,
              "#7201a8"
             ],
             [
              0.3333333333333333,
              "#9c179e"
             ],
             [
              0.4444444444444444,
              "#bd3786"
             ],
             [
              0.5555555555555556,
              "#d8576b"
             ],
             [
              0.6666666666666666,
              "#ed7953"
             ],
             [
              0.7777777777777778,
              "#fb9f3a"
             ],
             [
              0.8888888888888888,
              "#fdca26"
             ],
             [
              1,
              "#f0f921"
             ]
            ],
            "type": "histogram2d"
           }
          ],
          "histogram2dcontour": [
           {
            "colorbar": {
             "outlinewidth": 0,
             "ticks": ""
            },
            "colorscale": [
             [
              0,
              "#0d0887"
             ],
             [
              0.1111111111111111,
              "#46039f"
             ],
             [
              0.2222222222222222,
              "#7201a8"
             ],
             [
              0.3333333333333333,
              "#9c179e"
             ],
             [
              0.4444444444444444,
              "#bd3786"
             ],
             [
              0.5555555555555556,
              "#d8576b"
             ],
             [
              0.6666666666666666,
              "#ed7953"
             ],
             [
              0.7777777777777778,
              "#fb9f3a"
             ],
             [
              0.8888888888888888,
              "#fdca26"
             ],
             [
              1,
              "#f0f921"
             ]
            ],
            "type": "histogram2dcontour"
           }
          ],
          "mesh3d": [
           {
            "colorbar": {
             "outlinewidth": 0,
             "ticks": ""
            },
            "type": "mesh3d"
           }
          ],
          "parcoords": [
           {
            "line": {
             "colorbar": {
              "outlinewidth": 0,
              "ticks": ""
             }
            },
            "type": "parcoords"
           }
          ],
          "pie": [
           {
            "automargin": true,
            "type": "pie"
           }
          ],
          "scatter": [
           {
            "fillpattern": {
             "fillmode": "overlay",
             "size": 10,
             "solidity": 0.2
            },
            "type": "scatter"
           }
          ],
          "scatter3d": [
           {
            "line": {
             "colorbar": {
              "outlinewidth": 0,
              "ticks": ""
             }
            },
            "marker": {
             "colorbar": {
              "outlinewidth": 0,
              "ticks": ""
             }
            },
            "type": "scatter3d"
           }
          ],
          "scattercarpet": [
           {
            "marker": {
             "colorbar": {
              "outlinewidth": 0,
              "ticks": ""
             }
            },
            "type": "scattercarpet"
           }
          ],
          "scattergeo": [
           {
            "marker": {
             "colorbar": {
              "outlinewidth": 0,
              "ticks": ""
             }
            },
            "type": "scattergeo"
           }
          ],
          "scattergl": [
           {
            "marker": {
             "colorbar": {
              "outlinewidth": 0,
              "ticks": ""
             }
            },
            "type": "scattergl"
           }
          ],
          "scattermap": [
           {
            "marker": {
             "colorbar": {
              "outlinewidth": 0,
              "ticks": ""
             }
            },
            "type": "scattermap"
           }
          ],
          "scattermapbox": [
           {
            "marker": {
             "colorbar": {
              "outlinewidth": 0,
              "ticks": ""
             }
            },
            "type": "scattermapbox"
           }
          ],
          "scatterpolar": [
           {
            "marker": {
             "colorbar": {
              "outlinewidth": 0,
              "ticks": ""
             }
            },
            "type": "scatterpolar"
           }
          ],
          "scatterpolargl": [
           {
            "marker": {
             "colorbar": {
              "outlinewidth": 0,
              "ticks": ""
             }
            },
            "type": "scatterpolargl"
           }
          ],
          "scatterternary": [
           {
            "marker": {
             "colorbar": {
              "outlinewidth": 0,
              "ticks": ""
             }
            },
            "type": "scatterternary"
           }
          ],
          "surface": [
           {
            "colorbar": {
             "outlinewidth": 0,
             "ticks": ""
            },
            "colorscale": [
             [
              0,
              "#0d0887"
             ],
             [
              0.1111111111111111,
              "#46039f"
             ],
             [
              0.2222222222222222,
              "#7201a8"
             ],
             [
              0.3333333333333333,
              "#9c179e"
             ],
             [
              0.4444444444444444,
              "#bd3786"
             ],
             [
              0.5555555555555556,
              "#d8576b"
             ],
             [
              0.6666666666666666,
              "#ed7953"
             ],
             [
              0.7777777777777778,
              "#fb9f3a"
             ],
             [
              0.8888888888888888,
              "#fdca26"
             ],
             [
              1,
              "#f0f921"
             ]
            ],
            "type": "surface"
           }
          ],
          "table": [
           {
            "cells": {
             "fill": {
              "color": "#EBF0F8"
             },
             "line": {
              "color": "white"
             }
            },
            "header": {
             "fill": {
              "color": "#C8D4E3"
             },
             "line": {
              "color": "white"
             }
            },
            "type": "table"
           }
          ]
         },
         "layout": {
          "annotationdefaults": {
           "arrowcolor": "#2a3f5f",
           "arrowhead": 0,
           "arrowwidth": 1
          },
          "autotypenumbers": "strict",
          "coloraxis": {
           "colorbar": {
            "outlinewidth": 0,
            "ticks": ""
           }
          },
          "colorscale": {
           "diverging": [
            [
             0,
             "#8e0152"
            ],
            [
             0.1,
             "#c51b7d"
            ],
            [
             0.2,
             "#de77ae"
            ],
            [
             0.3,
             "#f1b6da"
            ],
            [
             0.4,
             "#fde0ef"
            ],
            [
             0.5,
             "#f7f7f7"
            ],
            [
             0.6,
             "#e6f5d0"
            ],
            [
             0.7,
             "#b8e186"
            ],
            [
             0.8,
             "#7fbc41"
            ],
            [
             0.9,
             "#4d9221"
            ],
            [
             1,
             "#276419"
            ]
           ],
           "sequential": [
            [
             0,
             "#0d0887"
            ],
            [
             0.1111111111111111,
             "#46039f"
            ],
            [
             0.2222222222222222,
             "#7201a8"
            ],
            [
             0.3333333333333333,
             "#9c179e"
            ],
            [
             0.4444444444444444,
             "#bd3786"
            ],
            [
             0.5555555555555556,
             "#d8576b"
            ],
            [
             0.6666666666666666,
             "#ed7953"
            ],
            [
             0.7777777777777778,
             "#fb9f3a"
            ],
            [
             0.8888888888888888,
             "#fdca26"
            ],
            [
             1,
             "#f0f921"
            ]
           ],
           "sequentialminus": [
            [
             0,
             "#0d0887"
            ],
            [
             0.1111111111111111,
             "#46039f"
            ],
            [
             0.2222222222222222,
             "#7201a8"
            ],
            [
             0.3333333333333333,
             "#9c179e"
            ],
            [
             0.4444444444444444,
             "#bd3786"
            ],
            [
             0.5555555555555556,
             "#d8576b"
            ],
            [
             0.6666666666666666,
             "#ed7953"
            ],
            [
             0.7777777777777778,
             "#fb9f3a"
            ],
            [
             0.8888888888888888,
             "#fdca26"
            ],
            [
             1,
             "#f0f921"
            ]
           ]
          },
          "colorway": [
           "#636efa",
           "#EF553B",
           "#00cc96",
           "#ab63fa",
           "#FFA15A",
           "#19d3f3",
           "#FF6692",
           "#B6E880",
           "#FF97FF",
           "#FECB52"
          ],
          "font": {
           "color": "#2a3f5f"
          },
          "geo": {
           "bgcolor": "white",
           "lakecolor": "white",
           "landcolor": "#E5ECF6",
           "showlakes": true,
           "showland": true,
           "subunitcolor": "white"
          },
          "hoverlabel": {
           "align": "left"
          },
          "hovermode": "closest",
          "mapbox": {
           "style": "light"
          },
          "paper_bgcolor": "white",
          "plot_bgcolor": "#E5ECF6",
          "polar": {
           "angularaxis": {
            "gridcolor": "white",
            "linecolor": "white",
            "ticks": ""
           },
           "bgcolor": "#E5ECF6",
           "radialaxis": {
            "gridcolor": "white",
            "linecolor": "white",
            "ticks": ""
           }
          },
          "scene": {
           "xaxis": {
            "backgroundcolor": "#E5ECF6",
            "gridcolor": "white",
            "gridwidth": 2,
            "linecolor": "white",
            "showbackground": true,
            "ticks": "",
            "zerolinecolor": "white"
           },
           "yaxis": {
            "backgroundcolor": "#E5ECF6",
            "gridcolor": "white",
            "gridwidth": 2,
            "linecolor": "white",
            "showbackground": true,
            "ticks": "",
            "zerolinecolor": "white"
           },
           "zaxis": {
            "backgroundcolor": "#E5ECF6",
            "gridcolor": "white",
            "gridwidth": 2,
            "linecolor": "white",
            "showbackground": true,
            "ticks": "",
            "zerolinecolor": "white"
           }
          },
          "shapedefaults": {
           "line": {
            "color": "#2a3f5f"
           }
          },
          "ternary": {
           "aaxis": {
            "gridcolor": "white",
            "linecolor": "white",
            "ticks": ""
           },
           "baxis": {
            "gridcolor": "white",
            "linecolor": "white",
            "ticks": ""
           },
           "bgcolor": "#E5ECF6",
           "caxis": {
            "gridcolor": "white",
            "linecolor": "white",
            "ticks": ""
           }
          },
          "title": {
           "x": 0.05
          },
          "xaxis": {
           "automargin": true,
           "gridcolor": "white",
           "linecolor": "white",
           "ticks": "",
           "title": {
            "standoff": 15
           },
           "zerolinecolor": "white",
           "zerolinewidth": 2
          },
          "yaxis": {
           "automargin": true,
           "gridcolor": "white",
           "linecolor": "white",
           "ticks": "",
           "title": {
            "standoff": 15
           },
           "zerolinecolor": "white",
           "zerolinewidth": 2
          }
         }
        },
        "title": {
         "text": "Зависимость классификации от absolute_magnitude и relative_velocity"
        },
        "xaxis": {
         "title": {
          "text": "absolute_magnitude"
         }
        },
        "yaxis": {
         "title": {
          "text": "relative_velocity"
         }
        }
       }
      }
     },
     "metadata": {},
     "output_type": "display_data"
    }
   ],
   "source": [
    "plot_magnitude_vs_velocity(X_test, y_test, y_pred_best_knn)"
   ]
  },
  {
   "cell_type": "markdown",
   "metadata": {},
   "source": [
    "**KNN КЛАССИФИКАТОР**"
   ]
  },
  {
   "cell_type": "code",
   "execution_count": 158,
   "metadata": {},
   "outputs": [],
   "source": [
    "from ml_library.models import KNearestNeighbors"
   ]
  },
  {
   "cell_type": "code",
   "execution_count": 159,
   "metadata": {},
   "outputs": [],
   "source": [
    "knn = KNearestNeighbors()\n",
    "knn.fit(X_train, y_train)"
   ]
  },
  {
   "cell_type": "code",
   "execution_count": 160,
   "metadata": {},
   "outputs": [],
   "source": [
    "predict_knn = knn.predict(X_test)"
   ]
  },
  {
   "cell_type": "code",
   "execution_count": 161,
   "metadata": {},
   "outputs": [
    {
     "name": "stdout",
     "output_type": "stream",
     "text": [
      "                 Метрики качества\n",
      "accuracy_score             0.8878\n",
      "precision_score            0.8366\n",
      "recall_score               0.9602\n",
      "f1_score                   0.8942\n",
      "Confusion Matrix (Rows: Predicted, Columns: True):\n",
      "------------------\n",
      "              Class 0     Class 1\n",
      "-----------------------------------\n",
      "Predicted  Class 0  |   1665      372 |\n",
      "Predicted  Class 1  |     79     1905 |\n",
      "-----------------------------------\n"
     ]
    }
   ],
   "source": [
    "custom_classifier_metrics(y_test, predict_knn)"
   ]
  },
  {
   "cell_type": "markdown",
   "metadata": {},
   "source": [
    "##### Выводы\n",
    "\n",
    "- Модель имеет хорошую оценку предсказывания \n",
    "- Модель хорошо классифицирует опасные астероиды, о чём говорит метрика ```recall_score``` = **0.96**\n"
   ]
  },
  {
   "cell_type": "markdown",
   "metadata": {},
   "source": [
    "## <span style= \"color:rgb(192, 35, 98)\">Выводы по лабораторной работе №3"
   ]
  },
  {
   "cell_type": "markdown",
   "metadata": {},
   "source": [
    "- Оценивая метрики всех классификаторов, можно выделить несколько моделей, которые лучше справились с задачей:\n",
    "    - <span style = \"color:rgb(117, 191, 234)\"> SVC </span> / <span style = \"color: rgb(253, 149, 122)\"> Poly </span>\n",
    "    -  <span style = \"color:rgb(154, 198, 242)\">KNN </span>\n",
    "\n",
    "Модели достаточно точно классифицируют, и имеют высокий показатель метрики _Recall_, что особенно важно для оценки определения как можно большего числа опасных для Земли астероидов."
   ]
  }
 ],
 "metadata": {
  "kernelspec": {
   "display_name": "Python 3",
   "language": "python",
   "name": "python3"
  },
  "language_info": {
   "codemirror_mode": {
    "name": "ipython",
    "version": 3
   },
   "file_extension": ".py",
   "mimetype": "text/x-python",
   "name": "python",
   "nbconvert_exporter": "python",
   "pygments_lexer": "ipython3",
   "version": "3.13.2"
  }
 },
 "nbformat": 4,
 "nbformat_minor": 2
}
