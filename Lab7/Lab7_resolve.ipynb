{
 "cells": [
  {
   "cell_type": "markdown",
   "id": "bd98b40b",
   "metadata": {},
   "source": [
    "## Лабораторная работа №7"
   ]
  },
  {
   "cell_type": "code",
   "execution_count": 60,
   "id": "b04b7a6e",
   "metadata": {},
   "outputs": [],
   "source": [
    "import pandas as pd\n",
    "import joblib\n",
    "from ml_library.k_fold import k_fold"
   ]
  },
  {
   "cell_type": "code",
   "execution_count": 2,
   "id": "f56643b7",
   "metadata": {},
   "outputs": [],
   "source": [
    "\n",
    "import warnings\n",
    "warnings.filterwarnings('ignore')\n"
   ]
  },
  {
   "cell_type": "code",
   "execution_count": 65,
   "id": "a494aff6",
   "metadata": {},
   "outputs": [],
   "source": [
    "data_regression = pd.read_csv('data_regression_modified.csv')\n",
    "data_class = pd.read_csv('data_class_modified.csv')"
   ]
  },
  {
   "cell_type": "code",
   "execution_count": 68,
   "id": "b595cade",
   "metadata": {},
   "outputs": [],
   "source": [
    "y_reg = data_regression['price']\n",
    "y_class = data_class['danger']\n",
    "X_reg = data_regression.drop(columns=['price', 'Unnamed: 0'])\n",
    "X_class = data_class.drop(columns=['danger', 'Unnamed: 0'])"
   ]
  },
  {
   "cell_type": "code",
   "execution_count": 34,
   "id": "e0b000b7",
   "metadata": {},
   "outputs": [],
   "source": [
    "from sklearn.model_selection import train_test_split\n",
    "from ml_library.metrics import custom_classifier_metrics\n",
    "from ml_library.metrics_regression import print_error"
   ]
  },
  {
   "cell_type": "code",
   "execution_count": 70,
   "id": "1b15fe85",
   "metadata": {},
   "outputs": [],
   "source": [
    "from sklearn.preprocessing import StandardScaler"
   ]
  },
  {
   "cell_type": "code",
   "execution_count": 71,
   "id": "e548b49d",
   "metadata": {},
   "outputs": [],
   "source": [
    "scaler = StandardScaler()\n",
    "X_scaled_reg = scaler.fit_transform(X_reg)\n",
    "X_scaled_class = scaler.fit_transform(X_class)\n",
    "X_scaled_class = pd.DataFrame(X_scaled_class, columns=X_class.columns)\n",
    "X_scaled_reg = pd.DataFrame(X_scaled_reg,columns=X_reg.columns )"
   ]
  },
  {
   "cell_type": "code",
   "execution_count": 72,
   "id": "fbc09834",
   "metadata": {},
   "outputs": [],
   "source": [
    "X_reg_train, X_reg_test, y_reg_train, y_reg_test = train_test_split(X_scaled_reg, y_reg, test_size=0.2)\n",
    "\n",
    "X_class_train, X_class_test, y_class_train, y_class_test= train_test_split(X_scaled_class, y_class, test_size=0.2, stratify=y_class)"
   ]
  },
  {
   "cell_type": "markdown",
   "id": "a0cbcd06",
   "metadata": {},
   "source": [
    "## Использование фреймворка Tensorflow и API Keras для решения задачи <span style= \"color:rgb(187, 223, 150)  \">классификации</span> и <span style=\"color:rgb(154, 193, 240) \">регрессии</span>"
   ]
  },
  {
   "cell_type": "code",
   "execution_count": 38,
   "id": "91d7631b",
   "metadata": {},
   "outputs": [],
   "source": [
    "import tensorflow as tf\n",
    "import numpy as np"
   ]
  },
  {
   "cell_type": "markdown",
   "id": "007397c2",
   "metadata": {},
   "source": [
    "### <span style=\"color:rgb(154, 193, 240) \">Регрессия</span>"
   ]
  },
  {
   "cell_type": "code",
   "execution_count": 73,
   "id": "05e1e2a1",
   "metadata": {},
   "outputs": [],
   "source": [
    "from scikeras.wrappers import KerasRegressor\n",
    "from sklearn.model_selection import cross_val_score, KFold\n"
   ]
  },
  {
   "cell_type": "code",
   "execution_count": 74,
   "id": "7a35dce6",
   "metadata": {},
   "outputs": [],
   "source": [
    "model_regression = tf.keras.Sequential(\n",
    "    [\n",
    "        tf.keras.layers.Dense(64, activation='linear', input_shape= (4,)),\n",
    "\n",
    "        tf.keras.layers.Dense(32, activation='linear'),\n",
    "\n",
    "        tf.keras.layers.Dense(16, activation='linear'),\n",
    "\n",
    "        tf.keras.layers.Dense(1, activation='linear'),\n",
    "    ]\n",
    ")\n",
    "\n",
    "model_regression.compile(optimizer=tf.keras.optimizers.Adam(learning_rate=0.0005), loss='mse')"
   ]
  },
  {
   "cell_type": "code",
   "execution_count": 75,
   "id": "10678a31",
   "metadata": {},
   "outputs": [
    {
     "data": {
      "text/html": [
       "<pre style=\"white-space:pre;overflow-x:auto;line-height:normal;font-family:Menlo,'DejaVu Sans Mono',consolas,'Courier New',monospace\"><span style=\"font-weight: bold\">Model: \"sequential_2\"</span>\n",
       "</pre>\n"
      ],
      "text/plain": [
       "\u001b[1mModel: \"sequential_2\"\u001b[0m\n"
      ]
     },
     "metadata": {},
     "output_type": "display_data"
    },
    {
     "data": {
      "text/html": [
       "<pre style=\"white-space:pre;overflow-x:auto;line-height:normal;font-family:Menlo,'DejaVu Sans Mono',consolas,'Courier New',monospace\">┏━━━━━━━━━━━━━━━━━━━━━━━━━━━━━━━━━┳━━━━━━━━━━━━━━━━━━━━━━━━┳━━━━━━━━━━━━━━━┓\n",
       "┃<span style=\"font-weight: bold\"> Layer (type)                    </span>┃<span style=\"font-weight: bold\"> Output Shape           </span>┃<span style=\"font-weight: bold\">       Param # </span>┃\n",
       "┡━━━━━━━━━━━━━━━━━━━━━━━━━━━━━━━━━╇━━━━━━━━━━━━━━━━━━━━━━━━╇━━━━━━━━━━━━━━━┩\n",
       "│ dense_6 (<span style=\"color: #0087ff; text-decoration-color: #0087ff\">Dense</span>)                 │ (<span style=\"color: #00d7ff; text-decoration-color: #00d7ff\">None</span>, <span style=\"color: #00af00; text-decoration-color: #00af00\">64</span>)             │           <span style=\"color: #00af00; text-decoration-color: #00af00\">320</span> │\n",
       "├─────────────────────────────────┼────────────────────────┼───────────────┤\n",
       "│ dense_7 (<span style=\"color: #0087ff; text-decoration-color: #0087ff\">Dense</span>)                 │ (<span style=\"color: #00d7ff; text-decoration-color: #00d7ff\">None</span>, <span style=\"color: #00af00; text-decoration-color: #00af00\">32</span>)             │         <span style=\"color: #00af00; text-decoration-color: #00af00\">2,080</span> │\n",
       "├─────────────────────────────────┼────────────────────────┼───────────────┤\n",
       "│ dense_8 (<span style=\"color: #0087ff; text-decoration-color: #0087ff\">Dense</span>)                 │ (<span style=\"color: #00d7ff; text-decoration-color: #00d7ff\">None</span>, <span style=\"color: #00af00; text-decoration-color: #00af00\">16</span>)             │           <span style=\"color: #00af00; text-decoration-color: #00af00\">528</span> │\n",
       "├─────────────────────────────────┼────────────────────────┼───────────────┤\n",
       "│ dense_9 (<span style=\"color: #0087ff; text-decoration-color: #0087ff\">Dense</span>)                 │ (<span style=\"color: #00d7ff; text-decoration-color: #00d7ff\">None</span>, <span style=\"color: #00af00; text-decoration-color: #00af00\">1</span>)              │            <span style=\"color: #00af00; text-decoration-color: #00af00\">17</span> │\n",
       "└─────────────────────────────────┴────────────────────────┴───────────────┘\n",
       "</pre>\n"
      ],
      "text/plain": [
       "┏━━━━━━━━━━━━━━━━━━━━━━━━━━━━━━━━━┳━━━━━━━━━━━━━━━━━━━━━━━━┳━━━━━━━━━━━━━━━┓\n",
       "┃\u001b[1m \u001b[0m\u001b[1mLayer (type)                   \u001b[0m\u001b[1m \u001b[0m┃\u001b[1m \u001b[0m\u001b[1mOutput Shape          \u001b[0m\u001b[1m \u001b[0m┃\u001b[1m \u001b[0m\u001b[1m      Param #\u001b[0m\u001b[1m \u001b[0m┃\n",
       "┡━━━━━━━━━━━━━━━━━━━━━━━━━━━━━━━━━╇━━━━━━━━━━━━━━━━━━━━━━━━╇━━━━━━━━━━━━━━━┩\n",
       "│ dense_6 (\u001b[38;5;33mDense\u001b[0m)                 │ (\u001b[38;5;45mNone\u001b[0m, \u001b[38;5;34m64\u001b[0m)             │           \u001b[38;5;34m320\u001b[0m │\n",
       "├─────────────────────────────────┼────────────────────────┼───────────────┤\n",
       "│ dense_7 (\u001b[38;5;33mDense\u001b[0m)                 │ (\u001b[38;5;45mNone\u001b[0m, \u001b[38;5;34m32\u001b[0m)             │         \u001b[38;5;34m2,080\u001b[0m │\n",
       "├─────────────────────────────────┼────────────────────────┼───────────────┤\n",
       "│ dense_8 (\u001b[38;5;33mDense\u001b[0m)                 │ (\u001b[38;5;45mNone\u001b[0m, \u001b[38;5;34m16\u001b[0m)             │           \u001b[38;5;34m528\u001b[0m │\n",
       "├─────────────────────────────────┼────────────────────────┼───────────────┤\n",
       "│ dense_9 (\u001b[38;5;33mDense\u001b[0m)                 │ (\u001b[38;5;45mNone\u001b[0m, \u001b[38;5;34m1\u001b[0m)              │            \u001b[38;5;34m17\u001b[0m │\n",
       "└─────────────────────────────────┴────────────────────────┴───────────────┘\n"
      ]
     },
     "metadata": {},
     "output_type": "display_data"
    },
    {
     "data": {
      "text/html": [
       "<pre style=\"white-space:pre;overflow-x:auto;line-height:normal;font-family:Menlo,'DejaVu Sans Mono',consolas,'Courier New',monospace\"><span style=\"font-weight: bold\"> Total params: </span><span style=\"color: #00af00; text-decoration-color: #00af00\">2,945</span> (11.50 KB)\n",
       "</pre>\n"
      ],
      "text/plain": [
       "\u001b[1m Total params: \u001b[0m\u001b[38;5;34m2,945\u001b[0m (11.50 KB)\n"
      ]
     },
     "metadata": {},
     "output_type": "display_data"
    },
    {
     "data": {
      "text/html": [
       "<pre style=\"white-space:pre;overflow-x:auto;line-height:normal;font-family:Menlo,'DejaVu Sans Mono',consolas,'Courier New',monospace\"><span style=\"font-weight: bold\"> Trainable params: </span><span style=\"color: #00af00; text-decoration-color: #00af00\">2,945</span> (11.50 KB)\n",
       "</pre>\n"
      ],
      "text/plain": [
       "\u001b[1m Trainable params: \u001b[0m\u001b[38;5;34m2,945\u001b[0m (11.50 KB)\n"
      ]
     },
     "metadata": {},
     "output_type": "display_data"
    },
    {
     "data": {
      "text/html": [
       "<pre style=\"white-space:pre;overflow-x:auto;line-height:normal;font-family:Menlo,'DejaVu Sans Mono',consolas,'Courier New',monospace\"><span style=\"font-weight: bold\"> Non-trainable params: </span><span style=\"color: #00af00; text-decoration-color: #00af00\">0</span> (0.00 B)\n",
       "</pre>\n"
      ],
      "text/plain": [
       "\u001b[1m Non-trainable params: \u001b[0m\u001b[38;5;34m0\u001b[0m (0.00 B)\n"
      ]
     },
     "metadata": {},
     "output_type": "display_data"
    }
   ],
   "source": [
    "model_regression.summary()"
   ]
  },
  {
   "cell_type": "code",
   "execution_count": 76,
   "id": "da6e12f5",
   "metadata": {},
   "outputs": [
    {
     "name": "stdout",
     "output_type": "stream",
     "text": [
      "Epoch 1/80\n"
     ]
    },
    {
     "name": "stdout",
     "output_type": "stream",
     "text": [
      "\u001b[1m156/156\u001b[0m \u001b[32m━━━━━━━━━━━━━━━━━━━━\u001b[0m\u001b[37m\u001b[0m \u001b[1m1s\u001b[0m 2ms/step - loss: 1474.9829\n",
      "Epoch 2/80\n",
      "\u001b[1m156/156\u001b[0m \u001b[32m━━━━━━━━━━━━━━━━━━━━\u001b[0m\u001b[37m\u001b[0m \u001b[1m0s\u001b[0m 1ms/step - loss: 434.2832\n",
      "Epoch 3/80\n",
      "\u001b[1m156/156\u001b[0m \u001b[32m━━━━━━━━━━━━━━━━━━━━\u001b[0m\u001b[37m\u001b[0m \u001b[1m0s\u001b[0m 1ms/step - loss: 280.7682\n",
      "Epoch 4/80\n",
      "\u001b[1m156/156\u001b[0m \u001b[32m━━━━━━━━━━━━━━━━━━━━\u001b[0m\u001b[37m\u001b[0m \u001b[1m0s\u001b[0m 1ms/step - loss: 299.9397\n",
      "Epoch 5/80\n",
      "\u001b[1m156/156\u001b[0m \u001b[32m━━━━━━━━━━━━━━━━━━━━\u001b[0m\u001b[37m\u001b[0m \u001b[1m0s\u001b[0m 1ms/step - loss: 272.9389\n",
      "Epoch 6/80\n",
      "\u001b[1m156/156\u001b[0m \u001b[32m━━━━━━━━━━━━━━━━━━━━\u001b[0m\u001b[37m\u001b[0m \u001b[1m0s\u001b[0m 1ms/step - loss: 270.6862\n",
      "Epoch 7/80\n",
      "\u001b[1m156/156\u001b[0m \u001b[32m━━━━━━━━━━━━━━━━━━━━\u001b[0m\u001b[37m\u001b[0m \u001b[1m0s\u001b[0m 2ms/step - loss: 267.1979\n",
      "Epoch 8/80\n",
      "\u001b[1m156/156\u001b[0m \u001b[32m━━━━━━━━━━━━━━━━━━━━\u001b[0m\u001b[37m\u001b[0m \u001b[1m0s\u001b[0m 1ms/step - loss: 264.2768\n",
      "Epoch 9/80\n",
      "\u001b[1m156/156\u001b[0m \u001b[32m━━━━━━━━━━━━━━━━━━━━\u001b[0m\u001b[37m\u001b[0m \u001b[1m0s\u001b[0m 2ms/step - loss: 287.6094\n",
      "Epoch 10/80\n",
      "\u001b[1m156/156\u001b[0m \u001b[32m━━━━━━━━━━━━━━━━━━━━\u001b[0m\u001b[37m\u001b[0m \u001b[1m0s\u001b[0m 2ms/step - loss: 233.9502\n",
      "Epoch 11/80\n",
      "\u001b[1m156/156\u001b[0m \u001b[32m━━━━━━━━━━━━━━━━━━━━\u001b[0m\u001b[37m\u001b[0m \u001b[1m0s\u001b[0m 2ms/step - loss: 263.2237\n",
      "Epoch 12/80\n",
      "\u001b[1m156/156\u001b[0m \u001b[32m━━━━━━━━━━━━━━━━━━━━\u001b[0m\u001b[37m\u001b[0m \u001b[1m0s\u001b[0m 2ms/step - loss: 280.1098\n",
      "Epoch 13/80\n",
      "\u001b[1m156/156\u001b[0m \u001b[32m━━━━━━━━━━━━━━━━━━━━\u001b[0m\u001b[37m\u001b[0m \u001b[1m0s\u001b[0m 2ms/step - loss: 255.9804\n",
      "Epoch 14/80\n",
      "\u001b[1m156/156\u001b[0m \u001b[32m━━━━━━━━━━━━━━━━━━━━\u001b[0m\u001b[37m\u001b[0m \u001b[1m0s\u001b[0m 2ms/step - loss: 230.4780\n",
      "Epoch 15/80\n",
      "\u001b[1m156/156\u001b[0m \u001b[32m━━━━━━━━━━━━━━━━━━━━\u001b[0m\u001b[37m\u001b[0m \u001b[1m0s\u001b[0m 2ms/step - loss: 257.3405\n",
      "Epoch 16/80\n",
      "\u001b[1m156/156\u001b[0m \u001b[32m━━━━━━━━━━━━━━━━━━━━\u001b[0m\u001b[37m\u001b[0m \u001b[1m0s\u001b[0m 2ms/step - loss: 255.3561\n",
      "Epoch 17/80\n",
      "\u001b[1m156/156\u001b[0m \u001b[32m━━━━━━━━━━━━━━━━━━━━\u001b[0m\u001b[37m\u001b[0m \u001b[1m0s\u001b[0m 2ms/step - loss: 282.2113\n",
      "Epoch 18/80\n",
      "\u001b[1m156/156\u001b[0m \u001b[32m━━━━━━━━━━━━━━━━━━━━\u001b[0m\u001b[37m\u001b[0m \u001b[1m0s\u001b[0m 2ms/step - loss: 290.2997\n",
      "Epoch 19/80\n",
      "\u001b[1m156/156\u001b[0m \u001b[32m━━━━━━━━━━━━━━━━━━━━\u001b[0m\u001b[37m\u001b[0m \u001b[1m0s\u001b[0m 2ms/step - loss: 273.7050\n",
      "Epoch 20/80\n",
      "\u001b[1m156/156\u001b[0m \u001b[32m━━━━━━━━━━━━━━━━━━━━\u001b[0m\u001b[37m\u001b[0m \u001b[1m0s\u001b[0m 2ms/step - loss: 282.8147\n",
      "Epoch 21/80\n",
      "\u001b[1m156/156\u001b[0m \u001b[32m━━━━━━━━━━━━━━━━━━━━\u001b[0m\u001b[37m\u001b[0m \u001b[1m0s\u001b[0m 2ms/step - loss: 242.2500\n",
      "Epoch 22/80\n",
      "\u001b[1m156/156\u001b[0m \u001b[32m━━━━━━━━━━━━━━━━━━━━\u001b[0m\u001b[37m\u001b[0m \u001b[1m0s\u001b[0m 2ms/step - loss: 244.4699\n",
      "Epoch 23/80\n",
      "\u001b[1m156/156\u001b[0m \u001b[32m━━━━━━━━━━━━━━━━━━━━\u001b[0m\u001b[37m\u001b[0m \u001b[1m0s\u001b[0m 2ms/step - loss: 279.2623\n",
      "Epoch 24/80\n",
      "\u001b[1m156/156\u001b[0m \u001b[32m━━━━━━━━━━━━━━━━━━━━\u001b[0m\u001b[37m\u001b[0m \u001b[1m0s\u001b[0m 2ms/step - loss: 248.2801\n",
      "Epoch 25/80\n",
      "\u001b[1m156/156\u001b[0m \u001b[32m━━━━━━━━━━━━━━━━━━━━\u001b[0m\u001b[37m\u001b[0m \u001b[1m0s\u001b[0m 2ms/step - loss: 297.7130\n",
      "Epoch 26/80\n",
      "\u001b[1m156/156\u001b[0m \u001b[32m━━━━━━━━━━━━━━━━━━━━\u001b[0m\u001b[37m\u001b[0m \u001b[1m0s\u001b[0m 2ms/step - loss: 233.5707\n",
      "Epoch 27/80\n",
      "\u001b[1m156/156\u001b[0m \u001b[32m━━━━━━━━━━━━━━━━━━━━\u001b[0m\u001b[37m\u001b[0m \u001b[1m0s\u001b[0m 2ms/step - loss: 271.3650\n",
      "Epoch 28/80\n",
      "\u001b[1m156/156\u001b[0m \u001b[32m━━━━━━━━━━━━━━━━━━━━\u001b[0m\u001b[37m\u001b[0m \u001b[1m0s\u001b[0m 2ms/step - loss: 256.3101\n",
      "Epoch 29/80\n",
      "\u001b[1m156/156\u001b[0m \u001b[32m━━━━━━━━━━━━━━━━━━━━\u001b[0m\u001b[37m\u001b[0m \u001b[1m0s\u001b[0m 2ms/step - loss: 219.7696\n",
      "Epoch 30/80\n",
      "\u001b[1m156/156\u001b[0m \u001b[32m━━━━━━━━━━━━━━━━━━━━\u001b[0m\u001b[37m\u001b[0m \u001b[1m0s\u001b[0m 2ms/step - loss: 264.1694\n",
      "Epoch 31/80\n",
      "\u001b[1m156/156\u001b[0m \u001b[32m━━━━━━━━━━━━━━━━━━━━\u001b[0m\u001b[37m\u001b[0m \u001b[1m0s\u001b[0m 2ms/step - loss: 266.8931\n",
      "Epoch 32/80\n",
      "\u001b[1m156/156\u001b[0m \u001b[32m━━━━━━━━━━━━━━━━━━━━\u001b[0m\u001b[37m\u001b[0m \u001b[1m0s\u001b[0m 2ms/step - loss: 261.0854\n",
      "Epoch 33/80\n",
      "\u001b[1m156/156\u001b[0m \u001b[32m━━━━━━━━━━━━━━━━━━━━\u001b[0m\u001b[37m\u001b[0m \u001b[1m0s\u001b[0m 2ms/step - loss: 254.1974\n",
      "Epoch 34/80\n",
      "\u001b[1m156/156\u001b[0m \u001b[32m━━━━━━━━━━━━━━━━━━━━\u001b[0m\u001b[37m\u001b[0m \u001b[1m0s\u001b[0m 2ms/step - loss: 253.4319\n",
      "Epoch 35/80\n",
      "\u001b[1m156/156\u001b[0m \u001b[32m━━━━━━━━━━━━━━━━━━━━\u001b[0m\u001b[37m\u001b[0m \u001b[1m0s\u001b[0m 2ms/step - loss: 305.9960\n",
      "Epoch 36/80\n",
      "\u001b[1m156/156\u001b[0m \u001b[32m━━━━━━━━━━━━━━━━━━━━\u001b[0m\u001b[37m\u001b[0m \u001b[1m0s\u001b[0m 2ms/step - loss: 269.7068\n",
      "Epoch 37/80\n",
      "\u001b[1m156/156\u001b[0m \u001b[32m━━━━━━━━━━━━━━━━━━━━\u001b[0m\u001b[37m\u001b[0m \u001b[1m0s\u001b[0m 2ms/step - loss: 269.3781\n",
      "Epoch 38/80\n",
      "\u001b[1m156/156\u001b[0m \u001b[32m━━━━━━━━━━━━━━━━━━━━\u001b[0m\u001b[37m\u001b[0m \u001b[1m0s\u001b[0m 2ms/step - loss: 300.7715\n",
      "Epoch 39/80\n",
      "\u001b[1m156/156\u001b[0m \u001b[32m━━━━━━━━━━━━━━━━━━━━\u001b[0m\u001b[37m\u001b[0m \u001b[1m0s\u001b[0m 2ms/step - loss: 264.4774\n",
      "Epoch 40/80\n",
      "\u001b[1m156/156\u001b[0m \u001b[32m━━━━━━━━━━━━━━━━━━━━\u001b[0m\u001b[37m\u001b[0m \u001b[1m0s\u001b[0m 2ms/step - loss: 250.1121\n",
      "Epoch 41/80\n",
      "\u001b[1m156/156\u001b[0m \u001b[32m━━━━━━━━━━━━━━━━━━━━\u001b[0m\u001b[37m\u001b[0m \u001b[1m0s\u001b[0m 2ms/step - loss: 274.1028\n",
      "Epoch 42/80\n",
      "\u001b[1m156/156\u001b[0m \u001b[32m━━━━━━━━━━━━━━━━━━━━\u001b[0m\u001b[37m\u001b[0m \u001b[1m0s\u001b[0m 2ms/step - loss: 287.6900\n",
      "Epoch 43/80\n",
      "\u001b[1m156/156\u001b[0m \u001b[32m━━━━━━━━━━━━━━━━━━━━\u001b[0m\u001b[37m\u001b[0m \u001b[1m0s\u001b[0m 2ms/step - loss: 242.8665\n",
      "Epoch 44/80\n",
      "\u001b[1m156/156\u001b[0m \u001b[32m━━━━━━━━━━━━━━━━━━━━\u001b[0m\u001b[37m\u001b[0m \u001b[1m0s\u001b[0m 2ms/step - loss: 254.5246\n",
      "Epoch 45/80\n",
      "\u001b[1m156/156\u001b[0m \u001b[32m━━━━━━━━━━━━━━━━━━━━\u001b[0m\u001b[37m\u001b[0m \u001b[1m0s\u001b[0m 2ms/step - loss: 256.0326\n",
      "Epoch 46/80\n",
      "\u001b[1m156/156\u001b[0m \u001b[32m━━━━━━━━━━━━━━━━━━━━\u001b[0m\u001b[37m\u001b[0m \u001b[1m0s\u001b[0m 2ms/step - loss: 232.9273\n",
      "Epoch 47/80\n",
      "\u001b[1m156/156\u001b[0m \u001b[32m━━━━━━━━━━━━━━━━━━━━\u001b[0m\u001b[37m\u001b[0m \u001b[1m0s\u001b[0m 2ms/step - loss: 219.9464\n",
      "Epoch 48/80\n",
      "\u001b[1m156/156\u001b[0m \u001b[32m━━━━━━━━━━━━━━━━━━━━\u001b[0m\u001b[37m\u001b[0m \u001b[1m0s\u001b[0m 2ms/step - loss: 304.8159\n",
      "Epoch 49/80\n",
      "\u001b[1m156/156\u001b[0m \u001b[32m━━━━━━━━━━━━━━━━━━━━\u001b[0m\u001b[37m\u001b[0m \u001b[1m0s\u001b[0m 2ms/step - loss: 240.6218\n",
      "Epoch 50/80\n",
      "\u001b[1m156/156\u001b[0m \u001b[32m━━━━━━━━━━━━━━━━━━━━\u001b[0m\u001b[37m\u001b[0m \u001b[1m0s\u001b[0m 2ms/step - loss: 244.7928\n",
      "Epoch 51/80\n",
      "\u001b[1m156/156\u001b[0m \u001b[32m━━━━━━━━━━━━━━━━━━━━\u001b[0m\u001b[37m\u001b[0m \u001b[1m0s\u001b[0m 2ms/step - loss: 258.1513\n",
      "Epoch 52/80\n",
      "\u001b[1m156/156\u001b[0m \u001b[32m━━━━━━━━━━━━━━━━━━━━\u001b[0m\u001b[37m\u001b[0m \u001b[1m0s\u001b[0m 2ms/step - loss: 250.0355\n",
      "Epoch 53/80\n",
      "\u001b[1m156/156\u001b[0m \u001b[32m━━━━━━━━━━━━━━━━━━━━\u001b[0m\u001b[37m\u001b[0m \u001b[1m0s\u001b[0m 2ms/step - loss: 266.2838\n",
      "Epoch 54/80\n",
      "\u001b[1m156/156\u001b[0m \u001b[32m━━━━━━━━━━━━━━━━━━━━\u001b[0m\u001b[37m\u001b[0m \u001b[1m0s\u001b[0m 2ms/step - loss: 268.2953\n",
      "Epoch 55/80\n",
      "\u001b[1m156/156\u001b[0m \u001b[32m━━━━━━━━━━━━━━━━━━━━\u001b[0m\u001b[37m\u001b[0m \u001b[1m0s\u001b[0m 2ms/step - loss: 263.4584\n",
      "Epoch 56/80\n",
      "\u001b[1m156/156\u001b[0m \u001b[32m━━━━━━━━━━━━━━━━━━━━\u001b[0m\u001b[37m\u001b[0m \u001b[1m0s\u001b[0m 2ms/step - loss: 252.3261\n",
      "Epoch 57/80\n",
      "\u001b[1m156/156\u001b[0m \u001b[32m━━━━━━━━━━━━━━━━━━━━\u001b[0m\u001b[37m\u001b[0m \u001b[1m0s\u001b[0m 2ms/step - loss: 272.7592\n",
      "Epoch 58/80\n",
      "\u001b[1m156/156\u001b[0m \u001b[32m━━━━━━━━━━━━━━━━━━━━\u001b[0m\u001b[37m\u001b[0m \u001b[1m0s\u001b[0m 2ms/step - loss: 299.0757\n",
      "Epoch 59/80\n",
      "\u001b[1m156/156\u001b[0m \u001b[32m━━━━━━━━━━━━━━━━━━━━\u001b[0m\u001b[37m\u001b[0m \u001b[1m1s\u001b[0m 2ms/step - loss: 290.5742\n",
      "Epoch 60/80\n",
      "\u001b[1m156/156\u001b[0m \u001b[32m━━━━━━━━━━━━━━━━━━━━\u001b[0m\u001b[37m\u001b[0m \u001b[1m0s\u001b[0m 2ms/step - loss: 270.0771\n",
      "Epoch 61/80\n",
      "\u001b[1m156/156\u001b[0m \u001b[32m━━━━━━━━━━━━━━━━━━━━\u001b[0m\u001b[37m\u001b[0m \u001b[1m0s\u001b[0m 2ms/step - loss: 268.0776\n",
      "Epoch 62/80\n",
      "\u001b[1m156/156\u001b[0m \u001b[32m━━━━━━━━━━━━━━━━━━━━\u001b[0m\u001b[37m\u001b[0m \u001b[1m0s\u001b[0m 2ms/step - loss: 219.7529\n",
      "Epoch 63/80\n",
      "\u001b[1m156/156\u001b[0m \u001b[32m━━━━━━━━━━━━━━━━━━━━\u001b[0m\u001b[37m\u001b[0m \u001b[1m0s\u001b[0m 2ms/step - loss: 253.1117\n",
      "Epoch 64/80\n",
      "\u001b[1m156/156\u001b[0m \u001b[32m━━━━━━━━━━━━━━━━━━━━\u001b[0m\u001b[37m\u001b[0m \u001b[1m0s\u001b[0m 1ms/step - loss: 257.2455\n",
      "Epoch 65/80\n",
      "\u001b[1m156/156\u001b[0m \u001b[32m━━━━━━━━━━━━━━━━━━━━\u001b[0m\u001b[37m\u001b[0m \u001b[1m0s\u001b[0m 2ms/step - loss: 245.1628\n",
      "Epoch 66/80\n",
      "\u001b[1m156/156\u001b[0m \u001b[32m━━━━━━━━━━━━━━━━━━━━\u001b[0m\u001b[37m\u001b[0m \u001b[1m0s\u001b[0m 2ms/step - loss: 299.2195\n",
      "Epoch 67/80\n",
      "\u001b[1m156/156\u001b[0m \u001b[32m━━━━━━━━━━━━━━━━━━━━\u001b[0m\u001b[37m\u001b[0m \u001b[1m0s\u001b[0m 2ms/step - loss: 253.6562\n",
      "Epoch 68/80\n",
      "\u001b[1m156/156\u001b[0m \u001b[32m━━━━━━━━━━━━━━━━━━━━\u001b[0m\u001b[37m\u001b[0m \u001b[1m0s\u001b[0m 2ms/step - loss: 257.1906\n",
      "Epoch 69/80\n",
      "\u001b[1m156/156\u001b[0m \u001b[32m━━━━━━━━━━━━━━━━━━━━\u001b[0m\u001b[37m\u001b[0m \u001b[1m0s\u001b[0m 2ms/step - loss: 277.0055\n",
      "Epoch 70/80\n",
      "\u001b[1m156/156\u001b[0m \u001b[32m━━━━━━━━━━━━━━━━━━━━\u001b[0m\u001b[37m\u001b[0m \u001b[1m0s\u001b[0m 2ms/step - loss: 261.7332\n",
      "Epoch 71/80\n",
      "\u001b[1m156/156\u001b[0m \u001b[32m━━━━━━━━━━━━━━━━━━━━\u001b[0m\u001b[37m\u001b[0m \u001b[1m0s\u001b[0m 3ms/step - loss: 264.6258\n",
      "Epoch 72/80\n",
      "\u001b[1m156/156\u001b[0m \u001b[32m━━━━━━━━━━━━━━━━━━━━\u001b[0m\u001b[37m\u001b[0m \u001b[1m0s\u001b[0m 2ms/step - loss: 245.2254\n",
      "Epoch 73/80\n",
      "\u001b[1m156/156\u001b[0m \u001b[32m━━━━━━━━━━━━━━━━━━━━\u001b[0m\u001b[37m\u001b[0m \u001b[1m0s\u001b[0m 2ms/step - loss: 250.8142\n",
      "Epoch 74/80\n",
      "\u001b[1m156/156\u001b[0m \u001b[32m━━━━━━━━━━━━━━━━━━━━\u001b[0m\u001b[37m\u001b[0m \u001b[1m0s\u001b[0m 2ms/step - loss: 297.2804\n",
      "Epoch 75/80\n",
      "\u001b[1m156/156\u001b[0m \u001b[32m━━━━━━━━━━━━━━━━━━━━\u001b[0m\u001b[37m\u001b[0m \u001b[1m0s\u001b[0m 2ms/step - loss: 257.8594\n",
      "Epoch 76/80\n",
      "\u001b[1m156/156\u001b[0m \u001b[32m━━━━━━━━━━━━━━━━━━━━\u001b[0m\u001b[37m\u001b[0m \u001b[1m0s\u001b[0m 3ms/step - loss: 274.4172\n",
      "Epoch 77/80\n",
      "\u001b[1m156/156\u001b[0m \u001b[32m━━━━━━━━━━━━━━━━━━━━\u001b[0m\u001b[37m\u001b[0m \u001b[1m1s\u001b[0m 2ms/step - loss: 241.2759\n",
      "Epoch 78/80\n",
      "\u001b[1m156/156\u001b[0m \u001b[32m━━━━━━━━━━━━━━━━━━━━\u001b[0m\u001b[37m\u001b[0m \u001b[1m0s\u001b[0m 2ms/step - loss: 247.9051\n",
      "Epoch 79/80\n",
      "\u001b[1m156/156\u001b[0m \u001b[32m━━━━━━━━━━━━━━━━━━━━\u001b[0m\u001b[37m\u001b[0m \u001b[1m0s\u001b[0m 2ms/step - loss: 235.0598\n",
      "Epoch 80/80\n",
      "\u001b[1m156/156\u001b[0m \u001b[32m━━━━━━━━━━━━━━━━━━━━\u001b[0m\u001b[37m\u001b[0m \u001b[1m0s\u001b[0m 3ms/step - loss: 264.5490\n"
     ]
    },
    {
     "data": {
      "text/plain": [
       "<keras.src.callbacks.history.History at 0x1e1ceed3ec0>"
      ]
     },
     "execution_count": 76,
     "metadata": {},
     "output_type": "execute_result"
    }
   ],
   "source": [
    "model_regression.fit(X_reg_train, y_reg_train, epochs=80)"
   ]
  },
  {
   "cell_type": "code",
   "execution_count": 77,
   "id": "77400768",
   "metadata": {},
   "outputs": [
    {
     "name": "stdout",
     "output_type": "stream",
     "text": [
      "\u001b[1m39/39\u001b[0m \u001b[32m━━━━━━━━━━━━━━━━━━━━\u001b[0m\u001b[37m\u001b[0m \u001b[1m0s\u001b[0m 3ms/step\n"
     ]
    }
   ],
   "source": [
    "y_pred_reg = pd.Series(model_regression.predict(X_reg_test).flatten())"
   ]
  },
  {
   "cell_type": "code",
   "execution_count": 78,
   "id": "df5ddfed",
   "metadata": {},
   "outputs": [
    {
     "data": {
      "text/plain": [
       "0       18.50\n",
       "1        6.50\n",
       "2        3.84\n",
       "3        5.00\n",
       "4       40.00\n",
       "        ...  \n",
       "1243    19.00\n",
       "1244    22.00\n",
       "1245    25.20\n",
       "1246    12.50\n",
       "1247     6.80\n",
       "Name: price, Length: 1248, dtype: float64"
      ]
     },
     "execution_count": 78,
     "metadata": {},
     "output_type": "execute_result"
    }
   ],
   "source": [
    "y_reg_test = y_reg_test.reset_index(drop=True)\n",
    "y_reg_test"
   ]
  },
  {
   "cell_type": "code",
   "execution_count": 79,
   "id": "18f569c2",
   "metadata": {},
   "outputs": [
    {
     "name": "stdout",
     "output_type": "stream",
     "text": [
      "               Метрики качества\n",
      "MAE                     9.16110\n",
      "MSE                   276.10203\n",
      "RMSE                   16.61632\n",
      "MAPE                    0.67673\n",
      "Adjusted_rand           0.00038\n",
      "R^2                     0.63973\n"
     ]
    }
   ],
   "source": [
    "from sklearn.metrics import r2_score\n",
    "\n",
    "print_error(y_reg_test, y_pred_reg, custom=True)"
   ]
  },
  {
   "cell_type": "markdown",
   "id": "aa45b5a7",
   "metadata": {},
   "source": [
    "### <span style= \"color:rgb(187, 223, 150)  \">Классификация</span>"
   ]
  },
  {
   "cell_type": "code",
   "execution_count": 53,
   "id": "f6403056",
   "metadata": {},
   "outputs": [
    {
     "name": "stdout",
     "output_type": "stream",
     "text": [
      "Epoch 1/30\n",
      "\u001b[1m1750/1750\u001b[0m \u001b[32m━━━━━━━━━━━━━━━━━━━━\u001b[0m\u001b[37m\u001b[0m \u001b[1m3s\u001b[0m 1ms/step - loss: 0.2861\n",
      "Epoch 2/30\n",
      "\u001b[1m1750/1750\u001b[0m \u001b[32m━━━━━━━━━━━━━━━━━━━━\u001b[0m\u001b[37m\u001b[0m \u001b[1m4s\u001b[0m 2ms/step - loss: 0.2648\n",
      "Epoch 3/30\n",
      "\u001b[1m1750/1750\u001b[0m \u001b[32m━━━━━━━━━━━━━━━━━━━━\u001b[0m\u001b[37m\u001b[0m \u001b[1m4s\u001b[0m 2ms/step - loss: 0.2572\n",
      "Epoch 4/30\n",
      "\u001b[1m1750/1750\u001b[0m \u001b[32m━━━━━━━━━━━━━━━━━━━━\u001b[0m\u001b[37m\u001b[0m \u001b[1m4s\u001b[0m 2ms/step - loss: 0.2607\n",
      "Epoch 5/30\n",
      "\u001b[1m1750/1750\u001b[0m \u001b[32m━━━━━━━━━━━━━━━━━━━━\u001b[0m\u001b[37m\u001b[0m \u001b[1m4s\u001b[0m 3ms/step - loss: 0.2600\n",
      "Epoch 6/30\n",
      "\u001b[1m1750/1750\u001b[0m \u001b[32m━━━━━━━━━━━━━━━━━━━━\u001b[0m\u001b[37m\u001b[0m \u001b[1m5s\u001b[0m 3ms/step - loss: 0.2588\n",
      "Epoch 7/30\n",
      "\u001b[1m1750/1750\u001b[0m \u001b[32m━━━━━━━━━━━━━━━━━━━━\u001b[0m\u001b[37m\u001b[0m \u001b[1m5s\u001b[0m 3ms/step - loss: 0.2624\n",
      "Epoch 8/30\n",
      "\u001b[1m1750/1750\u001b[0m \u001b[32m━━━━━━━━━━━━━━━━━━━━\u001b[0m\u001b[37m\u001b[0m \u001b[1m4s\u001b[0m 3ms/step - loss: 0.2601\n",
      "Epoch 9/30\n",
      "\u001b[1m1750/1750\u001b[0m \u001b[32m━━━━━━━━━━━━━━━━━━━━\u001b[0m\u001b[37m\u001b[0m \u001b[1m4s\u001b[0m 2ms/step - loss: 0.2617\n",
      "Epoch 10/30\n",
      "\u001b[1m1750/1750\u001b[0m \u001b[32m━━━━━━━━━━━━━━━━━━━━\u001b[0m\u001b[37m\u001b[0m \u001b[1m4s\u001b[0m 2ms/step - loss: 0.2589\n",
      "Epoch 11/30\n",
      "\u001b[1m1750/1750\u001b[0m \u001b[32m━━━━━━━━━━━━━━━━━━━━\u001b[0m\u001b[37m\u001b[0m \u001b[1m4s\u001b[0m 2ms/step - loss: 0.2578\n",
      "Epoch 12/30\n",
      "\u001b[1m1750/1750\u001b[0m \u001b[32m━━━━━━━━━━━━━━━━━━━━\u001b[0m\u001b[37m\u001b[0m \u001b[1m3s\u001b[0m 2ms/step - loss: 0.2578\n",
      "Epoch 13/30\n",
      "\u001b[1m1750/1750\u001b[0m \u001b[32m━━━━━━━━━━━━━━━━━━━━\u001b[0m\u001b[37m\u001b[0m \u001b[1m3s\u001b[0m 2ms/step - loss: 0.2593\n",
      "Epoch 14/30\n",
      "\u001b[1m1750/1750\u001b[0m \u001b[32m━━━━━━━━━━━━━━━━━━━━\u001b[0m\u001b[37m\u001b[0m \u001b[1m4s\u001b[0m 2ms/step - loss: 0.2565\n",
      "Epoch 15/30\n",
      "\u001b[1m1750/1750\u001b[0m \u001b[32m━━━━━━━━━━━━━━━━━━━━\u001b[0m\u001b[37m\u001b[0m \u001b[1m4s\u001b[0m 2ms/step - loss: 0.2614\n",
      "Epoch 16/30\n",
      "\u001b[1m1750/1750\u001b[0m \u001b[32m━━━━━━━━━━━━━━━━━━━━\u001b[0m\u001b[37m\u001b[0m \u001b[1m4s\u001b[0m 2ms/step - loss: 0.2592\n",
      "Epoch 17/30\n",
      "\u001b[1m1750/1750\u001b[0m \u001b[32m━━━━━━━━━━━━━━━━━━━━\u001b[0m\u001b[37m\u001b[0m \u001b[1m4s\u001b[0m 2ms/step - loss: 0.2582\n",
      "Epoch 18/30\n",
      "\u001b[1m1750/1750\u001b[0m \u001b[32m━━━━━━━━━━━━━━━━━━━━\u001b[0m\u001b[37m\u001b[0m \u001b[1m4s\u001b[0m 2ms/step - loss: 0.2585\n",
      "Epoch 19/30\n",
      "\u001b[1m1750/1750\u001b[0m \u001b[32m━━━━━━━━━━━━━━━━━━━━\u001b[0m\u001b[37m\u001b[0m \u001b[1m4s\u001b[0m 2ms/step - loss: 0.2556\n",
      "Epoch 20/30\n",
      "\u001b[1m1750/1750\u001b[0m \u001b[32m━━━━━━━━━━━━━━━━━━━━\u001b[0m\u001b[37m\u001b[0m \u001b[1m4s\u001b[0m 2ms/step - loss: 0.2568\n",
      "Epoch 21/30\n",
      "\u001b[1m1750/1750\u001b[0m \u001b[32m━━━━━━━━━━━━━━━━━━━━\u001b[0m\u001b[37m\u001b[0m \u001b[1m4s\u001b[0m 2ms/step - loss: 0.2583\n",
      "Epoch 22/30\n",
      "\u001b[1m1750/1750\u001b[0m \u001b[32m━━━━━━━━━━━━━━━━━━━━\u001b[0m\u001b[37m\u001b[0m \u001b[1m4s\u001b[0m 1ms/step - loss: 0.2580\n",
      "Epoch 23/30\n",
      "\u001b[1m1750/1750\u001b[0m \u001b[32m━━━━━━━━━━━━━━━━━━━━\u001b[0m\u001b[37m\u001b[0m \u001b[1m3s\u001b[0m 2ms/step - loss: 0.2584\n",
      "Epoch 24/30\n",
      "\u001b[1m1750/1750\u001b[0m \u001b[32m━━━━━━━━━━━━━━━━━━━━\u001b[0m\u001b[37m\u001b[0m \u001b[1m4s\u001b[0m 2ms/step - loss: 0.2601\n",
      "Epoch 25/30\n",
      "\u001b[1m1750/1750\u001b[0m \u001b[32m━━━━━━━━━━━━━━━━━━━━\u001b[0m\u001b[37m\u001b[0m \u001b[1m3s\u001b[0m 2ms/step - loss: 0.2560\n",
      "Epoch 26/30\n",
      "\u001b[1m1750/1750\u001b[0m \u001b[32m━━━━━━━━━━━━━━━━━━━━\u001b[0m\u001b[37m\u001b[0m \u001b[1m2s\u001b[0m 1ms/step - loss: 0.2564\n",
      "Epoch 27/30\n",
      "\u001b[1m1750/1750\u001b[0m \u001b[32m━━━━━━━━━━━━━━━━━━━━\u001b[0m\u001b[37m\u001b[0m \u001b[1m3s\u001b[0m 1ms/step - loss: 0.2590\n",
      "Epoch 28/30\n",
      "\u001b[1m1750/1750\u001b[0m \u001b[32m━━━━━━━━━━━━━━━━━━━━\u001b[0m\u001b[37m\u001b[0m \u001b[1m3s\u001b[0m 2ms/step - loss: 0.2607\n",
      "Epoch 29/30\n",
      "\u001b[1m1750/1750\u001b[0m \u001b[32m━━━━━━━━━━━━━━━━━━━━\u001b[0m\u001b[37m\u001b[0m \u001b[1m3s\u001b[0m 1ms/step - loss: 0.2596\n",
      "Epoch 30/30\n",
      "\u001b[1m1750/1750\u001b[0m \u001b[32m━━━━━━━━━━━━━━━━━━━━\u001b[0m\u001b[37m\u001b[0m \u001b[1m2s\u001b[0m 1ms/step - loss: 0.2573\n"
     ]
    },
    {
     "data": {
      "text/plain": [
       "<keras.src.callbacks.history.History at 0x1e1d046dee0>"
      ]
     },
     "execution_count": 53,
     "metadata": {},
     "output_type": "execute_result"
    }
   ],
   "source": [
    "model_classification_1 = tf.keras.Sequential(\n",
    "    [\n",
    "        tf.keras.layers.Dense(64, activation=\"relu\", input_shape=(1,)),\n",
    "        tf.keras.layers.Dense(16, activation=\"relu\"),\n",
    "        tf.keras.layers.Dense(2, activation=\"softmax\"),\n",
    "    ]\n",
    ")\n",
    "\n",
    "model_classification_1.compile(optimizer=tf.keras.optimizers.Adam(learning_rate=0.004), loss=\"sparse_categorical_crossentropy\")\n",
    "\n",
    "model_classification_1.fit(X_class_train, y_class_train, epochs=30)"
   ]
  },
  {
   "cell_type": "code",
   "execution_count": 54,
   "id": "fb48ee96",
   "metadata": {},
   "outputs": [
    {
     "data": {
      "text/plain": [
       "array([[1.3310379e-01, 8.6689621e-01],\n",
       "       [1.0000000e+00, 4.1108560e-08],\n",
       "       [1.0000000e+00, 3.2579516e-16],\n",
       "       ...,\n",
       "       [2.3292282e-01, 7.6707721e-01],\n",
       "       [1.0000000e+00, 6.5528524e-18],\n",
       "       [1.3310379e-01, 8.6689621e-01]], dtype=float32)"
      ]
     },
     "execution_count": 54,
     "metadata": {},
     "output_type": "execute_result"
    }
   ],
   "source": [
    "model_classification_1.predict(X_class_test, verbose=None)"
   ]
  },
  {
   "cell_type": "code",
   "execution_count": 55,
   "id": "f0bdc74d",
   "metadata": {},
   "outputs": [],
   "source": [
    "y_pred = [np.argmax(pred) for pred in model_classification_1.predict(X_class_test, verbose=None)]"
   ]
  },
  {
   "cell_type": "code",
   "execution_count": 56,
   "id": "97c22b74",
   "metadata": {},
   "outputs": [],
   "source": [
    "y_class_pred = pd.Series(y_pred)"
   ]
  },
  {
   "cell_type": "code",
   "execution_count": 57,
   "id": "e921d767",
   "metadata": {},
   "outputs": [],
   "source": [
    "y_class_test = y_class_test.reset_index(drop=True)"
   ]
  },
  {
   "cell_type": "code",
   "execution_count": null,
   "id": "bf78a3bc",
   "metadata": {},
   "outputs": [],
   "source": [
    "from sklearn.metrics import classification_report"
   ]
  },
  {
   "cell_type": "code",
   "execution_count": 59,
   "id": "79799d85",
   "metadata": {},
   "outputs": [
    {
     "name": "stdout",
     "output_type": "stream",
     "text": [
      "                 Метрики качества\n",
      "accuracy_score             0.9031\n",
      "precision_score            0.8415\n",
      "recall_score               0.9934\n",
      "f1_score                   0.9112\n",
      "Матрица ошибок (Строки: Predicted, Столбцы: True):\n",
      "------------------\n",
      "              Class 0     Class 1\n",
      "-----------------------------------\n",
      "Predicted  Class 0  |   5690     1310 |\n",
      "Predicted  Class 1  |     46     6954 |\n",
      "-----------------------------------\n"
     ]
    }
   ],
   "source": [
    "custom_classifier_metrics(y_test=y_class_test, y_pred=y_class_pred)"
   ]
  },
  {
   "cell_type": "markdown",
   "id": "71177822",
   "metadata": {},
   "source": [
    "### **ПОДБОР ГИПЕРПАРАМЕТРОВ** (для моделей MLP)\n",
    " \n",
    "#### Классификация"
   ]
  },
  {
   "cell_type": "code",
   "execution_count": 80,
   "id": "fb4ed572",
   "metadata": {},
   "outputs": [],
   "source": [
    "from sklearn.neural_network import MLPClassifier, MLPRegressor\n",
    "from ml_library.hyperparams import optuna_params, randomizedSearchCV_params\n",
    "from ml_library.k_fold import k_fold"
   ]
  },
  {
   "cell_type": "code",
   "execution_count": 62,
   "id": "91429f50",
   "metadata": {},
   "outputs": [],
   "source": [
    "import optuna\n",
    "from sklearn.metrics import accuracy_score, mean_squared_error"
   ]
  },
  {
   "cell_type": "code",
   "execution_count": 81,
   "id": "67868292",
   "metadata": {},
   "outputs": [],
   "source": [
    "def optuna_get_best_params(X_train, y_train, X_test, y_test, model : str):\n",
    "    if model == \"class\":\n",
    "        model_class=  MLPClassifier\n",
    "        metric_func = accuracy_score\n",
    "        dir = 'maximize'\n",
    "    elif model == 'reg':\n",
    "        model_class = MLPRegressor\n",
    "        metric_func = mean_squared_error\n",
    "        dir = 'minimize'\n",
    "    def objective(trial):\n",
    "        optimizer = trial.suggest_categorical('solver', ['lbfgs', 'sgd', 'adam'])\n",
    "        act_func = trial.suggest_categorical('activation', ['relu', 'logistic', 'tanh'])\n",
    "        alpha = trial.suggest_categorical('alpha', [1e-5, 1e-4, 1e-3, 1e-2])\n",
    "        hidden_layer_1 = trial.suggest_int('hidden_layer_1', 10, 50)\n",
    "        hidden_layer_2 = trial.suggest_int('hidden_layer_2', 10, 50)\n",
    "        batch_size = trial.suggest_categorical('batch_size', [32, 64, 128])\n",
    "        if optimizer != 'lbfgs':\n",
    "            learning_rate_init = trial.suggest_categorical('learning_rate_init', [1e-4, 1e-3, 1e-2])\n",
    "        else:\n",
    "            learning_rate_init = 0.0001\n",
    "\n",
    "        params = {\n",
    "            'hidden_layer_sizes': (hidden_layer_1, hidden_layer_2),\n",
    "            'activation': act_func,\n",
    "            'solver': optimizer,\n",
    "            'alpha': alpha,\n",
    "            'early_stopping': True,\n",
    "            'validation_fraction': 0.1,\n",
    "            'max_iter': 500,\n",
    "            'batch_size': batch_size,\n",
    "            'learning_rate_init': learning_rate_init\n",
    "        }\n",
    "\n",
    "        mlp_model = model_class(**params)\n",
    "        mlp_model.fit(X_train, y_train)\n",
    "\n",
    "\n",
    "        y_pred = mlp_model.predict(X_test)\n",
    "        score = metric_func(y_test, y_pred)\n",
    "        return score\n",
    "    \n",
    "    return  optuna_params(objective=objective, aim= dir)\n"
   ]
  },
  {
   "cell_type": "code",
   "execution_count": null,
   "id": "ef31d0e4",
   "metadata": {},
   "outputs": [],
   "source": [
    "best_MLPClass_params = optuna_get_best_params(X_class_train, y_class_train, X_class_test, y_class_test, 'class')"
   ]
  },
  {
   "cell_type": "code",
   "execution_count": null,
   "id": "5af93a84",
   "metadata": {},
   "outputs": [],
   "source": [
    "params_classifier_neural ={\n",
    "    \"hidden_layer_sizes\": [20,40, 60],\n",
    "    \"solver\": ['lbfgs', 'sgd', 'adam'],\n",
    "    'activation': ['relu', 'identity', 'logistic', 'tanh'],\n",
    "}"
   ]
  },
  {
   "cell_type": "code",
   "execution_count": null,
   "id": "c3055438",
   "metadata": {},
   "outputs": [],
   "source": [
    "bp = best_MLPClass_params"
   ]
  },
  {
   "cell_type": "code",
   "execution_count": null,
   "id": "9fe45643",
   "metadata": {},
   "outputs": [],
   "source": [
    "best_MLPClass_opuna = MLPClassifier(\n",
    "    hidden_layer_sizes=(bp['hidden_layer_1'], \n",
    "                        bp['hidden_layer_2']), \n",
    "                        activation=bp['activation'], \n",
    "                        solver=bp['solver'],\n",
    "                        alpha=bp['alpha'],\n",
    "                        learning_rate_init=bp['learning_rate_init'],\n",
    "                        batch_size=bp['batch_size']\n",
    "                        ).fit(X_class_train, y_class_train)"
   ]
  },
  {
   "cell_type": "code",
   "execution_count": 599,
   "id": "21c86b9c",
   "metadata": {},
   "outputs": [],
   "source": [
    "best_MLPClass_opuna = joblib.load('MLPClassifier_optuna.joblib')"
   ]
  },
  {
   "cell_type": "code",
   "execution_count": null,
   "id": "3116be13",
   "metadata": {},
   "outputs": [
    {
     "data": {
      "text/plain": [
       "0        0\n",
       "1        1\n",
       "2        1\n",
       "3        0\n",
       "4        1\n",
       "        ..\n",
       "13995    0\n",
       "13996    0\n",
       "13997    0\n",
       "13998    0\n",
       "13999    1\n",
       "Length: 14000, dtype: int64"
      ]
     },
     "execution_count": 542,
     "metadata": {},
     "output_type": "execute_result"
    }
   ],
   "source": [
    "y_pred_opt_class = pd.Series(best_MLPClass_opuna.predict(X_class_test))"
   ]
  },
  {
   "cell_type": "code",
   "execution_count": null,
   "id": "74e81e56",
   "metadata": {},
   "outputs": [
    {
     "name": "stdout",
     "output_type": "stream",
     "text": [
      "                 Метрики качества\n",
      "accuracy_score             0.9052\n",
      "precision_score            0.8456\n",
      "recall_score               0.9914\n",
      "f1_score                   0.9127\n",
      "Матрица ошибок (Строки: Predicted, Столбцы: True):\n",
      "------------------\n",
      "              Class 0     Class 1\n",
      "-----------------------------------\n",
      "Predicted  Class 0  |   5733     1267 |\n",
      "Predicted  Class 1  |     60     6940 |\n",
      "-----------------------------------\n"
     ]
    }
   ],
   "source": [
    "custom_classifier_metrics(y_test=y_class_test, y_pred=y_pred_opt_class)"
   ]
  },
  {
   "cell_type": "code",
   "execution_count": 602,
   "id": "a58c2ad2",
   "metadata": {},
   "outputs": [
    {
     "name": "stdout",
     "output_type": "stream",
     "text": [
      "Оценки кросс-валидации на обучающем наборе [0.90163043 0.91733298 0.92046209 0.92391594 0.92084712]\n",
      "Средняя оценка кросс-валидации на обучающем наборе 0.9168377123828245\n"
     ]
    },
    {
     "data": {
      "text/plain": [
       "np.float64(0.9168377123828245)"
      ]
     },
     "execution_count": 602,
     "metadata": {},
     "output_type": "execute_result"
    }
   ],
   "source": [
    "k_fold(best_MLPClass_opuna, X_scaled_class, y_class, 'f1')"
   ]
  },
  {
   "cell_type": "code",
   "execution_count": null,
   "id": "b89b0148",
   "metadata": {},
   "outputs": [],
   "source": [
    "best_MLPClassifier=  randomizedSearchCV_params(MLPClassifier(), parameters=params_classifier_neural, X_train=X_class_train, Y_train=y_class_train )"
   ]
  },
  {
   "cell_type": "code",
   "execution_count": null,
   "id": "114203a9",
   "metadata": {},
   "outputs": [],
   "source": [
    "y_pred_rand = pd.Series(best_MLPClassifier.predict(X_class_test))"
   ]
  },
  {
   "cell_type": "code",
   "execution_count": null,
   "id": "388bcbe2",
   "metadata": {},
   "outputs": [
    {
     "name": "stdout",
     "output_type": "stream",
     "text": [
      "                 Метрики качества\n",
      "accuracy_score             0.9044\n",
      "precision_score            0.8448\n",
      "recall_score               0.9909\n",
      "f1_score                   0.9120\n",
      "Матрица ошибок (Строки: Predicted, Столбцы: True):\n",
      "------------------\n",
      "              Class 0     Class 1\n",
      "-----------------------------------\n",
      "Predicted  Class 0  |   5726     1274 |\n",
      "Predicted  Class 1  |     64     6936 |\n",
      "-----------------------------------\n"
     ]
    }
   ],
   "source": [
    "custom_classifier_metrics(y_pred=y_pred_rand, y_test=y_class_test)"
   ]
  },
  {
   "cell_type": "code",
   "execution_count": 604,
   "id": "19029b96",
   "metadata": {},
   "outputs": [
    {
     "name": "stdout",
     "output_type": "stream",
     "text": [
      "Оценки кросс-валидации на обучающем наборе [0.9017766  0.91778203 0.92131711 0.92302597 0.92062442]\n",
      "Средняя оценка кросс-валидации на обучающем наборе 0.9169052249848504\n"
     ]
    },
    {
     "data": {
      "text/plain": [
       "np.float64(0.9169052249848504)"
      ]
     },
     "execution_count": 604,
     "metadata": {},
     "output_type": "execute_result"
    }
   ],
   "source": [
    "k_fold(best_MLPClassifier, X_scaled_class, y_class, 'f1')"
   ]
  },
  {
   "cell_type": "markdown",
   "id": "6f26141f",
   "metadata": {},
   "source": [
    "### Регрессия"
   ]
  },
  {
   "cell_type": "code",
   "execution_count": 82,
   "id": "0e1bf5aa",
   "metadata": {},
   "outputs": [],
   "source": [
    "from sklearn.neural_network import MLPRegressor"
   ]
  },
  {
   "cell_type": "markdown",
   "id": "63430c91",
   "metadata": {},
   "source": [
    "**OPTUNA**"
   ]
  },
  {
   "cell_type": "code",
   "execution_count": 83,
   "id": "11ad7f3d",
   "metadata": {},
   "outputs": [],
   "source": [
    "best_MLPRegressor_optuna_params = optuna_get_best_params(X_reg_train, y_reg_train, X_reg_test, y_reg_test, 'reg')"
   ]
  },
  {
   "cell_type": "code",
   "execution_count": 85,
   "id": "1dde46b8",
   "metadata": {},
   "outputs": [
    {
     "data": {
      "text/plain": [
       "{'solver': 'lbfgs',\n",
       " 'activation': 'relu',\n",
       " 'alpha': 1e-05,\n",
       " 'hidden_layer_1': 24,\n",
       " 'hidden_layer_2': 36,\n",
       " 'batch_size': 64}"
      ]
     },
     "execution_count": 85,
     "metadata": {},
     "output_type": "execute_result"
    }
   ],
   "source": [
    "best_MLPRegressor_optuna_params"
   ]
  },
  {
   "cell_type": "code",
   "execution_count": 86,
   "id": "d206275b",
   "metadata": {},
   "outputs": [],
   "source": [
    "\n",
    "bp = best_MLPRegressor_optuna_params\n",
    "best_MLPReg_optuna = MLPRegressor(\n",
    "    hidden_layer_sizes=(bp['hidden_layer_1'], \n",
    "                        bp['hidden_layer_2']), \n",
    "                        activation=bp['activation'], \n",
    "                        solver=bp['solver'],\n",
    "                        alpha=bp['alpha'],\n",
    "                     \n",
    "                        batch_size=bp['batch_size']\n",
    "                        ).fit(X_reg_train, y_reg_train)"
   ]
  },
  {
   "cell_type": "code",
   "execution_count": 87,
   "id": "b68ab81e",
   "metadata": {},
   "outputs": [],
   "source": [
    "y_pred_optuna_reg  = pd.Series(best_MLPReg_optuna.predict(X_reg_test))"
   ]
  },
  {
   "cell_type": "code",
   "execution_count": 88,
   "id": "6f61231f",
   "metadata": {},
   "outputs": [
    {
     "name": "stdout",
     "output_type": "stream",
     "text": [
      "               Метрики качества\n",
      "MAE                     6.98500\n",
      "MSE                   191.42296\n",
      "RMSE                   13.83557\n",
      "MAPE                    0.28669\n",
      "Adjusted_rand           0.00038\n",
      "R^2                     0.75022\n"
     ]
    }
   ],
   "source": [
    "print_error(Y_test=y_reg_test, Y_pred=y_pred_optuna_reg)"
   ]
  },
  {
   "cell_type": "code",
   "execution_count": 617,
   "id": "6646917f",
   "metadata": {},
   "outputs": [
    {
     "name": "stdout",
     "output_type": "stream",
     "text": [
      "Оценки кросс-валидации на обучающем наборе [0.66187617 0.75362185 0.64780946 0.70711673 0.76533961]\n",
      "Средняя оценка кросс-валидации на обучающем наборе 0.7071527630633022\n"
     ]
    },
    {
     "data": {
      "text/plain": [
       "np.float64(0.7071527630633022)"
      ]
     },
     "execution_count": 617,
     "metadata": {},
     "output_type": "execute_result"
    }
   ],
   "source": [
    "k_fold(best_MLPReg_optuna, X_scaled_reg, y_reg, 'r2')"
   ]
  },
  {
   "cell_type": "markdown",
   "id": "9c0ab90b",
   "metadata": {},
   "source": [
    "**RANDOMIZED**"
   ]
  },
  {
   "cell_type": "code",
   "execution_count": 618,
   "id": "34be5fb1",
   "metadata": {},
   "outputs": [
    {
     "name": "stdout",
     "output_type": "stream",
     "text": [
      "Лучшие параметры для модели (RandomizedSearchCV) 'solver':'sgd', 'hidden_layer_sizes':'40', 'activation':'logistic'\n"
     ]
    }
   ],
   "source": [
    "best_MLPReg_rand=  randomizedSearchCV_params(MLPRegressor(), parameters=params_classifier_neural, X_train=X_reg_train, Y_train=y_reg_train )"
   ]
  },
  {
   "cell_type": "code",
   "execution_count": 622,
   "id": "bdf283f1",
   "metadata": {},
   "outputs": [
    {
     "name": "stdout",
     "output_type": "stream",
     "text": [
      "Оценки кросс-валидации на обучающем наборе [0.73883257 0.75962847 0.66945985 0.77157533 0.75323063]\n",
      "Средняя оценка кросс-валидации на обучающем наборе 0.7385453699668435\n"
     ]
    },
    {
     "data": {
      "text/plain": [
       "np.float64(0.7385453699668435)"
      ]
     },
     "execution_count": 622,
     "metadata": {},
     "output_type": "execute_result"
    }
   ],
   "source": [
    "y_pred_reg_rand = pd.Series(best_MLPReg_rand.predict(X_reg_test))\n",
    "k_fold(best_MLPReg_rand, X_scaled_reg, y_reg, 'r2')"
   ]
  },
  {
   "cell_type": "markdown",
   "id": "d5d96163",
   "metadata": {},
   "source": [
    "**HYPEROPT**"
   ]
  },
  {
   "cell_type": "code",
   "execution_count": 18,
   "id": "2e3e9f5e",
   "metadata": {},
   "outputs": [],
   "source": [
    "from hyperopt import hp, fmin, tpe, Trials, STATUS_OK"
   ]
  },
  {
   "cell_type": "code",
   "execution_count": 23,
   "id": "49d3224f",
   "metadata": {},
   "outputs": [],
   "source": [
    "def objective(params):\n",
    "    solver = params['solver']\n",
    "    activation  = params['activation']\n",
    "    alpha = params['alpha']\n",
    "    hidden_layer_1 = int(params['hidden_layer_1'])\n",
    "    hidden_layer_2 = int(params['hidden_layer_2'])\n",
    "    hidden_layer_3 = int(params['hidden_layer_3'])\n",
    "    batch_size = int(params['batch_size'])\n",
    "    learning_rate_init = params['learning_rate_init']\n",
    "\n",
    "    hidden_layer_sizes = (hidden_layer_1, hidden_layer_2, hidden_layer_3)\n",
    "\n",
    "    model  = MLPRegressor(\n",
    "        hidden_layer_sizes=hidden_layer_sizes,\n",
    "        activation=activation,\n",
    "        solver=solver,\n",
    "        alpha=alpha,\n",
    "        batch_size=batch_size,\n",
    "        learning_rate_init=learning_rate_init if solver in ['sgd', 'adam'] else 0.0001,\n",
    "        max_iter=200,\n",
    "        early_stopping=True,\n",
    "        validation_fraction=0.1,\n",
    "        n_iter_no_change=10,\n",
    "        random_state=42,\n",
    "        verbose=False\n",
    "    )\n",
    "\n",
    "    model.fit(X_reg_train, y_reg_train)\n",
    "\n",
    "    y_pred = model.predict(X_reg_test)\n",
    "    mse = mean_squared_error(y_pred=y_pred, y_true=y_reg_test)\n",
    "\n",
    "    return {'loss': mse, 'status': STATUS_OK}"
   ]
  },
  {
   "cell_type": "code",
   "execution_count": 24,
   "id": "c57120d3",
   "metadata": {},
   "outputs": [],
   "source": [
    "space = {\n",
    "    'solver': hp.choice('solver', ['adam', 'sgd', 'lbfgs']),\n",
    "    'activation': hp.choice('activation', ['relu', 'tanh', 'logistic']),\n",
    "    'alpha': hp.loguniform('alpha', -5, -1), \n",
    "    'hidden_layer_1': hp.quniform('hidden_layer_1', 10, 70, 10),\n",
    "    'hidden_layer_2': hp.quniform('hidden_layer_2', 6, 80, 10),\n",
    "    'hidden_layer_3': hp.quniform('hidden_layer_3', 6, 80, 10),\n",
    "    'batch_size': hp.quniform('batch_size', 32, 256, 32),\n",
    "    'learning_rate_init': hp.loguniform('learning_rate_init', -4, -1)  \n",
    "}\n",
    "\n",
    "trials = Trials()"
   ]
  },
  {
   "cell_type": "code",
   "execution_count": 25,
   "id": "5e0d23ef",
   "metadata": {},
   "outputs": [
    {
     "name": "stdout",
     "output_type": "stream",
     "text": [
      "100%|██████████| 200/200 [08:46<00:00,  2.63s/trial, best loss: 136.54064029490112]\n"
     ]
    }
   ],
   "source": [
    "best_MLPRegressor_hyperopt = fmin(fn=objective, space=space, algo=tpe.suggest, trials=trials, max_evals=200)"
   ]
  },
  {
   "cell_type": "code",
   "execution_count": 26,
   "id": "e57b4233",
   "metadata": {},
   "outputs": [
    {
     "data": {
      "text/plain": [
       "{'activation': np.int64(0),\n",
       " 'alpha': np.float64(0.16186464467043507),\n",
       " 'batch_size': np.float64(160.0),\n",
       " 'hidden_layer_1': np.float64(10.0),\n",
       " 'hidden_layer_2': np.float64(10.0),\n",
       " 'hidden_layer_3': np.float64(40.0),\n",
       " 'learning_rate_init': np.float64(0.21080238145136426),\n",
       " 'solver': np.int64(2)}"
      ]
     },
     "execution_count": 26,
     "metadata": {},
     "output_type": "execute_result"
    }
   ],
   "source": [
    "best_MLPRegressor_hyperopt"
   ]
  },
  {
   "cell_type": "code",
   "execution_count": 27,
   "id": "8a026a89",
   "metadata": {},
   "outputs": [],
   "source": [
    "bp = best_MLPRegressor_hyperopt\n",
    "MLPReg_hyperopt = MLPRegressor(\n",
    "    activation='relu',\n",
    "    alpha=bp['alpha'],\n",
    "    batch_size=160,\n",
    "    hidden_layer_sizes=(10, 10, 40),\n",
    "    learning_rate_init=bp['learning_rate_init'],\n",
    "    solver= 'lbfgs'\n",
    "\n",
    "\n",
    ").fit(X_reg_train, y_reg_train)"
   ]
  },
  {
   "cell_type": "code",
   "execution_count": 28,
   "id": "0fd49ec1",
   "metadata": {},
   "outputs": [],
   "source": [
    "y_pred_hyperopt = pd.Series(MLPReg_hyperopt.predict(X_reg_test))"
   ]
  },
  {
   "cell_type": "code",
   "execution_count": 29,
   "id": "a5f3c240",
   "metadata": {},
   "outputs": [
    {
     "name": "stdout",
     "output_type": "stream",
     "text": [
      "Оценки кросс-валидации на обучающем наборе [0.71699499 0.73162851 0.6757799  0.75103237 0.75754511]\n",
      "Средняя оценка кросс-валидации на обучающем наборе 0.7265961757155585\n"
     ]
    },
    {
     "data": {
      "text/plain": [
       "np.float64(0.7265961757155585)"
      ]
     },
     "execution_count": 29,
     "metadata": {},
     "output_type": "execute_result"
    }
   ],
   "source": [
    "k_fold(MLPReg_hyperopt, X_scaled_reg, y_reg, 'r2')"
   ]
  },
  {
   "cell_type": "markdown",
   "id": "ba387c8d",
   "metadata": {},
   "source": [
    "### **ПОДБОР ГИПЕРПАРАМЕТРОВ** <span style = \"color:rgb(149, 201, 235)\">(Для моделей Tensorflow)</span>"
   ]
  },
  {
   "cell_type": "code",
   "execution_count": null,
   "id": "df63b544",
   "metadata": {},
   "outputs": [],
   "source": []
  }
 ],
 "metadata": {
  "kernelspec": {
   "display_name": "Python 3",
   "language": "python",
   "name": "python3"
  },
  "language_info": {
   "codemirror_mode": {
    "name": "ipython",
    "version": 3
   },
   "file_extension": ".py",
   "mimetype": "text/x-python",
   "name": "python",
   "nbconvert_exporter": "python",
   "pygments_lexer": "ipython3",
   "version": "3.12.8"
  }
 },
 "nbformat": 4,
 "nbformat_minor": 5
}
