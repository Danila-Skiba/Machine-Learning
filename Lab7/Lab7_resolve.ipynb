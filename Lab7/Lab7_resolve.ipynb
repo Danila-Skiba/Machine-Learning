{
 "cells": [
  {
   "cell_type": "markdown",
   "id": "bd98b40b",
   "metadata": {},
   "source": [
    "## Лабораторная работа №7"
   ]
  },
  {
   "cell_type": "code",
   "execution_count": 2,
   "id": "b04b7a6e",
   "metadata": {},
   "outputs": [],
   "source": [
    "import pandas as pd\n",
    "import joblib\n",
    "\n",
    "from ml_library.k_fold import k_fold"
   ]
  },
  {
   "cell_type": "code",
   "execution_count": 3,
   "id": "f56643b7",
   "metadata": {},
   "outputs": [],
   "source": [
    "\n",
    "import warnings\n",
    "warnings.filterwarnings('ignore')\n"
   ]
  },
  {
   "cell_type": "code",
   "execution_count": 4,
   "id": "a494aff6",
   "metadata": {},
   "outputs": [],
   "source": [
    "data_regression = pd.read_csv('data_regression_modified.csv')\n",
    "data_class = pd.read_csv('data_class_modified.csv')"
   ]
  },
  {
   "cell_type": "code",
   "execution_count": 5,
   "id": "b595cade",
   "metadata": {},
   "outputs": [],
   "source": [
    "y_reg = data_regression['price']\n",
    "y_class = data_class['danger']\n",
    "X_reg = data_regression.drop(columns=['price', 'Unnamed: 0'])\n",
    "X_class = data_class.drop(columns=['danger', 'Unnamed: 0'])"
   ]
  },
  {
   "cell_type": "code",
   "execution_count": 6,
   "id": "e0b000b7",
   "metadata": {},
   "outputs": [],
   "source": [
    "from sklearn.model_selection import train_test_split\n",
    "from ml_library.metrics import custom_classifier_metrics\n",
    "from ml_library.metrics_regression import print_error"
   ]
  },
  {
   "cell_type": "code",
   "execution_count": 7,
   "id": "1b15fe85",
   "metadata": {},
   "outputs": [],
   "source": [
    "from sklearn.preprocessing import StandardScaler"
   ]
  },
  {
   "cell_type": "code",
   "execution_count": 8,
   "id": "e548b49d",
   "metadata": {},
   "outputs": [],
   "source": [
    "scaler = StandardScaler()\n",
    "scaler_reg  = StandardScaler()\n",
    "X_scaled_reg = scaler_reg.fit_transform(X_reg)\n",
    "X_scaled_class = scaler.fit_transform(X_class)\n",
    "X_scaled_class = pd.DataFrame(X_scaled_class, columns=X_class.columns)\n",
    "X_scaled_reg = pd.DataFrame(X_scaled_reg,columns=X_reg.columns )"
   ]
  },
  {
   "cell_type": "code",
   "execution_count": 9,
   "id": "fbc09834",
   "metadata": {},
   "outputs": [],
   "source": [
    "X_reg_train, X_reg_test, y_reg_train, y_reg_test = train_test_split(X_scaled_reg, y_reg, test_size=0.2)\n",
    "\n",
    "X_class_train, X_class_test, y_class_train, y_class_test= train_test_split(X_scaled_class, y_class, test_size=0.2, stratify=y_class)"
   ]
  },
  {
   "cell_type": "markdown",
   "id": "a0cbcd06",
   "metadata": {},
   "source": [
    "## Использование фреймворка Tensorflow и API Keras для решения задачи <span style= \"color:rgb(187, 223, 150)  \">классификации</span> и <span style=\"color:rgb(154, 193, 240) \">регрессии</span>"
   ]
  },
  {
   "cell_type": "code",
   "execution_count": 10,
   "id": "91d7631b",
   "metadata": {},
   "outputs": [],
   "source": [
    "import tensorflow as tf\n",
    "import numpy as np"
   ]
  },
  {
   "cell_type": "markdown",
   "id": "007397c2",
   "metadata": {},
   "source": [
    "### <span style=\"color:rgb(154, 193, 240) \">Регрессия</span>"
   ]
  },
  {
   "cell_type": "code",
   "execution_count": 10,
   "id": "05e1e2a1",
   "metadata": {},
   "outputs": [],
   "source": [
    "from scikeras.wrappers import KerasRegressor\n",
    "from sklearn.model_selection import cross_val_score, KFold\n"
   ]
  },
  {
   "cell_type": "code",
   "execution_count": 74,
   "id": "7a35dce6",
   "metadata": {},
   "outputs": [],
   "source": [
    "model_regression = tf.keras.Sequential(\n",
    "    [\n",
    "        tf.keras.layers.Dense(64, activation='linear', input_shape= (4,)),\n",
    "\n",
    "        tf.keras.layers.Dense(32, activation='linear'),\n",
    "\n",
    "        tf.keras.layers.Dense(16, activation='linear'),\n",
    "\n",
    "        tf.keras.layers.Dense(1, activation='linear'),\n",
    "    ]\n",
    ")\n",
    "\n",
    "model_regression.compile(optimizer=tf.keras.optimizers.Adam(learning_rate=0.0005), loss='mse')"
   ]
  },
  {
   "cell_type": "code",
   "execution_count": 75,
   "id": "10678a31",
   "metadata": {},
   "outputs": [
    {
     "data": {
      "text/html": [
       "<pre style=\"white-space:pre;overflow-x:auto;line-height:normal;font-family:Menlo,'DejaVu Sans Mono',consolas,'Courier New',monospace\"><span style=\"font-weight: bold\">Model: \"sequential_2\"</span>\n",
       "</pre>\n"
      ],
      "text/plain": [
       "\u001b[1mModel: \"sequential_2\"\u001b[0m\n"
      ]
     },
     "metadata": {},
     "output_type": "display_data"
    },
    {
     "data": {
      "text/html": [
       "<pre style=\"white-space:pre;overflow-x:auto;line-height:normal;font-family:Menlo,'DejaVu Sans Mono',consolas,'Courier New',monospace\">┏━━━━━━━━━━━━━━━━━━━━━━━━━━━━━━━━━┳━━━━━━━━━━━━━━━━━━━━━━━━┳━━━━━━━━━━━━━━━┓\n",
       "┃<span style=\"font-weight: bold\"> Layer (type)                    </span>┃<span style=\"font-weight: bold\"> Output Shape           </span>┃<span style=\"font-weight: bold\">       Param # </span>┃\n",
       "┡━━━━━━━━━━━━━━━━━━━━━━━━━━━━━━━━━╇━━━━━━━━━━━━━━━━━━━━━━━━╇━━━━━━━━━━━━━━━┩\n",
       "│ dense_6 (<span style=\"color: #0087ff; text-decoration-color: #0087ff\">Dense</span>)                 │ (<span style=\"color: #00d7ff; text-decoration-color: #00d7ff\">None</span>, <span style=\"color: #00af00; text-decoration-color: #00af00\">64</span>)             │           <span style=\"color: #00af00; text-decoration-color: #00af00\">320</span> │\n",
       "├─────────────────────────────────┼────────────────────────┼───────────────┤\n",
       "│ dense_7 (<span style=\"color: #0087ff; text-decoration-color: #0087ff\">Dense</span>)                 │ (<span style=\"color: #00d7ff; text-decoration-color: #00d7ff\">None</span>, <span style=\"color: #00af00; text-decoration-color: #00af00\">32</span>)             │         <span style=\"color: #00af00; text-decoration-color: #00af00\">2,080</span> │\n",
       "├─────────────────────────────────┼────────────────────────┼───────────────┤\n",
       "│ dense_8 (<span style=\"color: #0087ff; text-decoration-color: #0087ff\">Dense</span>)                 │ (<span style=\"color: #00d7ff; text-decoration-color: #00d7ff\">None</span>, <span style=\"color: #00af00; text-decoration-color: #00af00\">16</span>)             │           <span style=\"color: #00af00; text-decoration-color: #00af00\">528</span> │\n",
       "├─────────────────────────────────┼────────────────────────┼───────────────┤\n",
       "│ dense_9 (<span style=\"color: #0087ff; text-decoration-color: #0087ff\">Dense</span>)                 │ (<span style=\"color: #00d7ff; text-decoration-color: #00d7ff\">None</span>, <span style=\"color: #00af00; text-decoration-color: #00af00\">1</span>)              │            <span style=\"color: #00af00; text-decoration-color: #00af00\">17</span> │\n",
       "└─────────────────────────────────┴────────────────────────┴───────────────┘\n",
       "</pre>\n"
      ],
      "text/plain": [
       "┏━━━━━━━━━━━━━━━━━━━━━━━━━━━━━━━━━┳━━━━━━━━━━━━━━━━━━━━━━━━┳━━━━━━━━━━━━━━━┓\n",
       "┃\u001b[1m \u001b[0m\u001b[1mLayer (type)                   \u001b[0m\u001b[1m \u001b[0m┃\u001b[1m \u001b[0m\u001b[1mOutput Shape          \u001b[0m\u001b[1m \u001b[0m┃\u001b[1m \u001b[0m\u001b[1m      Param #\u001b[0m\u001b[1m \u001b[0m┃\n",
       "┡━━━━━━━━━━━━━━━━━━━━━━━━━━━━━━━━━╇━━━━━━━━━━━━━━━━━━━━━━━━╇━━━━━━━━━━━━━━━┩\n",
       "│ dense_6 (\u001b[38;5;33mDense\u001b[0m)                 │ (\u001b[38;5;45mNone\u001b[0m, \u001b[38;5;34m64\u001b[0m)             │           \u001b[38;5;34m320\u001b[0m │\n",
       "├─────────────────────────────────┼────────────────────────┼───────────────┤\n",
       "│ dense_7 (\u001b[38;5;33mDense\u001b[0m)                 │ (\u001b[38;5;45mNone\u001b[0m, \u001b[38;5;34m32\u001b[0m)             │         \u001b[38;5;34m2,080\u001b[0m │\n",
       "├─────────────────────────────────┼────────────────────────┼───────────────┤\n",
       "│ dense_8 (\u001b[38;5;33mDense\u001b[0m)                 │ (\u001b[38;5;45mNone\u001b[0m, \u001b[38;5;34m16\u001b[0m)             │           \u001b[38;5;34m528\u001b[0m │\n",
       "├─────────────────────────────────┼────────────────────────┼───────────────┤\n",
       "│ dense_9 (\u001b[38;5;33mDense\u001b[0m)                 │ (\u001b[38;5;45mNone\u001b[0m, \u001b[38;5;34m1\u001b[0m)              │            \u001b[38;5;34m17\u001b[0m │\n",
       "└─────────────────────────────────┴────────────────────────┴───────────────┘\n"
      ]
     },
     "metadata": {},
     "output_type": "display_data"
    },
    {
     "data": {
      "text/html": [
       "<pre style=\"white-space:pre;overflow-x:auto;line-height:normal;font-family:Menlo,'DejaVu Sans Mono',consolas,'Courier New',monospace\"><span style=\"font-weight: bold\"> Total params: </span><span style=\"color: #00af00; text-decoration-color: #00af00\">2,945</span> (11.50 KB)\n",
       "</pre>\n"
      ],
      "text/plain": [
       "\u001b[1m Total params: \u001b[0m\u001b[38;5;34m2,945\u001b[0m (11.50 KB)\n"
      ]
     },
     "metadata": {},
     "output_type": "display_data"
    },
    {
     "data": {
      "text/html": [
       "<pre style=\"white-space:pre;overflow-x:auto;line-height:normal;font-family:Menlo,'DejaVu Sans Mono',consolas,'Courier New',monospace\"><span style=\"font-weight: bold\"> Trainable params: </span><span style=\"color: #00af00; text-decoration-color: #00af00\">2,945</span> (11.50 KB)\n",
       "</pre>\n"
      ],
      "text/plain": [
       "\u001b[1m Trainable params: \u001b[0m\u001b[38;5;34m2,945\u001b[0m (11.50 KB)\n"
      ]
     },
     "metadata": {},
     "output_type": "display_data"
    },
    {
     "data": {
      "text/html": [
       "<pre style=\"white-space:pre;overflow-x:auto;line-height:normal;font-family:Menlo,'DejaVu Sans Mono',consolas,'Courier New',monospace\"><span style=\"font-weight: bold\"> Non-trainable params: </span><span style=\"color: #00af00; text-decoration-color: #00af00\">0</span> (0.00 B)\n",
       "</pre>\n"
      ],
      "text/plain": [
       "\u001b[1m Non-trainable params: \u001b[0m\u001b[38;5;34m0\u001b[0m (0.00 B)\n"
      ]
     },
     "metadata": {},
     "output_type": "display_data"
    }
   ],
   "source": [
    "model_regression.summary()"
   ]
  },
  {
   "cell_type": "code",
   "execution_count": 76,
   "id": "da6e12f5",
   "metadata": {},
   "outputs": [
    {
     "name": "stdout",
     "output_type": "stream",
     "text": [
      "Epoch 1/80\n"
     ]
    },
    {
     "name": "stdout",
     "output_type": "stream",
     "text": [
      "\u001b[1m156/156\u001b[0m \u001b[32m━━━━━━━━━━━━━━━━━━━━\u001b[0m\u001b[37m\u001b[0m \u001b[1m1s\u001b[0m 2ms/step - loss: 1474.9829\n",
      "Epoch 2/80\n",
      "\u001b[1m156/156\u001b[0m \u001b[32m━━━━━━━━━━━━━━━━━━━━\u001b[0m\u001b[37m\u001b[0m \u001b[1m0s\u001b[0m 1ms/step - loss: 434.2832\n",
      "Epoch 3/80\n",
      "\u001b[1m156/156\u001b[0m \u001b[32m━━━━━━━━━━━━━━━━━━━━\u001b[0m\u001b[37m\u001b[0m \u001b[1m0s\u001b[0m 1ms/step - loss: 280.7682\n",
      "Epoch 4/80\n",
      "\u001b[1m156/156\u001b[0m \u001b[32m━━━━━━━━━━━━━━━━━━━━\u001b[0m\u001b[37m\u001b[0m \u001b[1m0s\u001b[0m 1ms/step - loss: 299.9397\n",
      "Epoch 5/80\n",
      "\u001b[1m156/156\u001b[0m \u001b[32m━━━━━━━━━━━━━━━━━━━━\u001b[0m\u001b[37m\u001b[0m \u001b[1m0s\u001b[0m 1ms/step - loss: 272.9389\n",
      "Epoch 6/80\n",
      "\u001b[1m156/156\u001b[0m \u001b[32m━━━━━━━━━━━━━━━━━━━━\u001b[0m\u001b[37m\u001b[0m \u001b[1m0s\u001b[0m 1ms/step - loss: 270.6862\n",
      "Epoch 7/80\n",
      "\u001b[1m156/156\u001b[0m \u001b[32m━━━━━━━━━━━━━━━━━━━━\u001b[0m\u001b[37m\u001b[0m \u001b[1m0s\u001b[0m 2ms/step - loss: 267.1979\n",
      "Epoch 8/80\n",
      "\u001b[1m156/156\u001b[0m \u001b[32m━━━━━━━━━━━━━━━━━━━━\u001b[0m\u001b[37m\u001b[0m \u001b[1m0s\u001b[0m 1ms/step - loss: 264.2768\n",
      "Epoch 9/80\n",
      "\u001b[1m156/156\u001b[0m \u001b[32m━━━━━━━━━━━━━━━━━━━━\u001b[0m\u001b[37m\u001b[0m \u001b[1m0s\u001b[0m 2ms/step - loss: 287.6094\n",
      "Epoch 10/80\n",
      "\u001b[1m156/156\u001b[0m \u001b[32m━━━━━━━━━━━━━━━━━━━━\u001b[0m\u001b[37m\u001b[0m \u001b[1m0s\u001b[0m 2ms/step - loss: 233.9502\n",
      "Epoch 11/80\n",
      "\u001b[1m156/156\u001b[0m \u001b[32m━━━━━━━━━━━━━━━━━━━━\u001b[0m\u001b[37m\u001b[0m \u001b[1m0s\u001b[0m 2ms/step - loss: 263.2237\n",
      "Epoch 12/80\n",
      "\u001b[1m156/156\u001b[0m \u001b[32m━━━━━━━━━━━━━━━━━━━━\u001b[0m\u001b[37m\u001b[0m \u001b[1m0s\u001b[0m 2ms/step - loss: 280.1098\n",
      "Epoch 13/80\n",
      "\u001b[1m156/156\u001b[0m \u001b[32m━━━━━━━━━━━━━━━━━━━━\u001b[0m\u001b[37m\u001b[0m \u001b[1m0s\u001b[0m 2ms/step - loss: 255.9804\n",
      "Epoch 14/80\n",
      "\u001b[1m156/156\u001b[0m \u001b[32m━━━━━━━━━━━━━━━━━━━━\u001b[0m\u001b[37m\u001b[0m \u001b[1m0s\u001b[0m 2ms/step - loss: 230.4780\n",
      "Epoch 15/80\n",
      "\u001b[1m156/156\u001b[0m \u001b[32m━━━━━━━━━━━━━━━━━━━━\u001b[0m\u001b[37m\u001b[0m \u001b[1m0s\u001b[0m 2ms/step - loss: 257.3405\n",
      "Epoch 16/80\n",
      "\u001b[1m156/156\u001b[0m \u001b[32m━━━━━━━━━━━━━━━━━━━━\u001b[0m\u001b[37m\u001b[0m \u001b[1m0s\u001b[0m 2ms/step - loss: 255.3561\n",
      "Epoch 17/80\n",
      "\u001b[1m156/156\u001b[0m \u001b[32m━━━━━━━━━━━━━━━━━━━━\u001b[0m\u001b[37m\u001b[0m \u001b[1m0s\u001b[0m 2ms/step - loss: 282.2113\n",
      "Epoch 18/80\n",
      "\u001b[1m156/156\u001b[0m \u001b[32m━━━━━━━━━━━━━━━━━━━━\u001b[0m\u001b[37m\u001b[0m \u001b[1m0s\u001b[0m 2ms/step - loss: 290.2997\n",
      "Epoch 19/80\n",
      "\u001b[1m156/156\u001b[0m \u001b[32m━━━━━━━━━━━━━━━━━━━━\u001b[0m\u001b[37m\u001b[0m \u001b[1m0s\u001b[0m 2ms/step - loss: 273.7050\n",
      "Epoch 20/80\n",
      "\u001b[1m156/156\u001b[0m \u001b[32m━━━━━━━━━━━━━━━━━━━━\u001b[0m\u001b[37m\u001b[0m \u001b[1m0s\u001b[0m 2ms/step - loss: 282.8147\n",
      "Epoch 21/80\n",
      "\u001b[1m156/156\u001b[0m \u001b[32m━━━━━━━━━━━━━━━━━━━━\u001b[0m\u001b[37m\u001b[0m \u001b[1m0s\u001b[0m 2ms/step - loss: 242.2500\n",
      "Epoch 22/80\n",
      "\u001b[1m156/156\u001b[0m \u001b[32m━━━━━━━━━━━━━━━━━━━━\u001b[0m\u001b[37m\u001b[0m \u001b[1m0s\u001b[0m 2ms/step - loss: 244.4699\n",
      "Epoch 23/80\n",
      "\u001b[1m156/156\u001b[0m \u001b[32m━━━━━━━━━━━━━━━━━━━━\u001b[0m\u001b[37m\u001b[0m \u001b[1m0s\u001b[0m 2ms/step - loss: 279.2623\n",
      "Epoch 24/80\n",
      "\u001b[1m156/156\u001b[0m \u001b[32m━━━━━━━━━━━━━━━━━━━━\u001b[0m\u001b[37m\u001b[0m \u001b[1m0s\u001b[0m 2ms/step - loss: 248.2801\n",
      "Epoch 25/80\n",
      "\u001b[1m156/156\u001b[0m \u001b[32m━━━━━━━━━━━━━━━━━━━━\u001b[0m\u001b[37m\u001b[0m \u001b[1m0s\u001b[0m 2ms/step - loss: 297.7130\n",
      "Epoch 26/80\n",
      "\u001b[1m156/156\u001b[0m \u001b[32m━━━━━━━━━━━━━━━━━━━━\u001b[0m\u001b[37m\u001b[0m \u001b[1m0s\u001b[0m 2ms/step - loss: 233.5707\n",
      "Epoch 27/80\n",
      "\u001b[1m156/156\u001b[0m \u001b[32m━━━━━━━━━━━━━━━━━━━━\u001b[0m\u001b[37m\u001b[0m \u001b[1m0s\u001b[0m 2ms/step - loss: 271.3650\n",
      "Epoch 28/80\n",
      "\u001b[1m156/156\u001b[0m \u001b[32m━━━━━━━━━━━━━━━━━━━━\u001b[0m\u001b[37m\u001b[0m \u001b[1m0s\u001b[0m 2ms/step - loss: 256.3101\n",
      "Epoch 29/80\n",
      "\u001b[1m156/156\u001b[0m \u001b[32m━━━━━━━━━━━━━━━━━━━━\u001b[0m\u001b[37m\u001b[0m \u001b[1m0s\u001b[0m 2ms/step - loss: 219.7696\n",
      "Epoch 30/80\n",
      "\u001b[1m156/156\u001b[0m \u001b[32m━━━━━━━━━━━━━━━━━━━━\u001b[0m\u001b[37m\u001b[0m \u001b[1m0s\u001b[0m 2ms/step - loss: 264.1694\n",
      "Epoch 31/80\n",
      "\u001b[1m156/156\u001b[0m \u001b[32m━━━━━━━━━━━━━━━━━━━━\u001b[0m\u001b[37m\u001b[0m \u001b[1m0s\u001b[0m 2ms/step - loss: 266.8931\n",
      "Epoch 32/80\n",
      "\u001b[1m156/156\u001b[0m \u001b[32m━━━━━━━━━━━━━━━━━━━━\u001b[0m\u001b[37m\u001b[0m \u001b[1m0s\u001b[0m 2ms/step - loss: 261.0854\n",
      "Epoch 33/80\n",
      "\u001b[1m156/156\u001b[0m \u001b[32m━━━━━━━━━━━━━━━━━━━━\u001b[0m\u001b[37m\u001b[0m \u001b[1m0s\u001b[0m 2ms/step - loss: 254.1974\n",
      "Epoch 34/80\n",
      "\u001b[1m156/156\u001b[0m \u001b[32m━━━━━━━━━━━━━━━━━━━━\u001b[0m\u001b[37m\u001b[0m \u001b[1m0s\u001b[0m 2ms/step - loss: 253.4319\n",
      "Epoch 35/80\n",
      "\u001b[1m156/156\u001b[0m \u001b[32m━━━━━━━━━━━━━━━━━━━━\u001b[0m\u001b[37m\u001b[0m \u001b[1m0s\u001b[0m 2ms/step - loss: 305.9960\n",
      "Epoch 36/80\n",
      "\u001b[1m156/156\u001b[0m \u001b[32m━━━━━━━━━━━━━━━━━━━━\u001b[0m\u001b[37m\u001b[0m \u001b[1m0s\u001b[0m 2ms/step - loss: 269.7068\n",
      "Epoch 37/80\n",
      "\u001b[1m156/156\u001b[0m \u001b[32m━━━━━━━━━━━━━━━━━━━━\u001b[0m\u001b[37m\u001b[0m \u001b[1m0s\u001b[0m 2ms/step - loss: 269.3781\n",
      "Epoch 38/80\n",
      "\u001b[1m156/156\u001b[0m \u001b[32m━━━━━━━━━━━━━━━━━━━━\u001b[0m\u001b[37m\u001b[0m \u001b[1m0s\u001b[0m 2ms/step - loss: 300.7715\n",
      "Epoch 39/80\n",
      "\u001b[1m156/156\u001b[0m \u001b[32m━━━━━━━━━━━━━━━━━━━━\u001b[0m\u001b[37m\u001b[0m \u001b[1m0s\u001b[0m 2ms/step - loss: 264.4774\n",
      "Epoch 40/80\n",
      "\u001b[1m156/156\u001b[0m \u001b[32m━━━━━━━━━━━━━━━━━━━━\u001b[0m\u001b[37m\u001b[0m \u001b[1m0s\u001b[0m 2ms/step - loss: 250.1121\n",
      "Epoch 41/80\n",
      "\u001b[1m156/156\u001b[0m \u001b[32m━━━━━━━━━━━━━━━━━━━━\u001b[0m\u001b[37m\u001b[0m \u001b[1m0s\u001b[0m 2ms/step - loss: 274.1028\n",
      "Epoch 42/80\n",
      "\u001b[1m156/156\u001b[0m \u001b[32m━━━━━━━━━━━━━━━━━━━━\u001b[0m\u001b[37m\u001b[0m \u001b[1m0s\u001b[0m 2ms/step - loss: 287.6900\n",
      "Epoch 43/80\n",
      "\u001b[1m156/156\u001b[0m \u001b[32m━━━━━━━━━━━━━━━━━━━━\u001b[0m\u001b[37m\u001b[0m \u001b[1m0s\u001b[0m 2ms/step - loss: 242.8665\n",
      "Epoch 44/80\n",
      "\u001b[1m156/156\u001b[0m \u001b[32m━━━━━━━━━━━━━━━━━━━━\u001b[0m\u001b[37m\u001b[0m \u001b[1m0s\u001b[0m 2ms/step - loss: 254.5246\n",
      "Epoch 45/80\n",
      "\u001b[1m156/156\u001b[0m \u001b[32m━━━━━━━━━━━━━━━━━━━━\u001b[0m\u001b[37m\u001b[0m \u001b[1m0s\u001b[0m 2ms/step - loss: 256.0326\n",
      "Epoch 46/80\n",
      "\u001b[1m156/156\u001b[0m \u001b[32m━━━━━━━━━━━━━━━━━━━━\u001b[0m\u001b[37m\u001b[0m \u001b[1m0s\u001b[0m 2ms/step - loss: 232.9273\n",
      "Epoch 47/80\n",
      "\u001b[1m156/156\u001b[0m \u001b[32m━━━━━━━━━━━━━━━━━━━━\u001b[0m\u001b[37m\u001b[0m \u001b[1m0s\u001b[0m 2ms/step - loss: 219.9464\n",
      "Epoch 48/80\n",
      "\u001b[1m156/156\u001b[0m \u001b[32m━━━━━━━━━━━━━━━━━━━━\u001b[0m\u001b[37m\u001b[0m \u001b[1m0s\u001b[0m 2ms/step - loss: 304.8159\n",
      "Epoch 49/80\n",
      "\u001b[1m156/156\u001b[0m \u001b[32m━━━━━━━━━━━━━━━━━━━━\u001b[0m\u001b[37m\u001b[0m \u001b[1m0s\u001b[0m 2ms/step - loss: 240.6218\n",
      "Epoch 50/80\n",
      "\u001b[1m156/156\u001b[0m \u001b[32m━━━━━━━━━━━━━━━━━━━━\u001b[0m\u001b[37m\u001b[0m \u001b[1m0s\u001b[0m 2ms/step - loss: 244.7928\n",
      "Epoch 51/80\n",
      "\u001b[1m156/156\u001b[0m \u001b[32m━━━━━━━━━━━━━━━━━━━━\u001b[0m\u001b[37m\u001b[0m \u001b[1m0s\u001b[0m 2ms/step - loss: 258.1513\n",
      "Epoch 52/80\n",
      "\u001b[1m156/156\u001b[0m \u001b[32m━━━━━━━━━━━━━━━━━━━━\u001b[0m\u001b[37m\u001b[0m \u001b[1m0s\u001b[0m 2ms/step - loss: 250.0355\n",
      "Epoch 53/80\n",
      "\u001b[1m156/156\u001b[0m \u001b[32m━━━━━━━━━━━━━━━━━━━━\u001b[0m\u001b[37m\u001b[0m \u001b[1m0s\u001b[0m 2ms/step - loss: 266.2838\n",
      "Epoch 54/80\n",
      "\u001b[1m156/156\u001b[0m \u001b[32m━━━━━━━━━━━━━━━━━━━━\u001b[0m\u001b[37m\u001b[0m \u001b[1m0s\u001b[0m 2ms/step - loss: 268.2953\n",
      "Epoch 55/80\n",
      "\u001b[1m156/156\u001b[0m \u001b[32m━━━━━━━━━━━━━━━━━━━━\u001b[0m\u001b[37m\u001b[0m \u001b[1m0s\u001b[0m 2ms/step - loss: 263.4584\n",
      "Epoch 56/80\n",
      "\u001b[1m156/156\u001b[0m \u001b[32m━━━━━━━━━━━━━━━━━━━━\u001b[0m\u001b[37m\u001b[0m \u001b[1m0s\u001b[0m 2ms/step - loss: 252.3261\n",
      "Epoch 57/80\n",
      "\u001b[1m156/156\u001b[0m \u001b[32m━━━━━━━━━━━━━━━━━━━━\u001b[0m\u001b[37m\u001b[0m \u001b[1m0s\u001b[0m 2ms/step - loss: 272.7592\n",
      "Epoch 58/80\n",
      "\u001b[1m156/156\u001b[0m \u001b[32m━━━━━━━━━━━━━━━━━━━━\u001b[0m\u001b[37m\u001b[0m \u001b[1m0s\u001b[0m 2ms/step - loss: 299.0757\n",
      "Epoch 59/80\n",
      "\u001b[1m156/156\u001b[0m \u001b[32m━━━━━━━━━━━━━━━━━━━━\u001b[0m\u001b[37m\u001b[0m \u001b[1m1s\u001b[0m 2ms/step - loss: 290.5742\n",
      "Epoch 60/80\n",
      "\u001b[1m156/156\u001b[0m \u001b[32m━━━━━━━━━━━━━━━━━━━━\u001b[0m\u001b[37m\u001b[0m \u001b[1m0s\u001b[0m 2ms/step - loss: 270.0771\n",
      "Epoch 61/80\n",
      "\u001b[1m156/156\u001b[0m \u001b[32m━━━━━━━━━━━━━━━━━━━━\u001b[0m\u001b[37m\u001b[0m \u001b[1m0s\u001b[0m 2ms/step - loss: 268.0776\n",
      "Epoch 62/80\n",
      "\u001b[1m156/156\u001b[0m \u001b[32m━━━━━━━━━━━━━━━━━━━━\u001b[0m\u001b[37m\u001b[0m \u001b[1m0s\u001b[0m 2ms/step - loss: 219.7529\n",
      "Epoch 63/80\n",
      "\u001b[1m156/156\u001b[0m \u001b[32m━━━━━━━━━━━━━━━━━━━━\u001b[0m\u001b[37m\u001b[0m \u001b[1m0s\u001b[0m 2ms/step - loss: 253.1117\n",
      "Epoch 64/80\n",
      "\u001b[1m156/156\u001b[0m \u001b[32m━━━━━━━━━━━━━━━━━━━━\u001b[0m\u001b[37m\u001b[0m \u001b[1m0s\u001b[0m 1ms/step - loss: 257.2455\n",
      "Epoch 65/80\n",
      "\u001b[1m156/156\u001b[0m \u001b[32m━━━━━━━━━━━━━━━━━━━━\u001b[0m\u001b[37m\u001b[0m \u001b[1m0s\u001b[0m 2ms/step - loss: 245.1628\n",
      "Epoch 66/80\n",
      "\u001b[1m156/156\u001b[0m \u001b[32m━━━━━━━━━━━━━━━━━━━━\u001b[0m\u001b[37m\u001b[0m \u001b[1m0s\u001b[0m 2ms/step - loss: 299.2195\n",
      "Epoch 67/80\n",
      "\u001b[1m156/156\u001b[0m \u001b[32m━━━━━━━━━━━━━━━━━━━━\u001b[0m\u001b[37m\u001b[0m \u001b[1m0s\u001b[0m 2ms/step - loss: 253.6562\n",
      "Epoch 68/80\n",
      "\u001b[1m156/156\u001b[0m \u001b[32m━━━━━━━━━━━━━━━━━━━━\u001b[0m\u001b[37m\u001b[0m \u001b[1m0s\u001b[0m 2ms/step - loss: 257.1906\n",
      "Epoch 69/80\n",
      "\u001b[1m156/156\u001b[0m \u001b[32m━━━━━━━━━━━━━━━━━━━━\u001b[0m\u001b[37m\u001b[0m \u001b[1m0s\u001b[0m 2ms/step - loss: 277.0055\n",
      "Epoch 70/80\n",
      "\u001b[1m156/156\u001b[0m \u001b[32m━━━━━━━━━━━━━━━━━━━━\u001b[0m\u001b[37m\u001b[0m \u001b[1m0s\u001b[0m 2ms/step - loss: 261.7332\n",
      "Epoch 71/80\n",
      "\u001b[1m156/156\u001b[0m \u001b[32m━━━━━━━━━━━━━━━━━━━━\u001b[0m\u001b[37m\u001b[0m \u001b[1m0s\u001b[0m 3ms/step - loss: 264.6258\n",
      "Epoch 72/80\n",
      "\u001b[1m156/156\u001b[0m \u001b[32m━━━━━━━━━━━━━━━━━━━━\u001b[0m\u001b[37m\u001b[0m \u001b[1m0s\u001b[0m 2ms/step - loss: 245.2254\n",
      "Epoch 73/80\n",
      "\u001b[1m156/156\u001b[0m \u001b[32m━━━━━━━━━━━━━━━━━━━━\u001b[0m\u001b[37m\u001b[0m \u001b[1m0s\u001b[0m 2ms/step - loss: 250.8142\n",
      "Epoch 74/80\n",
      "\u001b[1m156/156\u001b[0m \u001b[32m━━━━━━━━━━━━━━━━━━━━\u001b[0m\u001b[37m\u001b[0m \u001b[1m0s\u001b[0m 2ms/step - loss: 297.2804\n",
      "Epoch 75/80\n",
      "\u001b[1m156/156\u001b[0m \u001b[32m━━━━━━━━━━━━━━━━━━━━\u001b[0m\u001b[37m\u001b[0m \u001b[1m0s\u001b[0m 2ms/step - loss: 257.8594\n",
      "Epoch 76/80\n",
      "\u001b[1m156/156\u001b[0m \u001b[32m━━━━━━━━━━━━━━━━━━━━\u001b[0m\u001b[37m\u001b[0m \u001b[1m0s\u001b[0m 3ms/step - loss: 274.4172\n",
      "Epoch 77/80\n",
      "\u001b[1m156/156\u001b[0m \u001b[32m━━━━━━━━━━━━━━━━━━━━\u001b[0m\u001b[37m\u001b[0m \u001b[1m1s\u001b[0m 2ms/step - loss: 241.2759\n",
      "Epoch 78/80\n",
      "\u001b[1m156/156\u001b[0m \u001b[32m━━━━━━━━━━━━━━━━━━━━\u001b[0m\u001b[37m\u001b[0m \u001b[1m0s\u001b[0m 2ms/step - loss: 247.9051\n",
      "Epoch 79/80\n",
      "\u001b[1m156/156\u001b[0m \u001b[32m━━━━━━━━━━━━━━━━━━━━\u001b[0m\u001b[37m\u001b[0m \u001b[1m0s\u001b[0m 2ms/step - loss: 235.0598\n",
      "Epoch 80/80\n",
      "\u001b[1m156/156\u001b[0m \u001b[32m━━━━━━━━━━━━━━━━━━━━\u001b[0m\u001b[37m\u001b[0m \u001b[1m0s\u001b[0m 3ms/step - loss: 264.5490\n"
     ]
    },
    {
     "data": {
      "text/plain": [
       "<keras.src.callbacks.history.History at 0x1e1ceed3ec0>"
      ]
     },
     "execution_count": 76,
     "metadata": {},
     "output_type": "execute_result"
    }
   ],
   "source": [
    "model_regression.fit(X_reg_train, y_reg_train, epochs=80)"
   ]
  },
  {
   "cell_type": "code",
   "execution_count": 77,
   "id": "77400768",
   "metadata": {},
   "outputs": [
    {
     "name": "stdout",
     "output_type": "stream",
     "text": [
      "\u001b[1m39/39\u001b[0m \u001b[32m━━━━━━━━━━━━━━━━━━━━\u001b[0m\u001b[37m\u001b[0m \u001b[1m0s\u001b[0m 3ms/step\n"
     ]
    }
   ],
   "source": [
    "y_pred_reg = pd.Series(model_regression.predict(X_reg_test).flatten())"
   ]
  },
  {
   "cell_type": "code",
   "execution_count": 78,
   "id": "df5ddfed",
   "metadata": {},
   "outputs": [
    {
     "data": {
      "text/plain": [
       "0       18.50\n",
       "1        6.50\n",
       "2        3.84\n",
       "3        5.00\n",
       "4       40.00\n",
       "        ...  \n",
       "1243    19.00\n",
       "1244    22.00\n",
       "1245    25.20\n",
       "1246    12.50\n",
       "1247     6.80\n",
       "Name: price, Length: 1248, dtype: float64"
      ]
     },
     "execution_count": 78,
     "metadata": {},
     "output_type": "execute_result"
    }
   ],
   "source": [
    "y_reg_test = y_reg_test.reset_index(drop=True)\n",
    "y_reg_test"
   ]
  },
  {
   "cell_type": "code",
   "execution_count": 79,
   "id": "18f569c2",
   "metadata": {},
   "outputs": [
    {
     "name": "stdout",
     "output_type": "stream",
     "text": [
      "               Метрики качества\n",
      "MAE                     9.16110\n",
      "MSE                   276.10203\n",
      "RMSE                   16.61632\n",
      "MAPE                    0.67673\n",
      "Adjusted_rand           0.00038\n",
      "R^2                     0.63973\n"
     ]
    }
   ],
   "source": [
    "from sklearn.metrics import r2_score\n",
    "\n",
    "print_error(y_reg_test, y_pred_reg, custom=True)"
   ]
  },
  {
   "cell_type": "markdown",
   "id": "aa45b5a7",
   "metadata": {},
   "source": [
    "### <span style= \"color:rgb(187, 223, 150)  \">Классификация</span>"
   ]
  },
  {
   "cell_type": "code",
   "execution_count": 53,
   "id": "f6403056",
   "metadata": {},
   "outputs": [
    {
     "name": "stdout",
     "output_type": "stream",
     "text": [
      "Epoch 1/30\n",
      "\u001b[1m1750/1750\u001b[0m \u001b[32m━━━━━━━━━━━━━━━━━━━━\u001b[0m\u001b[37m\u001b[0m \u001b[1m3s\u001b[0m 1ms/step - loss: 0.2861\n",
      "Epoch 2/30\n",
      "\u001b[1m1750/1750\u001b[0m \u001b[32m━━━━━━━━━━━━━━━━━━━━\u001b[0m\u001b[37m\u001b[0m \u001b[1m4s\u001b[0m 2ms/step - loss: 0.2648\n",
      "Epoch 3/30\n",
      "\u001b[1m1750/1750\u001b[0m \u001b[32m━━━━━━━━━━━━━━━━━━━━\u001b[0m\u001b[37m\u001b[0m \u001b[1m4s\u001b[0m 2ms/step - loss: 0.2572\n",
      "Epoch 4/30\n",
      "\u001b[1m1750/1750\u001b[0m \u001b[32m━━━━━━━━━━━━━━━━━━━━\u001b[0m\u001b[37m\u001b[0m \u001b[1m4s\u001b[0m 2ms/step - loss: 0.2607\n",
      "Epoch 5/30\n",
      "\u001b[1m1750/1750\u001b[0m \u001b[32m━━━━━━━━━━━━━━━━━━━━\u001b[0m\u001b[37m\u001b[0m \u001b[1m4s\u001b[0m 3ms/step - loss: 0.2600\n",
      "Epoch 6/30\n",
      "\u001b[1m1750/1750\u001b[0m \u001b[32m━━━━━━━━━━━━━━━━━━━━\u001b[0m\u001b[37m\u001b[0m \u001b[1m5s\u001b[0m 3ms/step - loss: 0.2588\n",
      "Epoch 7/30\n",
      "\u001b[1m1750/1750\u001b[0m \u001b[32m━━━━━━━━━━━━━━━━━━━━\u001b[0m\u001b[37m\u001b[0m \u001b[1m5s\u001b[0m 3ms/step - loss: 0.2624\n",
      "Epoch 8/30\n",
      "\u001b[1m1750/1750\u001b[0m \u001b[32m━━━━━━━━━━━━━━━━━━━━\u001b[0m\u001b[37m\u001b[0m \u001b[1m4s\u001b[0m 3ms/step - loss: 0.2601\n",
      "Epoch 9/30\n",
      "\u001b[1m1750/1750\u001b[0m \u001b[32m━━━━━━━━━━━━━━━━━━━━\u001b[0m\u001b[37m\u001b[0m \u001b[1m4s\u001b[0m 2ms/step - loss: 0.2617\n",
      "Epoch 10/30\n",
      "\u001b[1m1750/1750\u001b[0m \u001b[32m━━━━━━━━━━━━━━━━━━━━\u001b[0m\u001b[37m\u001b[0m \u001b[1m4s\u001b[0m 2ms/step - loss: 0.2589\n",
      "Epoch 11/30\n",
      "\u001b[1m1750/1750\u001b[0m \u001b[32m━━━━━━━━━━━━━━━━━━━━\u001b[0m\u001b[37m\u001b[0m \u001b[1m4s\u001b[0m 2ms/step - loss: 0.2578\n",
      "Epoch 12/30\n",
      "\u001b[1m1750/1750\u001b[0m \u001b[32m━━━━━━━━━━━━━━━━━━━━\u001b[0m\u001b[37m\u001b[0m \u001b[1m3s\u001b[0m 2ms/step - loss: 0.2578\n",
      "Epoch 13/30\n",
      "\u001b[1m1750/1750\u001b[0m \u001b[32m━━━━━━━━━━━━━━━━━━━━\u001b[0m\u001b[37m\u001b[0m \u001b[1m3s\u001b[0m 2ms/step - loss: 0.2593\n",
      "Epoch 14/30\n",
      "\u001b[1m1750/1750\u001b[0m \u001b[32m━━━━━━━━━━━━━━━━━━━━\u001b[0m\u001b[37m\u001b[0m \u001b[1m4s\u001b[0m 2ms/step - loss: 0.2565\n",
      "Epoch 15/30\n",
      "\u001b[1m1750/1750\u001b[0m \u001b[32m━━━━━━━━━━━━━━━━━━━━\u001b[0m\u001b[37m\u001b[0m \u001b[1m4s\u001b[0m 2ms/step - loss: 0.2614\n",
      "Epoch 16/30\n",
      "\u001b[1m1750/1750\u001b[0m \u001b[32m━━━━━━━━━━━━━━━━━━━━\u001b[0m\u001b[37m\u001b[0m \u001b[1m4s\u001b[0m 2ms/step - loss: 0.2592\n",
      "Epoch 17/30\n",
      "\u001b[1m1750/1750\u001b[0m \u001b[32m━━━━━━━━━━━━━━━━━━━━\u001b[0m\u001b[37m\u001b[0m \u001b[1m4s\u001b[0m 2ms/step - loss: 0.2582\n",
      "Epoch 18/30\n",
      "\u001b[1m1750/1750\u001b[0m \u001b[32m━━━━━━━━━━━━━━━━━━━━\u001b[0m\u001b[37m\u001b[0m \u001b[1m4s\u001b[0m 2ms/step - loss: 0.2585\n",
      "Epoch 19/30\n",
      "\u001b[1m1750/1750\u001b[0m \u001b[32m━━━━━━━━━━━━━━━━━━━━\u001b[0m\u001b[37m\u001b[0m \u001b[1m4s\u001b[0m 2ms/step - loss: 0.2556\n",
      "Epoch 20/30\n",
      "\u001b[1m1750/1750\u001b[0m \u001b[32m━━━━━━━━━━━━━━━━━━━━\u001b[0m\u001b[37m\u001b[0m \u001b[1m4s\u001b[0m 2ms/step - loss: 0.2568\n",
      "Epoch 21/30\n",
      "\u001b[1m1750/1750\u001b[0m \u001b[32m━━━━━━━━━━━━━━━━━━━━\u001b[0m\u001b[37m\u001b[0m \u001b[1m4s\u001b[0m 2ms/step - loss: 0.2583\n",
      "Epoch 22/30\n",
      "\u001b[1m1750/1750\u001b[0m \u001b[32m━━━━━━━━━━━━━━━━━━━━\u001b[0m\u001b[37m\u001b[0m \u001b[1m4s\u001b[0m 1ms/step - loss: 0.2580\n",
      "Epoch 23/30\n",
      "\u001b[1m1750/1750\u001b[0m \u001b[32m━━━━━━━━━━━━━━━━━━━━\u001b[0m\u001b[37m\u001b[0m \u001b[1m3s\u001b[0m 2ms/step - loss: 0.2584\n",
      "Epoch 24/30\n",
      "\u001b[1m1750/1750\u001b[0m \u001b[32m━━━━━━━━━━━━━━━━━━━━\u001b[0m\u001b[37m\u001b[0m \u001b[1m4s\u001b[0m 2ms/step - loss: 0.2601\n",
      "Epoch 25/30\n",
      "\u001b[1m1750/1750\u001b[0m \u001b[32m━━━━━━━━━━━━━━━━━━━━\u001b[0m\u001b[37m\u001b[0m \u001b[1m3s\u001b[0m 2ms/step - loss: 0.2560\n",
      "Epoch 26/30\n",
      "\u001b[1m1750/1750\u001b[0m \u001b[32m━━━━━━━━━━━━━━━━━━━━\u001b[0m\u001b[37m\u001b[0m \u001b[1m2s\u001b[0m 1ms/step - loss: 0.2564\n",
      "Epoch 27/30\n",
      "\u001b[1m1750/1750\u001b[0m \u001b[32m━━━━━━━━━━━━━━━━━━━━\u001b[0m\u001b[37m\u001b[0m \u001b[1m3s\u001b[0m 1ms/step - loss: 0.2590\n",
      "Epoch 28/30\n",
      "\u001b[1m1750/1750\u001b[0m \u001b[32m━━━━━━━━━━━━━━━━━━━━\u001b[0m\u001b[37m\u001b[0m \u001b[1m3s\u001b[0m 2ms/step - loss: 0.2607\n",
      "Epoch 29/30\n",
      "\u001b[1m1750/1750\u001b[0m \u001b[32m━━━━━━━━━━━━━━━━━━━━\u001b[0m\u001b[37m\u001b[0m \u001b[1m3s\u001b[0m 1ms/step - loss: 0.2596\n",
      "Epoch 30/30\n",
      "\u001b[1m1750/1750\u001b[0m \u001b[32m━━━━━━━━━━━━━━━━━━━━\u001b[0m\u001b[37m\u001b[0m \u001b[1m2s\u001b[0m 1ms/step - loss: 0.2573\n"
     ]
    },
    {
     "data": {
      "text/plain": [
       "<keras.src.callbacks.history.History at 0x1e1d046dee0>"
      ]
     },
     "execution_count": 53,
     "metadata": {},
     "output_type": "execute_result"
    }
   ],
   "source": [
    "model_classification_1 = tf.keras.Sequential(\n",
    "    [\n",
    "        tf.keras.layers.Dense(64, activation=\"relu\", input_shape=(1,)),\n",
    "        tf.keras.layers.Dense(16, activation=\"relu\"),\n",
    "        tf.keras.layers.Dense(2, activation=\"softmax\"),\n",
    "    ]\n",
    ")\n",
    "\n",
    "model_classification_1.compile(optimizer=tf.keras.optimizers.Adam(learning_rate=0.004), loss=\"sparse_categorical_crossentropy\")\n",
    "\n",
    "model_classification_1.fit(X_class_train, y_class_train, epochs=30)"
   ]
  },
  {
   "cell_type": "code",
   "execution_count": 54,
   "id": "fb48ee96",
   "metadata": {},
   "outputs": [
    {
     "data": {
      "text/plain": [
       "array([[1.3310379e-01, 8.6689621e-01],\n",
       "       [1.0000000e+00, 4.1108560e-08],\n",
       "       [1.0000000e+00, 3.2579516e-16],\n",
       "       ...,\n",
       "       [2.3292282e-01, 7.6707721e-01],\n",
       "       [1.0000000e+00, 6.5528524e-18],\n",
       "       [1.3310379e-01, 8.6689621e-01]], dtype=float32)"
      ]
     },
     "execution_count": 54,
     "metadata": {},
     "output_type": "execute_result"
    }
   ],
   "source": [
    "model_classification_1.predict(X_class_test, verbose=None)"
   ]
  },
  {
   "cell_type": "code",
   "execution_count": 55,
   "id": "f0bdc74d",
   "metadata": {},
   "outputs": [],
   "source": [
    "y_pred = [np.argmax(pred) for pred in model_classification_1.predict(X_class_test, verbose=None)]"
   ]
  },
  {
   "cell_type": "code",
   "execution_count": 56,
   "id": "97c22b74",
   "metadata": {},
   "outputs": [],
   "source": [
    "y_class_pred = pd.Series(y_pred)"
   ]
  },
  {
   "cell_type": "code",
   "execution_count": 57,
   "id": "e921d767",
   "metadata": {},
   "outputs": [],
   "source": [
    "y_class_test = y_class_test.reset_index(drop=True)"
   ]
  },
  {
   "cell_type": "code",
   "execution_count": null,
   "id": "bf78a3bc",
   "metadata": {},
   "outputs": [],
   "source": [
    "from sklearn.metrics import classification_report"
   ]
  },
  {
   "cell_type": "code",
   "execution_count": 59,
   "id": "79799d85",
   "metadata": {},
   "outputs": [
    {
     "name": "stdout",
     "output_type": "stream",
     "text": [
      "                 Метрики качества\n",
      "accuracy_score             0.9031\n",
      "precision_score            0.8415\n",
      "recall_score               0.9934\n",
      "f1_score                   0.9112\n",
      "Матрица ошибок (Строки: Predicted, Столбцы: True):\n",
      "------------------\n",
      "              Class 0     Class 1\n",
      "-----------------------------------\n",
      "Predicted  Class 0  |   5690     1310 |\n",
      "Predicted  Class 1  |     46     6954 |\n",
      "-----------------------------------\n"
     ]
    }
   ],
   "source": [
    "custom_classifier_metrics(y_test=y_class_test, y_pred=y_class_pred)"
   ]
  },
  {
   "cell_type": "markdown",
   "id": "71177822",
   "metadata": {},
   "source": [
    "### **ПОДБОР ГИПЕРПАРАМЕТРОВ** (для моделей MLP)\n",
    " \n",
    "#### Классификация"
   ]
  },
  {
   "cell_type": "code",
   "execution_count": 10,
   "id": "fb4ed572",
   "metadata": {},
   "outputs": [],
   "source": [
    "from sklearn.neural_network import MLPClassifier, MLPRegressor\n",
    "from ml_library.hyperparams import optuna_params, randomizedSearchCV_params\n",
    "from ml_library.k_fold import k_fold"
   ]
  },
  {
   "cell_type": "code",
   "execution_count": 11,
   "id": "91429f50",
   "metadata": {},
   "outputs": [],
   "source": [
    "import optuna\n",
    "from sklearn.metrics import accuracy_score, mean_squared_error"
   ]
  },
  {
   "cell_type": "code",
   "execution_count": 81,
   "id": "67868292",
   "metadata": {},
   "outputs": [],
   "source": [
    "def optuna_get_best_params(X_train, y_train, X_test, y_test, model : str):\n",
    "    if model == \"class\":\n",
    "        model_class=  MLPClassifier\n",
    "        metric_func = accuracy_score\n",
    "        dir = 'maximize'\n",
    "    elif model == 'reg':\n",
    "        model_class = MLPRegressor\n",
    "        metric_func = mean_squared_error\n",
    "        dir = 'minimize'\n",
    "    def objective(trial):\n",
    "        optimizer = trial.suggest_categorical('solver', ['lbfgs', 'sgd', 'adam'])\n",
    "        act_func = trial.suggest_categorical('activation', ['relu', 'logistic', 'tanh'])\n",
    "        alpha = trial.suggest_categorical('alpha', [1e-5, 1e-4, 1e-3, 1e-2])\n",
    "        hidden_layer_1 = trial.suggest_int('hidden_layer_1', 10, 50)\n",
    "        hidden_layer_2 = trial.suggest_int('hidden_layer_2', 10, 50)\n",
    "        batch_size = trial.suggest_categorical('batch_size', [32, 64, 128])\n",
    "        if optimizer != 'lbfgs':\n",
    "            learning_rate_init = trial.suggest_categorical('learning_rate_init', [1e-4, 1e-3, 1e-2])\n",
    "        else:\n",
    "            learning_rate_init = 0.0001\n",
    "\n",
    "        params = {\n",
    "            'hidden_layer_sizes': (hidden_layer_1, hidden_layer_2),\n",
    "            'activation': act_func,\n",
    "            'solver': optimizer,\n",
    "            'alpha': alpha,\n",
    "            'early_stopping': True,\n",
    "            'validation_fraction': 0.1,\n",
    "            'max_iter': 500,\n",
    "            'batch_size': batch_size,\n",
    "            'learning_rate_init': learning_rate_init\n",
    "        }\n",
    "\n",
    "        mlp_model = model_class(**params)\n",
    "        mlp_model.fit(X_train, y_train)\n",
    "\n",
    "\n",
    "        y_pred = mlp_model.predict(X_test)\n",
    "        score = metric_func(y_test, y_pred)\n",
    "        return score\n",
    "    \n",
    "    return  optuna_params(objective=objective, aim= dir)\n"
   ]
  },
  {
   "cell_type": "code",
   "execution_count": null,
   "id": "ef31d0e4",
   "metadata": {},
   "outputs": [],
   "source": [
    "best_MLPClass_params = optuna_get_best_params(X_class_train, y_class_train, X_class_test, y_class_test, 'class')"
   ]
  },
  {
   "cell_type": "code",
   "execution_count": null,
   "id": "5af93a84",
   "metadata": {},
   "outputs": [],
   "source": [
    "params_neural ={\n",
    "    \"hidden_layer_sizes\": [20,40, 60],\n",
    "    \"solver\": ['lbfgs', 'sgd', 'adam'],\n",
    "    'activation': ['relu', 'identity', 'logistic', 'tanh'],\n",
    "}"
   ]
  },
  {
   "cell_type": "code",
   "execution_count": null,
   "id": "c3055438",
   "metadata": {},
   "outputs": [],
   "source": [
    "bp = best_MLPClass_params"
   ]
  },
  {
   "cell_type": "code",
   "execution_count": null,
   "id": "9fe45643",
   "metadata": {},
   "outputs": [],
   "source": [
    "best_MLPClass_opuna = MLPClassifier(\n",
    "    hidden_layer_sizes=(bp['hidden_layer_1'], \n",
    "                        bp['hidden_layer_2']), \n",
    "                        activation=bp['activation'], \n",
    "                        solver=bp['solver'],\n",
    "                        alpha=bp['alpha'],\n",
    "                        learning_rate_init=bp['learning_rate_init'],\n",
    "                        batch_size=bp['batch_size']\n",
    "                        ).fit(X_class_train, y_class_train)"
   ]
  },
  {
   "cell_type": "code",
   "execution_count": 599,
   "id": "21c86b9c",
   "metadata": {},
   "outputs": [],
   "source": [
    "best_MLPClass_opuna = joblib.load('MLPClassifier_optuna.joblib')"
   ]
  },
  {
   "cell_type": "code",
   "execution_count": null,
   "id": "3116be13",
   "metadata": {},
   "outputs": [
    {
     "data": {
      "text/plain": [
       "0        0\n",
       "1        1\n",
       "2        1\n",
       "3        0\n",
       "4        1\n",
       "        ..\n",
       "13995    0\n",
       "13996    0\n",
       "13997    0\n",
       "13998    0\n",
       "13999    1\n",
       "Length: 14000, dtype: int64"
      ]
     },
     "execution_count": 542,
     "metadata": {},
     "output_type": "execute_result"
    }
   ],
   "source": [
    "y_pred_opt_class = pd.Series(best_MLPClass_opuna.predict(X_class_test))"
   ]
  },
  {
   "cell_type": "code",
   "execution_count": null,
   "id": "74e81e56",
   "metadata": {},
   "outputs": [
    {
     "name": "stdout",
     "output_type": "stream",
     "text": [
      "                 Метрики качества\n",
      "accuracy_score             0.9052\n",
      "precision_score            0.8456\n",
      "recall_score               0.9914\n",
      "f1_score                   0.9127\n",
      "Матрица ошибок (Строки: Predicted, Столбцы: True):\n",
      "------------------\n",
      "              Class 0     Class 1\n",
      "-----------------------------------\n",
      "Predicted  Class 0  |   5733     1267 |\n",
      "Predicted  Class 1  |     60     6940 |\n",
      "-----------------------------------\n"
     ]
    }
   ],
   "source": [
    "custom_classifier_metrics(y_test=y_class_test, y_pred=y_pred_opt_class)"
   ]
  },
  {
   "cell_type": "code",
   "execution_count": 602,
   "id": "a58c2ad2",
   "metadata": {},
   "outputs": [
    {
     "name": "stdout",
     "output_type": "stream",
     "text": [
      "Оценки кросс-валидации на обучающем наборе [0.90163043 0.91733298 0.92046209 0.92391594 0.92084712]\n",
      "Средняя оценка кросс-валидации на обучающем наборе 0.9168377123828245\n"
     ]
    },
    {
     "data": {
      "text/plain": [
       "np.float64(0.9168377123828245)"
      ]
     },
     "execution_count": 602,
     "metadata": {},
     "output_type": "execute_result"
    }
   ],
   "source": [
    "k_fold(best_MLPClass_opuna, X_scaled_class, y_class, 'f1')"
   ]
  },
  {
   "cell_type": "code",
   "execution_count": null,
   "id": "b89b0148",
   "metadata": {},
   "outputs": [],
   "source": [
    "best_MLPClassifier=  randomizedSearchCV_params(MLPClassifier(), parameters=params_neural, X_train=X_class_train, Y_train=y_class_train )"
   ]
  },
  {
   "cell_type": "code",
   "execution_count": null,
   "id": "114203a9",
   "metadata": {},
   "outputs": [],
   "source": [
    "y_pred_rand = pd.Series(best_MLPClassifier.predict(X_class_test))"
   ]
  },
  {
   "cell_type": "code",
   "execution_count": null,
   "id": "388bcbe2",
   "metadata": {},
   "outputs": [
    {
     "name": "stdout",
     "output_type": "stream",
     "text": [
      "                 Метрики качества\n",
      "accuracy_score             0.9044\n",
      "precision_score            0.8448\n",
      "recall_score               0.9909\n",
      "f1_score                   0.9120\n",
      "Матрица ошибок (Строки: Predicted, Столбцы: True):\n",
      "------------------\n",
      "              Class 0     Class 1\n",
      "-----------------------------------\n",
      "Predicted  Class 0  |   5726     1274 |\n",
      "Predicted  Class 1  |     64     6936 |\n",
      "-----------------------------------\n"
     ]
    }
   ],
   "source": [
    "custom_classifier_metrics(y_pred=y_pred_rand, y_test=y_class_test)"
   ]
  },
  {
   "cell_type": "code",
   "execution_count": 604,
   "id": "19029b96",
   "metadata": {},
   "outputs": [
    {
     "name": "stdout",
     "output_type": "stream",
     "text": [
      "Оценки кросс-валидации на обучающем наборе [0.9017766  0.91778203 0.92131711 0.92302597 0.92062442]\n",
      "Средняя оценка кросс-валидации на обучающем наборе 0.9169052249848504\n"
     ]
    },
    {
     "data": {
      "text/plain": [
       "np.float64(0.9169052249848504)"
      ]
     },
     "execution_count": 604,
     "metadata": {},
     "output_type": "execute_result"
    }
   ],
   "source": [
    "k_fold(best_MLPClassifier, X_scaled_class, y_class, 'f1')"
   ]
  },
  {
   "cell_type": "markdown",
   "id": "6f26141f",
   "metadata": {},
   "source": [
    "### Регрессия"
   ]
  },
  {
   "cell_type": "code",
   "execution_count": 82,
   "id": "0e1bf5aa",
   "metadata": {},
   "outputs": [],
   "source": [
    "from sklearn.neural_network import MLPRegressor"
   ]
  },
  {
   "cell_type": "markdown",
   "id": "63430c91",
   "metadata": {},
   "source": [
    "**OPTUNA**"
   ]
  },
  {
   "cell_type": "code",
   "execution_count": 83,
   "id": "11ad7f3d",
   "metadata": {},
   "outputs": [],
   "source": [
    "best_MLPRegressor_optuna_params = optuna_get_best_params(X_reg_train, y_reg_train, X_reg_test, y_reg_test, 'reg')"
   ]
  },
  {
   "cell_type": "code",
   "execution_count": 85,
   "id": "1dde46b8",
   "metadata": {},
   "outputs": [
    {
     "data": {
      "text/plain": [
       "{'solver': 'lbfgs',\n",
       " 'activation': 'relu',\n",
       " 'alpha': 1e-05,\n",
       " 'hidden_layer_1': 24,\n",
       " 'hidden_layer_2': 36,\n",
       " 'batch_size': 64}"
      ]
     },
     "execution_count": 85,
     "metadata": {},
     "output_type": "execute_result"
    }
   ],
   "source": [
    "best_MLPRegressor_optuna_params"
   ]
  },
  {
   "cell_type": "code",
   "execution_count": 86,
   "id": "d206275b",
   "metadata": {},
   "outputs": [],
   "source": [
    "\n",
    "bp = best_MLPRegressor_optuna_params\n",
    "best_MLPReg_optuna = MLPRegressor(\n",
    "    hidden_layer_sizes=(bp['hidden_layer_1'], \n",
    "                        bp['hidden_layer_2']), \n",
    "                        activation=bp['activation'], \n",
    "                        solver=bp['solver'],\n",
    "                        alpha=bp['alpha'],\n",
    "                     \n",
    "                        batch_size=bp['batch_size']\n",
    "                        ).fit(X_reg_train, y_reg_train)"
   ]
  },
  {
   "cell_type": "code",
   "execution_count": 87,
   "id": "b68ab81e",
   "metadata": {},
   "outputs": [],
   "source": [
    "y_pred_optuna_reg  = pd.Series(best_MLPReg_optuna.predict(X_reg_test))"
   ]
  },
  {
   "cell_type": "code",
   "execution_count": 88,
   "id": "6f61231f",
   "metadata": {},
   "outputs": [
    {
     "name": "stdout",
     "output_type": "stream",
     "text": [
      "               Метрики качества\n",
      "MAE                     6.98500\n",
      "MSE                   191.42296\n",
      "RMSE                   13.83557\n",
      "MAPE                    0.28669\n",
      "Adjusted_rand           0.00038\n",
      "R^2                     0.75022\n"
     ]
    }
   ],
   "source": [
    "print_error(Y_test=y_reg_test, Y_pred=y_pred_optuna_reg)"
   ]
  },
  {
   "cell_type": "code",
   "execution_count": 617,
   "id": "6646917f",
   "metadata": {},
   "outputs": [
    {
     "name": "stdout",
     "output_type": "stream",
     "text": [
      "Оценки кросс-валидации на обучающем наборе [0.66187617 0.75362185 0.64780946 0.70711673 0.76533961]\n",
      "Средняя оценка кросс-валидации на обучающем наборе 0.7071527630633022\n"
     ]
    },
    {
     "data": {
      "text/plain": [
       "np.float64(0.7071527630633022)"
      ]
     },
     "execution_count": 617,
     "metadata": {},
     "output_type": "execute_result"
    }
   ],
   "source": [
    "k_fold(best_MLPReg_optuna, X_scaled_reg, y_reg, 'r2')"
   ]
  },
  {
   "cell_type": "markdown",
   "id": "9c0ab90b",
   "metadata": {},
   "source": [
    "**RANDOMIZED**"
   ]
  },
  {
   "cell_type": "code",
   "execution_count": null,
   "id": "34be5fb1",
   "metadata": {},
   "outputs": [
    {
     "name": "stdout",
     "output_type": "stream",
     "text": [
      "Лучшие параметры для модели (RandomizedSearchCV) 'solver':'sgd', 'hidden_layer_sizes':'40', 'activation':'logistic'\n"
     ]
    }
   ],
   "source": [
    "best_MLPReg_rand=  randomizedSearchCV_params(MLPRegressor(), parameters=params_neural, X_train=X_reg_train, Y_train=y_reg_train )"
   ]
  },
  {
   "cell_type": "code",
   "execution_count": 622,
   "id": "bdf283f1",
   "metadata": {},
   "outputs": [
    {
     "name": "stdout",
     "output_type": "stream",
     "text": [
      "Оценки кросс-валидации на обучающем наборе [0.73883257 0.75962847 0.66945985 0.77157533 0.75323063]\n",
      "Средняя оценка кросс-валидации на обучающем наборе 0.7385453699668435\n"
     ]
    },
    {
     "data": {
      "text/plain": [
       "np.float64(0.7385453699668435)"
      ]
     },
     "execution_count": 622,
     "metadata": {},
     "output_type": "execute_result"
    }
   ],
   "source": [
    "y_pred_reg_rand = pd.Series(best_MLPReg_rand.predict(X_reg_test))\n",
    "k_fold(best_MLPReg_rand, X_scaled_reg, y_reg, 'r2')"
   ]
  },
  {
   "cell_type": "markdown",
   "id": "d5d96163",
   "metadata": {},
   "source": [
    "**HYPEROPT**"
   ]
  },
  {
   "cell_type": "code",
   "execution_count": 18,
   "id": "2e3e9f5e",
   "metadata": {},
   "outputs": [],
   "source": [
    "from hyperopt import hp, fmin, tpe, Trials, STATUS_OK"
   ]
  },
  {
   "cell_type": "code",
   "execution_count": 23,
   "id": "49d3224f",
   "metadata": {},
   "outputs": [],
   "source": [
    "def objective(params):\n",
    "    solver = params['solver']\n",
    "    activation  = params['activation']\n",
    "    alpha = params['alpha']\n",
    "    hidden_layer_1 = int(params['hidden_layer_1'])\n",
    "    hidden_layer_2 = int(params['hidden_layer_2'])\n",
    "    hidden_layer_3 = int(params['hidden_layer_3'])\n",
    "    batch_size = int(params['batch_size'])\n",
    "    learning_rate_init = params['learning_rate_init']\n",
    "\n",
    "    hidden_layer_sizes = (hidden_layer_1, hidden_layer_2, hidden_layer_3)\n",
    "\n",
    "    model  = MLPRegressor(\n",
    "        hidden_layer_sizes=hidden_layer_sizes,\n",
    "        activation=activation,\n",
    "        solver=solver,\n",
    "        alpha=alpha,\n",
    "        batch_size=batch_size,\n",
    "        learning_rate_init=learning_rate_init if solver in ['sgd', 'adam'] else 0.0001,\n",
    "        max_iter=200,\n",
    "        early_stopping=True,\n",
    "        validation_fraction=0.1,\n",
    "        n_iter_no_change=10,\n",
    "        random_state=42,\n",
    "        verbose=False\n",
    "    )\n",
    "\n",
    "    model.fit(X_reg_train, y_reg_train)\n",
    "\n",
    "    y_pred = model.predict(X_reg_test)\n",
    "    mse = mean_squared_error(y_pred=y_pred, y_true=y_reg_test)\n",
    "\n",
    "    return {'loss': mse, 'status': STATUS_OK}"
   ]
  },
  {
   "cell_type": "code",
   "execution_count": 24,
   "id": "c57120d3",
   "metadata": {},
   "outputs": [],
   "source": [
    "space = {\n",
    "    'solver': hp.choice('solver', ['adam', 'sgd', 'lbfgs']),\n",
    "    'activation': hp.choice('activation', ['relu', 'tanh', 'logistic']),\n",
    "    'alpha': hp.loguniform('alpha', -5, -1), \n",
    "    'hidden_layer_1': hp.quniform('hidden_layer_1', 10, 70, 10),\n",
    "    'hidden_layer_2': hp.quniform('hidden_layer_2', 6, 80, 10),\n",
    "    'hidden_layer_3': hp.quniform('hidden_layer_3', 6, 80, 10),\n",
    "    'batch_size': hp.quniform('batch_size', 32, 256, 32),\n",
    "    'learning_rate_init': hp.loguniform('learning_rate_init', -4, -1)  \n",
    "}\n",
    "\n",
    "trials = Trials()"
   ]
  },
  {
   "cell_type": "code",
   "execution_count": 25,
   "id": "5e0d23ef",
   "metadata": {},
   "outputs": [
    {
     "name": "stdout",
     "output_type": "stream",
     "text": [
      "100%|██████████| 200/200 [08:46<00:00,  2.63s/trial, best loss: 136.54064029490112]\n"
     ]
    }
   ],
   "source": [
    "best_MLPRegressor_hyperopt = fmin(fn=objective, space=space, algo=tpe.suggest, trials=trials, max_evals=200)"
   ]
  },
  {
   "cell_type": "code",
   "execution_count": 26,
   "id": "e57b4233",
   "metadata": {},
   "outputs": [
    {
     "data": {
      "text/plain": [
       "{'activation': np.int64(0),\n",
       " 'alpha': np.float64(0.16186464467043507),\n",
       " 'batch_size': np.float64(160.0),\n",
       " 'hidden_layer_1': np.float64(10.0),\n",
       " 'hidden_layer_2': np.float64(10.0),\n",
       " 'hidden_layer_3': np.float64(40.0),\n",
       " 'learning_rate_init': np.float64(0.21080238145136426),\n",
       " 'solver': np.int64(2)}"
      ]
     },
     "execution_count": 26,
     "metadata": {},
     "output_type": "execute_result"
    }
   ],
   "source": [
    "best_MLPRegressor_hyperopt"
   ]
  },
  {
   "cell_type": "code",
   "execution_count": 27,
   "id": "8a026a89",
   "metadata": {},
   "outputs": [],
   "source": [
    "bp = best_MLPRegressor_hyperopt\n",
    "MLPReg_hyperopt = MLPRegressor(\n",
    "    activation='relu',\n",
    "    alpha=bp['alpha'],\n",
    "    batch_size=160,\n",
    "    hidden_layer_sizes=(10, 10, 40),\n",
    "    learning_rate_init=bp['learning_rate_init'],\n",
    "    solver= 'lbfgs'\n",
    "\n",
    "\n",
    ").fit(X_reg_train, y_reg_train)"
   ]
  },
  {
   "cell_type": "code",
   "execution_count": 28,
   "id": "0fd49ec1",
   "metadata": {},
   "outputs": [],
   "source": [
    "y_pred_hyperopt = pd.Series(MLPReg_hyperopt.predict(X_reg_test))"
   ]
  },
  {
   "cell_type": "code",
   "execution_count": 29,
   "id": "a5f3c240",
   "metadata": {},
   "outputs": [
    {
     "name": "stdout",
     "output_type": "stream",
     "text": [
      "Оценки кросс-валидации на обучающем наборе [0.71699499 0.73162851 0.6757799  0.75103237 0.75754511]\n",
      "Средняя оценка кросс-валидации на обучающем наборе 0.7265961757155585\n"
     ]
    },
    {
     "data": {
      "text/plain": [
       "np.float64(0.7265961757155585)"
      ]
     },
     "execution_count": 29,
     "metadata": {},
     "output_type": "execute_result"
    }
   ],
   "source": [
    "k_fold(MLPReg_hyperopt, X_scaled_reg, y_reg, 'r2')"
   ]
  },
  {
   "cell_type": "markdown",
   "id": "ba387c8d",
   "metadata": {},
   "source": [
    "### **ПОДБОР ГИПЕРПАРАМЕТРОВ** <span style = \"color:rgb(149, 201, 235)\">(Для моделей Tensorflow)</span>"
   ]
  },
  {
   "cell_type": "markdown",
   "id": "1250cdfc",
   "metadata": {},
   "source": [
    "#### <span style = \"color:rgb(159, 125, 240) \"> **OPTUNA**</span>\n",
    "\n",
    "**КЛАССФИКАЦИЯ**"
   ]
  },
  {
   "cell_type": "code",
   "execution_count": 12,
   "id": "5d7d49de",
   "metadata": {},
   "outputs": [],
   "source": [
    "from tensorflow.keras.models import Sequential\n",
    "from tensorflow.keras.layers import Dense\n",
    "from tensorflow.keras.optimizers import Adam, SGD, RMSprop"
   ]
  },
  {
   "cell_type": "code",
   "execution_count": 13,
   "id": "779b53d3",
   "metadata": {},
   "outputs": [],
   "source": [
    "def build_model(trial):\n",
    "    n_layers = trial.suggest_int('n_layers', 1, 3)\n",
    "    activation = trial.suggest_categorical('activation', ['relu', 'tanh'])\n",
    "    optimizer = trial.suggest_categorical('optimizer', [Adam, SGD,RMSprop]) \n",
    "    learning_rate = trial.suggest_float('learining_rate', 1e-4,1e-2)\n",
    "\n",
    "    model = Sequential(\n",
    "        \n",
    "    )\n",
    "\n",
    "    model.add(Dense(trial.suggest_int(\"neuros_0\", 10, 100, step=10), activation = activation, input_shape = (1,)))\n",
    "    \n",
    "    for i in range(1, n_layers):\n",
    "        model.add(Dense(trial.suggest_int(f\"neuros_{i}\", 10,100,step=10), activation=activation))\n",
    "    \n",
    "    model.add(Dense(1,activation='sigmoid'))\n",
    "\n",
    "    optimizer = optimizer(learning_rate = learning_rate)\n",
    "\n",
    "    model.compile(optimizer=optimizer, loss =\"binary_crossentropy\", metrics = ['accuracy'])\n",
    "    return model\n"
   ]
  },
  {
   "cell_type": "code",
   "execution_count": 13,
   "id": "083b40d1",
   "metadata": {},
   "outputs": [],
   "source": [
    "def objective(trial):\n",
    "    model = build_model(trial)\n",
    "    batch_size = trial.suggest_categorical('batch_size', [32,64, 128])\n",
    "\n",
    "    model.fit(X_class_train, y_class_train, batch_size = batch_size, epochs = 20, verbose = 0)\n",
    "    _, accuracy = model.evaluate(X_class_test, y_class_test, verbose = 0)\n",
    "\n",
    "    return accuracy"
   ]
  },
  {
   "cell_type": "code",
   "execution_count": null,
   "id": "03d361c7",
   "metadata": {},
   "outputs": [],
   "source": [
    "best_params = optuna_params(objective=objective, aim='maximize', n_trials=20)"
   ]
  },
  {
   "cell_type": "code",
   "execution_count": 14,
   "id": "c5f96756",
   "metadata": {},
   "outputs": [],
   "source": [
    "best_params = {'n_layers': 2,\n",
    " 'activation': 'tanh',\n",
    " 'optimizer': SGD,\n",
    " 'learining_rate': 0.006992608213280151,\n",
    " 'neuros_0': 70,\n",
    " 'neuros_1': 30,\n",
    " 'batch_size': 32}"
   ]
  },
  {
   "cell_type": "code",
   "execution_count": 15,
   "id": "724ecd97",
   "metadata": {},
   "outputs": [],
   "source": [
    "activation = best_params['activation']\n",
    "\n",
    "best_model = Sequential(\n",
    "    [\n",
    "        Dense(best_params['neuros_0'], activation=activation),\n",
    "        Dense(best_params['neuros_1'], activation=activation),\n",
    "        Dense(1, activation = 'sigmoid')\n",
    "    ]\n",
    ")\n",
    "\n",
    "optimizer  =best_params['optimizer']\n",
    "\n",
    "best_model.compile(optimizer = optimizer(learning_rate = best_params['learining_rate']), loss = 'binary_crossentropy', metrics = ['accuracy'])\n",
    "\n",
    "history_lear = best_model.fit(X_class_train, y_class_train, batch_size=best_params['batch_size'], epochs=30, verbose = 0)"
   ]
  },
  {
   "cell_type": "code",
   "execution_count": 16,
   "id": "8aad820e",
   "metadata": {},
   "outputs": [],
   "source": [
    "epochs  =list(range(1,31))\n",
    "train_loss = history_lear.history['loss']\n",
    "train_accuracy = history_lear.history['accuracy']\n",
    "val_loss = history_lear.history.get('val_loss', [])\n",
    "val_accuracy = history_lear.history.get('val_accuracy', [])"
   ]
  },
  {
   "cell_type": "code",
   "execution_count": 17,
   "id": "c0e79b2d",
   "metadata": {},
   "outputs": [],
   "source": [
    "import plotly as pt\n",
    "from plotly.subplots import make_subplots\n",
    "import plotly.graph_objects as go"
   ]
  },
  {
   "cell_type": "code",
   "execution_count": 18,
   "id": "444116f0",
   "metadata": {},
   "outputs": [],
   "source": [
    "from ml_library.lab7_graphics import plot_char_epochs_metrics"
   ]
  },
  {
   "cell_type": "code",
   "execution_count": 21,
   "id": "00e4a0f5",
   "metadata": {},
   "outputs": [
    {
     "data": {
      "application/vnd.plotly.v1+json": {
       "config": {
        "plotlyServerURL": "https://plot.ly"
       },
       "data": [
        {
         "line": {
          "color": "#CA8BDF",
          "width": 2
         },
         "mode": "lines",
         "name": "Функция потерь",
         "type": "scatter",
         "x": [
          1,
          2,
          3,
          4,
          5,
          6,
          7,
          8,
          9,
          10,
          11,
          12,
          13,
          14,
          15,
          16,
          17,
          18,
          19,
          20,
          21,
          22,
          23,
          24,
          25,
          26,
          27,
          28,
          29,
          30
         ],
         "xaxis": "x",
         "y": [
          0.37185877561569214,
          0.3278138339519501,
          0.29874715209007263,
          0.282186895608902,
          0.2736777067184448,
          0.2691287696361542,
          0.2665141820907593,
          0.2649274468421936,
          0.26388224959373474,
          0.2632351517677307,
          0.26268041133880615,
          0.2622915208339691,
          0.2619071304798126,
          0.2616634964942932,
          0.26145875453948975,
          0.2612465023994446,
          0.26108425855636597,
          0.26090896129608154,
          0.26080387830734253,
          0.26059237122535706,
          0.26053425669670105,
          0.26042118668556213,
          0.2603627145290375,
          0.2602446377277374,
          0.2601948082447052,
          0.2601262629032135,
          0.2599864602088928,
          0.25991857051849365,
          0.2598932981491089,
          0.2598566710948944
         ],
         "yaxis": "y"
        },
        {
         "line": {
          "color": "#8DD5C3",
          "width": 2
         },
         "mode": "lines",
         "name": "Точность accuracy",
         "type": "scatter",
         "x": [
          1,
          2,
          3,
          4,
          5,
          6,
          7,
          8,
          9,
          10,
          11,
          12,
          13,
          14,
          15,
          16,
          17,
          18,
          19,
          20,
          21,
          22,
          23,
          24,
          25,
          26,
          27,
          28,
          29,
          30
         ],
         "xaxis": "x2",
         "y": [
          0.8851964473724365,
          0.89533931016922,
          0.9023392796516418,
          0.9039999842643738,
          0.9043928384780884,
          0.9047678709030151,
          0.904785692691803,
          0.9049107432365417,
          0.9046964049339294,
          0.904785692691803,
          0.904785692691803,
          0.9050357341766357,
          0.9050178527832031,
          0.9049821496009827,
          0.9049999713897705,
          0.9052143096923828,
          0.9049999713897705,
          0.9048571586608887,
          0.9049999713897705,
          0.9048214554786682,
          0.9049285650253296,
          0.9049107432365417,
          0.9048214554786682,
          0.9049464464187622,
          0.9048035740852356,
          0.9048928618431091,
          0.9048571586608887,
          0.9049107432365417,
          0.9046249985694885,
          0.9048928618431091
         ],
         "yaxis": "y2"
        }
       ],
       "layout": {
        "annotations": [
         {
          "font": {
           "size": 16
          },
          "showarrow": false,
          "text": "Функция потерь от количества эпох",
          "x": 0.225,
          "xanchor": "center",
          "xref": "paper",
          "y": 1,
          "yanchor": "bottom",
          "yref": "paper"
         },
         {
          "font": {
           "size": 16
          },
          "showarrow": false,
          "text": "Значение метрики от количества эпох",
          "x": 0.775,
          "xanchor": "center",
          "xref": "paper",
          "y": 1,
          "yanchor": "bottom",
          "yref": "paper"
         }
        ],
        "showlegend": true,
        "template": {
         "data": {
          "bar": [
           {
            "error_x": {
             "color": "#2a3f5f"
            },
            "error_y": {
             "color": "#2a3f5f"
            },
            "marker": {
             "line": {
              "color": "#E5ECF6",
              "width": 0.5
             },
             "pattern": {
              "fillmode": "overlay",
              "size": 10,
              "solidity": 0.2
             }
            },
            "type": "bar"
           }
          ],
          "barpolar": [
           {
            "marker": {
             "line": {
              "color": "#E5ECF6",
              "width": 0.5
             },
             "pattern": {
              "fillmode": "overlay",
              "size": 10,
              "solidity": 0.2
             }
            },
            "type": "barpolar"
           }
          ],
          "carpet": [
           {
            "aaxis": {
             "endlinecolor": "#2a3f5f",
             "gridcolor": "white",
             "linecolor": "white",
             "minorgridcolor": "white",
             "startlinecolor": "#2a3f5f"
            },
            "baxis": {
             "endlinecolor": "#2a3f5f",
             "gridcolor": "white",
             "linecolor": "white",
             "minorgridcolor": "white",
             "startlinecolor": "#2a3f5f"
            },
            "type": "carpet"
           }
          ],
          "choropleth": [
           {
            "colorbar": {
             "outlinewidth": 0,
             "ticks": ""
            },
            "type": "choropleth"
           }
          ],
          "contour": [
           {
            "colorbar": {
             "outlinewidth": 0,
             "ticks": ""
            },
            "colorscale": [
             [
              0,
              "#0d0887"
             ],
             [
              0.1111111111111111,
              "#46039f"
             ],
             [
              0.2222222222222222,
              "#7201a8"
             ],
             [
              0.3333333333333333,
              "#9c179e"
             ],
             [
              0.4444444444444444,
              "#bd3786"
             ],
             [
              0.5555555555555556,
              "#d8576b"
             ],
             [
              0.6666666666666666,
              "#ed7953"
             ],
             [
              0.7777777777777778,
              "#fb9f3a"
             ],
             [
              0.8888888888888888,
              "#fdca26"
             ],
             [
              1,
              "#f0f921"
             ]
            ],
            "type": "contour"
           }
          ],
          "contourcarpet": [
           {
            "colorbar": {
             "outlinewidth": 0,
             "ticks": ""
            },
            "type": "contourcarpet"
           }
          ],
          "heatmap": [
           {
            "colorbar": {
             "outlinewidth": 0,
             "ticks": ""
            },
            "colorscale": [
             [
              0,
              "#0d0887"
             ],
             [
              0.1111111111111111,
              "#46039f"
             ],
             [
              0.2222222222222222,
              "#7201a8"
             ],
             [
              0.3333333333333333,
              "#9c179e"
             ],
             [
              0.4444444444444444,
              "#bd3786"
             ],
             [
              0.5555555555555556,
              "#d8576b"
             ],
             [
              0.6666666666666666,
              "#ed7953"
             ],
             [
              0.7777777777777778,
              "#fb9f3a"
             ],
             [
              0.8888888888888888,
              "#fdca26"
             ],
             [
              1,
              "#f0f921"
             ]
            ],
            "type": "heatmap"
           }
          ],
          "histogram": [
           {
            "marker": {
             "pattern": {
              "fillmode": "overlay",
              "size": 10,
              "solidity": 0.2
             }
            },
            "type": "histogram"
           }
          ],
          "histogram2d": [
           {
            "colorbar": {
             "outlinewidth": 0,
             "ticks": ""
            },
            "colorscale": [
             [
              0,
              "#0d0887"
             ],
             [
              0.1111111111111111,
              "#46039f"
             ],
             [
              0.2222222222222222,
              "#7201a8"
             ],
             [
              0.3333333333333333,
              "#9c179e"
             ],
             [
              0.4444444444444444,
              "#bd3786"
             ],
             [
              0.5555555555555556,
              "#d8576b"
             ],
             [
              0.6666666666666666,
              "#ed7953"
             ],
             [
              0.7777777777777778,
              "#fb9f3a"
             ],
             [
              0.8888888888888888,
              "#fdca26"
             ],
             [
              1,
              "#f0f921"
             ]
            ],
            "type": "histogram2d"
           }
          ],
          "histogram2dcontour": [
           {
            "colorbar": {
             "outlinewidth": 0,
             "ticks": ""
            },
            "colorscale": [
             [
              0,
              "#0d0887"
             ],
             [
              0.1111111111111111,
              "#46039f"
             ],
             [
              0.2222222222222222,
              "#7201a8"
             ],
             [
              0.3333333333333333,
              "#9c179e"
             ],
             [
              0.4444444444444444,
              "#bd3786"
             ],
             [
              0.5555555555555556,
              "#d8576b"
             ],
             [
              0.6666666666666666,
              "#ed7953"
             ],
             [
              0.7777777777777778,
              "#fb9f3a"
             ],
             [
              0.8888888888888888,
              "#fdca26"
             ],
             [
              1,
              "#f0f921"
             ]
            ],
            "type": "histogram2dcontour"
           }
          ],
          "mesh3d": [
           {
            "colorbar": {
             "outlinewidth": 0,
             "ticks": ""
            },
            "type": "mesh3d"
           }
          ],
          "parcoords": [
           {
            "line": {
             "colorbar": {
              "outlinewidth": 0,
              "ticks": ""
             }
            },
            "type": "parcoords"
           }
          ],
          "pie": [
           {
            "automargin": true,
            "type": "pie"
           }
          ],
          "scatter": [
           {
            "fillpattern": {
             "fillmode": "overlay",
             "size": 10,
             "solidity": 0.2
            },
            "type": "scatter"
           }
          ],
          "scatter3d": [
           {
            "line": {
             "colorbar": {
              "outlinewidth": 0,
              "ticks": ""
             }
            },
            "marker": {
             "colorbar": {
              "outlinewidth": 0,
              "ticks": ""
             }
            },
            "type": "scatter3d"
           }
          ],
          "scattercarpet": [
           {
            "marker": {
             "colorbar": {
              "outlinewidth": 0,
              "ticks": ""
             }
            },
            "type": "scattercarpet"
           }
          ],
          "scattergeo": [
           {
            "marker": {
             "colorbar": {
              "outlinewidth": 0,
              "ticks": ""
             }
            },
            "type": "scattergeo"
           }
          ],
          "scattergl": [
           {
            "marker": {
             "colorbar": {
              "outlinewidth": 0,
              "ticks": ""
             }
            },
            "type": "scattergl"
           }
          ],
          "scattermap": [
           {
            "marker": {
             "colorbar": {
              "outlinewidth": 0,
              "ticks": ""
             }
            },
            "type": "scattermap"
           }
          ],
          "scattermapbox": [
           {
            "marker": {
             "colorbar": {
              "outlinewidth": 0,
              "ticks": ""
             }
            },
            "type": "scattermapbox"
           }
          ],
          "scatterpolar": [
           {
            "marker": {
             "colorbar": {
              "outlinewidth": 0,
              "ticks": ""
             }
            },
            "type": "scatterpolar"
           }
          ],
          "scatterpolargl": [
           {
            "marker": {
             "colorbar": {
              "outlinewidth": 0,
              "ticks": ""
             }
            },
            "type": "scatterpolargl"
           }
          ],
          "scatterternary": [
           {
            "marker": {
             "colorbar": {
              "outlinewidth": 0,
              "ticks": ""
             }
            },
            "type": "scatterternary"
           }
          ],
          "surface": [
           {
            "colorbar": {
             "outlinewidth": 0,
             "ticks": ""
            },
            "colorscale": [
             [
              0,
              "#0d0887"
             ],
             [
              0.1111111111111111,
              "#46039f"
             ],
             [
              0.2222222222222222,
              "#7201a8"
             ],
             [
              0.3333333333333333,
              "#9c179e"
             ],
             [
              0.4444444444444444,
              "#bd3786"
             ],
             [
              0.5555555555555556,
              "#d8576b"
             ],
             [
              0.6666666666666666,
              "#ed7953"
             ],
             [
              0.7777777777777778,
              "#fb9f3a"
             ],
             [
              0.8888888888888888,
              "#fdca26"
             ],
             [
              1,
              "#f0f921"
             ]
            ],
            "type": "surface"
           }
          ],
          "table": [
           {
            "cells": {
             "fill": {
              "color": "#EBF0F8"
             },
             "line": {
              "color": "white"
             }
            },
            "header": {
             "fill": {
              "color": "#C8D4E3"
             },
             "line": {
              "color": "white"
             }
            },
            "type": "table"
           }
          ]
         },
         "layout": {
          "annotationdefaults": {
           "arrowcolor": "#2a3f5f",
           "arrowhead": 0,
           "arrowwidth": 1
          },
          "autotypenumbers": "strict",
          "coloraxis": {
           "colorbar": {
            "outlinewidth": 0,
            "ticks": ""
           }
          },
          "colorscale": {
           "diverging": [
            [
             0,
             "#8e0152"
            ],
            [
             0.1,
             "#c51b7d"
            ],
            [
             0.2,
             "#de77ae"
            ],
            [
             0.3,
             "#f1b6da"
            ],
            [
             0.4,
             "#fde0ef"
            ],
            [
             0.5,
             "#f7f7f7"
            ],
            [
             0.6,
             "#e6f5d0"
            ],
            [
             0.7,
             "#b8e186"
            ],
            [
             0.8,
             "#7fbc41"
            ],
            [
             0.9,
             "#4d9221"
            ],
            [
             1,
             "#276419"
            ]
           ],
           "sequential": [
            [
             0,
             "#0d0887"
            ],
            [
             0.1111111111111111,
             "#46039f"
            ],
            [
             0.2222222222222222,
             "#7201a8"
            ],
            [
             0.3333333333333333,
             "#9c179e"
            ],
            [
             0.4444444444444444,
             "#bd3786"
            ],
            [
             0.5555555555555556,
             "#d8576b"
            ],
            [
             0.6666666666666666,
             "#ed7953"
            ],
            [
             0.7777777777777778,
             "#fb9f3a"
            ],
            [
             0.8888888888888888,
             "#fdca26"
            ],
            [
             1,
             "#f0f921"
            ]
           ],
           "sequentialminus": [
            [
             0,
             "#0d0887"
            ],
            [
             0.1111111111111111,
             "#46039f"
            ],
            [
             0.2222222222222222,
             "#7201a8"
            ],
            [
             0.3333333333333333,
             "#9c179e"
            ],
            [
             0.4444444444444444,
             "#bd3786"
            ],
            [
             0.5555555555555556,
             "#d8576b"
            ],
            [
             0.6666666666666666,
             "#ed7953"
            ],
            [
             0.7777777777777778,
             "#fb9f3a"
            ],
            [
             0.8888888888888888,
             "#fdca26"
            ],
            [
             1,
             "#f0f921"
            ]
           ]
          },
          "colorway": [
           "#636efa",
           "#EF553B",
           "#00cc96",
           "#ab63fa",
           "#FFA15A",
           "#19d3f3",
           "#FF6692",
           "#B6E880",
           "#FF97FF",
           "#FECB52"
          ],
          "font": {
           "color": "#2a3f5f"
          },
          "geo": {
           "bgcolor": "white",
           "lakecolor": "white",
           "landcolor": "#E5ECF6",
           "showlakes": true,
           "showland": true,
           "subunitcolor": "white"
          },
          "hoverlabel": {
           "align": "left"
          },
          "hovermode": "closest",
          "mapbox": {
           "style": "light"
          },
          "paper_bgcolor": "white",
          "plot_bgcolor": "#E5ECF6",
          "polar": {
           "angularaxis": {
            "gridcolor": "white",
            "linecolor": "white",
            "ticks": ""
           },
           "bgcolor": "#E5ECF6",
           "radialaxis": {
            "gridcolor": "white",
            "linecolor": "white",
            "ticks": ""
           }
          },
          "scene": {
           "xaxis": {
            "backgroundcolor": "#E5ECF6",
            "gridcolor": "white",
            "gridwidth": 2,
            "linecolor": "white",
            "showbackground": true,
            "ticks": "",
            "zerolinecolor": "white"
           },
           "yaxis": {
            "backgroundcolor": "#E5ECF6",
            "gridcolor": "white",
            "gridwidth": 2,
            "linecolor": "white",
            "showbackground": true,
            "ticks": "",
            "zerolinecolor": "white"
           },
           "zaxis": {
            "backgroundcolor": "#E5ECF6",
            "gridcolor": "white",
            "gridwidth": 2,
            "linecolor": "white",
            "showbackground": true,
            "ticks": "",
            "zerolinecolor": "white"
           }
          },
          "shapedefaults": {
           "line": {
            "color": "#2a3f5f"
           }
          },
          "ternary": {
           "aaxis": {
            "gridcolor": "white",
            "linecolor": "white",
            "ticks": ""
           },
           "baxis": {
            "gridcolor": "white",
            "linecolor": "white",
            "ticks": ""
           },
           "bgcolor": "#E5ECF6",
           "caxis": {
            "gridcolor": "white",
            "linecolor": "white",
            "ticks": ""
           }
          },
          "title": {
           "x": 0.05
          },
          "xaxis": {
           "automargin": true,
           "gridcolor": "white",
           "linecolor": "white",
           "ticks": "",
           "title": {
            "standoff": 15
           },
           "zerolinecolor": "white",
           "zerolinewidth": 2
          },
          "yaxis": {
           "automargin": true,
           "gridcolor": "white",
           "linecolor": "white",
           "ticks": "",
           "title": {
            "standoff": 15
           },
           "zerolinecolor": "white",
           "zerolinewidth": 2
          }
         }
        },
        "title": {
         "text": "Метрики обучения модели Optuna_Classifier"
        },
        "xaxis": {
         "anchor": "y",
         "domain": [
          0,
          0.45
         ]
        },
        "xaxis2": {
         "anchor": "y2",
         "domain": [
          0.55,
          1
         ]
        },
        "yaxis": {
         "anchor": "x",
         "domain": [
          0,
          1
         ]
        },
        "yaxis2": {
         "anchor": "x2",
         "domain": [
          0,
          1
         ]
        }
       }
      }
     },
     "metadata": {},
     "output_type": "display_data"
    }
   ],
   "source": [
    "plot_char_epochs_metrics(epochs, train_loss, train_accuracy, 'Optuna_Classifier', 'Точность accuracy')"
   ]
  },
  {
   "cell_type": "code",
   "execution_count": 31,
   "id": "511b6b61",
   "metadata": {},
   "outputs": [
    {
     "name": "stdout",
     "output_type": "stream",
     "text": [
      "\u001b[1m438/438\u001b[0m \u001b[32m━━━━━━━━━━━━━━━━━━━━\u001b[0m\u001b[37m\u001b[0m \u001b[1m0s\u001b[0m 514us/step\n"
     ]
    }
   ],
   "source": [
    "y_pred  = best_model.predict(X_class_test)"
   ]
  },
  {
   "cell_type": "code",
   "execution_count": 34,
   "id": "40fa0e51",
   "metadata": {},
   "outputs": [],
   "source": [
    "y_pred_class_keras_optuna = [(pred> 0.5).astype('int')[0] for pred in y_pred]"
   ]
  },
  {
   "cell_type": "code",
   "execution_count": 36,
   "id": "c69b0ceb",
   "metadata": {},
   "outputs": [],
   "source": [
    "y_pred_class_keras_optuna = pd.Series(y_pred_class_keras_optuna)"
   ]
  },
  {
   "cell_type": "code",
   "execution_count": 42,
   "id": "1062a256",
   "metadata": {},
   "outputs": [
    {
     "name": "stdout",
     "output_type": "stream",
     "text": [
      "                 Метрики качества\n",
      "accuracy_score             0.9061\n",
      "precision_score            0.8470\n",
      "recall_score               0.9911\n",
      "f1_score                   0.9134\n",
      "Матрица ошибок (Строки: Predicted, Столбцы: True):\n",
      "------------------\n",
      "              Class 0     Class 1\n",
      "-----------------------------------\n",
      "Predicted  Class 0  |   5747     1253 |\n",
      "Predicted  Class 1  |     62     6938 |\n",
      "-----------------------------------\n"
     ]
    }
   ],
   "source": [
    "custom_classifier_metrics(y_class_test, y_pred_class_keras_optuna)"
   ]
  },
  {
   "cell_type": "markdown",
   "id": "0bf5ab65",
   "metadata": {},
   "source": [
    "#### <span style = \"color:rgb(218, 119, 174) \"> **Keras-Tuner**</span> \n",
    "\n",
    "**РЕГРЕССИЯ**"
   ]
  },
  {
   "cell_type": "code",
   "execution_count": 23,
   "id": "ea1fcd4a",
   "metadata": {},
   "outputs": [],
   "source": [
    "import keras_tuner as kt"
   ]
  },
  {
   "cell_type": "code",
   "execution_count": 22,
   "id": "626da95e",
   "metadata": {},
   "outputs": [],
   "source": [
    "def build_model(trial):\n",
    "    activation_funcs = ['relu', 'tanh']\n",
    "    model = Sequential()\n",
    "    model.add(Dense(\n",
    "        trial.Int('units_0', min_value=10, max_value=100, step=10),\n",
    "        activation=trial.Choice('activation', ['relu', 'tanh']),\n",
    "        input_shape=(4,)\n",
    "    ))\n",
    "\n",
    "    for i in range(1, trial.Int('layers_n',min_value = 1,max_value = 3)):\n",
    "        model.add(Dense(\n",
    "            units = trial.Int(f\"neuro_{i}\", min_value= 10, max_value= 100,step=10),\n",
    "            activation = trial.Choice('activation',['relu', 'tanh'])\n",
    "        ))\n",
    "\n",
    "    model.add(Dense(1))\n",
    "\n",
    "    optimizer_name = trial.Choice('optimizer', ['adam', 'sgd','rmsprop'])\n",
    "\n",
    "    if optimizer_name == 'adam':\n",
    "        optimizer = Adam\n",
    "    elif optimizer_name == 'sgd':\n",
    "        optimizer_name = SGD\n",
    "    else:\n",
    "        optimizer = RMSprop\n",
    "\n",
    "    learning_rate = trial.Float('learning_rate', 1e-4, 1e-2, sampling = 'log')\n",
    "\n",
    "    model.compile(optimizer = optimizer(learning_rate=learning_rate), loss = 'mse', metrics = ['mse'])\n",
    "    return model"
   ]
  },
  {
   "cell_type": "code",
   "execution_count": 97,
   "id": "6bad6d86",
   "metadata": {},
   "outputs": [
    {
     "name": "stdout",
     "output_type": "stream",
     "text": [
      "Reloading Tuner from tuner_dir\\mlp_regression\\tuner0.json\n"
     ]
    }
   ],
   "source": [
    "tuner = kt.RandomSearch(\n",
    "    build_model, \n",
    "    objective = 'val_mse',\n",
    "    max_trials = 30,\n",
    "    executions_per_trial=1,\n",
    "    directory='tuner_dir',\n",
    "    project_name='mlp_regression'\n",
    ")"
   ]
  },
  {
   "cell_type": "code",
   "execution_count": 98,
   "id": "d3d90016",
   "metadata": {},
   "outputs": [
    {
     "name": "stdout",
     "output_type": "stream",
     "text": [
      "Trial 30 Complete [00h 00m 14s]\n",
      "val_mse: 563.6806640625\n",
      "\n",
      "Best val_mse So Far: 124.46086120605469\n",
      "Total elapsed time: 00h 24m 47s\n"
     ]
    }
   ],
   "source": [
    "tuner.search(\n",
    "    X_reg_train, y_reg_train, \n",
    "    validation_data = (X_reg_test, y_reg_test), \n",
    "    epochs = 40,\n",
    "    batch_size = 32,\n",
    ")"
   ]
  },
  {
   "cell_type": "code",
   "execution_count": 105,
   "id": "266216b7",
   "metadata": {},
   "outputs": [],
   "source": [
    "best_hps = tuner.get_best_hyperparameters(num_trials=1)[0]"
   ]
  },
  {
   "cell_type": "code",
   "execution_count": 36,
   "id": "7bbbfadb",
   "metadata": {},
   "outputs": [],
   "source": [
    "history  = model.fit( \n",
    "    X_reg_train, y_reg_train,\n",
    "    validation_data = (X_reg_test, y_reg_test),\n",
    "    epochs = 40,\n",
    "    batch_size = 32, \n",
    "    verbose = 0\n",
    ")"
   ]
  },
  {
   "cell_type": "code",
   "execution_count": null,
   "id": "3ab9c6e1",
   "metadata": {},
   "outputs": [
    {
     "data": {
      "text/plain": [
       "{'units_0': 70,\n",
       " 'activation': 'tanh',\n",
       " 'layers_n': 2,\n",
       " 'optimizer': 'adam',\n",
       " 'learning_rate': 0.0039204459778349075,\n",
       " 'neuro_1': 90,\n",
       " 'neuro_2': 100}"
      ]
     },
     "execution_count": 27,
     "metadata": {},
     "output_type": "execute_result"
    }
   ],
   "source": [
    "best_hps.values"
   ]
  },
  {
   "cell_type": "code",
   "execution_count": null,
   "id": "ecdd19a1",
   "metadata": {},
   "outputs": [],
   "source": [
    "best_model = build_model(best_hps)\n",
    "history  = best_model.fit( \n",
    "    X_reg_train, y_reg_train,\n",
    "    validation_data = (X_reg_test, y_reg_test),\n",
    "    epochs = 40,\n",
    "    batch_size = 32, \n",
    "    verbose = 0\n",
    ")"
   ]
  },
  {
   "cell_type": "code",
   "execution_count": 39,
   "id": "edd3bacd",
   "metadata": {},
   "outputs": [],
   "source": [
    "epochs = list(range(1,41))\n",
    "train_loss = history.history['loss']\n",
    "train_mse = history.history['r2_score']"
   ]
  },
  {
   "cell_type": "code",
   "execution_count": 40,
   "id": "df210907",
   "metadata": {},
   "outputs": [
    {
     "data": {
      "application/vnd.plotly.v1+json": {
       "config": {
        "plotlyServerURL": "https://plot.ly"
       },
       "data": [
        {
         "line": {
          "color": "#CA8BDF",
          "width": 2
         },
         "mode": "lines",
         "name": "Функция потерь",
         "type": "scatter",
         "x": [
          1,
          2,
          3,
          4,
          5,
          6,
          7,
          8,
          9,
          10,
          11,
          12,
          13,
          14,
          15,
          16,
          17,
          18,
          19,
          20,
          21,
          22,
          23,
          24,
          25,
          26,
          27,
          28,
          29,
          30,
          31,
          32,
          33,
          34,
          35,
          36,
          37,
          38,
          39,
          40
         ],
         "xaxis": "x",
         "y": [
          708.7166137695312,
          400.26141357421875,
          318.8495178222656,
          296.3384094238281,
          268.9334411621094,
          259.09759521484375,
          242.60977172851562,
          237.90548706054688,
          240.9226531982422,
          233.27403259277344,
          228.92784118652344,
          224.2186737060547,
          223.22030639648438,
          218.4252166748047,
          208.83786010742188,
          204.61801147460938,
          210.3427734375,
          209.30172729492188,
          197.84645080566406,
          196.82913208007812,
          191.8901824951172,
          183.9452362060547,
          180.12242126464844,
          189.78761291503906,
          170.81887817382812,
          182.18939208984375,
          176.8994598388672,
          177.0607452392578,
          167.5819091796875,
          165.61273193359375,
          182.13516235351562,
          181.22711181640625,
          170.9514923095703,
          164.97805786132812,
          166.567626953125,
          174.86338806152344,
          172.66717529296875,
          156.4259796142578,
          163.39739990234375,
          148.4651336669922
         ],
         "yaxis": "y"
        },
        {
         "line": {
          "color": "#8DD5C3",
          "width": 2
         },
         "mode": "lines",
         "name": "R2",
         "type": "scatter",
         "x": [
          1,
          2,
          3,
          4,
          5,
          6,
          7,
          8,
          9,
          10,
          11,
          12,
          13,
          14,
          15,
          16,
          17,
          18,
          19,
          20,
          21,
          22,
          23,
          24,
          25,
          26,
          27,
          28,
          29,
          30,
          31,
          32,
          33,
          34,
          35,
          36,
          37,
          38,
          39,
          40
         ],
         "xaxis": "x2",
         "y": [
          0.10390377044677734,
          0.4939119815826416,
          0.5968490242958069,
          0.6253117322921753,
          0.6599624156951904,
          0.6723988056182861,
          0.6932458877563477,
          0.6991938352584839,
          0.6953788995742798,
          0.705049991607666,
          0.7105451822280884,
          0.7164994478225708,
          0.7177618741989136,
          0.7238247394561768,
          0.7359468340873718,
          0.74128258228302,
          0.7340440154075623,
          0.7353603839874268,
          0.7498444318771362,
          0.7511307001113892,
          0.7573754787445068,
          0.7674210071563721,
          0.772254228591919,
          0.7600336074829102,
          0.7840177416801453,
          0.7696409225463867,
          0.7763296961784363,
          0.7761257290840149,
          0.7881104946136475,
          0.7906001806259155,
          0.7697096467018127,
          0.7708576321601868,
          0.7838500738143921,
          0.7914028167724609,
          0.7893929481506348,
          0.7789037823677063,
          0.7816807627677917,
          0.8022160530090332,
          0.7934014201164246,
          0.812281608581543
         ],
         "yaxis": "y2"
        }
       ],
       "layout": {
        "annotations": [
         {
          "font": {
           "size": 16
          },
          "showarrow": false,
          "text": "Функция потерь от количества эпох",
          "x": 0.225,
          "xanchor": "center",
          "xref": "paper",
          "y": 1,
          "yanchor": "bottom",
          "yref": "paper"
         },
         {
          "font": {
           "size": 16
          },
          "showarrow": false,
          "text": "Значение метрики от количества эпох",
          "x": 0.775,
          "xanchor": "center",
          "xref": "paper",
          "y": 1,
          "yanchor": "bottom",
          "yref": "paper"
         }
        ],
        "showlegend": true,
        "template": {
         "data": {
          "bar": [
           {
            "error_x": {
             "color": "#2a3f5f"
            },
            "error_y": {
             "color": "#2a3f5f"
            },
            "marker": {
             "line": {
              "color": "#E5ECF6",
              "width": 0.5
             },
             "pattern": {
              "fillmode": "overlay",
              "size": 10,
              "solidity": 0.2
             }
            },
            "type": "bar"
           }
          ],
          "barpolar": [
           {
            "marker": {
             "line": {
              "color": "#E5ECF6",
              "width": 0.5
             },
             "pattern": {
              "fillmode": "overlay",
              "size": 10,
              "solidity": 0.2
             }
            },
            "type": "barpolar"
           }
          ],
          "carpet": [
           {
            "aaxis": {
             "endlinecolor": "#2a3f5f",
             "gridcolor": "white",
             "linecolor": "white",
             "minorgridcolor": "white",
             "startlinecolor": "#2a3f5f"
            },
            "baxis": {
             "endlinecolor": "#2a3f5f",
             "gridcolor": "white",
             "linecolor": "white",
             "minorgridcolor": "white",
             "startlinecolor": "#2a3f5f"
            },
            "type": "carpet"
           }
          ],
          "choropleth": [
           {
            "colorbar": {
             "outlinewidth": 0,
             "ticks": ""
            },
            "type": "choropleth"
           }
          ],
          "contour": [
           {
            "colorbar": {
             "outlinewidth": 0,
             "ticks": ""
            },
            "colorscale": [
             [
              0,
              "#0d0887"
             ],
             [
              0.1111111111111111,
              "#46039f"
             ],
             [
              0.2222222222222222,
              "#7201a8"
             ],
             [
              0.3333333333333333,
              "#9c179e"
             ],
             [
              0.4444444444444444,
              "#bd3786"
             ],
             [
              0.5555555555555556,
              "#d8576b"
             ],
             [
              0.6666666666666666,
              "#ed7953"
             ],
             [
              0.7777777777777778,
              "#fb9f3a"
             ],
             [
              0.8888888888888888,
              "#fdca26"
             ],
             [
              1,
              "#f0f921"
             ]
            ],
            "type": "contour"
           }
          ],
          "contourcarpet": [
           {
            "colorbar": {
             "outlinewidth": 0,
             "ticks": ""
            },
            "type": "contourcarpet"
           }
          ],
          "heatmap": [
           {
            "colorbar": {
             "outlinewidth": 0,
             "ticks": ""
            },
            "colorscale": [
             [
              0,
              "#0d0887"
             ],
             [
              0.1111111111111111,
              "#46039f"
             ],
             [
              0.2222222222222222,
              "#7201a8"
             ],
             [
              0.3333333333333333,
              "#9c179e"
             ],
             [
              0.4444444444444444,
              "#bd3786"
             ],
             [
              0.5555555555555556,
              "#d8576b"
             ],
             [
              0.6666666666666666,
              "#ed7953"
             ],
             [
              0.7777777777777778,
              "#fb9f3a"
             ],
             [
              0.8888888888888888,
              "#fdca26"
             ],
             [
              1,
              "#f0f921"
             ]
            ],
            "type": "heatmap"
           }
          ],
          "histogram": [
           {
            "marker": {
             "pattern": {
              "fillmode": "overlay",
              "size": 10,
              "solidity": 0.2
             }
            },
            "type": "histogram"
           }
          ],
          "histogram2d": [
           {
            "colorbar": {
             "outlinewidth": 0,
             "ticks": ""
            },
            "colorscale": [
             [
              0,
              "#0d0887"
             ],
             [
              0.1111111111111111,
              "#46039f"
             ],
             [
              0.2222222222222222,
              "#7201a8"
             ],
             [
              0.3333333333333333,
              "#9c179e"
             ],
             [
              0.4444444444444444,
              "#bd3786"
             ],
             [
              0.5555555555555556,
              "#d8576b"
             ],
             [
              0.6666666666666666,
              "#ed7953"
             ],
             [
              0.7777777777777778,
              "#fb9f3a"
             ],
             [
              0.8888888888888888,
              "#fdca26"
             ],
             [
              1,
              "#f0f921"
             ]
            ],
            "type": "histogram2d"
           }
          ],
          "histogram2dcontour": [
           {
            "colorbar": {
             "outlinewidth": 0,
             "ticks": ""
            },
            "colorscale": [
             [
              0,
              "#0d0887"
             ],
             [
              0.1111111111111111,
              "#46039f"
             ],
             [
              0.2222222222222222,
              "#7201a8"
             ],
             [
              0.3333333333333333,
              "#9c179e"
             ],
             [
              0.4444444444444444,
              "#bd3786"
             ],
             [
              0.5555555555555556,
              "#d8576b"
             ],
             [
              0.6666666666666666,
              "#ed7953"
             ],
             [
              0.7777777777777778,
              "#fb9f3a"
             ],
             [
              0.8888888888888888,
              "#fdca26"
             ],
             [
              1,
              "#f0f921"
             ]
            ],
            "type": "histogram2dcontour"
           }
          ],
          "mesh3d": [
           {
            "colorbar": {
             "outlinewidth": 0,
             "ticks": ""
            },
            "type": "mesh3d"
           }
          ],
          "parcoords": [
           {
            "line": {
             "colorbar": {
              "outlinewidth": 0,
              "ticks": ""
             }
            },
            "type": "parcoords"
           }
          ],
          "pie": [
           {
            "automargin": true,
            "type": "pie"
           }
          ],
          "scatter": [
           {
            "fillpattern": {
             "fillmode": "overlay",
             "size": 10,
             "solidity": 0.2
            },
            "type": "scatter"
           }
          ],
          "scatter3d": [
           {
            "line": {
             "colorbar": {
              "outlinewidth": 0,
              "ticks": ""
             }
            },
            "marker": {
             "colorbar": {
              "outlinewidth": 0,
              "ticks": ""
             }
            },
            "type": "scatter3d"
           }
          ],
          "scattercarpet": [
           {
            "marker": {
             "colorbar": {
              "outlinewidth": 0,
              "ticks": ""
             }
            },
            "type": "scattercarpet"
           }
          ],
          "scattergeo": [
           {
            "marker": {
             "colorbar": {
              "outlinewidth": 0,
              "ticks": ""
             }
            },
            "type": "scattergeo"
           }
          ],
          "scattergl": [
           {
            "marker": {
             "colorbar": {
              "outlinewidth": 0,
              "ticks": ""
             }
            },
            "type": "scattergl"
           }
          ],
          "scattermap": [
           {
            "marker": {
             "colorbar": {
              "outlinewidth": 0,
              "ticks": ""
             }
            },
            "type": "scattermap"
           }
          ],
          "scattermapbox": [
           {
            "marker": {
             "colorbar": {
              "outlinewidth": 0,
              "ticks": ""
             }
            },
            "type": "scattermapbox"
           }
          ],
          "scatterpolar": [
           {
            "marker": {
             "colorbar": {
              "outlinewidth": 0,
              "ticks": ""
             }
            },
            "type": "scatterpolar"
           }
          ],
          "scatterpolargl": [
           {
            "marker": {
             "colorbar": {
              "outlinewidth": 0,
              "ticks": ""
             }
            },
            "type": "scatterpolargl"
           }
          ],
          "scatterternary": [
           {
            "marker": {
             "colorbar": {
              "outlinewidth": 0,
              "ticks": ""
             }
            },
            "type": "scatterternary"
           }
          ],
          "surface": [
           {
            "colorbar": {
             "outlinewidth": 0,
             "ticks": ""
            },
            "colorscale": [
             [
              0,
              "#0d0887"
             ],
             [
              0.1111111111111111,
              "#46039f"
             ],
             [
              0.2222222222222222,
              "#7201a8"
             ],
             [
              0.3333333333333333,
              "#9c179e"
             ],
             [
              0.4444444444444444,
              "#bd3786"
             ],
             [
              0.5555555555555556,
              "#d8576b"
             ],
             [
              0.6666666666666666,
              "#ed7953"
             ],
             [
              0.7777777777777778,
              "#fb9f3a"
             ],
             [
              0.8888888888888888,
              "#fdca26"
             ],
             [
              1,
              "#f0f921"
             ]
            ],
            "type": "surface"
           }
          ],
          "table": [
           {
            "cells": {
             "fill": {
              "color": "#EBF0F8"
             },
             "line": {
              "color": "white"
             }
            },
            "header": {
             "fill": {
              "color": "#C8D4E3"
             },
             "line": {
              "color": "white"
             }
            },
            "type": "table"
           }
          ]
         },
         "layout": {
          "annotationdefaults": {
           "arrowcolor": "#2a3f5f",
           "arrowhead": 0,
           "arrowwidth": 1
          },
          "autotypenumbers": "strict",
          "coloraxis": {
           "colorbar": {
            "outlinewidth": 0,
            "ticks": ""
           }
          },
          "colorscale": {
           "diverging": [
            [
             0,
             "#8e0152"
            ],
            [
             0.1,
             "#c51b7d"
            ],
            [
             0.2,
             "#de77ae"
            ],
            [
             0.3,
             "#f1b6da"
            ],
            [
             0.4,
             "#fde0ef"
            ],
            [
             0.5,
             "#f7f7f7"
            ],
            [
             0.6,
             "#e6f5d0"
            ],
            [
             0.7,
             "#b8e186"
            ],
            [
             0.8,
             "#7fbc41"
            ],
            [
             0.9,
             "#4d9221"
            ],
            [
             1,
             "#276419"
            ]
           ],
           "sequential": [
            [
             0,
             "#0d0887"
            ],
            [
             0.1111111111111111,
             "#46039f"
            ],
            [
             0.2222222222222222,
             "#7201a8"
            ],
            [
             0.3333333333333333,
             "#9c179e"
            ],
            [
             0.4444444444444444,
             "#bd3786"
            ],
            [
             0.5555555555555556,
             "#d8576b"
            ],
            [
             0.6666666666666666,
             "#ed7953"
            ],
            [
             0.7777777777777778,
             "#fb9f3a"
            ],
            [
             0.8888888888888888,
             "#fdca26"
            ],
            [
             1,
             "#f0f921"
            ]
           ],
           "sequentialminus": [
            [
             0,
             "#0d0887"
            ],
            [
             0.1111111111111111,
             "#46039f"
            ],
            [
             0.2222222222222222,
             "#7201a8"
            ],
            [
             0.3333333333333333,
             "#9c179e"
            ],
            [
             0.4444444444444444,
             "#bd3786"
            ],
            [
             0.5555555555555556,
             "#d8576b"
            ],
            [
             0.6666666666666666,
             "#ed7953"
            ],
            [
             0.7777777777777778,
             "#fb9f3a"
            ],
            [
             0.8888888888888888,
             "#fdca26"
            ],
            [
             1,
             "#f0f921"
            ]
           ]
          },
          "colorway": [
           "#636efa",
           "#EF553B",
           "#00cc96",
           "#ab63fa",
           "#FFA15A",
           "#19d3f3",
           "#FF6692",
           "#B6E880",
           "#FF97FF",
           "#FECB52"
          ],
          "font": {
           "color": "#2a3f5f"
          },
          "geo": {
           "bgcolor": "white",
           "lakecolor": "white",
           "landcolor": "#E5ECF6",
           "showlakes": true,
           "showland": true,
           "subunitcolor": "white"
          },
          "hoverlabel": {
           "align": "left"
          },
          "hovermode": "closest",
          "mapbox": {
           "style": "light"
          },
          "paper_bgcolor": "white",
          "plot_bgcolor": "#E5ECF6",
          "polar": {
           "angularaxis": {
            "gridcolor": "white",
            "linecolor": "white",
            "ticks": ""
           },
           "bgcolor": "#E5ECF6",
           "radialaxis": {
            "gridcolor": "white",
            "linecolor": "white",
            "ticks": ""
           }
          },
          "scene": {
           "xaxis": {
            "backgroundcolor": "#E5ECF6",
            "gridcolor": "white",
            "gridwidth": 2,
            "linecolor": "white",
            "showbackground": true,
            "ticks": "",
            "zerolinecolor": "white"
           },
           "yaxis": {
            "backgroundcolor": "#E5ECF6",
            "gridcolor": "white",
            "gridwidth": 2,
            "linecolor": "white",
            "showbackground": true,
            "ticks": "",
            "zerolinecolor": "white"
           },
           "zaxis": {
            "backgroundcolor": "#E5ECF6",
            "gridcolor": "white",
            "gridwidth": 2,
            "linecolor": "white",
            "showbackground": true,
            "ticks": "",
            "zerolinecolor": "white"
           }
          },
          "shapedefaults": {
           "line": {
            "color": "#2a3f5f"
           }
          },
          "ternary": {
           "aaxis": {
            "gridcolor": "white",
            "linecolor": "white",
            "ticks": ""
           },
           "baxis": {
            "gridcolor": "white",
            "linecolor": "white",
            "ticks": ""
           },
           "bgcolor": "#E5ECF6",
           "caxis": {
            "gridcolor": "white",
            "linecolor": "white",
            "ticks": ""
           }
          },
          "title": {
           "x": 0.05
          },
          "xaxis": {
           "automargin": true,
           "gridcolor": "white",
           "linecolor": "white",
           "ticks": "",
           "title": {
            "standoff": 15
           },
           "zerolinecolor": "white",
           "zerolinewidth": 2
          },
          "yaxis": {
           "automargin": true,
           "gridcolor": "white",
           "linecolor": "white",
           "ticks": "",
           "title": {
            "standoff": 15
           },
           "zerolinecolor": "white",
           "zerolinewidth": 2
          }
         }
        },
        "title": {
         "text": "Метрики обучения модели Keras-Tune_Regressor"
        },
        "xaxis": {
         "anchor": "y",
         "domain": [
          0,
          0.45
         ]
        },
        "xaxis2": {
         "anchor": "y2",
         "domain": [
          0.55,
          1
         ]
        },
        "yaxis": {
         "anchor": "x",
         "domain": [
          0,
          1
         ]
        },
        "yaxis2": {
         "anchor": "x2",
         "domain": [
          0,
          1
         ]
        }
       }
      }
     },
     "metadata": {},
     "output_type": "display_data"
    }
   ],
   "source": [
    "plot_char_epochs_metrics(epochs, train_loss, train_mse, 'Keras-Tune_Regressor', 'R2')"
   ]
  },
  {
   "cell_type": "code",
   "execution_count": 110,
   "id": "e9cecd04",
   "metadata": {},
   "outputs": [
    {
     "name": "stdout",
     "output_type": "stream",
     "text": [
      "\u001b[1m39/39\u001b[0m \u001b[32m━━━━━━━━━━━━━━━━━━━━\u001b[0m\u001b[37m\u001b[0m \u001b[1m0s\u001b[0m 1ms/step \n"
     ]
    }
   ],
   "source": [
    "y_pred = best_model.predict(X_reg_test)"
   ]
  },
  {
   "cell_type": "code",
   "execution_count": 113,
   "id": "5c9bac90",
   "metadata": {},
   "outputs": [],
   "source": [
    "y_pred = pd.Series(y_pred.flatten())"
   ]
  },
  {
   "cell_type": "code",
   "execution_count": 120,
   "id": "188c6245",
   "metadata": {},
   "outputs": [
    {
     "name": "stdout",
     "output_type": "stream",
     "text": [
      "               Метрики качества\n",
      "MAE                     6.27519\n",
      "MSE                   137.73552\n",
      "RMSE                   11.73608\n",
      "MAPE                    0.29223\n",
      "Adjusted_rand          -0.00004\n",
      "R^2                     0.78484\n"
     ]
    }
   ],
   "source": [
    "print_error(Y_test=y_reg_test, Y_pred=y_pred)"
   ]
  },
  {
   "cell_type": "markdown",
   "id": "06033c61",
   "metadata": {},
   "source": [
    "#### <span style = \"color:rgb(150, 228, 185) \"> **Ray Tune**</span> \n",
    "\n",
    "**РЕГРЕССИЯ**"
   ]
  },
  {
   "cell_type": "code",
   "execution_count": 12,
   "id": "df63b544",
   "metadata": {},
   "outputs": [
    {
     "name": "stderr",
     "output_type": "stream",
     "text": [
      "2025-06-03 19:18:19,791\tINFO util.py:154 -- Missing packages: ['ipywidgets']. Run `pip install -U ipywidgets`, then restart the notebook server for rich notebook output.\n",
      "2025-06-03 19:18:19,965\tINFO util.py:154 -- Missing packages: ['ipywidgets']. Run `pip install -U ipywidgets`, then restart the notebook server for rich notebook output.\n",
      "2025-06-03 19:18:20,230\tINFO util.py:154 -- Missing packages: ['ipywidgets']. Run `pip install -U ipywidgets`, then restart the notebook server for rich notebook output.\n"
     ]
    }
   ],
   "source": [
    "from ray import tune\n",
    "from ray.tune.schedulers import AsyncHyperBandScheduler\n",
    "from ray.air.integrations.keras import ReportCheckpointCallback"
   ]
  },
  {
   "cell_type": "code",
   "execution_count": 13,
   "id": "70e5c029",
   "metadata": {},
   "outputs": [],
   "source": [
    "import ray\n",
    "from ray import tune\n",
    "from ray.tune.integration.keras import TuneReportCallback\n",
    "\n",
    "\n",
    "def build_model(config):\n",
    "    model = Sequential()\n",
    "    model.add(Dense(\n",
    "        config['units_0'],\n",
    "        activation=config['activation'],\n",
    "        input_shape=(4,)\n",
    "    ))\n",
    "    \n",
    "    for i in range(1, config['n_layers']):\n",
    "        model.add(Dense(config[f'units_{i}'], activation=config['activation']))\n",
    "    \n",
    "\n",
    "    model.add(Dense(1))\n",
    "    \n",
    "    if config['optimizer'] == 'adam':\n",
    "        optimizer = Adam\n",
    "    elif config['optimizer'] == 'sgd':\n",
    "        optimizer = SGD\n",
    "    else:\n",
    "        optimizer = RMSprop\n",
    "    \n",
    "    model.compile(optimizer=optimizer(learning_rate = config['learning_rate']), loss='mse', metrics=['mse'])\n",
    "    return model"
   ]
  },
  {
   "cell_type": "code",
   "execution_count": 20,
   "id": "fb0404e6",
   "metadata": {},
   "outputs": [],
   "source": [
    "from ray.tune.integration.keras import TuneReportCallback\n",
    "\n",
    "def train_model(config):\n",
    "    print(f\"Starting trial with config: {config}\")\n",
    "    try:\n",
    "        model = build_model(config)\n",
    "        model.fit(\n",
    "            X_class_train, y_class_train,\n",
    "            validation_data=(X_class_test, y_class_test),\n",
    "            batch_size=config['batch_size'],\n",
    "            epochs=40,\n",
    "            verbose=0,\n",
    "            callbacks=[\n",
    "                TuneReportCallback({'mean_mse': 'val_mse'}),\n",
    "                tf.keras.callbacks.EarlyStopping(patience=3, monitor='val_mse')\n",
    "            ]\n",
    "        )\n",
    "        print(f\"Trial completed with config: {config}\")\n",
    "    except Exception as e:\n",
    "        print(f\"Error in trial with config {config}: {e}\")\n",
    "        raise"
   ]
  },
  {
   "cell_type": "code",
   "execution_count": 21,
   "id": "50a40588",
   "metadata": {},
   "outputs": [],
   "source": [
    "config = {\n",
    "    'n_layers': tune.randint(1, 4),\n",
    "    'units_0': tune.qrandint(10, 100, 10),\n",
    "    'units_1': tune.qrandint(10, 100, 10),\n",
    "    'units_2': tune.qrandint(10, 100, 10),\n",
    "    'activation': tune.choice(['relu', 'tanh']),\n",
    "    'optimizer': tune.choice(['adam', 'sgd', 'rmsprop']),\n",
    "    'learning_rate': tune.loguniform(1e-4, 1e-2),\n",
    "    'batch_size': tune.choice([32, 64, 128])\n",
    "}"
   ]
  },
  {
   "cell_type": "code",
   "execution_count": null,
   "id": "c4dcdf2b",
   "metadata": {},
   "outputs": [],
   "source": []
  },
  {
   "cell_type": "code",
   "execution_count": null,
   "id": "946172d7",
   "metadata": {},
   "outputs": [
    {
     "name": "stderr",
     "output_type": "stream",
     "text": [
      "2025-06-03 19:20:27,632\tERROR services.py:1362 -- Failed to start the dashboard , return code 3221226505\n",
      "2025-06-03 19:20:27,634\tERROR services.py:1387 -- Error should be written to 'dashboard.log' or 'dashboard.err'. We are printing the last 20 lines for you. See 'https://docs.ray.io/en/master/ray-observability/user-guides/configure-logging.html#logging-directory-structure' to find where the log file is.\n",
      "2025-06-03 19:20:27,653\tERROR services.py:1397 -- Couldn't read dashboard.log file. Error: 'utf-8' codec can't decode byte 0xcd in position 22: invalid continuation byte. It means the dashboard is broken even before it initializes the logger (mostly dependency issues). Reading the dashboard.err file which contains stdout/stderr.\n",
      "2025-06-03 19:20:27,654\tERROR services.py:1431 -- \n",
      "The last 20 lines of C:\\Users\\fiks1\\AppData\\Local\\Temp\\ray\\session_2025-06-03_19-20-25_511228_20432\\logs\\dashboard.err (it contains the error message from the dashboard): \n",
      "2025-06-03 19:20:27,828\tINFO worker.py:1888 -- Started a local Ray instance.\n"
     ]
    }
   ],
   "source": [
    "analysis = tune.run(\n",
    "    train_model,\n",
    "    config=config,\n",
    "    num_samples=5,\n",
    "    resources_per_trial={'cpu': 1, 'gpu': 0},\n",
    "    verbose=1\n",
    ")"
   ]
  },
  {
   "cell_type": "code",
   "execution_count": null,
   "id": "1346b893",
   "metadata": {},
   "outputs": [],
   "source": [
    "best_config = analysis.best_config"
   ]
  },
  {
   "cell_type": "code",
   "execution_count": null,
   "id": "4d593310",
   "metadata": {},
   "outputs": [],
   "source": [
    "best_config = analysis.best_config\n",
    "best_model = build_model(best_config)\n",
    "best_model.fit(\n",
    "    X_class_train, y_class_train,\n",
    "    validation_data=(X_class_test, y_class_test),\n",
    "    batch_size=best_config['batch_size'],\n",
    "    epochs=40,\n",
    "    verbose=0,\n",
    "    callbacks=[tf.keras.callbacks.EarlyStopping(patience=3, monitor='val_mse')]\n",
    ")"
   ]
  },
  {
   "cell_type": "markdown",
   "id": "6ad63ad9",
   "metadata": {},
   "source": [
    "### **Визуализация**"
   ]
  },
  {
   "cell_type": "markdown",
   "id": "d6a97324",
   "metadata": {},
   "source": [
    "#### <span style = \"color:rgb(169, 163, 221)\">Архитектуры созданных НС</span>"
   ]
  },
  {
   "cell_type": "markdown",
   "id": "230ffaed",
   "metadata": {},
   "source": [
    "#### Keras-Tune Regressor"
   ]
  },
  {
   "cell_type": "code",
   "execution_count": null,
   "id": "66ee6e6b",
   "metadata": {},
   "outputs": [
    {
     "data": {
      "image/png": "[encoded data removed]",
      "text/plain": [
       "<IPython.core.display.Image object>"
      ]
     },
     "execution_count": 6,
     "metadata": {},
     "output_type": "execute_result"
    }
   ],
   "source": [
    "from keras.utils import plot_model\n",
    "\n",
    "\n",
    "plot_model(\n",
    "        model,\n",
    "        to_file='model_architecture_detailed.png',\n",
    "        show_shapes=True,         \n",
    "        show_dtype=True,          \n",
    "        show_layer_names=True,     \n",
    "        show_layer_activations=True,  \n",
    "        expand_nested=True,        \n",
    "        dpi=150,                 \n",
    "        rankdir='TB'            \n",
    "    )"
   ]
  },
  {
   "cell_type": "markdown",
   "id": "4a870d72",
   "metadata": {},
   "source": [
    "#### Optuna Classifier"
   ]
  },
  {
   "cell_type": "code",
   "execution_count": 7,
   "id": "488fd030",
   "metadata": {},
   "outputs": [],
   "source": [
    "class_model = joblib.load('OptunaClassifier.joblib')"
   ]
  },
  {
   "cell_type": "code",
   "execution_count": 10,
   "id": "dbde1519",
   "metadata": {},
   "outputs": [
    {
     "data": {
      "image/png": "[encoded data removed]",
      "text/plain": [
       "<IPython.core.display.Image object>"
      ]
     },
     "execution_count": 10,
     "metadata": {},
     "output_type": "execute_result"
    }
   ],
   "source": [
    "plot_model(\n",
    "        class_model,\n",
    "        show_shapes=True,         \n",
    "        show_dtype=True,          \n",
    "        show_layer_names=True,     \n",
    "        show_layer_activations=True,  \n",
    "        expand_nested=True,        \n",
    "        dpi=150,                 \n",
    "        rankdir='TB'            \n",
    "    )"
   ]
  },
  {
   "cell_type": "markdown",
   "id": "a8f7cf22",
   "metadata": {},
   "source": [
    "### Инференс модели"
   ]
  },
  {
   "cell_type": "markdown",
   "id": "f469cc6b",
   "metadata": {},
   "source": [
    "#### Классифкация\n",
    "\n",
    "> Будет ли метеор Апофис (99942) со значением звёздной величины 19.7 опасен для Земли?"
   ]
  },
  {
   "cell_type": "code",
   "execution_count": 12,
   "id": "93921eb0",
   "metadata": {},
   "outputs": [],
   "source": [
    "import pandas as pd"
   ]
  },
  {
   "cell_type": "code",
   "execution_count": 22,
   "id": "6ffc2eb3",
   "metadata": {},
   "outputs": [],
   "source": [
    "scaler = joblib.load('scaler')"
   ]
  },
  {
   "cell_type": "code",
   "execution_count": 23,
   "id": "e3432310",
   "metadata": {},
   "outputs": [],
   "source": [
    "x_apofis = {'abs_magnitude': [19.7]}\n",
    "x_apofis= pd.DataFrame(x_apofis)\n",
    "scaled_data = scaler.transform(x_apofis)"
   ]
  },
  {
   "cell_type": "code",
   "execution_count": 27,
   "id": "41c16404",
   "metadata": {},
   "outputs": [
    {
     "name": "stdout",
     "output_type": "stream",
     "text": [
      "\u001b[1m1/1\u001b[0m \u001b[32m━━━━━━━━━━━━━━━━━━━━\u001b[0m\u001b[37m\u001b[0m \u001b[1m0s\u001b[0m 54ms/step\n"
     ]
    },
    {
     "data": {
      "text/plain": [
       "np.float32(0.5716152)"
      ]
     },
     "execution_count": 27,
     "metadata": {},
     "output_type": "execute_result"
    }
   ],
   "source": [
    "prediction = class_model.predict(scaled_data)\n",
    "prediction[0][0]"
   ]
  },
  {
   "cell_type": "markdown",
   "id": "fd5c50c9",
   "metadata": {},
   "source": [
    "Вероятность потенциальной угрозы Апофис (99942) составляет **0.57** "
   ]
  },
  {
   "cell_type": "markdown",
   "id": "b910186f",
   "metadata": {},
   "source": [
    "#### Регрессия\n",
    "\n",
    "по неизвестным причинам я решил купить себе дом в городе Мумбаи\n",
    "\n",
    "> Сколько предположительно будет стоить дом в элитном районе с 5 душевыми комнатами и площадью 5000 кв.фунтов?\n",
    "\n",
    "(координаты  latitude = 19.0686, longitude = 72.8394) "
   ]
  },
  {
   "cell_type": "code",
   "execution_count": 36,
   "id": "e481ca3a",
   "metadata": {},
   "outputs": [],
   "source": [
    "model = joblib.load('KerasRegressor_tuner.joblib')"
   ]
  },
  {
   "cell_type": "code",
   "execution_count": 33,
   "id": "06f4e63b",
   "metadata": {},
   "outputs": [],
   "source": [
    "scaler_reg  = joblib.load('scaler_reg')"
   ]
  },
  {
   "cell_type": "code",
   "execution_count": 35,
   "id": "d5cae768",
   "metadata": {},
   "outputs": [],
   "source": [
    "my_home = {'area': [5000],\n",
    "           'latitude': [19.0686],\n",
    "           \"longitude\": [72.8394],\n",
    "           \"bathrooms\": [5]\n",
    "           }\n",
    "\n",
    "my_home = pd.DataFrame(my_home)\n",
    "scaled_home = scaler_reg.transform(my_home)"
   ]
  },
  {
   "cell_type": "code",
   "execution_count": 41,
   "id": "efc80c83",
   "metadata": {},
   "outputs": [
    {
     "name": "stdout",
     "output_type": "stream",
     "text": [
      "\u001b[1m1/1\u001b[0m \u001b[32m━━━━━━━━━━━━━━━━━━━━\u001b[0m\u001b[37m\u001b[0m \u001b[1m0s\u001b[0m 55ms/step\n"
     ]
    },
    {
     "data": {
      "text/plain": [
       "np.float32(199.75175)"
      ]
     },
     "execution_count": 41,
     "metadata": {},
     "output_type": "execute_result"
    }
   ],
   "source": [
    "price_my_home = model.predict(scaled_home)\n",
    "price_my_home[0][0]"
   ]
  },
  {
   "cell_type": "markdown",
   "id": "0fde0cec",
   "metadata": {},
   "source": [
    "Потенциальная цена моего жилья будет составлять **199.75** _млн. рупий_,  примерно 181,77 млн рублей \n"
   ]
  },
  {
   "cell_type": "markdown",
   "id": "c223c476",
   "metadata": {},
   "source": [
    "### <span style = \"color:rgb(132, 215, 184) \">Реализация многослойного перцептрона</span>"
   ]
  },
  {
   "cell_type": "code",
   "execution_count": null,
   "id": "5667f8c6",
   "metadata": {},
   "outputs": [],
   "source": [
    "from ml_library.lab7_custom_mlp import Affine, NeuralNetwork, SGD, Sigmoid, ReLU, MSELoss, BinaryCrossEntropyLoss"
   ]
  },
  {
   "cell_type": "markdown",
   "id": "1aeebe8c",
   "metadata": {},
   "source": [
    "#### Задача регрессии"
   ]
  },
  {
   "cell_type": "code",
   "execution_count": null,
   "id": "6bd487d8",
   "metadata": {},
   "outputs": [],
   "source": [
    "input_dim = 4  \n",
    "hidden_dim = 32\n",
    "\n",
    "\n",
    "output_dim = 1 \n",
    "\n",
    "layers = [\n",
    "    Affine([input_dim, hidden_dim]),\n",
    "    ReLU(),\n",
    "    Affine([hidden_dim, output_dim]),\n",
    "    ReLU(),\n",
    "\n",
    "]"
   ]
  },
  {
   "cell_type": "code",
   "execution_count": 446,
   "id": "c8309259",
   "metadata": {},
   "outputs": [],
   "source": [
    "loss_fn = MSELoss()"
   ]
  },
  {
   "cell_type": "code",
   "execution_count": 447,
   "id": "95d01252",
   "metadata": {},
   "outputs": [],
   "source": [
    "optimizer = SGD(learning_rate=0.01)"
   ]
  },
  {
   "cell_type": "code",
   "execution_count": 448,
   "id": "8dbc4626",
   "metadata": {},
   "outputs": [],
   "source": [
    "net = NeuralNetwork(layers, loss_fn, optimizer)"
   ]
  },
  {
   "cell_type": "code",
   "execution_count": 456,
   "id": "4e3186ff",
   "metadata": {},
   "outputs": [
    {
     "name": "stdout",
     "output_type": "stream",
     "text": [
      "эпоха 0 потеря 173.4001\n",
      "эпоха 1 потеря 176.6383\n",
      "эпоха 2 потеря 173.3119\n",
      "эпоха 3 потеря 176.6864\n",
      "эпоха 4 потеря 173.5106\n",
      "эпоха 5 потеря 176.6822\n",
      "эпоха 6 потеря 173.2985\n",
      "эпоха 7 потеря 176.6663\n",
      "эпоха 8 потеря 173.5862\n",
      "эпоха 9 потеря 176.6609\n",
      "эпоха 10 потеря 173.1978\n",
      "эпоха 11 потеря 176.2692\n",
      "эпоха 12 потеря 173.0562\n",
      "эпоха 13 потеря 175.8707\n",
      "эпоха 14 потеря 172.5812\n",
      "эпоха 15 потеря 175.3420\n",
      "эпоха 16 потеря 172.0770\n",
      "эпоха 17 потеря 174.7041\n",
      "эпоха 18 потеря 171.4101\n",
      "эпоха 19 потеря 173.5708\n",
      "эпоха 20 потеря 170.8521\n",
      "эпоха 21 потеря 173.1820\n",
      "эпоха 22 потеря 170.4484\n",
      "эпоха 23 потеря 172.4240\n",
      "эпоха 24 потеря 169.9724\n",
      "эпоха 25 потеря 172.1120\n",
      "эпоха 26 потеря 169.4369\n",
      "эпоха 27 потеря 171.3168\n",
      "эпоха 28 потеря 169.2986\n",
      "эпоха 29 потеря 171.4664\n",
      "эпоха 30 потеря 169.3390\n",
      "эпоха 31 потеря 171.5189\n",
      "эпоха 32 потеря 169.2452\n",
      "эпоха 33 потеря 171.3178\n",
      "эпоха 34 потеря 169.2703\n",
      "эпоха 35 потеря 171.6054\n",
      "эпоха 36 потеря 169.5654\n",
      "эпоха 37 потеря 171.8963\n",
      "эпоха 38 потеря 169.7242\n",
      "эпоха 39 потеря 172.3413\n",
      "эпоха 40 потеря 170.1295\n",
      "эпоха 41 потеря 172.6107\n",
      "эпоха 42 потеря 170.4877\n",
      "эпоха 43 потеря 173.2298\n",
      "эпоха 44 потеря 170.8265\n",
      "эпоха 45 потеря 173.8069\n",
      "эпоха 46 потеря 171.1492\n",
      "эпоха 47 потеря 173.8987\n",
      "эпоха 48 потеря 171.4403\n",
      "эпоха 49 потеря 174.4306\n",
      "эпоха 50 потеря 171.5483\n",
      "эпоха 51 потеря 174.2955\n",
      "эпоха 52 потеря 171.7067\n",
      "эпоха 53 потеря 174.6894\n",
      "эпоха 54 потеря 171.6757\n",
      "эпоха 55 потеря 174.6642\n",
      "эпоха 56 потеря 171.9998\n",
      "эпоха 57 потеря 174.7146\n",
      "эпоха 58 потеря 171.7391\n",
      "эпоха 59 потеря 174.5895\n",
      "эпоха 60 потеря 171.7513\n",
      "эпоха 61 потеря 174.5423\n",
      "эпоха 62 потеря 171.5640\n",
      "эпоха 63 потеря 174.4671\n",
      "эпоха 64 потеря 171.6645\n",
      "эпоха 65 потеря 174.2963\n",
      "эпоха 66 потеря 171.5209\n",
      "эпоха 67 потеря 174.2755\n",
      "эпоха 68 потеря 171.2866\n",
      "эпоха 69 потеря 173.8752\n",
      "эпоха 70 потеря 171.2682\n",
      "эпоха 71 потеря 173.9064\n",
      "эпоха 72 потеря 171.0433\n",
      "эпоха 73 потеря 173.5766\n",
      "эпоха 74 потеря 170.8964\n",
      "эпоха 75 потеря 173.5572\n",
      "эпоха 76 потеря 170.8108\n",
      "эпоха 77 потеря 173.3110\n",
      "эпоха 78 потеря 170.9841\n",
      "эпоха 79 потеря 173.6906\n",
      "эпоха 80 потеря 170.9606\n",
      "эпоха 81 потеря 173.4864\n",
      "эпоха 82 потеря 170.9507\n",
      "эпоха 83 потеря 173.6999\n",
      "эпоха 84 потеря 171.2017\n",
      "эпоха 85 потеря 173.7433\n",
      "эпоха 86 потеря 170.9562\n",
      "эпоха 87 потеря 173.5861\n",
      "эпоха 88 потеря 170.9925\n",
      "эпоха 89 потеря 173.7141\n",
      "эпоха 90 потеря 171.0197\n",
      "эпоха 91 потеря 173.4303\n",
      "эпоха 92 потеря 170.9352\n",
      "эпоха 93 потеря 173.5794\n",
      "эпоха 94 потеря 170.8228\n",
      "эпоха 95 потеря 173.5437\n",
      "эпоха 96 потеря 170.8052\n",
      "эпоха 97 потеря 173.3207\n",
      "эпоха 98 потеря 171.0355\n",
      "эпоха 99 потеря 173.8030\n",
      "эпоха 100 потеря 170.9771\n",
      "эпоха 101 потеря 173.5428\n",
      "эпоха 102 потеря 171.0799\n",
      "эпоха 103 потеря 173.7783\n",
      "эпоха 104 потеря 171.1207\n",
      "эпоха 105 потеря 173.9493\n",
      "эпоха 106 потеря 171.2035\n",
      "эпоха 107 потеря 173.7685\n",
      "эпоха 108 потеря 171.1781\n",
      "эпоха 109 потеря 173.9436\n",
      "эпоха 110 потеря 171.1099\n",
      "эпоха 111 потеря 173.7341\n",
      "эпоха 112 потеря 171.2694\n",
      "эпоха 113 потеря 174.0459\n",
      "эпоха 114 потеря 171.3337\n",
      "эпоха 115 потеря 173.9281\n",
      "эпоха 116 потеря 171.1847\n",
      "эпоха 117 потеря 173.9426\n",
      "эпоха 118 потеря 171.1295\n",
      "эпоха 119 потеря 173.9257\n",
      "эпоха 120 потеря 171.1452\n",
      "эпоха 121 потеря 173.6892\n",
      "эпоха 122 потеря 171.1594\n",
      "эпоха 123 потеря 173.9637\n",
      "эпоха 124 потеря 171.0716\n",
      "эпоха 125 потеря 173.6035\n",
      "эпоха 126 потеря 171.1350\n",
      "эпоха 127 потеря 173.8725\n",
      "эпоха 128 потеря 171.1895\n",
      "эпоха 129 потеря 173.8905\n",
      "эпоха 130 потеря 170.9534\n",
      "эпоха 131 потеря 173.4499\n",
      "эпоха 132 потеря 170.9349\n",
      "эпоха 133 потеря 173.6782\n",
      "эпоха 134 потеря 170.8933\n",
      "эпоха 135 потеря 173.4087\n",
      "эпоха 136 потеря 170.8911\n",
      "эпоха 137 потеря 173.5685\n",
      "эпоха 138 потеря 171.0354\n",
      "эпоха 139 потеря 173.8373\n",
      "эпоха 140 потеря 171.0372\n",
      "эпоха 141 потеря 173.5660\n",
      "эпоха 142 потеря 171.0880\n",
      "эпоха 143 потеря 173.8126\n",
      "эпоха 144 потеря 170.9059\n",
      "эпоха 145 потеря 173.4590\n",
      "эпоха 146 потеря 171.0643\n",
      "эпоха 147 потеря 173.8102\n",
      "эпоха 148 потеря 171.0616\n",
      "эпоха 149 потеря 173.6737\n",
      "эпоха 150 потеря 171.1091\n",
      "эпоха 151 потеря 173.8291\n",
      "эпоха 152 потеря 171.1552\n",
      "эпоха 153 потеря 173.8994\n",
      "эпоха 154 потеря 171.1396\n",
      "эпоха 155 потеря 173.7095\n",
      "эпоха 156 потеря 171.1365\n",
      "эпоха 157 потеря 173.9224\n",
      "эпоха 158 потеря 170.9511\n",
      "эпоха 159 потеря 173.5402\n",
      "эпоха 160 потеря 171.0177\n",
      "эпоха 161 потеря 173.7610\n",
      "эпоха 162 потеря 171.1607\n",
      "эпоха 163 потеря 173.8956\n",
      "эпоха 164 потеря 171.0490\n",
      "эпоха 165 потеря 173.6003\n",
      "эпоха 166 потеря 171.0499\n",
      "эпоха 167 потеря 173.7946\n",
      "эпоха 168 потеря 170.9988\n",
      "эпоха 169 потеря 173.5586\n",
      "эпоха 170 потеря 171.0615\n",
      "эпоха 171 потеря 173.7130\n",
      "эпоха 172 потеря 170.8862\n",
      "эпоха 173 потеря 173.5940\n",
      "эпоха 174 потеря 170.9216\n",
      "эпоха 175 потеря 173.4325\n",
      "эпоха 176 потеря 171.0710\n",
      "эпоха 177 потеря 173.7776\n",
      "эпоха 178 потеря 170.8961\n",
      "эпоха 179 потеря 173.4455\n",
      "эпоха 180 потеря 170.8143\n",
      "эпоха 181 потеря 173.4969\n",
      "эпоха 182 потеря 170.8263\n",
      "эпоха 183 потеря 173.5489\n",
      "эпоха 184 потеря 170.9561\n",
      "эпоха 185 потеря 173.4475\n",
      "эпоха 186 потеря 170.8355\n",
      "эпоха 187 потеря 173.6053\n",
      "эпоха 188 потеря 170.9184\n",
      "эпоха 189 потеря 173.4553\n",
      "эпоха 190 потеря 170.9934\n",
      "эпоха 191 потеря 173.6486\n",
      "эпоха 192 потеря 170.9044\n",
      "эпоха 193 потеря 173.6835\n",
      "эпоха 194 потеря 170.9524\n",
      "эпоха 195 потеря 173.4556\n",
      "эпоха 196 потеря 170.9880\n",
      "эпоха 197 потеря 173.7889\n",
      "эпоха 198 потеря 171.1372\n",
      "эпоха 199 потеря 173.7230\n",
      "эпоха 200 потеря 170.9837\n",
      "эпоха 201 потеря 173.8379\n",
      "эпоха 202 потеря 171.0550\n",
      "эпоха 203 потеря 173.6419\n",
      "эпоха 204 потеря 171.0930\n",
      "эпоха 205 потеря 173.8127\n",
      "эпоха 206 потеря 171.0012\n",
      "эпоха 207 потеря 173.8276\n",
      "эпоха 208 потеря 171.0559\n",
      "эпоха 209 потеря 173.5799\n",
      "эпоха 210 потеря 171.0700\n",
      "эпоха 211 потеря 173.8800\n",
      "эпоха 212 потеря 171.0331\n",
      "эпоха 213 потеря 173.5463\n",
      "эпоха 214 потеря 171.0391\n",
      "эпоха 215 потеря 173.7243\n",
      "эпоха 216 потеря 170.8863\n",
      "эпоха 217 потеря 173.4621\n",
      "эпоха 218 потеря 170.9422\n",
      "эпоха 219 потеря 173.5732\n",
      "эпоха 220 потеря 170.8286\n",
      "эпоха 221 потеря 173.5587\n",
      "эпоха 222 потеря 170.8552\n",
      "эпоха 223 потеря 173.2833\n",
      "эпоха 224 потеря 170.8200\n",
      "эпоха 225 потеря 173.6385\n",
      "эпоха 226 потеря 170.8091\n",
      "эпоха 227 потеря 173.3187\n",
      "эпоха 228 потеря 170.8903\n",
      "эпоха 229 потеря 173.6770\n",
      "эпоха 230 потеря 170.8131\n",
      "эпоха 231 потеря 173.4037\n",
      "эпоха 232 потеря 170.9819\n",
      "эпоха 233 потеря 173.7175\n",
      "эпоха 234 потеря 170.9100\n",
      "эпоха 235 потеря 173.6346\n",
      "эпоха 236 потеря 170.9138\n",
      "эпоха 237 потеря 173.4209\n",
      "эпоха 238 потеря 170.9488\n",
      "эпоха 239 потеря 173.7340\n",
      "эпоха 240 потеря 171.0319\n",
      "эпоха 241 потеря 173.6210\n",
      "эпоха 242 потеря 170.9578\n",
      "эпоха 243 потеря 173.7601\n",
      "эпоха 244 потеря 170.9734\n",
      "эпоха 245 потеря 173.5420\n",
      "эпоха 246 потеря 170.9912\n",
      "эпоха 247 потеря 173.6594\n",
      "эпоха 248 потеря 171.0018\n",
      "эпоха 249 потеря 173.7049\n",
      "эпоха 250 потеря 170.8025\n",
      "эпоха 251 потеря 173.2519\n",
      "эпоха 252 потеря 170.7994\n",
      "эпоха 253 потеря 173.5521\n",
      "эпоха 254 потеря 170.6658\n",
      "эпоха 255 потеря 173.2027\n",
      "эпоха 256 потеря 170.7719\n",
      "эпоха 257 потеря 173.4510\n",
      "эпоха 258 потеря 170.6634\n",
      "эпоха 259 потеря 173.3675\n",
      "эпоха 260 потеря 170.7440\n",
      "эпоха 261 потеря 173.1797\n",
      "эпоха 262 потеря 170.7996\n",
      "эпоха 263 потеря 173.5470\n",
      "эпоха 264 потеря 170.7099\n",
      "эпоха 265 потеря 173.2763\n",
      "эпоха 266 потеря 170.9071\n",
      "эпоха 267 потеря 173.6426\n",
      "эпоха 268 потеря 171.0405\n",
      "эпоха 269 потеря 173.8131\n",
      "эпоха 270 потеря 170.8277\n",
      "эпоха 271 потеря 173.3400\n",
      "эпоха 272 потеря 170.8516\n",
      "эпоха 273 потеря 173.5912\n",
      "эпоха 274 потеря 170.8937\n",
      "эпоха 275 потеря 173.5032\n",
      "эпоха 276 потеря 170.8949\n",
      "эпоха 277 потеря 173.5201\n",
      "эпоха 278 потеря 170.7991\n",
      "эпоха 279 потеря 173.5698\n",
      "эпоха 280 потеря 170.9288\n",
      "эпоха 281 потеря 173.3553\n",
      "эпоха 282 потеря 170.8340\n",
      "эпоха 283 потеря 173.6105\n",
      "эпоха 284 потеря 170.7400\n",
      "эпоха 285 потеря 173.2763\n",
      "эпоха 286 потеря 170.6713\n",
      "эпоха 287 потеря 173.3135\n",
      "эпоха 288 потеря 170.6384\n",
      "эпоха 289 потеря 173.3642\n",
      "эпоха 290 потеря 170.7026\n",
      "эпоха 291 потеря 173.1416\n",
      "эпоха 292 потеря 170.4782\n",
      "эпоха 293 потеря 173.1715\n",
      "эпоха 294 потеря 170.6928\n",
      "эпоха 295 потеря 173.1979\n",
      "эпоха 296 потеря 170.7295\n",
      "эпоха 297 потеря 173.3914\n",
      "эпоха 298 потеря 170.6740\n",
      "эпоха 299 потеря 173.4423\n",
      "эпоха 300 потеря 170.7149\n",
      "эпоха 301 потеря 173.1886\n",
      "эпоха 302 потеря 170.8026\n",
      "эпоха 303 потеря 173.5374\n",
      "эпоха 304 потеря 170.6065\n",
      "эпоха 305 потеря 173.0704\n",
      "эпоха 306 потеря 170.4383\n",
      "эпоха 307 потеря 173.0183\n",
      "эпоха 308 потеря 170.4498\n",
      "эпоха 309 потеря 173.1221\n",
      "эпоха 310 потеря 170.5213\n",
      "эпоха 311 потеря 172.9371\n",
      "эпоха 312 потеря 170.3469\n",
      "эпоха 313 потеря 173.1333\n",
      "эпоха 314 потеря 170.4284\n",
      "эпоха 315 потеря 172.9321\n",
      "эпоха 316 потеря 170.5107\n",
      "эпоха 317 потеря 173.3008\n",
      "эпоха 318 потеря 170.4970\n",
      "эпоха 319 потеря 173.0121\n",
      "эпоха 320 потеря 170.4953\n",
      "эпоха 321 потеря 173.1834\n",
      "эпоха 322 потеря 170.6205\n",
      "эпоха 323 потеря 173.3785\n",
      "эпоха 324 потеря 170.6879\n",
      "эпоха 325 потеря 173.2383\n",
      "эпоха 326 потеря 170.6707\n",
      "эпоха 327 потеря 173.4929\n",
      "эпоха 328 потеря 170.6993\n",
      "эпоха 329 потеря 173.2456\n",
      "эпоха 330 потеря 170.8496\n",
      "эпоха 331 потеря 173.6017\n",
      "эпоха 332 потеря 170.7063\n",
      "эпоха 333 потеря 173.2570\n",
      "эпоха 334 потеря 170.7003\n",
      "эпоха 335 потеря 173.4670\n",
      "эпоха 336 потеря 170.9088\n",
      "эпоха 337 потеря 173.4541\n",
      "эпоха 338 потеря 170.6575\n",
      "эпоха 339 потеря 173.3465\n",
      "эпоха 340 потеря 170.7151\n",
      "эпоха 341 потеря 173.4343\n",
      "эпоха 342 потеря 170.5182\n",
      "эпоха 343 потеря 173.0562\n",
      "эпоха 344 потеря 170.7159\n",
      "эпоха 345 потеря 173.4625\n",
      "эпоха 346 потеря 170.6374\n",
      "эпоха 347 потеря 173.1734\n",
      "эпоха 348 потеря 170.5586\n",
      "эпоха 349 потеря 173.2175\n",
      "эпоха 350 потеря 170.7784\n",
      "эпоха 351 потеря 173.5503\n",
      "эпоха 352 потеря 170.7845\n",
      "эпоха 353 потеря 173.3549\n",
      "эпоха 354 потеря 170.7687\n",
      "эпоха 355 потеря 173.5831\n",
      "эпоха 356 потеря 170.7727\n",
      "эпоха 357 потеря 173.3619\n",
      "эпоха 358 потеря 170.8832\n",
      "эпоха 359 потеря 173.6986\n",
      "эпоха 360 потеря 170.8905\n",
      "эпоха 361 потеря 173.4126\n",
      "эпоха 362 потеря 170.6916\n",
      "эпоха 363 потеря 173.4778\n",
      "эпоха 364 потеря 170.7688\n",
      "эпоха 365 потеря 173.3124\n",
      "эпоха 366 потеря 170.6201\n",
      "эпоха 367 потеря 173.2791\n",
      "эпоха 368 потеря 170.7255\n",
      "эпоха 369 потеря 173.4519\n",
      "эпоха 370 потеря 170.5772\n",
      "эпоха 371 потеря 173.0315\n",
      "эпоха 372 потеря 170.4158\n",
      "эпоха 373 потеря 173.1341\n",
      "эпоха 374 потеря 170.6162\n",
      "эпоха 375 потеря 173.1074\n",
      "эпоха 376 потеря 170.3627\n",
      "эпоха 377 потеря 172.9947\n",
      "эпоха 378 потеря 170.4757\n",
      "эпоха 379 потеря 173.1783\n",
      "эпоха 380 потеря 170.4761\n",
      "эпоха 381 потеря 172.9059\n",
      "эпоха 382 потеря 170.3938\n",
      "эпоха 383 потеря 173.1046\n",
      "эпоха 384 потеря 170.5012\n",
      "эпоха 385 потеря 173.0197\n",
      "эпоха 386 потеря 170.3766\n",
      "эпоха 387 потеря 173.0317\n",
      "эпоха 388 потеря 170.4864\n",
      "эпоха 389 потеря 173.1230\n",
      "эпоха 390 потеря 170.4144\n",
      "эпоха 391 потеря 172.9629\n",
      "эпоха 392 потеря 170.4863\n",
      "эпоха 393 потеря 173.2568\n",
      "эпоха 394 потеря 170.5528\n",
      "эпоха 395 потеря 173.1014\n",
      "эпоха 396 потеря 170.4875\n",
      "эпоха 397 потеря 173.2366\n",
      "эпоха 398 потеря 170.6558\n",
      "эпоха 399 потеря 173.2079\n",
      "эпоха 400 потеря 170.4902\n",
      "эпоха 401 потеря 173.1946\n",
      "эпоха 402 потеря 170.5253\n",
      "эпоха 403 потеря 173.2962\n",
      "эпоха 404 потеря 170.7378\n",
      "эпоха 405 потеря 173.1886\n",
      "эпоха 406 потеря 170.3860\n",
      "эпоха 407 потеря 173.1211\n",
      "эпоха 408 потеря 170.5365\n",
      "эпоха 409 потеря 173.0961\n",
      "эпоха 410 потеря 170.4540\n",
      "эпоха 411 потеря 173.1219\n",
      "эпоха 412 потеря 170.4979\n",
      "эпоха 413 потеря 173.2093\n",
      "эпоха 414 потеря 170.5414\n",
      "эпоха 415 потеря 172.9777\n",
      "эпоха 416 потеря 170.3480\n",
      "эпоха 417 потеря 173.1247\n",
      "эпоха 418 потеря 170.4437\n",
      "эпоха 419 потеря 172.9880\n",
      "эпоха 420 потеря 170.6126\n",
      "эпоха 421 потеря 173.2992\n",
      "эпоха 422 потеря 170.4063\n",
      "эпоха 423 потеря 173.1454\n",
      "эпоха 424 потеря 170.5621\n",
      "эпоха 425 потеря 173.0796\n",
      "эпоха 426 потеря 170.4476\n",
      "эпоха 427 потеря 173.2021\n",
      "эпоха 428 потеря 170.5659\n",
      "эпоха 429 потеря 173.1400\n",
      "эпоха 430 потеря 170.5695\n",
      "эпоха 431 потеря 173.3062\n",
      "эпоха 432 потеря 170.4325\n",
      "эпоха 433 потеря 172.9932\n",
      "эпоха 434 потеря 170.5959\n",
      "эпоха 435 потеря 173.2656\n",
      "эпоха 436 потеря 170.4795\n",
      "эпоха 437 потеря 173.1525\n",
      "эпоха 438 потеря 170.4176\n",
      "эпоха 439 потеря 172.9251\n",
      "эпоха 440 потеря 170.4995\n",
      "эпоха 441 потеря 173.2731\n",
      "эпоха 442 потеря 170.5306\n",
      "эпоха 443 потеря 173.0992\n",
      "эпоха 444 потеря 170.5347\n",
      "эпоха 445 потеря 173.1731\n",
      "эпоха 446 потеря 170.4628\n",
      "эпоха 447 потеря 173.1765\n",
      "эпоха 448 потеря 170.5717\n",
      "эпоха 449 потеря 173.0970\n",
      "эпоха 450 потеря 170.5057\n",
      "эпоха 451 потеря 173.0969\n",
      "эпоха 452 потеря 170.2893\n",
      "эпоха 453 потеря 172.9326\n",
      "эпоха 454 потеря 170.3045\n",
      "эпоха 455 потеря 172.7393\n",
      "эпоха 456 потеря 170.2535\n",
      "эпоха 457 потеря 172.9544\n",
      "эпоха 458 потеря 170.4778\n",
      "эпоха 459 потеря 172.9990\n",
      "эпоха 460 потеря 170.3990\n",
      "эпоха 461 потеря 173.0588\n",
      "эпоха 462 потеря 170.2807\n",
      "эпоха 463 потеря 173.0137\n",
      "эпоха 464 потеря 170.5250\n",
      "эпоха 465 потеря 172.9286\n",
      "эпоха 466 потеря 170.2567\n",
      "эпоха 467 потеря 173.0462\n",
      "эпоха 468 потеря 170.4717\n",
      "эпоха 469 потеря 172.9656\n",
      "эпоха 470 потеря 170.5715\n",
      "эпоха 471 потеря 173.2719\n",
      "эпоха 472 потеря 170.4460\n",
      "эпоха 473 потеря 172.9395\n",
      "эпоха 474 потеря 170.2795\n",
      "эпоха 475 потеря 172.9328\n",
      "эпоха 476 потеря 170.2132\n",
      "эпоха 477 потеря 172.7165\n",
      "эпоха 478 потеря 170.2998\n",
      "эпоха 479 потеря 172.9126\n",
      "эпоха 480 потеря 170.2335\n",
      "эпоха 481 потеря 172.8549\n",
      "эпоха 482 потеря 170.2764\n",
      "эпоха 483 потеря 172.6493\n",
      "эпоха 484 потеря 170.0755\n",
      "эпоха 485 потеря 172.6760\n",
      "эпоха 486 потеря 170.1135\n",
      "эпоха 487 потеря 172.6751\n",
      "эпоха 488 потеря 170.0736\n",
      "эпоха 489 потеря 172.4225\n",
      "эпоха 490 потеря 169.9411\n",
      "эпоха 491 потеря 172.5321\n",
      "эпоха 492 потеря 169.8209\n",
      "эпоха 493 потеря 172.1712\n",
      "эпоха 494 потеря 170.0222\n",
      "эпоха 495 потеря 172.6163\n",
      "эпоха 496 потеря 170.0361\n",
      "эпоха 497 потеря 172.5475\n",
      "эпоха 498 потеря 169.8211\n",
      "эпоха 499 потеря 172.1509\n",
      "эпоха 500 потеря 169.8396\n",
      "эпоха 501 потеря 172.4206\n",
      "эпоха 502 потеря 169.8788\n",
      "эпоха 503 потеря 172.2980\n",
      "эпоха 504 потеря 169.9312\n",
      "эпоха 505 потеря 172.4791\n",
      "эпоха 506 потеря 169.9338\n",
      "эпоха 507 потеря 172.5682\n",
      "эпоха 508 потеря 170.0651\n",
      "эпоха 509 потеря 172.5619\n",
      "эпоха 510 потеря 170.1304\n",
      "эпоха 511 потеря 172.6865\n",
      "эпоха 512 потеря 170.0886\n",
      "эпоха 513 потеря 172.6845\n",
      "эпоха 514 потеря 170.2993\n",
      "эпоха 515 потеря 173.0832\n",
      "эпоха 516 потеря 170.3989\n",
      "эпоха 517 потеря 173.0856\n",
      "эпоха 518 потеря 170.6004\n",
      "эпоха 519 потеря 173.4295\n",
      "эпоха 520 потеря 170.7265\n",
      "эпоха 521 потеря 173.3720\n",
      "эпоха 522 потеря 170.5839\n",
      "эпоха 523 потеря 173.3984\n",
      "эпоха 524 потеря 170.7547\n",
      "эпоха 525 потеря 173.5304\n",
      "эпоха 526 потеря 170.5711\n",
      "эпоха 527 потеря 173.2628\n",
      "эпоха 528 потеря 170.7296\n",
      "эпоха 529 потеря 173.5616\n",
      "эпоха 530 потеря 170.7637\n",
      "эпоха 531 потеря 173.4461\n",
      "эпоха 532 потеря 170.7772\n",
      "эпоха 533 потеря 173.6757\n",
      "эпоха 534 потеря 170.7647\n",
      "эпоха 535 потеря 173.3452\n",
      "эпоха 536 потеря 170.6374\n",
      "эпоха 537 потеря 173.5540\n",
      "эпоха 538 потеря 170.8747\n",
      "эпоха 539 потеря 173.5548\n",
      "эпоха 540 потеря 170.8469\n",
      "эпоха 541 потеря 173.6085\n",
      "эпоха 542 потеря 170.6471\n",
      "эпоха 543 потеря 173.2114\n",
      "эпоха 544 потеря 170.4124\n",
      "эпоха 545 потеря 173.0078\n",
      "эпоха 546 потеря 170.3641\n",
      "эпоха 547 потеря 173.0090\n",
      "эпоха 548 потеря 170.2831\n",
      "эпоха 549 потеря 172.8394\n",
      "эпоха 550 потеря 170.0519\n",
      "эпоха 551 потеря 172.4760\n",
      "эпоха 552 потеря 169.9784\n",
      "эпоха 553 потеря 172.5770\n",
      "эпоха 554 потеря 170.1584\n",
      "эпоха 555 потеря 172.7520\n",
      "эпоха 556 потеря 170.0265\n",
      "эпоха 557 потеря 172.5575\n",
      "эпоха 558 потеря 169.9278\n",
      "эпоха 559 потеря 172.3408\n",
      "эпоха 560 потеря 169.8960\n",
      "эпоха 561 потеря 172.4695\n",
      "эпоха 562 потеря 170.0114\n",
      "эпоха 563 потеря 172.5621\n",
      "эпоха 564 потеря 169.9556\n",
      "эпоха 565 потеря 172.4744\n",
      "эпоха 566 потеря 169.8726\n",
      "эпоха 567 потеря 172.3932\n",
      "эпоха 568 потеря 169.8845\n",
      "эпоха 569 потеря 172.5056\n",
      "эпоха 570 потеря 170.1420\n",
      "эпоха 571 потеря 172.7647\n",
      "эпоха 572 потеря 170.1618\n",
      "эпоха 573 потеря 172.7468\n",
      "эпоха 574 потеря 170.2537\n",
      "эпоха 575 потеря 172.9699\n",
      "эпоха 576 потеря 170.3074\n",
      "эпоха 577 потеря 172.9788\n",
      "эпоха 578 потеря 170.6023\n",
      "эпоха 579 потеря 173.3409\n",
      "эпоха 580 потеря 170.5156\n",
      "эпоха 581 потеря 173.2671\n",
      "эпоха 582 потеря 170.5738\n",
      "эпоха 583 потеря 173.2768\n",
      "эпоха 584 потеря 170.4856\n",
      "эпоха 585 потеря 173.0471\n",
      "эпоха 586 потеря 170.4745\n",
      "эпоха 587 потеря 173.2576\n",
      "эпоха 588 потеря 170.5797\n",
      "эпоха 589 потеря 173.3027\n",
      "эпоха 590 потеря 170.4133\n",
      "эпоха 591 потеря 173.0968\n",
      "эпоха 592 потеря 170.4423\n",
      "эпоха 593 потеря 173.0468\n",
      "эпоха 594 потеря 170.4812\n",
      "эпоха 595 потеря 173.1627\n",
      "эпоха 596 потеря 170.4057\n",
      "эпоха 597 потеря 173.0758\n",
      "эпоха 598 потеря 170.3289\n",
      "эпоха 599 потеря 172.9814\n",
      "эпоха 600 потеря 170.2023\n",
      "эпоха 601 потеря 172.6259\n",
      "эпоха 602 потеря 170.2067\n",
      "эпоха 603 потеря 172.8390\n",
      "эпоха 604 потеря 170.1796\n",
      "эпоха 605 потеря 172.7739\n",
      "эпоха 606 потеря 169.9176\n",
      "эпоха 607 потеря 172.3980\n",
      "эпоха 608 потеря 169.8312\n",
      "эпоха 609 потеря 172.2452\n",
      "эпоха 610 потеря 169.8384\n",
      "эпоха 611 потеря 172.4949\n",
      "эпоха 612 потеря 170.0564\n",
      "эпоха 613 потеря 172.5008\n",
      "эпоха 614 потеря 169.8687\n",
      "эпоха 615 потеря 172.5671\n",
      "эпоха 616 потеря 169.9993\n",
      "эпоха 617 потеря 172.5940\n",
      "эпоха 618 потеря 170.2408\n",
      "эпоха 619 потеря 172.9176\n",
      "эпоха 620 потеря 170.0880\n",
      "эпоха 621 потеря 172.6236\n",
      "эпоха 622 потеря 170.2514\n",
      "эпоха 623 потеря 173.0001\n",
      "эпоха 624 потеря 170.2466\n",
      "эпоха 625 потеря 172.8131\n",
      "эпоха 626 потеря 170.4490\n",
      "эпоха 627 потеря 173.2700\n",
      "эпоха 628 потеря 170.6402\n",
      "эпоха 629 потеря 173.4367\n",
      "эпоха 630 потеря 170.5081\n",
      "эпоха 631 потеря 173.1102\n",
      "эпоха 632 потеря 170.5727\n",
      "эпоха 633 потеря 173.3907\n",
      "эпоха 634 потеря 170.6504\n",
      "эпоха 635 потеря 173.4703\n",
      "эпоха 636 потеря 170.7032\n",
      "эпоха 637 потеря 173.2294\n",
      "эпоха 638 потеря 170.5172\n",
      "эпоха 639 потеря 173.2987\n",
      "эпоха 640 потеря 170.5697\n",
      "эпоха 641 потеря 173.3245\n",
      "эпоха 642 потеря 170.7261\n",
      "эпоха 643 потеря 173.2233\n",
      "эпоха 644 потеря 170.3755\n",
      "эпоха 645 потеря 173.1167\n",
      "эпоха 646 потеря 170.4805\n",
      "эпоха 647 потеря 173.1583\n",
      "эпоха 648 потеря 170.2758\n",
      "эпоха 649 потеря 172.7194\n",
      "эпоха 650 потеря 170.3632\n",
      "эпоха 651 потеря 173.0181\n",
      "эпоха 652 потеря 170.2320\n",
      "эпоха 653 потеря 172.8944\n",
      "эпоха 654 потеря 170.1077\n",
      "эпоха 655 потеря 172.4733\n",
      "эпоха 656 потеря 169.9756\n",
      "эпоха 657 потеря 172.5831\n",
      "эпоха 658 потеря 169.9949\n",
      "эпоха 659 потеря 172.5413\n",
      "эпоха 660 потеря 169.9598\n",
      "эпоха 661 потеря 172.4211\n",
      "эпоха 662 потеря 169.6884\n",
      "эпоха 663 потеря 172.1725\n",
      "эпоха 664 потеря 169.6258\n",
      "эпоха 665 потеря 171.9488\n",
      "эпоха 666 потеря 169.6985\n",
      "эпоха 667 потеря 172.2838\n",
      "эпоха 668 потеря 169.8139\n",
      "эпоха 669 потеря 172.4994\n",
      "эпоха 670 потеря 169.9892\n",
      "эпоха 671 потеря 172.6521\n",
      "эпоха 672 потеря 170.0842\n",
      "эпоха 673 потеря 172.5724\n",
      "эпоха 674 потеря 170.1265\n",
      "эпоха 675 потеря 173.0094\n",
      "эпоха 676 потеря 170.5314\n",
      "эпоха 677 потеря 173.3826\n",
      "эпоха 678 потеря 170.5883\n",
      "эпоха 679 потеря 173.5368\n",
      "эпоха 680 потеря 170.8312\n",
      "эпоха 681 потеря 173.4761\n",
      "эпоха 682 потеря 170.7631\n",
      "эпоха 683 потеря 173.7330\n",
      "эпоха 684 потеря 171.1377\n",
      "эпоха 685 потеря 174.1315\n",
      "эпоха 686 потеря 171.3714\n",
      "эпоха 687 потеря 174.3102\n",
      "эпоха 688 потеря 171.2817\n",
      "эпоха 689 потеря 174.2485\n",
      "эпоха 690 потеря 171.5124\n",
      "эпоха 691 потеря 174.4282\n",
      "эпоха 692 потеря 171.3732\n",
      "эпоха 693 потеря 174.2967\n",
      "эпоха 694 потеря 171.3137\n",
      "эпоха 695 потеря 174.2059\n",
      "эпоха 696 потеря 171.1971\n",
      "эпоха 697 потеря 174.0433\n",
      "эпоха 698 потеря 171.2407\n",
      "эпоха 699 потеря 174.0349\n",
      "эпоха 700 потеря 171.0462\n",
      "эпоха 701 потеря 173.7869\n",
      "эпоха 702 потеря 170.8374\n",
      "эпоха 703 потеря 173.5031\n",
      "эпоха 704 потеря 170.7318\n",
      "эпоха 705 потеря 173.3290\n",
      "эпоха 706 потеря 170.3647\n",
      "эпоха 707 потеря 172.8478\n",
      "эпоха 708 потеря 170.1342\n",
      "эпоха 709 потеря 172.5415\n",
      "эпоха 710 потеря 169.7300\n",
      "эпоха 711 потеря 172.1527\n",
      "эпоха 712 потеря 169.6380\n",
      "эпоха 713 потеря 171.9446\n",
      "эпоха 714 потеря 169.4109\n",
      "эпоха 715 потеря 171.7942\n",
      "эпоха 716 потеря 169.4143\n",
      "эпоха 717 потеря 171.8561\n",
      "эпоха 718 потеря 169.5440\n",
      "эпоха 719 потеря 171.8391\n",
      "эпоха 720 потеря 169.4517\n",
      "эпоха 721 потеря 172.0117\n",
      "эпоха 722 потеря 169.7797\n",
      "эпоха 723 потеря 172.3522\n",
      "эпоха 724 потеря 169.7969\n",
      "эпоха 725 потеря 172.4368\n",
      "эпоха 726 потеря 169.9123\n",
      "эпоха 727 потеря 172.5338\n",
      "эпоха 728 потеря 170.0369\n",
      "эпоха 729 потеря 172.7071\n",
      "эпоха 730 потеря 170.1141\n",
      "эпоха 731 потеря 172.7945\n",
      "эпоха 732 потеря 170.1913\n",
      "эпоха 733 потеря 172.9289\n",
      "эпоха 734 потеря 170.3588\n",
      "эпоха 735 потеря 172.9329\n",
      "эпоха 736 потеря 170.1774\n",
      "эпоха 737 потеря 172.8687\n",
      "эпоха 738 потеря 170.4986\n",
      "эпоха 739 потеря 173.1928\n",
      "эпоха 740 потеря 170.3603\n",
      "эпоха 741 потеря 173.0787\n",
      "эпоха 742 потеря 170.4723\n",
      "эпоха 743 потеря 173.1137\n",
      "эпоха 744 потеря 170.2906\n",
      "эпоха 745 потеря 172.9589\n",
      "эпоха 746 потеря 170.4508\n",
      "эпоха 747 потеря 173.1324\n",
      "эпоха 748 потеря 170.4143\n",
      "эпоха 749 потеря 173.0807\n",
      "эпоха 750 потеря 170.2948\n",
      "эпоха 751 потеря 172.9530\n",
      "эпоха 752 потеря 170.3019\n",
      "эпоха 753 потеря 172.9067\n",
      "эпоха 754 потеря 170.1934\n",
      "эпоха 755 потеря 172.7894\n",
      "эпоха 756 потеря 170.1185\n",
      "эпоха 757 потеря 172.7000\n",
      "эпоха 758 потеря 170.0788\n",
      "эпоха 759 потеря 172.5894\n",
      "эпоха 760 потеря 169.8263\n",
      "эпоха 761 потеря 172.1875\n",
      "эпоха 762 потеря 169.9787\n",
      "эпоха 763 потеря 172.4928\n",
      "эпоха 764 потеря 169.8986\n",
      "эпоха 765 потеря 172.4419\n",
      "эпоха 766 потеря 169.8954\n",
      "эпоха 767 потеря 172.4397\n",
      "эпоха 768 потеря 169.8895\n",
      "эпоха 769 потеря 172.5014\n",
      "эпоха 770 потеря 170.0413\n",
      "эпоха 771 потеря 172.6186\n",
      "эпоха 772 потеря 170.1492\n",
      "эпоха 773 потеря 172.8190\n",
      "эпоха 774 потеря 170.0787\n",
      "эпоха 775 потеря 172.7410\n",
      "эпоха 776 потеря 170.1684\n",
      "эпоха 777 потеря 172.8613\n",
      "эпоха 778 потеря 170.2405\n",
      "эпоха 779 потеря 172.9530\n",
      "эпоха 780 потеря 170.3650\n",
      "эпоха 781 потеря 173.0851\n",
      "эпоха 782 потеря 170.3814\n",
      "эпоха 783 потеря 173.1841\n",
      "эпоха 784 потеря 170.5644\n",
      "эпоха 785 потеря 173.1866\n",
      "эпоха 786 потеря 170.6325\n",
      "эпоха 787 потеря 173.3527\n",
      "эпоха 788 потеря 170.6541\n",
      "эпоха 789 потеря 173.5048\n",
      "эпоха 790 потеря 170.8639\n",
      "эпоха 791 потеря 173.6258\n",
      "эпоха 792 потеря 170.6497\n",
      "эпоха 793 потеря 173.4273\n",
      "эпоха 794 потеря 170.9559\n",
      "эпоха 795 потеря 173.6781\n",
      "эпоха 796 потеря 170.6779\n",
      "эпоха 797 потеря 173.4515\n",
      "эпоха 798 потеря 170.7512\n",
      "эпоха 799 потеря 173.4207\n",
      "эпоха 800 потеря 170.5540\n",
      "эпоха 801 потеря 173.1802\n",
      "эпоха 802 потеря 170.4792\n",
      "эпоха 803 потеря 173.1096\n",
      "эпоха 804 потеря 170.3216\n",
      "эпоха 805 потеря 172.8533\n",
      "эпоха 806 потеря 170.0594\n",
      "эпоха 807 потеря 172.5902\n",
      "эпоха 808 потеря 169.9389\n",
      "эпоха 809 потеря 172.3934\n",
      "эпоха 810 потеря 169.8479\n",
      "эпоха 811 потеря 172.1080\n",
      "эпоха 812 потеря 169.7416\n",
      "эпоха 813 потеря 172.0898\n",
      "эпоха 814 потеря 169.6904\n",
      "эпоха 815 потеря 172.1242\n",
      "эпоха 816 потеря 169.7951\n",
      "эпоха 817 потеря 172.2534\n",
      "эпоха 818 потеря 169.9201\n",
      "эпоха 819 потеря 172.3924\n",
      "эпоха 820 потеря 169.8095\n",
      "эпоха 821 потеря 172.3591\n",
      "эпоха 822 потеря 169.9109\n",
      "эпоха 823 потеря 172.4440\n",
      "эпоха 824 потеря 169.8061\n",
      "эпоха 825 потеря 172.3886\n",
      "эпоха 826 потеря 170.1282\n",
      "эпоха 827 потеря 172.8421\n",
      "эпоха 828 потеря 170.3735\n",
      "эпоха 829 потеря 173.0681\n",
      "эпоха 830 потеря 170.3759\n",
      "эпоха 831 потеря 173.1155\n",
      "эпоха 832 потеря 170.6268\n",
      "эпоха 833 потеря 173.3587\n",
      "эпоха 834 потеря 170.6161\n",
      "эпоха 835 потеря 173.3537\n",
      "эпоха 836 потеря 170.7519\n",
      "эпоха 837 потеря 173.5278\n",
      "эпоха 838 потеря 170.6996\n",
      "эпоха 839 потеря 173.5079\n",
      "эпоха 840 потеря 170.9038\n",
      "эпоха 841 потеря 173.6535\n",
      "эпоха 842 потеря 170.9405\n",
      "эпоха 843 потеря 173.7861\n",
      "эпоха 844 потеря 170.9907\n",
      "эпоха 845 потеря 173.8000\n",
      "эпоха 846 потеря 170.9405\n",
      "эпоха 847 потеря 173.6753\n",
      "эпоха 848 потеря 171.0338\n",
      "эпоха 849 потеря 173.8568\n",
      "эпоха 850 потеря 170.9408\n",
      "эпоха 851 потеря 173.7532\n",
      "эпоха 852 потеря 171.0914\n",
      "эпоха 853 потеря 173.9330\n",
      "эпоха 854 потеря 171.0389\n",
      "эпоха 855 потеря 173.8124\n",
      "эпоха 856 потеря 171.0033\n",
      "эпоха 857 потеря 173.7121\n",
      "эпоха 858 потеря 170.8217\n",
      "эпоха 859 потеря 173.5100\n",
      "эпоха 860 потеря 170.8621\n",
      "эпоха 861 потеря 173.5743\n",
      "эпоха 862 потеря 170.7037\n",
      "эпоха 863 потеря 173.3766\n",
      "эпоха 864 потеря 170.5770\n",
      "эпоха 865 потеря 173.1215\n",
      "эпоха 866 потеря 170.4125\n",
      "эпоха 867 потеря 172.9709\n",
      "эпоха 868 потеря 170.1872\n",
      "эпоха 869 потеря 172.7223\n",
      "эпоха 870 потеря 170.2056\n",
      "эпоха 871 потеря 172.7596\n",
      "эпоха 872 потеря 170.1637\n",
      "эпоха 873 потеря 172.8283\n",
      "эпоха 874 потеря 170.3018\n",
      "эпоха 875 потеря 172.9359\n",
      "эпоха 876 потеря 170.3182\n",
      "эпоха 877 потеря 173.0003\n",
      "эпоха 878 потеря 170.4965\n",
      "эпоха 879 потеря 173.2665\n",
      "эпоха 880 потеря 170.6127\n",
      "эпоха 881 потеря 173.3377\n",
      "эпоха 882 потеря 170.6444\n",
      "эпоха 883 потеря 173.3861\n",
      "эпоха 884 потеря 170.6178\n",
      "эпоха 885 потеря 173.4718\n",
      "эпоха 886 потеря 170.7728\n",
      "эпоха 887 потеря 173.6226\n",
      "эпоха 888 потеря 170.8786\n",
      "эпоха 889 потеря 173.7270\n",
      "эпоха 890 потеря 170.9779\n",
      "эпоха 891 потеря 173.7453\n",
      "эпоха 892 потеря 170.8016\n",
      "эпоха 893 потеря 173.6279\n",
      "эпоха 894 потеря 170.8747\n",
      "эпоха 895 потеря 173.6575\n",
      "эпоха 896 потеря 170.7813\n",
      "эпоха 897 потеря 173.4609\n",
      "эпоха 898 потеря 170.8352\n",
      "эпоха 899 потеря 173.5298\n",
      "эпоха 900 потеря 170.5649\n",
      "эпоха 901 потеря 173.3210\n",
      "эпоха 902 потеря 170.6571\n",
      "эпоха 903 потеря 173.4163\n",
      "эпоха 904 потеря 170.5641\n",
      "эпоха 905 потеря 173.2270\n",
      "эпоха 906 потеря 170.5869\n",
      "эпоха 907 потеря 173.2354\n",
      "эпоха 908 потеря 170.6084\n",
      "эпоха 909 потеря 173.2741\n",
      "эпоха 910 потеря 170.4378\n",
      "эпоха 911 потеря 173.0792\n",
      "эпоха 912 потеря 170.4382\n",
      "эпоха 913 потеря 173.0943\n",
      "эпоха 914 потеря 170.3958\n",
      "эпоха 915 потеря 173.0436\n",
      "эпоха 916 потеря 170.4919\n",
      "эпоха 917 потеря 173.1421\n",
      "эпоха 918 потеря 170.3270\n",
      "эпоха 919 потеря 172.9782\n",
      "эпоха 920 потеря 170.3144\n",
      "эпоха 921 потеря 172.9694\n",
      "эпоха 922 потеря 170.1927\n",
      "эпоха 923 потеря 172.9086\n",
      "эпоха 924 потеря 170.5426\n",
      "эпоха 925 потеря 173.2153\n",
      "эпоха 926 потеря 170.4149\n",
      "эпоха 927 потеря 173.1198\n",
      "эпоха 928 потеря 170.4611\n",
      "эпоха 929 потеря 173.1788\n",
      "эпоха 930 потеря 170.4626\n",
      "эпоха 931 потеря 173.2163\n",
      "эпоха 932 потеря 170.6232\n",
      "эпоха 933 потеря 173.2326\n",
      "эпоха 934 потеря 170.4699\n",
      "эпоха 935 потеря 173.1864\n",
      "эпоха 936 потеря 170.5059\n",
      "эпоха 937 потеря 173.2448\n",
      "эпоха 938 потеря 170.4017\n",
      "эпоха 939 потеря 173.0937\n",
      "эпоха 940 потеря 170.4772\n",
      "эпоха 941 потеря 173.1218\n",
      "эпоха 942 потеря 170.3719\n",
      "эпоха 943 потеря 173.0890\n",
      "эпоха 944 потеря 170.5035\n",
      "эпоха 945 потеря 173.2442\n",
      "эпоха 946 потеря 170.3832\n",
      "эпоха 947 потеря 173.1250\n",
      "эпоха 948 потеря 170.4802\n",
      "эпоха 949 потеря 173.1833\n",
      "эпоха 950 потеря 170.5146\n",
      "эпоха 951 потеря 173.2189\n",
      "эпоха 952 потеря 170.4864\n",
      "эпоха 953 потеря 173.2453\n",
      "эпоха 954 потеря 170.4614\n",
      "эпоха 955 потеря 173.1272\n",
      "эпоха 956 потеря 170.5020\n",
      "эпоха 957 потеря 173.1529\n",
      "эпоха 958 потеря 170.3393\n",
      "эпоха 959 потеря 173.1028\n",
      "эпоха 960 потеря 170.5617\n",
      "эпоха 961 потеря 173.2720\n",
      "эпоха 962 потеря 170.5140\n",
      "эпоха 963 потеря 173.2004\n",
      "эпоха 964 потеря 170.3689\n",
      "эпоха 965 потеря 173.0875\n",
      "эпоха 966 потеря 170.3578\n",
      "эпоха 967 потеря 173.0727\n",
      "эпоха 968 потеря 170.3952\n",
      "эпоха 969 потеря 173.0958\n",
      "эпоха 970 потеря 170.4457\n",
      "эпоха 971 потеря 173.1821\n",
      "эпоха 972 потеря 170.4164\n",
      "эпоха 973 потеря 173.1551\n",
      "эпоха 974 потеря 170.4033\n",
      "эпоха 975 потеря 173.0804\n",
      "эпоха 976 потеря 170.2065\n",
      "эпоха 977 потеря 172.9362\n",
      "эпоха 978 потеря 170.4312\n",
      "эпоха 979 потеря 173.1498\n",
      "эпоха 980 потеря 170.3870\n",
      "эпоха 981 потеря 173.1288\n",
      "эпоха 982 потеря 170.3327\n",
      "эпоха 983 потеря 173.0293\n",
      "эпоха 984 потеря 170.2699\n",
      "эпоха 985 потеря 173.0158\n",
      "эпоха 986 потеря 170.3898\n",
      "эпоха 987 потеря 173.2015\n",
      "эпоха 988 потеря 170.5036\n",
      "эпоха 989 потеря 173.2608\n",
      "эпоха 990 потеря 170.5167\n",
      "эпоха 991 потеря 173.3293\n",
      "эпоха 992 потеря 170.5009\n",
      "эпоха 993 потеря 173.3417\n",
      "эпоха 994 потеря 170.6986\n",
      "эпоха 995 потеря 173.5119\n",
      "эпоха 996 потеря 170.6469\n",
      "эпоха 997 потеря 173.4409\n",
      "эпоха 998 потеря 170.6609\n",
      "эпоха 999 потеря 173.4305\n",
      "эпоха 1000 потеря 170.5544\n",
      "эпоха 1001 потеря 173.4183\n",
      "эпоха 1002 потеря 170.6996\n",
      "эпоха 1003 потеря 173.3805\n",
      "эпоха 1004 потеря 170.5283\n",
      "эпоха 1005 потеря 173.2994\n",
      "эпоха 1006 потеря 170.5634\n",
      "эпоха 1007 потеря 173.2490\n",
      "эпоха 1008 потеря 170.4115\n",
      "эпоха 1009 потеря 173.2085\n",
      "эпоха 1010 потеря 170.4781\n",
      "эпоха 1011 потеря 173.1509\n",
      "эпоха 1012 потеря 170.4319\n",
      "эпоха 1013 потеря 173.0681\n",
      "эпоха 1014 потеря 170.1758\n",
      "эпоха 1015 потеря 172.8265\n",
      "эпоха 1016 потеря 170.3524\n",
      "эпоха 1017 потеря 173.0006\n",
      "эпоха 1018 потеря 170.1438\n",
      "эпоха 1019 потеря 172.8392\n",
      "эпоха 1020 потеря 170.2571\n",
      "эпоха 1021 потеря 172.8533\n",
      "эпоха 1022 потеря 170.0795\n",
      "эпоха 1023 потеря 172.7213\n",
      "эпоха 1024 потеря 170.0914\n",
      "эпоха 1025 потеря 172.7546\n",
      "эпоха 1026 потеря 170.1064\n",
      "эпоха 1027 потеря 172.7721\n",
      "эпоха 1028 потеря 170.2323\n",
      "эпоха 1029 потеря 172.8846\n",
      "эпоха 1030 потеря 170.1254\n",
      "эпоха 1031 потеря 172.8382\n",
      "эпоха 1032 потеря 170.1909\n",
      "эпоха 1033 потеря 172.8745\n",
      "эпоха 1034 потеря 170.0745\n",
      "эпоха 1035 потеря 172.8130\n",
      "эпоха 1036 потеря 170.3832\n",
      "эпоха 1037 потеря 173.1133\n",
      "эпоха 1038 потеря 170.2790\n",
      "эпоха 1039 потеря 172.9817\n",
      "эпоха 1040 потеря 170.3315\n",
      "эпоха 1041 потеря 173.0846\n",
      "эпоха 1042 потеря 170.4126\n",
      "эпоха 1043 потеря 173.1480\n",
      "эпоха 1044 потеря 170.3433\n",
      "эпоха 1045 потеря 173.1115\n",
      "эпоха 1046 потеря 170.5020\n",
      "эпоха 1047 потеря 173.2153\n",
      "эпоха 1048 потеря 170.3822\n",
      "эпоха 1049 потеря 173.1624\n",
      "эпоха 1050 потеря 170.4950\n",
      "эпоха 1051 потеря 173.2010\n",
      "эпоха 1052 потеря 170.3739\n",
      "эпоха 1053 потеря 173.0745\n",
      "эпоха 1054 потеря 170.3013\n",
      "эпоха 1055 потеря 172.9592\n",
      "эпоха 1056 потеря 170.2733\n",
      "эпоха 1057 потеря 173.0079\n",
      "эпоха 1058 потеря 170.3834\n",
      "эпоха 1059 потеря 173.1064\n",
      "эпоха 1060 потеря 170.3366\n",
      "эпоха 1061 потеря 173.0371\n",
      "эпоха 1062 потеря 170.2772\n",
      "эпоха 1063 потеря 172.9723\n",
      "эпоха 1064 потеря 170.1861\n",
      "эпоха 1065 потеря 172.9145\n",
      "эпоха 1066 потеря 170.4242\n",
      "эпоха 1067 потеря 173.1076\n",
      "эпоха 1068 потеря 170.2685\n",
      "эпоха 1069 потеря 172.9738\n",
      "эпоха 1070 потеря 170.2625\n",
      "эпоха 1071 потеря 172.9457\n",
      "эпоха 1072 потеря 170.3106\n",
      "эпоха 1073 потеря 172.9742\n",
      "эпоха 1074 потеря 170.1702\n",
      "эпоха 1075 потеря 172.8424\n",
      "эпоха 1076 потеря 170.2957\n",
      "эпоха 1077 потеря 173.0093\n",
      "эпоха 1078 потеря 170.2269\n",
      "эпоха 1079 потеря 172.9534\n",
      "эпоха 1080 потеря 170.3678\n",
      "эпоха 1081 потеря 173.0768\n",
      "эпоха 1082 потеря 170.2403\n",
      "эпоха 1083 потеря 172.9681\n",
      "эпоха 1084 потеря 170.3139\n",
      "эпоха 1085 потеря 173.0568\n",
      "эпоха 1086 потеря 170.3193\n",
      "эпоха 1087 потеря 173.0883\n",
      "эпоха 1088 потеря 170.4462\n",
      "эпоха 1089 потеря 173.1345\n",
      "эпоха 1090 потеря 170.2647\n",
      "эпоха 1091 потеря 172.9552\n",
      "эпоха 1092 потеря 170.3777\n",
      "эпоха 1093 потеря 173.0328\n",
      "эпоха 1094 потеря 170.2271\n",
      "эпоха 1095 потеря 172.9869\n",
      "эпоха 1096 потеря 170.4188\n",
      "эпоха 1097 потеря 173.1358\n",
      "эпоха 1098 потеря 170.3846\n",
      "эпоха 1099 потеря 173.0658\n",
      "эпоха 1100 потеря 170.2592\n",
      "эпоха 1101 потеря 172.9447\n",
      "эпоха 1102 потеря 170.1689\n",
      "эпоха 1103 потеря 172.7956\n",
      "эпоха 1104 потеря 169.9878\n",
      "эпоха 1105 потеря 172.6238\n",
      "эпоха 1106 потеря 170.2895\n",
      "эпоха 1107 потеря 172.9305\n",
      "эпоха 1108 потеря 170.1196\n",
      "эпоха 1109 потеря 172.7928\n",
      "эпоха 1110 потеря 170.1704\n",
      "эпоха 1111 потеря 172.8770\n",
      "эпоха 1112 потеря 170.0930\n",
      "эпоха 1113 потеря 172.8174\n",
      "эпоха 1114 потеря 170.2373\n",
      "эпоха 1115 потеря 172.9576\n",
      "эпоха 1116 потеря 170.2445\n",
      "эпоха 1117 потеря 172.9672\n",
      "эпоха 1118 потеря 170.4024\n",
      "эпоха 1119 потеря 173.1188\n",
      "эпоха 1120 потеря 170.2466\n",
      "эпоха 1121 потеря 172.9865\n",
      "эпоха 1122 потеря 170.3165\n",
      "эпоха 1123 потеря 172.9960\n",
      "эпоха 1124 потеря 170.3015\n",
      "эпоха 1125 потеря 172.9888\n",
      "эпоха 1126 потеря 170.2363\n",
      "эпоха 1127 потеря 172.9426\n",
      "эпоха 1128 потеря 170.2842\n",
      "эпоха 1129 потеря 172.9582\n",
      "эпоха 1130 потеря 170.1216\n",
      "эпоха 1131 потеря 172.8095\n",
      "эпоха 1132 потеря 170.3094\n",
      "эпоха 1133 потеря 173.0250\n",
      "эпоха 1134 потеря 170.2691\n",
      "эпоха 1135 потеря 173.0184\n",
      "эпоха 1136 потеря 170.3475\n",
      "эпоха 1137 потеря 173.0198\n",
      "эпоха 1138 потеря 170.2658\n",
      "эпоха 1139 потеря 172.9444\n",
      "эпоха 1140 потеря 170.1771\n",
      "эпоха 1141 потеря 172.8730\n",
      "эпоха 1142 потеря 170.1490\n",
      "эпоха 1143 потеря 172.8457\n",
      "эпоха 1144 потеря 170.1367\n",
      "эпоха 1145 потеря 172.8010\n",
      "эпоха 1146 потеря 170.3083\n",
      "эпоха 1147 потеря 172.9718\n",
      "эпоха 1148 потеря 170.1190\n",
      "эпоха 1149 потеря 172.7699\n",
      "эпоха 1150 потеря 170.1262\n",
      "эпоха 1151 потеря 172.8085\n",
      "эпоха 1152 потеря 170.0850\n",
      "эпоха 1153 потеря 172.7854\n",
      "эпоха 1154 потеря 170.2765\n",
      "эпоха 1155 потеря 172.9274\n",
      "эпоха 1156 потеря 170.0824\n",
      "эпоха 1157 потеря 172.7973\n",
      "эпоха 1158 потеря 170.2075\n",
      "эпоха 1159 потеря 172.8962\n",
      "эпоха 1160 потеря 170.0846\n",
      "эпоха 1161 потеря 172.8131\n",
      "эпоха 1162 потеря 170.1576\n",
      "эпоха 1163 потеря 172.8644\n",
      "эпоха 1164 потеря 170.3383\n",
      "эпоха 1165 потеря 173.0646\n",
      "эпоха 1166 потеря 170.2258\n",
      "эпоха 1167 потеря 172.9006\n",
      "эпоха 1168 потеря 170.2008\n",
      "эпоха 1169 потеря 172.8945\n",
      "эпоха 1170 потеря 170.1531\n",
      "эпоха 1171 потеря 172.9009\n",
      "эпоха 1172 потеря 170.2680\n",
      "эпоха 1173 потеря 173.0532\n",
      "эпоха 1174 потеря 170.3767\n",
      "эпоха 1175 потеря 173.1438\n",
      "эпоха 1176 потеря 170.4166\n",
      "эпоха 1177 потеря 173.1146\n",
      "эпоха 1178 потеря 170.3306\n",
      "эпоха 1179 потеря 173.0768\n",
      "эпоха 1180 потеря 170.2673\n",
      "эпоха 1181 потеря 172.9657\n",
      "эпоха 1182 потеря 170.3984\n",
      "эпоха 1183 потеря 173.0968\n",
      "эпоха 1184 потеря 170.2660\n",
      "эпоха 1185 потеря 172.9900\n",
      "эпоха 1186 потеря 170.2237\n",
      "эпоха 1187 потеря 172.8728\n",
      "эпоха 1188 потеря 170.0687\n",
      "эпоха 1189 потеря 172.7538\n",
      "эпоха 1190 потеря 170.1459\n",
      "эпоха 1191 потеря 172.8148\n",
      "эпоха 1192 потеря 170.1500\n",
      "эпоха 1193 потеря 172.8625\n",
      "эпоха 1194 потеря 170.2083\n",
      "эпоха 1195 потеря 172.8899\n",
      "эпоха 1196 потеря 170.0991\n",
      "эпоха 1197 потеря 172.8204\n",
      "эпоха 1198 потеря 170.1339\n",
      "эпоха 1199 потеря 172.8029\n",
      "эпоха 1200 потеря 170.2102\n",
      "эпоха 1201 потеря 172.8561\n",
      "эпоха 1202 потеря 170.0393\n",
      "эпоха 1203 потеря 172.6478\n",
      "эпоха 1204 потеря 169.9924\n",
      "эпоха 1205 потеря 172.6448\n",
      "эпоха 1206 потеря 169.9788\n",
      "эпоха 1207 потеря 172.6591\n",
      "эпоха 1208 потеря 170.0197\n",
      "эпоха 1209 потеря 172.6680\n",
      "эпоха 1210 потеря 170.0589\n",
      "эпоха 1211 потеря 172.7087\n",
      "эпоха 1212 потеря 170.0059\n",
      "эпоха 1213 потеря 172.6514\n",
      "эпоха 1214 потеря 169.9284\n",
      "эпоха 1215 потеря 172.6130\n",
      "эпоха 1216 потеря 169.9907\n",
      "эпоха 1217 потеря 172.6253\n",
      "эпоха 1218 потеря 169.9836\n",
      "эпоха 1219 потеря 172.6215\n",
      "эпоха 1220 потеря 169.9210\n",
      "эпоха 1221 потеря 172.5990\n",
      "эпоха 1222 потеря 170.0497\n",
      "эпоха 1223 потеря 172.6927\n",
      "эпоха 1224 потеря 169.9069\n",
      "эпоха 1225 потеря 172.5831\n",
      "эпоха 1226 потеря 169.9533\n",
      "эпоха 1227 потеря 172.6029\n",
      "эпоха 1228 потеря 169.8799\n",
      "эпоха 1229 потеря 172.5428\n",
      "эпоха 1230 потеря 170.0451\n",
      "эпоха 1231 потеря 172.7084\n",
      "эпоха 1232 потеря 169.9248\n",
      "эпоха 1233 потеря 172.5876\n",
      "эпоха 1234 потеря 170.0079\n",
      "эпоха 1235 потеря 172.6438\n",
      "эпоха 1236 потеря 169.8700\n",
      "эпоха 1237 потеря 172.5407\n",
      "эпоха 1238 потеря 169.9646\n",
      "эпоха 1239 потеря 172.6887\n",
      "эпоха 1240 потеря 170.1421\n",
      "эпоха 1241 потеря 172.8281\n",
      "эпоха 1242 потеря 170.0837\n",
      "эпоха 1243 потеря 172.8125\n",
      "эпоха 1244 потеря 170.1436\n",
      "эпоха 1245 потеря 172.8192\n",
      "эпоха 1246 потеря 170.0797\n",
      "эпоха 1247 потеря 172.8082\n",
      "эпоха 1248 потеря 170.1011\n",
      "эпоха 1249 потеря 172.8106\n",
      "эпоха 1250 потеря 170.1225\n",
      "эпоха 1251 потеря 172.8713\n",
      "эпоха 1252 потеря 170.2482\n",
      "эпоха 1253 потеря 172.9479\n",
      "эпоха 1254 потеря 170.1385\n",
      "эпоха 1255 потеря 172.8949\n",
      "эпоха 1256 потеря 170.2533\n",
      "эпоха 1257 потеря 172.9857\n",
      "эпоха 1258 потеря 170.3185\n",
      "эпоха 1259 потеря 173.0466\n",
      "эпоха 1260 потеря 170.2875\n",
      "эпоха 1261 потеря 172.9702\n",
      "эпоха 1262 потеря 170.0887\n",
      "эпоха 1263 потеря 172.7873\n",
      "эпоха 1264 потеря 170.1393\n",
      "эпоха 1265 потеря 172.7794\n",
      "эпоха 1266 потеря 170.0252\n",
      "эпоха 1267 потеря 172.6707\n",
      "эпоха 1268 потеря 170.0786\n",
      "эпоха 1269 потеря 172.7045\n",
      "эпоха 1270 потеря 169.9005\n",
      "эпоха 1271 потеря 172.5729\n",
      "эпоха 1272 потеря 169.9177\n",
      "эпоха 1273 потеря 172.5267\n",
      "эпоха 1274 потеря 169.8085\n",
      "эпоха 1275 потеря 172.3676\n",
      "эпоха 1276 потеря 169.8192\n",
      "эпоха 1277 потеря 172.3735\n",
      "эпоха 1278 потеря 169.7228\n",
      "эпоха 1279 потеря 172.3071\n",
      "эпоха 1280 потеря 169.5625\n",
      "эпоха 1281 потеря 172.1378\n",
      "эпоха 1282 потеря 169.6319\n",
      "эпоха 1283 потеря 172.1947\n",
      "эпоха 1284 потеря 169.6728\n",
      "эпоха 1285 потеря 172.2626\n",
      "эпоха 1286 потеря 169.7170\n",
      "эпоха 1287 потеря 172.3247\n",
      "эпоха 1288 потеря 169.6974\n",
      "эпоха 1289 потеря 172.3629\n",
      "эпоха 1290 потеря 169.7144\n",
      "эпоха 1291 потеря 172.3338\n",
      "эпоха 1292 потеря 169.7400\n",
      "эпоха 1293 потеря 172.3422\n",
      "эпоха 1294 потеря 169.7980\n",
      "эпоха 1295 потеря 172.4690\n",
      "эпоха 1296 потеря 169.8639\n",
      "эпоха 1297 потеря 172.4948\n",
      "эпоха 1298 потеря 169.8188\n",
      "эпоха 1299 потеря 172.4904\n",
      "эпоха 1300 потеря 169.8566\n",
      "эпоха 1301 потеря 172.5150\n",
      "эпоха 1302 потеря 169.8400\n",
      "эпоха 1303 потеря 172.4821\n",
      "эпоха 1304 потеря 169.9082\n",
      "эпоха 1305 потеря 172.5804\n",
      "эпоха 1306 потеря 169.8917\n",
      "эпоха 1307 потеря 172.5472\n",
      "эпоха 1308 потеря 169.9248\n",
      "эпоха 1309 потеря 172.6303\n",
      "эпоха 1310 потеря 169.9123\n",
      "эпоха 1311 потеря 172.5726\n",
      "эпоха 1312 потеря 169.9561\n",
      "эпоха 1313 потеря 172.6674\n",
      "эпоха 1314 потеря 170.0388\n",
      "эпоха 1315 потеря 172.7841\n",
      "эпоха 1316 потеря 170.1421\n",
      "эпоха 1317 потеря 172.8628\n",
      "эпоха 1318 потеря 170.0278\n",
      "эпоха 1319 потеря 172.7351\n",
      "эпоха 1320 потеря 170.0762\n",
      "эпоха 1321 потеря 172.8281\n",
      "эпоха 1322 потеря 170.1153\n",
      "эпоха 1323 потеря 172.8383\n",
      "эпоха 1324 потеря 170.2279\n",
      "эпоха 1325 потеря 173.0287\n",
      "эпоха 1326 потеря 170.3150\n",
      "эпоха 1327 потеря 173.1094\n",
      "эпоха 1328 потеря 170.2936\n",
      "эпоха 1329 потеря 172.9903\n",
      "эпоха 1330 потеря 170.0647\n",
      "эпоха 1331 потеря 172.7084\n",
      "эпоха 1332 потеря 170.0869\n",
      "эпоха 1333 потеря 172.7914\n",
      "эпоха 1334 потеря 170.1285\n",
      "эпоха 1335 потеря 172.8491\n",
      "эпоха 1336 потеря 170.1733\n",
      "эпоха 1337 потеря 172.8136\n",
      "эпоха 1338 потеря 169.9608\n",
      "эпоха 1339 потеря 172.6153\n",
      "эпоха 1340 потеря 169.8943\n",
      "эпоха 1341 потеря 172.4812\n",
      "эпоха 1342 потеря 169.8671\n",
      "эпоха 1343 потеря 172.3906\n",
      "эпоха 1344 потеря 169.7548\n",
      "эпоха 1345 потеря 172.3605\n",
      "эпоха 1346 потеря 169.8165\n",
      "эпоха 1347 потеря 172.4363\n",
      "эпоха 1348 потеря 169.7235\n",
      "эпоха 1349 потеря 172.2640\n",
      "эпоха 1350 потеря 169.7061\n",
      "эпоха 1351 потеря 172.3291\n",
      "эпоха 1352 потеря 169.7276\n",
      "эпоха 1353 потеря 172.3133\n",
      "эпоха 1354 потеря 169.7948\n",
      "эпоха 1355 потеря 172.4519\n",
      "эпоха 1356 потеря 169.6732\n",
      "эпоха 1357 потеря 172.2791\n",
      "эпоха 1358 потеря 169.6414\n",
      "эпоха 1359 потеря 172.1942\n",
      "эпоха 1360 потеря 169.7291\n",
      "эпоха 1361 потеря 172.3545\n",
      "эпоха 1362 потеря 169.7255\n",
      "эпоха 1363 потеря 172.2946\n",
      "эпоха 1364 потеря 169.6706\n",
      "эпоха 1365 потеря 172.2588\n",
      "эпоха 1366 потеря 169.6866\n",
      "эпоха 1367 потеря 172.2935\n",
      "эпоха 1368 потеря 169.7134\n",
      "эпоха 1369 потеря 172.3839\n",
      "эпоха 1370 потеря 169.7866\n",
      "эпоха 1371 потеря 172.4372\n",
      "эпоха 1372 потеря 169.8134\n",
      "эпоха 1373 потеря 172.4719\n",
      "эпоха 1374 потеря 169.8089\n",
      "эпоха 1375 потеря 172.4851\n",
      "эпоха 1376 потеря 169.9245\n",
      "эпоха 1377 потеря 172.6138\n",
      "эпоха 1378 потеря 169.8670\n",
      "эпоха 1379 потеря 172.5529\n",
      "эпоха 1380 потеря 169.8259\n",
      "эпоха 1381 потеря 172.4876\n",
      "эпоха 1382 потеря 169.9791\n",
      "эпоха 1383 потеря 172.6586\n",
      "эпоха 1384 потеря 169.9357\n",
      "эпоха 1385 потеря 172.6502\n",
      "эпоха 1386 потеря 169.9585\n",
      "эпоха 1387 потеря 172.6453\n",
      "эпоха 1388 потеря 169.8958\n",
      "эпоха 1389 потеря 172.6337\n",
      "эпоха 1390 потеря 169.9419\n",
      "эпоха 1391 потеря 172.6751\n",
      "эпоха 1392 потеря 170.1243\n",
      "эпоха 1393 потеря 172.9108\n",
      "эпоха 1394 потеря 170.1045\n",
      "эпоха 1395 потеря 172.8876\n",
      "эпоха 1396 потеря 170.1119\n",
      "эпоха 1397 потеря 172.8912\n",
      "эпоха 1398 потеря 170.1798\n",
      "эпоха 1399 потеря 172.9803\n",
      "эпоха 1400 потеря 170.2314\n",
      "эпоха 1401 потеря 172.9380\n",
      "эпоха 1402 потеря 170.2375\n",
      "эпоха 1403 потеря 173.0078\n",
      "эпоха 1404 потеря 170.1419\n",
      "эпоха 1405 потеря 172.9289\n",
      "эпоха 1406 потеря 170.1655\n",
      "эпоха 1407 потеря 172.8859\n",
      "эпоха 1408 потеря 170.1978\n",
      "эпоха 1409 потеря 172.9445\n",
      "эпоха 1410 потеря 170.2268\n",
      "эпоха 1411 потеря 173.0153\n",
      "эпоха 1412 потеря 170.2495\n",
      "эпоха 1413 потеря 172.9624\n",
      "эпоха 1414 потеря 169.9976\n",
      "эпоха 1415 потеря 172.6539\n",
      "эпоха 1416 потеря 169.9635\n",
      "эпоха 1417 потеря 172.6426\n",
      "эпоха 1418 потеря 169.9821\n",
      "эпоха 1419 потеря 172.6562\n",
      "эпоха 1420 потеря 170.0183\n",
      "эпоха 1421 потеря 172.6710\n",
      "эпоха 1422 потеря 169.8523\n",
      "эпоха 1423 потеря 172.4371\n",
      "эпоха 1424 потеря 169.7605\n",
      "эпоха 1425 потеря 172.3567\n",
      "эпоха 1426 потеря 169.6816\n",
      "эпоха 1427 потеря 172.2828\n",
      "эпоха 1428 потеря 169.6969\n",
      "эпоха 1429 потеря 172.2944\n",
      "эпоха 1430 потеря 169.7245\n",
      "эпоха 1431 потеря 172.3332\n",
      "эпоха 1432 потеря 169.6634\n",
      "эпоха 1433 потеря 172.2572\n",
      "эпоха 1434 потеря 169.6412\n",
      "эпоха 1435 потеря 172.2392\n",
      "эпоха 1436 потеря 169.6205\n",
      "эпоха 1437 потеря 172.2569\n",
      "эпоха 1438 потеря 169.6502\n",
      "эпоха 1439 потеря 172.3348\n",
      "эпоха 1440 потеря 169.8965\n",
      "эпоха 1441 потеря 172.5527\n",
      "эпоха 1442 потеря 169.9073\n",
      "эпоха 1443 потеря 172.6510\n",
      "эпоха 1444 потеря 169.9016\n",
      "эпоха 1445 потеря 172.6291\n",
      "эпоха 1446 потеря 169.9665\n",
      "эпоха 1447 потеря 172.7195\n",
      "эпоха 1448 потеря 170.1385\n",
      "эпоха 1449 потеря 172.9132\n",
      "эпоха 1450 потеря 170.0071\n",
      "эпоха 1451 потеря 172.6713\n",
      "эпоха 1452 потеря 170.0823\n",
      "эпоха 1453 потеря 172.8764\n",
      "эпоха 1454 потеря 170.0515\n",
      "эпоха 1455 потеря 172.7975\n",
      "эпоха 1456 потеря 170.1055\n",
      "эпоха 1457 потеря 172.7974\n",
      "эпоха 1458 потеря 170.0778\n",
      "эпоха 1459 потеря 172.7538\n",
      "эпоха 1460 потеря 170.0730\n",
      "эпоха 1461 потеря 172.7666\n",
      "эпоха 1462 потеря 169.8338\n",
      "эпоха 1463 потеря 172.4051\n",
      "эпоха 1464 потеря 169.8449\n",
      "эпоха 1465 потеря 172.4847\n",
      "эпоха 1466 потеря 169.7337\n",
      "эпоха 1467 потеря 172.3671\n",
      "эпоха 1468 потеря 169.7789\n",
      "эпоха 1469 потеря 172.3955\n",
      "эпоха 1470 потеря 169.7797\n",
      "эпоха 1471 потеря 172.3456\n",
      "эпоха 1472 потеря 169.6721\n",
      "эпоха 1473 потеря 172.2991\n",
      "эпоха 1474 потеря 169.6762\n",
      "эпоха 1475 потеря 172.2790\n",
      "эпоха 1476 потеря 169.6222\n",
      "эпоха 1477 потеря 172.2359\n",
      "эпоха 1478 потеря 169.7118\n",
      "эпоха 1479 потеря 172.3005\n",
      "эпоха 1480 потеря 169.6716\n",
      "эпоха 1481 потеря 172.3835\n",
      "эпоха 1482 потеря 169.8283\n",
      "эпоха 1483 потеря 172.4786\n",
      "эпоха 1484 потеря 169.8023\n",
      "эпоха 1485 потеря 172.4703\n",
      "эпоха 1486 потеря 169.7467\n",
      "эпоха 1487 потеря 172.4766\n",
      "эпоха 1488 потеря 170.0015\n",
      "эпоха 1489 потеря 172.7658\n",
      "эпоха 1490 потеря 170.0188\n",
      "эпоха 1491 потеря 172.7119\n",
      "эпоха 1492 потеря 169.8252\n",
      "эпоха 1493 потеря 172.4746\n",
      "эпоха 1494 потеря 169.9405\n",
      "эпоха 1495 потеря 172.6845\n",
      "эпоха 1496 потеря 169.8931\n",
      "эпоха 1497 потеря 172.5458\n",
      "эпоха 1498 потеря 169.9991\n",
      "эпоха 1499 потеря 172.5977\n",
      "эпоха 1500 потеря 169.7713\n",
      "эпоха 1501 потеря 172.4196\n",
      "эпоха 1502 потеря 169.7675\n",
      "эпоха 1503 потеря 172.4283\n",
      "эпоха 1504 потеря 169.8054\n",
      "эпоха 1505 потеря 172.4369\n",
      "эпоха 1506 потеря 169.7188\n",
      "эпоха 1507 потеря 172.3203\n",
      "эпоха 1508 потеря 169.7878\n",
      "эпоха 1509 потеря 172.3765\n",
      "эпоха 1510 потеря 169.6456\n",
      "эпоха 1511 потеря 172.3109\n",
      "эпоха 1512 потеря 169.7399\n",
      "эпоха 1513 потеря 172.4425\n",
      "эпоха 1514 потеря 169.8685\n",
      "эпоха 1515 потеря 172.5900\n",
      "эпоха 1516 потеря 169.7573\n",
      "эпоха 1517 потеря 172.4355\n",
      "эпоха 1518 потеря 169.9779\n",
      "эпоха 1519 потеря 172.6697\n",
      "эпоха 1520 потеря 169.9496\n",
      "эпоха 1521 потеря 172.6334\n",
      "эпоха 1522 потеря 169.7427\n",
      "эпоха 1523 потеря 172.3792\n",
      "эпоха 1524 потеря 169.8014\n",
      "эпоха 1525 потеря 172.4600\n",
      "эпоха 1526 потеря 169.7139\n",
      "эпоха 1527 потеря 172.3786\n",
      "эпоха 1528 потеря 169.9367\n",
      "эпоха 1529 потеря 172.5913\n",
      "эпоха 1530 потеря 169.8268\n",
      "эпоха 1531 потеря 172.5787\n",
      "эпоха 1532 потеря 169.8795\n",
      "эпоха 1533 потеря 172.5269\n",
      "эпоха 1534 потеря 169.8950\n",
      "эпоха 1535 потеря 172.6639\n",
      "эпоха 1536 потеря 169.9140\n",
      "эпоха 1537 потеря 172.5516\n",
      "эпоха 1538 потеря 169.8793\n",
      "эпоха 1539 потеря 172.6513\n",
      "эпоха 1540 потеря 170.0366\n",
      "эпоха 1541 потеря 172.7361\n",
      "эпоха 1542 потеря 169.9867\n",
      "эпоха 1543 потеря 172.7359\n",
      "эпоха 1544 потеря 169.8908\n",
      "эпоха 1545 потеря 172.5362\n",
      "эпоха 1546 потеря 169.9561\n",
      "эпоха 1547 потеря 172.6190\n",
      "эпоха 1548 потеря 169.9083\n",
      "эпоха 1549 потеря 172.4543\n",
      "эпоха 1550 потеря 169.6528\n",
      "эпоха 1551 потеря 172.2645\n",
      "эпоха 1552 потеря 169.7600\n",
      "эпоха 1553 потеря 172.4694\n",
      "эпоха 1554 потеря 169.8026\n",
      "эпоха 1555 потеря 172.4702\n",
      "эпоха 1556 потеря 169.8042\n",
      "эпоха 1557 потеря 172.4704\n",
      "эпоха 1558 потеря 169.8387\n",
      "эпоха 1559 потеря 172.6344\n",
      "эпоха 1560 потеря 170.0495\n",
      "эпоха 1561 потеря 172.8035\n",
      "эпоха 1562 потеря 169.9508\n",
      "эпоха 1563 потеря 172.6245\n",
      "эпоха 1564 потеря 169.9646\n",
      "эпоха 1565 потеря 172.7690\n",
      "эпоха 1566 потеря 170.0270\n",
      "эпоха 1567 потеря 172.6721\n",
      "эпоха 1568 потеря 169.8762\n",
      "эпоха 1569 потеря 172.5887\n",
      "эпоха 1570 потеря 169.9749\n",
      "эпоха 1571 потеря 172.6234\n",
      "эпоха 1572 потеря 169.9631\n",
      "эпоха 1573 потеря 172.6854\n",
      "эпоха 1574 потеря 169.7835\n",
      "эпоха 1575 потеря 172.3692\n",
      "эпоха 1576 потеря 169.7845\n",
      "эпоха 1577 потеря 172.4788\n",
      "эпоха 1578 потеря 169.8266\n",
      "эпоха 1579 потеря 172.4229\n",
      "эпоха 1580 потеря 169.7860\n",
      "эпоха 1581 потеря 172.4426\n",
      "эпоха 1582 потеря 169.8061\n",
      "эпоха 1583 потеря 172.4359\n",
      "эпоха 1584 потеря 169.7637\n",
      "эпоха 1585 потеря 172.4454\n",
      "эпоха 1586 потеря 169.5916\n",
      "эпоха 1587 потеря 172.1588\n",
      "эпоха 1588 потеря 169.7709\n",
      "эпоха 1589 потеря 172.4678\n",
      "эпоха 1590 потеря 169.7882\n",
      "эпоха 1591 потеря 172.4101\n",
      "эпоха 1592 потеря 169.7246\n",
      "эпоха 1593 потеря 172.4149\n",
      "эпоха 1594 потеря 169.7031\n",
      "эпоха 1595 потеря 172.3568\n",
      "эпоха 1596 потеря 169.7987\n",
      "эпоха 1597 потеря 172.4237\n",
      "эпоха 1598 потеря 169.6767\n",
      "эпоха 1599 потеря 172.3779\n",
      "эпоха 1600 потеря 169.8248\n",
      "эпоха 1601 потеря 172.5151\n",
      "эпоха 1602 потеря 169.9720\n",
      "эпоха 1603 потеря 172.7150\n",
      "эпоха 1604 потеря 169.8290\n",
      "эпоха 1605 потеря 172.4386\n",
      "эпоха 1606 потеря 169.7338\n",
      "эпоха 1607 потеря 172.3963\n",
      "эпоха 1608 потеря 169.8404\n",
      "эпоха 1609 потеря 172.4560\n",
      "эпоха 1610 потеря 169.7541\n",
      "эпоха 1611 потеря 172.4531\n",
      "эпоха 1612 потеря 169.7632\n",
      "эпоха 1613 потеря 172.4099\n",
      "эпоха 1614 потеря 169.7845\n",
      "эпоха 1615 потеря 172.4586\n",
      "эпоха 1616 потеря 169.6810\n",
      "эпоха 1617 потеря 172.3032\n",
      "эпоха 1618 потеря 169.6010\n",
      "эпоха 1619 потеря 172.2369\n",
      "эпоха 1620 потеря 169.8706\n",
      "эпоха 1621 потеря 172.4862\n",
      "эпоха 1622 потеря 169.7304\n",
      "эпоха 1623 потеря 172.3369\n",
      "эпоха 1624 потеря 169.6467\n",
      "эпоха 1625 потеря 172.2099\n",
      "эпоха 1626 потеря 169.6273\n",
      "эпоха 1627 потеря 172.2771\n",
      "эпоха 1628 потеря 169.6714\n",
      "эпоха 1629 потеря 172.1979\n",
      "эпоха 1630 потеря 169.5796\n",
      "эпоха 1631 потеря 172.2016\n",
      "эпоха 1632 потеря 169.7309\n",
      "эпоха 1633 потеря 172.3310\n",
      "эпоха 1634 потеря 169.6282\n",
      "эпоха 1635 потеря 172.3005\n",
      "эпоха 1636 потеря 169.6118\n",
      "эпоха 1637 потеря 172.2182\n",
      "эпоха 1638 потеря 169.7045\n",
      "эпоха 1639 потеря 172.3990\n",
      "эпоха 1640 потеря 169.8436\n",
      "эпоха 1641 потеря 172.4792\n",
      "эпоха 1642 потеря 169.7986\n",
      "эпоха 1643 потеря 172.5700\n",
      "эпоха 1644 потеря 169.8793\n",
      "эпоха 1645 потеря 172.5484\n",
      "эпоха 1646 потеря 169.8254\n",
      "эпоха 1647 потеря 172.5146\n",
      "эпоха 1648 потеря 169.7274\n",
      "эпоха 1649 потеря 172.3585\n",
      "эпоха 1650 потеря 169.9222\n",
      "эпоха 1651 потеря 172.6021\n",
      "эпоха 1652 потеря 169.8032\n",
      "эпоха 1653 потеря 172.3977\n",
      "эпоха 1654 потеря 169.6464\n",
      "эпоха 1655 потеря 172.2661\n",
      "эпоха 1656 потеря 169.6936\n",
      "эпоха 1657 потеря 172.2333\n",
      "эпоха 1658 потеря 169.6234\n",
      "эпоха 1659 потеря 172.2604\n",
      "эпоха 1660 потеря 169.6573\n",
      "эпоха 1661 потеря 172.2240\n",
      "эпоха 1662 потеря 169.7773\n",
      "эпоха 1663 потеря 172.4844\n",
      "эпоха 1664 потеря 169.7150\n",
      "эпоха 1665 потеря 172.3649\n",
      "эпоха 1666 потеря 169.5799\n",
      "эпоха 1667 потеря 172.3112\n",
      "эпоха 1668 потеря 169.9178\n",
      "эпоха 1669 потеря 172.5659\n",
      "эпоха 1670 потеря 169.9127\n",
      "эпоха 1671 потеря 172.6464\n",
      "эпоха 1672 потеря 169.8053\n",
      "эпоха 1673 потеря 172.4483\n",
      "эпоха 1674 потеря 169.9676\n",
      "эпоха 1675 потеря 172.7271\n",
      "эпоха 1676 потеря 169.8166\n",
      "эпоха 1677 потеря 172.3681\n",
      "эпоха 1678 потеря 169.6026\n",
      "эпоха 1679 потеря 172.2597\n",
      "эпоха 1680 потеря 169.8964\n",
      "эпоха 1681 потеря 172.5040\n",
      "эпоха 1682 потеря 169.8038\n",
      "эпоха 1683 потеря 172.5059\n",
      "эпоха 1684 потеря 169.6616\n",
      "эпоха 1685 потеря 172.2224\n",
      "эпоха 1686 потеря 169.7726\n",
      "эпоха 1687 потеря 172.4292\n",
      "эпоха 1688 потеря 169.6322\n",
      "эпоха 1689 потеря 172.1426\n",
      "эпоха 1690 потеря 169.5077\n",
      "эпоха 1691 потеря 172.1323\n",
      "эпоха 1692 потеря 169.7351\n",
      "эпоха 1693 потеря 172.3253\n",
      "эпоха 1694 потеря 169.6346\n",
      "эпоха 1695 потеря 172.2991\n",
      "эпоха 1696 потеря 169.6771\n",
      "эпоха 1697 потеря 172.2480\n",
      "эпоха 1698 потеря 169.6530\n",
      "эпоха 1699 потеря 172.3804\n",
      "эпоха 1700 потеря 169.7969\n",
      "эпоха 1701 потеря 172.4082\n",
      "эпоха 1702 потеря 169.7852\n",
      "эпоха 1703 потеря 172.5397\n",
      "эпоха 1704 потеря 169.7756\n",
      "эпоха 1705 потеря 172.3690\n",
      "эпоха 1706 потеря 169.7448\n",
      "эпоха 1707 потеря 172.4267\n",
      "эпоха 1708 потеря 169.8073\n",
      "эпоха 1709 потеря 172.4226\n",
      "эпоха 1710 потеря 169.7525\n",
      "эпоха 1711 потеря 172.4755\n",
      "эпоха 1712 потеря 169.8602\n",
      "эпоха 1713 потеря 172.4742\n",
      "эпоха 1714 потеря 169.7343\n",
      "эпоха 1715 потеря 172.3475\n",
      "эпоха 1716 потеря 169.6860\n",
      "эпоха 1717 потеря 172.2198\n",
      "эпоха 1718 потеря 169.6009\n",
      "эпоха 1719 потеря 172.2203\n",
      "эпоха 1720 потеря 169.5633\n",
      "эпоха 1721 потеря 172.0792\n",
      "эпоха 1722 потеря 169.3958\n",
      "эпоха 1723 потеря 171.9840\n",
      "эпоха 1724 потеря 169.6186\n",
      "эпоха 1725 потеря 172.1662\n",
      "эпоха 1726 потеря 169.4462\n",
      "эпоха 1727 потеря 172.0363\n",
      "эпоха 1728 потеря 169.5763\n",
      "эпоха 1729 потеря 172.1277\n",
      "эпоха 1730 потеря 169.4754\n",
      "эпоха 1731 потеря 172.0640\n",
      "эпоха 1732 потеря 169.3992\n",
      "эпоха 1733 потеря 171.8922\n",
      "эпоха 1734 потеря 169.4137\n",
      "эпоха 1735 потеря 172.0004\n",
      "эпоха 1736 потеря 169.4502\n",
      "эпоха 1737 потеря 171.9789\n",
      "эпоха 1738 потеря 169.3948\n",
      "эпоха 1739 потеря 171.9870\n",
      "эпоха 1740 потеря 169.4409\n",
      "эпоха 1741 потеря 172.0081\n",
      "эпоха 1742 потеря 169.4291\n",
      "эпоха 1743 потеря 172.0528\n",
      "эпоха 1744 потеря 169.6139\n",
      "эпоха 1745 потеря 172.1883\n",
      "эпоха 1746 потеря 169.5857\n",
      "эпоха 1747 потеря 172.2757\n",
      "эпоха 1748 потеря 169.6166\n",
      "эпоха 1749 потеря 172.2495\n",
      "эпоха 1750 потеря 169.7215\n",
      "эпоха 1751 потеря 172.4339\n",
      "эпоха 1752 потеря 169.7157\n",
      "эпоха 1753 потеря 172.3443\n",
      "эпоха 1754 потеря 169.6473\n",
      "эпоха 1755 потеря 172.3431\n",
      "эпоха 1756 потеря 169.8554\n",
      "эпоха 1757 потеря 172.5054\n",
      "эпоха 1758 потеря 169.8581\n",
      "эпоха 1759 потеря 172.6355\n",
      "эпоха 1760 потеря 169.9612\n",
      "эпоха 1761 потеря 172.6259\n",
      "эпоха 1762 потеря 169.8542\n",
      "эпоха 1763 потеря 172.5105\n",
      "эпоха 1764 потеря 169.6535\n",
      "эпоха 1765 потеря 172.1885\n",
      "эпоха 1766 потеря 169.6681\n",
      "эпоха 1767 потеря 172.2960\n",
      "эпоха 1768 потеря 169.5683\n",
      "эпоха 1769 потеря 172.1220\n",
      "эпоха 1770 потеря 169.5739\n",
      "эпоха 1771 потеря 172.2141\n",
      "эпоха 1772 потеря 169.5662\n",
      "эпоха 1773 потеря 172.0892\n",
      "эпоха 1774 потеря 169.4870\n",
      "эпоха 1775 потеря 172.0951\n",
      "эпоха 1776 потеря 169.4647\n",
      "эпоха 1777 потеря 171.9884\n",
      "эпоха 1778 потеря 169.4458\n",
      "эпоха 1779 потеря 172.0092\n",
      "эпоха 1780 потеря 169.5075\n",
      "эпоха 1781 потеря 172.0353\n",
      "эпоха 1782 потеря 169.4351\n",
      "эпоха 1783 потеря 172.0241\n",
      "эпоха 1784 потеря 169.3628\n",
      "эпоха 1785 потеря 171.8150\n",
      "эпоха 1786 потеря 169.3126\n",
      "эпоха 1787 потеря 171.8435\n",
      "эпоха 1788 потеря 169.2491\n",
      "эпоха 1789 потеря 171.7291\n",
      "эпоха 1790 потеря 169.2267\n",
      "эпоха 1791 потеря 171.7704\n",
      "эпоха 1792 потеря 169.3118\n",
      "эпоха 1793 потеря 171.8154\n",
      "эпоха 1794 потеря 169.2480\n",
      "эпоха 1795 потеря 171.7944\n",
      "эпоха 1796 потеря 169.2100\n",
      "эпоха 1797 потеря 171.6671\n",
      "эпоха 1798 потеря 169.2150\n",
      "эпоха 1799 потеря 171.7960\n",
      "эпоха 1800 потеря 169.3231\n",
      "эпоха 1801 потеря 171.8742\n",
      "эпоха 1802 потеря 169.2653\n",
      "эпоха 1803 потеря 171.8402\n",
      "эпоха 1804 потеря 169.3410\n",
      "эпоха 1805 потеря 171.8751\n",
      "эпоха 1806 потеря 169.4190\n",
      "эпоха 1807 потеря 172.0148\n",
      "эпоха 1808 потеря 169.2928\n",
      "эпоха 1809 потеря 171.8417\n",
      "эпоха 1810 потеря 169.4039\n",
      "эпоха 1811 потеря 172.1333\n",
      "эпоха 1812 потеря 169.6565\n",
      "эпоха 1813 потеря 172.2734\n",
      "эпоха 1814 потеря 169.7673\n",
      "эпоха 1815 потеря 172.5715\n",
      "эпоха 1816 потеря 169.7418\n",
      "эпоха 1817 потеря 172.4257\n",
      "эпоха 1818 потеря 169.8418\n",
      "эпоха 1819 потеря 172.5997\n",
      "эпоха 1820 потеря 169.8666\n",
      "эпоха 1821 потеря 172.5843\n",
      "эпоха 1822 потеря 169.9331\n",
      "эпоха 1823 потеря 172.6706\n",
      "эпоха 1824 потеря 170.0752\n",
      "эпоха 1825 потеря 172.7614\n",
      "эпоха 1826 потеря 169.9380\n",
      "эпоха 1827 потеря 172.6749\n",
      "эпоха 1828 потеря 169.7544\n",
      "эпоха 1829 потеря 172.2835\n",
      "эпоха 1830 потеря 169.6964\n",
      "эпоха 1831 потеря 172.2967\n",
      "эпоха 1832 потеря 169.4876\n",
      "эпоха 1833 потеря 171.9644\n",
      "эпоха 1834 потеря 169.5207\n",
      "эпоха 1835 потеря 172.0548\n",
      "эпоха 1836 потеря 169.3399\n",
      "эпоха 1837 потеря 171.7879\n",
      "эпоха 1838 потеря 169.2434\n",
      "эпоха 1839 потеря 171.7436\n",
      "эпоха 1840 потеря 169.2113\n",
      "эпоха 1841 потеря 171.6526\n",
      "эпоха 1842 потеря 169.0951\n",
      "эпоха 1843 потеря 171.5775\n",
      "эпоха 1844 потеря 169.1189\n",
      "эпоха 1845 потеря 171.5513\n",
      "эпоха 1846 потеря 169.1389\n",
      "эпоха 1847 потеря 171.5961\n",
      "эпоха 1848 потеря 168.9333\n",
      "эпоха 1849 потеря 171.3522\n",
      "эпоха 1850 потеря 168.9521\n",
      "эпоха 1851 потеря 171.4810\n",
      "эпоха 1852 потеря 169.0314\n",
      "эпоха 1853 потеря 171.4789\n",
      "эпоха 1854 потеря 169.0471\n",
      "эпоха 1855 потеря 171.5314\n",
      "эпоха 1856 потеря 169.0204\n",
      "эпоха 1857 потеря 171.4727\n",
      "эпоха 1858 потеря 169.0662\n",
      "эпоха 1859 потеря 171.6882\n",
      "эпоха 1860 потеря 169.1250\n",
      "эпоха 1861 потеря 171.6109\n",
      "эпоха 1862 потеря 169.1433\n",
      "эпоха 1863 потеря 171.7428\n",
      "эпоха 1864 потеря 169.2432\n",
      "эпоха 1865 потеря 171.7596\n",
      "эпоха 1866 потеря 169.2380\n",
      "эпоха 1867 потеря 171.8914\n",
      "эпоха 1868 потеря 169.3629\n",
      "эпоха 1869 потеря 171.9725\n",
      "эпоха 1870 потеря 169.4519\n",
      "эпоха 1871 потеря 172.1586\n",
      "эпоха 1872 потеря 169.5566\n",
      "эпоха 1873 потеря 172.2510\n",
      "эпоха 1874 потеря 169.6998\n",
      "эпоха 1875 потеря 172.4543\n",
      "эпоха 1876 потеря 169.7780\n",
      "эпоха 1877 потеря 172.4905\n",
      "эпоха 1878 потеря 169.8217\n",
      "эпоха 1879 потеря 172.5956\n",
      "эпоха 1880 потеря 169.7878\n",
      "эпоха 1881 потеря 172.4502\n",
      "эпоха 1882 потеря 169.8702\n",
      "эпоха 1883 потеря 172.6845\n",
      "эпоха 1884 потеря 169.9750\n",
      "эпоха 1885 потеря 172.6789\n",
      "эпоха 1886 потеря 169.9919\n",
      "эпоха 1887 потеря 172.7287\n",
      "эпоха 1888 потеря 169.8244\n",
      "эпоха 1889 потеря 172.4367\n",
      "эпоха 1890 потеря 169.7106\n",
      "эпоха 1891 потеря 172.3878\n",
      "эпоха 1892 потеря 169.8020\n",
      "эпоха 1893 потеря 172.4158\n",
      "эпоха 1894 потеря 169.7216\n",
      "эпоха 1895 потеря 172.3953\n",
      "эпоха 1896 потеря 169.6241\n",
      "эпоха 1897 потеря 172.1058\n",
      "эпоха 1898 потеря 169.5470\n",
      "эпоха 1899 потеря 172.0803\n",
      "эпоха 1900 потеря 169.2943\n",
      "эпоха 1901 потеря 171.7658\n",
      "эпоха 1902 потеря 169.1289\n",
      "эпоха 1903 потеря 171.6684\n",
      "эпоха 1904 потеря 169.1841\n",
      "эпоха 1905 потеря 171.5564\n",
      "эпоха 1906 потеря 169.0641\n",
      "эпоха 1907 потеря 171.4638\n",
      "эпоха 1908 потеря 168.8866\n",
      "эпоха 1909 потеря 171.2612\n",
      "эпоха 1910 потеря 168.8608\n",
      "эпоха 1911 потеря 171.2605\n",
      "эпоха 1912 потеря 168.7871\n",
      "эпоха 1913 потеря 171.2104\n",
      "эпоха 1914 потеря 168.7314\n",
      "эпоха 1915 потеря 171.2004\n",
      "эпоха 1916 потеря 168.8568\n",
      "эпоха 1917 потеря 171.2871\n",
      "эпоха 1918 потеря 168.9830\n",
      "эпоха 1919 потеря 171.5099\n",
      "эпоха 1920 потеря 168.9712\n",
      "эпоха 1921 потеря 171.4473\n",
      "эпоха 1922 потеря 169.0137\n",
      "эпоха 1923 потеря 171.6127\n",
      "эпоха 1924 потеря 169.0373\n",
      "эпоха 1925 потеря 171.5248\n",
      "эпоха 1926 потеря 169.0615\n",
      "эпоха 1927 потеря 171.6339\n",
      "эпоха 1928 потеря 169.1652\n",
      "эпоха 1929 потеря 171.7486\n",
      "эпоха 1930 потеря 169.1442\n",
      "эпоха 1931 потеря 171.7357\n",
      "эпоха 1932 потеря 169.1998\n",
      "эпоха 1933 потеря 171.7485\n",
      "эпоха 1934 потеря 169.1512\n",
      "эпоха 1935 потеря 171.7639\n",
      "эпоха 1936 потеря 169.2564\n",
      "эпоха 1937 потеря 171.7803\n",
      "эпоха 1938 потеря 169.2023\n",
      "эпоха 1939 потеря 171.8891\n",
      "эпоха 1940 потеря 169.3714\n",
      "эпоха 1941 потеря 171.9201\n",
      "эпоха 1942 потеря 169.2850\n",
      "эпоха 1943 потеря 171.9344\n",
      "эпоха 1944 потеря 169.2814\n",
      "эпоха 1945 потеря 171.8799\n",
      "эпоха 1946 потеря 169.4456\n",
      "эпоха 1947 потеря 172.1126\n",
      "эпоха 1948 потеря 169.4796\n",
      "эпоха 1949 потеря 172.0737\n",
      "эпоха 1950 потеря 169.3632\n",
      "эпоха 1951 потеря 172.0272\n",
      "эпоха 1952 потеря 169.4099\n",
      "эпоха 1953 потеря 171.9955\n",
      "эпоха 1954 потеря 169.4758\n",
      "эпоха 1955 потеря 172.1505\n",
      "эпоха 1956 потеря 169.4883\n",
      "эпоха 1957 потеря 172.0248\n",
      "эпоха 1958 потеря 169.3243\n",
      "эпоха 1959 потеря 171.9800\n",
      "эпоха 1960 потеря 169.3909\n",
      "эпоха 1961 потеря 171.9238\n",
      "эпоха 1962 потеря 169.3263\n",
      "эпоха 1963 потеря 171.9680\n",
      "эпоха 1964 потеря 169.2604\n",
      "эпоха 1965 потеря 171.8333\n",
      "эпоха 1966 потеря 169.3871\n",
      "эпоха 1967 потеря 172.0593\n",
      "эпоха 1968 потеря 169.4840\n",
      "эпоха 1969 потеря 172.0627\n",
      "эпоха 1970 потеря 169.3764\n",
      "эпоха 1971 потеря 172.0235\n",
      "эпоха 1972 потеря 169.4219\n",
      "эпоха 1973 потеря 172.0010\n",
      "эпоха 1974 потеря 169.3990\n",
      "эпоха 1975 потеря 172.0029\n",
      "эпоха 1976 потеря 169.2760\n",
      "эпоха 1977 потеря 171.7966\n",
      "эпоха 1978 потеря 169.3399\n",
      "эпоха 1979 потеря 171.9743\n",
      "эпоха 1980 потеря 169.3314\n",
      "эпоха 1981 потеря 171.8249\n",
      "эпоха 1982 потеря 169.2166\n",
      "эпоха 1983 потеря 171.8278\n",
      "эпоха 1984 потеря 169.2327\n",
      "эпоха 1985 потеря 171.7718\n",
      "эпоха 1986 потеря 169.1547\n",
      "эпоха 1987 потеря 171.7351\n",
      "эпоха 1988 потеря 169.3217\n",
      "эпоха 1989 потеря 171.8757\n",
      "эпоха 1990 потеря 169.2749\n",
      "эпоха 1991 потеря 171.8974\n",
      "эпоха 1992 потеря 169.2203\n",
      "эпоха 1993 потеря 171.7221\n",
      "эпоха 1994 потеря 169.2564\n",
      "эпоха 1995 потеря 171.8981\n",
      "эпоха 1996 потеря 169.2510\n",
      "эпоха 1997 потеря 171.7678\n",
      "эпоха 1998 потеря 169.3175\n",
      "эпоха 1999 потеря 171.9204\n",
      "эпоха 2000 потеря 169.3351\n",
      "эпоха 2001 потеря 171.9257\n",
      "эпоха 2002 потеря 169.3143\n",
      "эпоха 2003 потеря 171.9291\n",
      "эпоха 2004 потеря 169.2149\n",
      "эпоха 2005 потеря 171.7403\n",
      "эпоха 2006 потеря 169.3266\n",
      "эпоха 2007 потеря 171.9492\n",
      "эпоха 2008 потеря 169.2841\n",
      "эпоха 2009 потеря 171.7870\n",
      "эпоха 2010 потеря 169.1860\n",
      "эпоха 2011 потеря 171.8269\n",
      "эпоха 2012 потеря 169.2644\n",
      "эпоха 2013 потеря 171.8331\n",
      "эпоха 2014 потеря 169.2468\n",
      "эпоха 2015 потеря 171.8671\n",
      "эпоха 2016 потеря 169.2358\n",
      "эпоха 2017 потеря 171.8205\n",
      "эпоха 2018 потеря 169.3966\n",
      "эпоха 2019 потеря 171.9549\n",
      "эпоха 2020 потеря 169.1945\n",
      "эпоха 2021 потеря 171.7438\n",
      "эпоха 2022 потеря 169.1090\n",
      "эпоха 2023 потеря 171.6517\n",
      "эпоха 2024 потеря 169.1720\n",
      "эпоха 2025 потеря 171.7143\n",
      "эпоха 2026 потеря 169.0685\n",
      "эпоха 2027 потеря 171.5356\n",
      "эпоха 2028 потеря 169.0500\n",
      "эпоха 2029 потеря 171.6514\n",
      "эпоха 2030 потеря 169.1614\n",
      "эпоха 2031 потеря 171.6630\n",
      "эпоха 2032 потеря 169.1437\n",
      "эпоха 2033 потеря 171.7499\n",
      "эпоха 2034 потеря 169.2143\n",
      "эпоха 2035 потеря 171.7987\n",
      "эпоха 2036 потеря 169.2407\n",
      "эпоха 2037 потеря 171.8023\n",
      "эпоха 2038 потеря 169.2747\n",
      "эпоха 2039 потеря 171.9525\n",
      "эпоха 2040 потеря 169.2692\n",
      "эпоха 2041 потеря 171.8524\n",
      "эпоха 2042 потеря 169.3383\n",
      "эпоха 2043 потеря 171.9473\n",
      "эпоха 2044 потеря 169.2563\n",
      "эпоха 2045 потеря 171.8196\n",
      "эпоха 2046 потеря 169.2483\n",
      "эпоха 2047 потеря 171.9227\n",
      "эпоха 2048 потеря 169.5477\n",
      "эпоха 2049 потеря 172.1879\n",
      "эпоха 2050 потеря 169.4190\n",
      "эпоха 2051 потеря 172.1077\n",
      "эпоха 2052 потеря 169.3377\n",
      "эпоха 2053 потеря 171.8630\n",
      "эпоха 2054 потеря 169.4830\n",
      "эпоха 2055 потеря 172.0815\n",
      "эпоха 2056 потеря 169.3945\n",
      "эпоха 2057 потеря 172.0847\n",
      "эпоха 2058 потеря 169.5180\n",
      "эпоха 2059 потеря 172.2414\n",
      "эпоха 2060 потеря 169.6354\n",
      "эпоха 2061 потеря 172.2477\n",
      "эпоха 2062 потеря 169.4751\n",
      "эпоха 2063 потеря 172.2017\n",
      "эпоха 2064 потеря 169.4431\n",
      "эпоха 2065 потеря 172.0554\n",
      "эпоха 2066 потеря 169.4331\n",
      "эпоха 2067 потеря 172.0595\n",
      "эпоха 2068 потеря 169.4030\n",
      "эпоха 2069 потеря 171.9509\n",
      "эпоха 2070 потеря 169.3852\n",
      "эпоха 2071 потеря 171.9797\n",
      "эпоха 2072 потеря 169.2355\n",
      "эпоха 2073 потеря 171.7264\n",
      "эпоха 2074 потеря 169.2004\n",
      "эпоха 2075 потеря 171.7375\n",
      "эпоха 2076 потеря 169.1050\n",
      "эпоха 2077 потеря 171.6036\n",
      "эпоха 2078 потеря 169.0521\n",
      "эпоха 2079 потеря 171.5410\n",
      "эпоха 2080 потеря 169.0397\n",
      "эпоха 2081 потеря 171.5951\n",
      "эпоха 2082 потеря 169.0361\n",
      "эпоха 2083 потеря 171.5212\n",
      "эпоха 2084 потеря 168.8882\n",
      "эпоха 2085 потеря 171.4080\n",
      "эпоха 2086 потеря 168.9805\n",
      "эпоха 2087 потеря 171.5296\n",
      "эпоха 2088 потеря 169.0742\n",
      "эпоха 2089 потеря 171.6489\n",
      "эпоха 2090 потеря 169.0840\n",
      "эпоха 2091 потеря 171.6361\n",
      "эпоха 2092 потеря 169.0994\n",
      "эпоха 2093 потеря 171.7007\n",
      "эпоха 2094 потеря 169.1551\n",
      "эпоха 2095 потеря 171.7837\n",
      "эпоха 2096 потеря 169.2429\n",
      "эпоха 2097 потеря 171.8796\n",
      "эпоха 2098 потеря 169.3190\n",
      "эпоха 2099 потеря 171.9768\n",
      "эпоха 2100 потеря 169.2924\n",
      "эпоха 2101 потеря 171.7029\n",
      "эпоха 2102 потеря 169.2575\n",
      "эпоха 2103 потеря 171.8399\n",
      "эпоха 2104 потеря 169.2131\n",
      "эпоха 2105 потеря 171.8207\n",
      "эпоха 2106 потеря 169.0916\n",
      "эпоха 2107 потеря 171.7184\n",
      "эпоха 2108 потеря 169.3297\n",
      "эпоха 2109 потеря 171.9310\n",
      "эпоха 2110 потеря 169.3054\n",
      "эпоха 2111 потеря 171.9921\n",
      "эпоха 2112 потеря 169.3162\n",
      "эпоха 2113 потеря 171.8960\n",
      "эпоха 2114 потеря 169.3858\n",
      "эпоха 2115 потеря 172.0414\n",
      "эпоха 2116 потеря 169.4139\n",
      "эпоха 2117 потеря 172.1104\n",
      "эпоха 2118 потеря 169.4290\n",
      "эпоха 2119 потеря 171.8561\n",
      "эпоха 2120 потеря 169.3613\n",
      "эпоха 2121 потеря 172.0559\n",
      "эпоха 2122 потеря 169.4745\n",
      "эпоха 2123 потеря 172.1775\n",
      "эпоха 2124 потеря 169.4426\n",
      "эпоха 2125 потеря 172.1232\n",
      "эпоха 2126 потеря 169.4419\n",
      "эпоха 2127 потеря 172.1318\n",
      "эпоха 2128 потеря 169.5138\n",
      "эпоха 2129 потеря 172.0921\n",
      "эпоха 2130 потеря 169.3370\n",
      "эпоха 2131 потеря 171.9946\n",
      "эпоха 2132 потеря 169.3960\n",
      "эпоха 2133 потеря 171.9870\n",
      "эпоха 2134 потеря 169.2911\n",
      "эпоха 2135 потеря 171.8769\n",
      "эпоха 2136 потеря 169.1317\n",
      "эпоха 2137 потеря 171.6514\n",
      "эпоха 2138 потеря 169.1108\n",
      "эпоха 2139 потеря 171.6688\n",
      "эпоха 2140 потеря 169.2442\n",
      "эпоха 2141 потеря 171.8198\n",
      "эпоха 2142 потеря 169.1077\n",
      "эпоха 2143 потеря 171.6732\n",
      "эпоха 2144 потеря 169.0098\n",
      "эпоха 2145 потеря 171.5459\n",
      "эпоха 2146 потеря 169.0859\n",
      "эпоха 2147 потеря 171.6809\n",
      "эпоха 2148 потеря 169.1470\n",
      "эпоха 2149 потеря 171.7225\n",
      "эпоха 2150 потеря 169.1235\n",
      "эпоха 2151 потеря 171.7736\n",
      "эпоха 2152 потеря 169.2661\n",
      "эпоха 2153 потеря 171.8465\n",
      "эпоха 2154 потеря 169.1598\n",
      "эпоха 2155 потеря 171.7205\n",
      "эпоха 2156 потеря 169.0462\n",
      "эпоха 2157 потеря 171.6561\n",
      "эпоха 2158 потеря 169.2752\n",
      "эпоха 2159 потеря 171.8763\n",
      "эпоха 2160 потеря 169.1803\n",
      "эпоха 2161 потеря 171.7433\n",
      "эпоха 2162 потеря 169.1124\n",
      "эпоха 2163 потеря 171.6858\n",
      "эпоха 2164 потеря 169.0999\n",
      "эпоха 2165 потеря 171.6388\n",
      "эпоха 2166 потеря 169.2214\n",
      "эпоха 2167 потеря 171.8858\n",
      "эпоха 2168 потеря 169.3291\n",
      "эпоха 2169 потеря 171.9542\n",
      "эпоха 2170 потеря 169.2998\n",
      "эпоха 2171 потеря 171.9282\n",
      "эпоха 2172 потеря 169.2610\n",
      "эпоха 2173 потеря 171.8781\n",
      "эпоха 2174 потеря 169.1874\n",
      "эпоха 2175 потеря 171.8064\n",
      "эпоха 2176 потеря 169.1203\n",
      "эпоха 2177 потеря 171.7562\n",
      "эпоха 2178 потеря 169.4175\n",
      "эпоха 2179 потеря 172.0757\n",
      "эпоха 2180 потеря 169.2824\n",
      "эпоха 2181 потеря 171.9178\n",
      "эпоха 2182 потеря 169.2280\n",
      "эпоха 2183 потеря 171.8334\n",
      "эпоха 2184 потеря 169.2615\n",
      "эпоха 2185 потеря 171.9054\n",
      "эпоха 2186 потеря 169.4010\n",
      "эпоха 2187 потеря 172.0559\n",
      "эпоха 2188 потеря 169.2966\n",
      "эпоха 2189 потеря 171.9626\n",
      "эпоха 2190 потеря 169.3730\n",
      "эпоха 2191 потеря 171.8079\n",
      "эпоха 2192 потеря 169.1409\n",
      "эпоха 2193 потеря 171.7661\n",
      "эпоха 2194 потеря 169.3317\n",
      "эпоха 2195 потеря 172.0372\n",
      "эпоха 2196 потеря 169.4198\n",
      "эпоха 2197 потеря 172.0991\n",
      "эпоха 2198 потеря 169.4689\n",
      "эпоха 2199 потеря 172.1020\n",
      "эпоха 2200 потеря 169.3216\n",
      "эпоха 2201 потеря 172.0129\n",
      "эпоха 2202 потеря 169.3875\n",
      "эпоха 2203 потеря 172.0361\n",
      "эпоха 2204 потеря 169.3664\n",
      "эпоха 2205 потеря 172.0533\n",
      "эпоха 2206 потеря 169.4364\n",
      "эпоха 2207 потеря 172.1129\n",
      "эпоха 2208 потеря 169.4701\n",
      "эпоха 2209 потеря 172.1557\n",
      "эпоха 2210 потеря 169.3983\n",
      "эпоха 2211 потеря 172.0727\n",
      "эпоха 2212 потеря 169.4133\n",
      "эпоха 2213 потеря 171.7908\n",
      "эпоха 2214 потеря 169.1144\n",
      "эпоха 2215 потеря 171.7198\n",
      "эпоха 2216 потеря 169.3453\n",
      "эпоха 2217 потеря 172.0108\n",
      "эпоха 2218 потеря 169.3266\n",
      "эпоха 2219 потеря 171.9512\n",
      "эпоха 2220 потеря 169.1258\n",
      "эпоха 2221 потеря 171.7120\n",
      "эпоха 2222 потеря 169.1937\n",
      "эпоха 2223 потеря 171.7863\n",
      "эпоха 2224 потеря 169.0924\n",
      "эпоха 2225 потеря 171.6508\n",
      "эпоха 2226 потеря 169.1111\n",
      "эпоха 2227 потеря 171.6291\n",
      "эпоха 2228 потеря 168.9766\n",
      "эпоха 2229 потеря 171.5007\n",
      "эпоха 2230 потеря 168.9768\n",
      "эпоха 2231 потеря 171.5366\n",
      "эпоха 2232 потеря 168.9209\n",
      "эпоха 2233 потеря 171.4479\n",
      "эпоха 2234 потеря 168.9764\n",
      "эпоха 2235 потеря 171.5244\n",
      "эпоха 2236 потеря 169.0327\n",
      "эпоха 2237 потеря 171.6498\n",
      "эпоха 2238 потеря 169.1247\n",
      "эпоха 2239 потеря 171.7365\n",
      "эпоха 2240 потеря 169.0338\n",
      "эпоха 2241 потеря 171.6435\n",
      "эпоха 2242 потеря 169.1284\n",
      "эпоха 2243 потеря 171.7475\n",
      "эпоха 2244 потеря 169.1804\n",
      "эпоха 2245 потеря 171.7842\n",
      "эпоха 2246 потеря 169.2397\n",
      "эпоха 2247 потеря 171.8975\n",
      "эпоха 2248 потеря 169.3122\n",
      "эпоха 2249 потеря 171.8574\n",
      "эпоха 2250 потеря 169.2198\n",
      "эпоха 2251 потеря 171.8452\n",
      "эпоха 2252 потеря 169.1907\n",
      "эпоха 2253 потеря 171.9173\n",
      "эпоха 2254 потеря 169.4750\n",
      "эпоха 2255 потеря 172.1992\n",
      "эпоха 2256 потеря 169.4430\n",
      "эпоха 2257 потеря 172.2140\n",
      "эпоха 2258 потеря 169.3833\n",
      "эпоха 2259 потеря 172.0360\n",
      "эпоха 2260 потеря 169.2703\n",
      "эпоха 2261 потеря 171.7596\n",
      "эпоха 2262 потеря 169.3024\n",
      "эпоха 2263 потеря 171.9053\n",
      "эпоха 2264 потеря 169.2818\n",
      "эпоха 2265 потеря 171.9140\n",
      "эпоха 2266 потеря 169.1441\n",
      "эпоха 2267 потеря 171.8200\n",
      "эпоха 2268 потеря 169.2621\n",
      "эпоха 2269 потеря 171.9505\n",
      "эпоха 2270 потеря 169.2124\n",
      "эпоха 2271 потеря 171.8903\n",
      "эпоха 2272 потеря 169.3265\n",
      "эпоха 2273 потеря 172.0092\n",
      "эпоха 2274 потеря 169.3947\n",
      "эпоха 2275 потеря 172.1064\n",
      "эпоха 2276 потеря 169.4110\n",
      "эпоха 2277 потеря 172.1266\n",
      "эпоха 2278 потеря 169.2961\n",
      "эпоха 2279 потеря 171.9007\n",
      "эпоха 2280 потеря 169.3239\n",
      "эпоха 2281 потеря 172.0423\n",
      "эпоха 2282 потеря 169.3056\n",
      "эпоха 2283 потеря 172.0008\n",
      "эпоха 2284 потеря 169.4706\n",
      "эпоха 2285 потеря 172.1088\n",
      "эпоха 2286 потеря 169.3128\n",
      "эпоха 2287 потеря 171.7659\n",
      "эпоха 2288 потеря 169.0085\n",
      "эпоха 2289 потеря 171.4904\n",
      "эпоха 2290 потеря 169.0376\n",
      "эпоха 2291 потеря 171.6251\n",
      "эпоха 2292 потеря 169.0339\n",
      "эпоха 2293 потеря 171.5951\n",
      "эпоха 2294 потеря 169.1056\n",
      "эпоха 2295 потеря 171.6944\n",
      "эпоха 2296 потеря 168.9679\n",
      "эпоха 2297 потеря 171.5627\n",
      "эпоха 2298 потеря 169.0864\n",
      "эпоха 2299 потеря 171.7081\n",
      "эпоха 2300 потеря 169.0638\n",
      "эпоха 2301 потеря 171.7253\n",
      "эпоха 2302 потеря 169.1833\n",
      "эпоха 2303 потеря 171.8702\n",
      "эпоха 2304 потеря 169.2708\n",
      "эпоха 2305 потеря 171.9334\n",
      "эпоха 2306 потеря 169.3115\n",
      "эпоха 2307 потеря 171.9995\n",
      "эпоха 2308 потеря 169.2264\n",
      "эпоха 2309 потеря 171.7822\n",
      "эпоха 2310 потеря 169.2531\n",
      "эпоха 2311 потеря 171.9068\n",
      "эпоха 2312 потеря 169.2822\n",
      "эпоха 2313 потеря 171.9337\n",
      "эпоха 2314 потеря 169.4824\n",
      "эпоха 2315 потеря 172.1382\n",
      "эпоха 2316 потеря 169.3947\n",
      "эпоха 2317 потеря 172.0976\n",
      "эпоха 2318 потеря 169.2337\n",
      "эпоха 2319 потеря 171.8779\n",
      "эпоха 2320 потеря 169.2799\n",
      "эпоха 2321 потеря 171.9879\n",
      "эпоха 2322 потеря 169.2828\n",
      "эпоха 2323 потеря 171.9777\n",
      "эпоха 2324 потеря 169.4289\n",
      "эпоха 2325 потеря 172.1767\n",
      "эпоха 2326 потеря 169.3890\n",
      "эпоха 2327 потеря 171.9813\n",
      "эпоха 2328 потеря 169.1772\n",
      "эпоха 2329 потеря 171.7469\n",
      "эпоха 2330 потеря 169.1076\n",
      "эпоха 2331 потеря 171.7270\n",
      "эпоха 2332 потеря 169.1628\n",
      "эпоха 2333 потеря 171.7050\n",
      "эпоха 2334 потеря 169.1850\n",
      "эпоха 2335 потеря 171.8376\n",
      "эпоха 2336 потеря 169.0621\n",
      "эпоха 2337 потеря 171.4853\n",
      "эпоха 2338 потеря 168.9176\n",
      "эпоха 2339 потеря 171.4713\n",
      "эпоха 2340 потеря 169.0608\n",
      "эпоха 2341 потеря 171.5801\n",
      "эпоха 2342 потеря 168.9374\n",
      "эпоха 2343 потеря 171.4819\n",
      "эпоха 2344 потеря 169.0045\n",
      "эпоха 2345 потеря 171.6230\n",
      "эпоха 2346 потеря 169.0814\n",
      "эпоха 2347 потеря 171.6748\n",
      "эпоха 2348 потеря 168.9690\n",
      "эпоха 2349 потеря 171.5381\n",
      "эпоха 2350 потеря 168.9388\n",
      "эпоха 2351 потеря 171.4606\n",
      "эпоха 2352 потеря 168.9991\n",
      "эпоха 2353 потеря 171.5914\n",
      "эпоха 2354 потеря 168.9921\n",
      "эпоха 2355 потеря 171.5661\n",
      "эпоха 2356 потеря 169.0876\n",
      "эпоха 2357 потеря 171.7537\n",
      "эпоха 2358 потеря 169.0556\n",
      "эпоха 2359 потеря 171.6922\n",
      "эпоха 2360 потеря 169.0351\n",
      "эпоха 2361 потеря 171.7792\n",
      "эпоха 2362 потеря 169.3295\n",
      "эпоха 2363 потеря 171.9764\n",
      "эпоха 2364 потеря 169.2751\n",
      "эпоха 2365 потеря 171.9855\n",
      "эпоха 2366 потеря 169.1438\n",
      "эпоха 2367 потеря 171.5894\n",
      "эпоха 2368 потеря 169.1490\n",
      "эпоха 2369 потеря 171.7383\n",
      "эпоха 2370 потеря 169.0937\n",
      "эпоха 2371 потеря 171.7652\n",
      "эпоха 2372 потеря 169.1929\n",
      "эпоха 2373 потеря 171.9230\n",
      "эпоха 2374 потеря 169.4359\n",
      "эпоха 2375 потеря 172.1522\n",
      "эпоха 2376 потеря 169.4115\n",
      "эпоха 2377 потеря 172.1232\n",
      "эпоха 2378 потеря 169.1900\n",
      "эпоха 2379 потеря 171.8244\n",
      "эпоха 2380 потеря 169.2879\n",
      "эпоха 2381 потеря 171.9619\n",
      "эпоха 2382 потеря 169.1107\n",
      "эпоха 2383 потеря 171.6750\n",
      "эпоха 2384 потеря 169.1348\n",
      "эпоха 2385 потеря 171.7813\n",
      "эпоха 2386 потеря 169.1742\n",
      "эпоха 2387 потеря 171.8291\n",
      "эпоха 2388 потеря 169.1827\n",
      "эпоха 2389 потеря 171.7862\n",
      "эпоха 2390 потеря 168.9803\n",
      "эпоха 2391 потеря 171.4196\n",
      "эпоха 2392 потеря 168.8638\n",
      "эпоха 2393 потеря 171.4620\n",
      "эпоха 2394 потеря 169.0193\n",
      "эпоха 2395 потеря 171.6273\n",
      "эпоха 2396 потеря 169.1135\n",
      "эпоха 2397 потеря 171.7581\n",
      "эпоха 2398 потеря 168.9323\n",
      "эпоха 2399 потеря 171.5529\n",
      "эпоха 2400 потеря 169.0586\n",
      "эпоха 2401 потеря 171.6840\n",
      "эпоха 2402 потеря 168.9597\n",
      "эпоха 2403 потеря 171.4058\n",
      "эпоха 2404 потеря 168.8521\n",
      "эпоха 2405 потеря 171.4052\n",
      "эпоха 2406 потеря 168.8333\n",
      "эпоха 2407 потеря 171.4624\n",
      "эпоха 2408 потеря 169.1846\n",
      "эпоха 2409 потеря 171.8585\n",
      "эпоха 2410 потеря 169.0822\n",
      "эпоха 2411 потеря 171.7954\n",
      "эпоха 2412 потеря 169.1505\n",
      "эпоха 2413 потеря 171.8451\n",
      "эпоха 2414 потеря 169.1787\n",
      "эпоха 2415 потеря 171.7775\n",
      "эпоха 2416 потеря 169.1482\n",
      "эпоха 2417 потеря 171.8771\n",
      "эпоха 2418 потеря 169.0710\n",
      "эпоха 2419 потеря 171.6770\n",
      "эпоха 2420 потеря 169.0468\n",
      "эпоха 2421 потеря 171.7523\n",
      "эпоха 2422 потеря 169.1715\n",
      "эпоха 2423 потеря 171.7742\n",
      "эпоха 2424 потеря 169.0533\n",
      "эпоха 2425 потеря 171.7242\n",
      "эпоха 2426 потеря 168.9226\n",
      "эпоха 2427 потеря 171.4583\n",
      "эпоха 2428 потеря 168.9172\n",
      "эпоха 2429 потеря 171.5299\n",
      "эпоха 2430 потеря 169.0113\n",
      "эпоха 2431 потеря 171.6260\n",
      "эпоха 2432 потеря 168.8938\n",
      "эпоха 2433 потеря 171.5616\n",
      "эпоха 2434 потеря 169.0296\n",
      "эпоха 2435 потеря 171.5619\n",
      "эпоха 2436 потеря 168.8301\n",
      "эпоха 2437 потеря 171.4403\n",
      "эпоха 2438 потеря 168.8734\n",
      "эпоха 2439 потеря 171.4926\n",
      "эпоха 2440 потеря 168.8311\n",
      "эпоха 2441 потеря 171.5259\n",
      "эпоха 2442 потеря 169.0358\n",
      "эпоха 2443 потеря 171.6489\n",
      "эпоха 2444 потеря 169.0727\n",
      "эпоха 2445 потеря 171.7719\n",
      "эпоха 2446 потеря 168.9644\n",
      "эпоха 2447 потеря 171.5574\n",
      "эпоха 2448 потеря 168.9938\n",
      "эпоха 2449 потеря 171.6813\n",
      "эпоха 2450 потеря 168.9682\n",
      "эпоха 2451 потеря 171.5467\n",
      "эпоха 2452 потеря 168.9681\n",
      "эпоха 2453 потеря 171.6520\n",
      "эпоха 2454 потеря 169.0044\n",
      "эпоха 2455 потеря 171.6642\n",
      "эпоха 2456 потеря 169.0733\n",
      "эпоха 2457 потеря 171.7924\n",
      "эпоха 2458 потеря 169.0607\n",
      "эпоха 2459 потеря 171.6499\n",
      "эпоха 2460 потеря 168.9553\n",
      "эпоха 2461 потеря 171.6397\n",
      "эпоха 2462 потеря 169.0508\n",
      "эпоха 2463 потеря 171.7033\n",
      "эпоха 2464 потеря 169.0814\n",
      "эпоха 2465 потеря 171.7653\n",
      "эпоха 2466 потеря 168.9759\n",
      "эпоха 2467 потеря 171.4205\n",
      "эпоха 2468 потеря 168.8359\n",
      "эпоха 2469 потеря 171.4310\n",
      "эпоха 2470 потеря 168.9854\n",
      "эпоха 2471 потеря 171.6483\n",
      "эпоха 2472 потеря 168.9304\n",
      "эпоха 2473 потеря 171.5712\n",
      "эпоха 2474 потеря 168.9320\n",
      "эпоха 2475 потеря 171.6322\n",
      "эпоха 2476 потеря 169.1145\n",
      "эпоха 2477 потеря 171.8041\n",
      "эпоха 2478 потеря 169.0931\n",
      "эпоха 2479 потеря 171.7359\n",
      "эпоха 2480 потеря 168.9458\n",
      "эпоха 2481 потеря 171.5736\n",
      "эпоха 2482 потеря 168.9956\n",
      "эпоха 2483 потеря 171.7162\n",
      "эпоха 2484 потеря 169.0602\n",
      "эпоха 2485 потеря 171.7287\n",
      "эпоха 2486 потеря 169.1360\n",
      "эпоха 2487 потеря 171.8712\n",
      "эпоха 2488 потеря 169.1678\n",
      "эпоха 2489 потеря 171.7076\n",
      "эпоха 2490 потеря 169.0440\n",
      "эпоха 2491 потеря 171.7751\n",
      "эпоха 2492 потеря 169.0601\n",
      "эпоха 2493 потеря 171.7784\n",
      "эпоха 2494 потеря 169.2489\n",
      "эпоха 2495 потеря 171.9951\n",
      "эпоха 2496 потеря 169.1102\n",
      "эпоха 2497 потеря 171.7233\n",
      "эпоха 2498 потеря 168.9994\n",
      "эпоха 2499 потеря 171.6808\n",
      "эпоха 2500 потеря 169.1060\n",
      "эпоха 2501 потеря 171.7671\n",
      "эпоха 2502 потеря 169.0336\n",
      "эпоха 2503 потеря 171.7196\n",
      "эпоха 2504 потеря 169.0937\n",
      "эпоха 2505 потеря 171.7625\n",
      "эпоха 2506 потеря 168.9947\n",
      "эпоха 2507 потеря 171.6983\n",
      "эпоха 2508 потеря 169.1902\n",
      "эпоха 2509 потеря 171.8703\n",
      "эпоха 2510 потеря 169.1659\n",
      "эпоха 2511 потеря 171.8745\n",
      "эпоха 2512 потеря 169.0731\n",
      "эпоха 2513 потеря 171.5542\n",
      "эпоха 2514 потеря 168.9559\n",
      "эпоха 2515 потеря 171.5763\n",
      "эпоха 2516 потеря 168.9212\n",
      "эпоха 2517 потеря 171.4967\n",
      "эпоха 2518 потеря 168.7880\n",
      "эпоха 2519 потеря 171.3863\n",
      "эпоха 2520 потеря 169.0343\n",
      "эпоха 2521 потеря 171.6765\n",
      "эпоха 2522 потеря 168.8769\n",
      "эпоха 2523 потеря 171.4563\n",
      "эпоха 2524 потеря 168.7623\n",
      "эпоха 2525 потеря 171.3720\n",
      "эпоха 2526 потеря 168.7440\n",
      "эпоха 2527 потеря 171.3983\n",
      "эпоха 2528 потеря 168.8507\n",
      "эпоха 2529 потеря 171.4691\n",
      "эпоха 2530 потеря 168.8427\n",
      "эпоха 2531 потеря 171.4919\n",
      "эпоха 2532 потеря 168.8591\n",
      "эпоха 2533 потеря 171.5029\n",
      "эпоха 2534 потеря 169.0215\n",
      "эпоха 2535 потеря 171.7406\n",
      "эпоха 2536 потеря 168.9836\n",
      "эпоха 2537 потеря 171.6687\n",
      "эпоха 2538 потеря 168.9527\n",
      "эпоха 2539 потеря 171.6006\n",
      "эпоха 2540 потеря 168.9032\n",
      "эпоха 2541 потеря 171.5945\n",
      "эпоха 2542 потеря 169.0447\n",
      "эпоха 2543 потеря 171.7048\n",
      "эпоха 2544 потеря 168.9979\n",
      "эпоха 2545 потеря 171.6050\n",
      "эпоха 2546 потеря 168.8536\n",
      "эпоха 2547 потеря 171.5599\n",
      "эпоха 2548 потеря 169.0424\n",
      "эпоха 2549 потеря 171.6835\n",
      "эпоха 2550 потеря 168.8570\n",
      "эпоха 2551 потеря 171.4884\n",
      "эпоха 2552 потеря 168.8532\n",
      "эпоха 2553 потеря 171.4686\n",
      "эпоха 2554 потеря 168.7606\n",
      "эпоха 2555 потеря 171.3788\n",
      "эпоха 2556 потеря 169.0025\n",
      "эпоха 2557 потеря 171.6383\n",
      "эпоха 2558 потеря 168.8381\n",
      "эпоха 2559 потеря 171.4648\n",
      "эпоха 2560 потеря 168.8469\n",
      "эпоха 2561 потеря 171.5263\n",
      "эпоха 2562 потеря 168.9033\n",
      "эпоха 2563 потеря 171.5266\n",
      "эпоха 2564 потеря 168.7832\n",
      "эпоха 2565 потеря 171.5288\n",
      "эпоха 2566 потеря 168.8950\n",
      "эпоха 2567 потеря 171.6538\n",
      "эпоха 2568 потеря 169.0695\n",
      "эпоха 2569 потеря 171.8277\n",
      "эпоха 2570 потеря 169.2128\n",
      "эпоха 2571 потеря 171.9423\n",
      "эпоха 2572 потеря 169.1166\n",
      "эпоха 2573 потеря 171.6994\n",
      "эпоха 2574 потеря 169.0002\n",
      "эпоха 2575 потеря 171.8017\n",
      "эпоха 2576 потеря 169.2736\n",
      "эпоха 2577 потеря 172.0248\n",
      "эпоха 2578 потеря 169.2044\n",
      "эпоха 2579 потеря 171.9727\n",
      "эпоха 2580 потеря 169.2496\n",
      "эпоха 2581 потеря 172.0335\n",
      "эпоха 2582 потеря 169.3082\n",
      "эпоха 2583 потеря 172.0171\n",
      "эпоха 2584 потеря 169.0933\n",
      "эпоха 2585 потеря 171.7435\n",
      "эпоха 2586 потеря 169.0164\n",
      "эпоха 2587 потеря 171.6667\n",
      "эпоха 2588 потеря 168.9206\n",
      "эпоха 2589 потеря 171.5353\n",
      "эпоха 2590 потеря 168.9134\n",
      "эпоха 2591 потеря 171.5431\n",
      "эпоха 2592 потеря 168.9337\n",
      "эпоха 2593 потеря 171.5451\n",
      "эпоха 2594 потеря 168.7912\n",
      "эпоха 2595 потеря 171.4725\n",
      "эпоха 2596 потеря 168.9025\n",
      "эпоха 2597 потеря 171.5088\n",
      "эпоха 2598 потеря 168.7697\n",
      "эпоха 2599 потеря 171.4368\n",
      "эпоха 2600 потеря 168.7662\n",
      "эпоха 2601 потеря 171.4800\n",
      "эпоха 2602 потеря 168.9232\n",
      "эпоха 2603 потеря 171.6391\n",
      "эпоха 2604 потеря 169.0116\n",
      "эпоха 2605 потеря 171.6751\n",
      "эпоха 2606 потеря 168.8900\n",
      "эпоха 2607 потеря 171.5571\n",
      "эпоха 2608 потеря 168.8202\n",
      "эпоха 2609 потеря 171.5069\n",
      "эпоха 2610 потеря 168.9669\n",
      "эпоха 2611 потеря 171.6397\n",
      "эпоха 2612 потеря 168.8120\n",
      "эпоха 2613 потеря 171.2551\n",
      "эпоха 2614 потеря 168.6551\n",
      "эпоха 2615 потеря 171.2645\n",
      "эпоха 2616 потеря 168.7239\n",
      "эпоха 2617 потеря 171.3724\n",
      "эпоха 2618 потеря 168.8403\n",
      "эпоха 2619 потеря 171.4654\n",
      "эпоха 2620 потеря 168.7362\n",
      "эпоха 2621 потеря 171.4045\n",
      "эпоха 2622 потеря 168.6988\n",
      "эпоха 2623 потеря 171.3662\n",
      "эпоха 2624 потеря 168.8472\n",
      "эпоха 2625 потеря 171.5700\n",
      "эпоха 2626 потеря 168.8587\n",
      "эпоха 2627 потеря 171.5296\n",
      "эпоха 2628 потеря 168.9551\n",
      "эпоха 2629 потеря 171.7076\n",
      "эпоха 2630 потеря 168.9918\n",
      "эпоха 2631 потеря 171.7852\n",
      "эпоха 2632 потеря 169.1962\n",
      "эпоха 2633 потеря 171.9385\n",
      "эпоха 2634 потеря 169.1209\n",
      "эпоха 2635 потеря 171.8843\n",
      "эпоха 2636 потеря 169.1111\n",
      "эпоха 2637 потеря 171.8500\n",
      "эпоха 2638 потеря 169.2199\n",
      "эпоха 2639 потеря 172.0375\n",
      "эпоха 2640 потеря 169.2406\n",
      "эпоха 2641 потеря 171.9580\n",
      "эпоха 2642 потеря 169.0958\n",
      "эпоха 2643 потеря 171.7886\n",
      "эпоха 2644 потеря 169.0906\n",
      "эпоха 2645 потеря 171.7903\n",
      "эпоха 2646 потеря 169.0679\n",
      "эпоха 2647 потеря 171.7145\n",
      "эпоха 2648 потеря 168.7443\n",
      "эпоха 2649 потеря 171.3300\n",
      "эпоха 2650 потеря 168.7854\n",
      "эпоха 2651 потеря 171.4219\n",
      "эпоха 2652 потеря 168.8551\n",
      "эпоха 2653 потеря 171.4327\n",
      "эпоха 2654 потеря 168.6766\n",
      "эпоха 2655 потеря 171.2765\n",
      "эпоха 2656 потеря 168.7675\n",
      "эпоха 2657 потеря 171.3667\n",
      "эпоха 2658 потеря 168.6071\n",
      "эпоха 2659 потеря 171.1480\n",
      "эпоха 2660 потеря 168.5646\n",
      "эпоха 2661 потеря 171.1707\n",
      "эпоха 2662 потеря 168.5167\n",
      "эпоха 2663 потеря 171.0586\n",
      "эпоха 2664 потеря 168.5829\n",
      "эпоха 2665 потеря 171.1712\n",
      "эпоха 2666 потеря 168.6367\n",
      "эпоха 2667 потеря 171.2066\n",
      "эпоха 2668 потеря 168.5509\n",
      "эпоха 2669 потеря 171.1658\n",
      "эпоха 2670 потеря 168.5367\n",
      "эпоха 2671 потеря 171.1911\n",
      "эпоха 2672 потеря 168.7390\n",
      "эпоха 2673 потеря 171.3664\n",
      "эпоха 2674 потеря 168.7613\n",
      "эпоха 2675 потеря 171.4835\n",
      "эпоха 2676 потеря 168.8192\n",
      "эпоха 2677 потеря 171.3627\n",
      "эпоха 2678 потеря 168.9681\n",
      "эпоха 2679 потеря 171.6944\n",
      "эпоха 2680 потеря 169.0323\n",
      "эпоха 2681 потеря 171.8254\n",
      "эпоха 2682 потеря 169.0944\n",
      "эпоха 2683 потеря 171.8841\n",
      "эпоха 2684 потеря 169.1996\n",
      "эпоха 2685 потеря 172.1387\n",
      "эпоха 2686 потеря 169.2010\n",
      "эпоха 2687 потеря 171.9271\n",
      "эпоха 2688 потеря 169.2667\n",
      "эпоха 2689 потеря 172.0986\n",
      "эпоха 2690 потеря 169.2234\n",
      "эпоха 2691 потеря 171.8739\n",
      "эпоха 2692 потеря 169.0576\n",
      "эпоха 2693 потеря 171.7155\n",
      "эпоха 2694 потеря 168.8463\n",
      "эпоха 2695 потеря 171.5816\n",
      "эпоха 2696 потеря 169.0021\n",
      "эпоха 2697 потеря 171.6299\n",
      "эпоха 2698 потеря 168.8645\n",
      "эпоха 2699 потеря 171.5464\n",
      "эпоха 2700 потеря 168.8821\n",
      "эпоха 2701 потеря 171.5345\n",
      "эпоха 2702 потеря 168.8643\n",
      "эпоха 2703 потеря 171.5216\n",
      "эпоха 2704 потеря 168.8608\n",
      "эпоха 2705 потеря 171.5596\n",
      "эпоха 2706 потеря 168.8103\n",
      "эпоха 2707 потеря 171.4540\n",
      "эпоха 2708 потеря 168.7264\n",
      "эпоха 2709 потеря 171.4013\n",
      "эпоха 2710 потеря 168.7225\n",
      "эпоха 2711 потеря 171.4588\n",
      "эпоха 2712 потеря 169.0833\n",
      "эпоха 2713 потеря 171.8650\n",
      "эпоха 2714 потеря 169.0632\n",
      "эпоха 2715 потеря 171.8191\n",
      "эпоха 2716 потеря 168.9524\n",
      "эпоха 2717 потеря 171.6452\n",
      "эпоха 2718 потеря 168.9391\n",
      "эпоха 2719 потеря 171.7427\n",
      "эпоха 2720 потеря 168.9105\n",
      "эпоха 2721 потеря 171.5167\n",
      "эпоха 2722 потеря 168.8150\n",
      "эпоха 2723 потеря 171.5142\n",
      "эпоха 2724 потеря 168.7646\n",
      "эпоха 2725 потеря 171.4503\n",
      "эпоха 2726 потеря 168.9038\n",
      "эпоха 2727 потеря 171.5869\n",
      "эпоха 2728 потеря 168.8290\n",
      "эпоха 2729 потеря 171.5843\n",
      "эпоха 2730 потеря 168.9193\n",
      "эпоха 2731 потеря 171.6251\n",
      "эпоха 2732 потеря 168.9651\n",
      "эпоха 2733 потеря 171.6884\n",
      "эпоха 2734 потеря 168.7582\n",
      "эпоха 2735 потеря 171.3340\n",
      "эпоха 2736 потеря 168.7277\n",
      "эпоха 2737 потеря 171.4002\n",
      "эпоха 2738 потеря 168.7095\n",
      "эпоха 2739 потеря 171.4197\n",
      "эпоха 2740 потеря 168.8340\n",
      "эпоха 2741 потеря 171.5109\n",
      "эпоха 2742 потеря 168.7594\n",
      "эпоха 2743 потеря 171.4971\n",
      "эпоха 2744 потеря 168.6923\n",
      "эпоха 2745 потеря 171.2726\n",
      "эпоха 2746 потеря 168.6819\n",
      "эпоха 2747 потеря 171.3319\n",
      "эпоха 2748 потеря 168.7524\n",
      "эпоха 2749 потеря 171.4783\n",
      "эпоха 2750 потеря 168.7310\n",
      "эпоха 2751 потеря 171.4018\n",
      "эпоха 2752 потеря 168.7326\n",
      "эпоха 2753 потеря 171.4637\n",
      "эпоха 2754 потеря 168.8775\n",
      "эпоха 2755 потеря 171.6693\n",
      "эпоха 2756 потеря 168.7822\n",
      "эпоха 2757 потеря 171.4486\n",
      "эпоха 2758 потеря 168.8700\n",
      "эпоха 2759 потеря 171.6370\n",
      "эпоха 2760 потеря 168.9418\n",
      "эпоха 2761 потеря 171.5676\n",
      "эпоха 2762 потеря 168.8711\n",
      "эпоха 2763 потеря 171.5944\n",
      "эпоха 2764 потеря 168.6827\n",
      "эпоха 2765 потеря 171.1263\n",
      "эпоха 2766 потеря 168.5561\n",
      "эпоха 2767 потеря 171.2940\n",
      "эпоха 2768 потеря 168.7536\n",
      "эпоха 2769 потеря 171.3050\n",
      "эпоха 2770 потеря 168.6792\n",
      "эпоха 2771 потеря 171.3986\n",
      "эпоха 2772 потеря 168.6956\n",
      "эпоха 2773 потеря 171.2633\n",
      "эпоха 2774 потеря 168.6600\n",
      "эпоха 2775 потеря 171.2813\n",
      "эпоха 2776 потеря 168.5753\n",
      "эпоха 2777 потеря 171.2391\n",
      "эпоха 2778 потеря 168.5462\n",
      "эпоха 2779 потеря 171.2845\n",
      "эпоха 2780 потеря 168.4940\n",
      "эпоха 2781 потеря 171.1437\n",
      "эпоха 2782 потеря 168.7033\n",
      "эпоха 2783 потеря 171.4579\n",
      "эпоха 2784 потеря 168.6905\n",
      "эпоха 2785 потеря 171.3262\n",
      "эпоха 2786 потеря 168.5872\n",
      "эпоха 2787 потеря 171.2047\n",
      "эпоха 2788 потеря 168.6679\n",
      "эпоха 2789 потеря 171.4136\n",
      "эпоха 2790 потеря 168.6150\n",
      "эпоха 2791 потеря 171.2287\n",
      "эпоха 2792 потеря 168.6044\n",
      "эпоха 2793 потеря 171.3395\n",
      "эпоха 2794 потеря 168.5527\n",
      "эпоха 2795 потеря 171.2172\n",
      "эпоха 2796 потеря 168.7535\n",
      "эпоха 2797 потеря 171.3778\n",
      "эпоха 2798 потеря 168.5518\n",
      "эпоха 2799 потеря 171.1367\n",
      "эпоха 2800 потеря 168.4983\n",
      "эпоха 2801 потеря 171.1445\n",
      "эпоха 2802 потеря 168.3742\n",
      "эпоха 2803 потеря 170.9629\n",
      "эпоха 2804 потеря 168.4808\n",
      "эпоха 2805 потеря 171.1023\n",
      "эпоха 2806 потеря 168.4467\n",
      "эпоха 2807 потеря 171.1576\n",
      "эпоха 2808 потеря 168.5027\n",
      "эпоха 2809 потеря 171.0880\n",
      "эпоха 2810 потеря 168.5980\n",
      "эпоха 2811 потеря 171.3724\n",
      "эпоха 2812 потеря 168.6343\n",
      "эпоха 2813 потеря 171.3289\n",
      "эпоха 2814 потеря 168.5489\n",
      "эпоха 2815 потеря 171.2407\n",
      "эпоха 2816 потеря 168.6104\n",
      "эпоха 2817 потеря 171.2923\n",
      "эпоха 2818 потеря 168.5844\n",
      "эпоха 2819 потеря 171.2888\n",
      "эпоха 2820 потеря 168.5879\n",
      "эпоха 2821 потеря 171.2405\n",
      "эпоха 2822 потеря 168.5821\n",
      "эпоха 2823 потеря 171.2274\n",
      "эпоха 2824 потеря 168.5820\n",
      "эпоха 2825 потеря 171.1847\n",
      "эпоха 2826 потеря 168.4090\n",
      "эпоха 2827 потеря 171.0384\n",
      "эпоха 2828 потеря 168.2945\n",
      "эпоха 2829 потеря 170.9114\n",
      "эпоха 2830 потеря 168.3502\n",
      "эпоха 2831 потеря 170.9820\n",
      "эпоха 2832 потеря 168.4095\n",
      "эпоха 2833 потеря 171.0848\n",
      "эпоха 2834 потеря 168.3293\n",
      "эпоха 2835 потеря 170.9550\n",
      "эпоха 2836 потеря 168.4709\n",
      "эпоха 2837 потеря 171.0858\n",
      "эпоха 2838 потеря 168.3430\n",
      "эпоха 2839 потеря 171.0188\n",
      "эпоха 2840 потеря 168.3121\n",
      "эпоха 2841 потеря 170.9604\n",
      "эпоха 2842 потеря 168.3107\n",
      "эпоха 2843 потеря 171.0187\n",
      "эпоха 2844 потеря 168.6119\n",
      "эпоха 2845 потеря 171.3404\n",
      "эпоха 2846 потеря 168.5544\n",
      "эпоха 2847 потеря 171.2958\n",
      "эпоха 2848 потеря 168.6309\n",
      "эпоха 2849 потеря 171.4277\n",
      "эпоха 2850 потеря 168.8338\n",
      "эпоха 2851 потеря 171.6011\n",
      "эпоха 2852 потеря 168.7132\n",
      "эпоха 2853 потеря 171.5479\n",
      "эпоха 2854 потеря 168.8751\n",
      "эпоха 2855 потеря 171.8606\n",
      "эпоха 2856 потеря 169.1103\n",
      "эпоха 2857 потеря 172.0221\n",
      "эпоха 2858 потеря 169.3790\n",
      "эпоха 2859 потеря 172.3578\n",
      "эпоха 2860 потеря 169.2798\n",
      "эпоха 2861 потеря 172.1380\n",
      "эпоха 2862 потеря 169.0730\n",
      "эпоха 2863 потеря 171.9145\n",
      "эпоха 2864 потеря 169.1680\n",
      "эпоха 2865 потеря 172.0691\n",
      "эпоха 2866 потеря 169.1619\n",
      "эпоха 2867 потеря 171.9406\n",
      "эпоха 2868 потеря 169.1116\n",
      "эпоха 2869 потеря 171.8365\n",
      "эпоха 2870 потеря 168.9464\n",
      "эпоха 2871 потеря 171.7820\n",
      "эпоха 2872 потеря 168.8782\n",
      "эпоха 2873 потеря 171.6619\n",
      "эпоха 2874 потеря 169.0200\n",
      "эпоха 2875 потеря 171.7902\n",
      "эпоха 2876 потеря 168.8599\n",
      "эпоха 2877 потеря 171.5851\n",
      "эпоха 2878 потеря 168.6604\n",
      "эпоха 2879 потеря 171.3515\n",
      "эпоха 2880 потеря 168.7907\n",
      "эпоха 2881 потеря 171.4952\n",
      "эпоха 2882 потеря 168.6164\n",
      "эпоха 2883 потеря 171.2646\n",
      "эпоха 2884 потеря 168.5327\n",
      "эпоха 2885 потеря 171.1235\n",
      "эпоха 2886 потеря 168.3790\n",
      "эпоха 2887 потеря 171.0244\n",
      "эпоха 2888 потеря 168.3885\n",
      "эпоха 2889 потеря 170.9968\n",
      "эпоха 2890 потеря 168.3325\n",
      "эпоха 2891 потеря 170.9840\n",
      "эпоха 2892 потеря 168.2940\n",
      "эпоха 2893 потеря 170.8947\n",
      "эпоха 2894 потеря 168.3553\n",
      "эпоха 2895 потеря 170.9569\n",
      "эпоха 2896 потеря 168.1970\n",
      "эпоха 2897 потеря 170.7726\n",
      "эпоха 2898 потеря 168.1032\n",
      "эпоха 2899 потеря 170.6833\n",
      "эпоха 2900 потеря 168.1216\n",
      "эпоха 2901 потеря 170.6689\n",
      "эпоха 2902 потеря 168.0559\n",
      "эпоха 2903 потеря 170.5916\n",
      "эпоха 2904 потеря 168.0305\n",
      "эпоха 2905 потеря 170.5850\n",
      "эпоха 2906 потеря 167.9658\n",
      "эпоха 2907 потеря 170.5290\n",
      "эпоха 2908 потеря 168.0017\n",
      "эпоха 2909 потеря 170.5351\n",
      "эпоха 2910 потеря 167.9222\n",
      "эпоха 2911 потеря 170.4849\n",
      "эпоха 2912 потеря 167.8811\n",
      "эпоха 2913 потеря 170.4861\n",
      "эпоха 2914 потеря 168.0491\n",
      "эпоха 2915 потеря 170.6709\n",
      "эпоха 2916 потеря 168.1085\n",
      "эпоха 2917 потеря 170.7512\n",
      "эпоха 2918 потеря 168.1867\n",
      "эпоха 2919 потеря 170.9659\n",
      "эпоха 2920 потеря 168.4465\n",
      "эпоха 2921 потеря 171.2553\n",
      "эпоха 2922 потеря 168.5519\n",
      "эпоха 2923 потеря 171.4870\n",
      "эпоха 2924 потеря 168.7558\n",
      "эпоха 2925 потеря 171.7154\n",
      "эпоха 2926 потеря 168.8638\n",
      "эпоха 2927 потеря 171.8454\n",
      "эпоха 2928 потеря 169.2964\n",
      "эпоха 2929 потеря 172.2189\n",
      "эпоха 2930 потеря 169.2001\n",
      "эпоха 2931 потеря 172.1987\n",
      "эпоха 2932 потеря 169.1546\n",
      "эпоха 2933 потеря 172.1431\n",
      "эпоха 2934 потеря 169.3355\n",
      "эпоха 2935 потеря 172.2241\n",
      "эпоха 2936 потеря 169.1693\n",
      "эпоха 2937 потеря 172.0280\n",
      "эпоха 2938 потеря 169.0322\n",
      "эпоха 2939 потеря 171.8755\n",
      "эпоха 2940 потеря 169.1323\n",
      "эпоха 2941 потеря 171.9512\n",
      "эпоха 2942 потеря 169.1071\n",
      "эпоха 2943 потеря 171.9424\n",
      "эпоха 2944 потеря 168.9560\n",
      "эпоха 2945 потеря 171.7001\n",
      "эпоха 2946 потеря 168.8125\n",
      "эпоха 2947 потеря 171.5256\n",
      "эпоха 2948 потеря 168.6657\n",
      "эпоха 2949 потеря 171.4389\n",
      "эпоха 2950 потеря 168.7863\n",
      "эпоха 2951 потеря 171.5342\n",
      "эпоха 2952 потеря 168.7204\n",
      "эпоха 2953 потеря 171.4295\n",
      "эпоха 2954 потеря 168.5830\n",
      "эпоха 2955 потеря 171.3395\n",
      "эпоха 2956 потеря 168.5779\n",
      "эпоха 2957 потеря 171.2615\n",
      "эпоха 2958 потеря 168.5665\n",
      "эпоха 2959 потеря 171.2605\n",
      "эпоха 2960 потеря 168.4876\n",
      "эпоха 2961 потеря 171.1717\n",
      "эпоха 2962 потеря 168.3637\n",
      "эпоха 2963 потеря 171.0590\n",
      "эпоха 2964 потеря 168.5569\n",
      "эпоха 2965 потеря 171.2678\n",
      "эпоха 2966 потеря 168.4819\n",
      "эпоха 2967 потеря 171.1987\n",
      "эпоха 2968 потеря 168.3757\n",
      "эпоха 2969 потеря 171.0441\n",
      "эпоха 2970 потеря 168.4141\n",
      "эпоха 2971 потеря 171.2068\n",
      "эпоха 2972 потеря 168.5662\n",
      "эпоха 2973 потеря 171.3440\n",
      "эпоха 2974 потеря 168.5961\n",
      "эпоха 2975 потеря 171.3557\n",
      "эпоха 2976 потеря 168.5999\n",
      "эпоха 2977 потеря 171.3448\n",
      "эпоха 2978 потеря 168.5535\n",
      "эпоха 2979 потеря 171.2835\n",
      "эпоха 2980 потеря 168.5844\n",
      "эпоха 2981 потеря 171.3074\n",
      "эпоха 2982 потеря 168.4433\n",
      "эпоха 2983 потеря 171.1907\n",
      "эпоха 2984 потеря 168.4538\n",
      "эпоха 2985 потеря 171.2251\n",
      "эпоха 2986 потеря 168.5392\n",
      "эпоха 2987 потеря 171.2448\n",
      "эпоха 2988 потеря 168.5590\n",
      "эпоха 2989 потеря 171.3463\n",
      "эпоха 2990 потеря 168.5649\n",
      "эпоха 2991 потеря 171.3338\n",
      "эпоха 2992 потеря 168.5397\n",
      "эпоха 2993 потеря 171.3266\n",
      "эпоха 2994 потеря 168.7252\n",
      "эпоха 2995 потеря 171.5350\n",
      "эпоха 2996 потеря 168.6808\n",
      "эпоха 2997 потеря 171.4702\n",
      "эпоха 2998 потеря 168.6811\n",
      "эпоха 2999 потеря 171.4961\n",
      "эпоха 3000 потеря 168.7965\n",
      "эпоха 3001 потеря 171.7209\n",
      "эпоха 3002 потеря 168.9858\n",
      "эпоха 3003 потеря 171.7819\n",
      "эпоха 3004 потеря 168.8797\n",
      "эпоха 3005 потеря 171.7028\n",
      "эпоха 3006 потеря 168.6990\n",
      "эпоха 3007 потеря 171.4846\n",
      "эпоха 3008 потеря 168.8423\n",
      "эпоха 3009 потеря 171.6750\n",
      "эпоха 3010 потеря 168.7759\n",
      "эпоха 3011 потеря 171.5763\n",
      "эпоха 3012 потеря 168.7608\n",
      "эпоха 3013 потеря 171.4816\n",
      "эпоха 3014 потеря 168.6637\n",
      "эпоха 3015 потеря 171.4252\n",
      "эпоха 3016 потеря 168.6664\n",
      "эпоха 3017 потеря 171.4167\n",
      "эпоха 3018 потеря 168.6425\n",
      "эпоха 3019 потеря 171.3719\n",
      "эпоха 3020 потеря 168.4986\n",
      "эпоха 3021 потеря 171.2063\n",
      "эпоха 3022 потеря 168.4865\n",
      "эпоха 3023 потеря 171.1908\n",
      "эпоха 3024 потеря 168.5078\n",
      "эпоха 3025 потеря 171.2019\n",
      "эпоха 3026 потеря 168.4194\n",
      "эпоха 3027 потеря 171.1515\n",
      "эпоха 3028 потеря 168.4347\n",
      "эпоха 3029 потеря 171.1270\n",
      "эпоха 3030 потеря 168.4618\n",
      "эпоха 3031 потеря 171.1452\n",
      "эпоха 3032 потеря 168.3513\n",
      "эпоха 3033 потеря 171.1045\n",
      "эпоха 3034 потеря 168.3882\n",
      "эпоха 3035 потеря 171.0766\n",
      "эпоха 3036 потеря 168.3512\n",
      "эпоха 3037 потеря 171.1391\n",
      "эпоха 3038 потеря 168.6189\n",
      "эпоха 3039 потеря 171.3564\n",
      "эпоха 3040 потеря 168.5165\n",
      "эпоха 3041 потеря 171.2641\n",
      "эпоха 3042 потеря 168.4339\n",
      "эпоха 3043 потеря 171.2069\n",
      "эпоха 3044 потеря 168.5942\n",
      "эпоха 3045 потеря 171.3858\n",
      "эпоха 3046 потеря 168.5556\n",
      "эпоха 3047 потеря 171.3428\n",
      "эпоха 3048 потеря 168.6177\n",
      "эпоха 3049 потеря 171.4454\n",
      "эпоха 3050 потеря 168.7356\n",
      "эпоха 3051 потеря 171.5732\n",
      "эпоха 3052 потеря 168.8648\n",
      "эпоха 3053 потеря 171.7348\n",
      "эпоха 3054 потеря 168.8262\n",
      "эпоха 3055 потеря 171.5936\n",
      "эпоха 3056 потеря 168.7459\n",
      "эпоха 3057 потеря 171.5944\n",
      "эпоха 3058 потеря 168.7753\n",
      "эпоха 3059 потеря 171.5357\n",
      "эпоха 3060 потеря 168.7679\n",
      "эпоха 3061 потеря 171.5620\n",
      "эпоха 3062 потеря 168.7573\n",
      "эпоха 3063 потеря 171.6212\n",
      "эпоха 3064 потеря 168.7458\n",
      "эпоха 3065 потеря 171.4494\n",
      "эпоха 3066 потеря 168.6840\n",
      "эпоха 3067 потеря 171.4085\n",
      "эпоха 3068 потеря 168.5000\n",
      "эпоха 3069 потеря 171.2108\n",
      "эпоха 3070 потеря 168.4488\n",
      "эпоха 3071 потеря 171.1330\n",
      "эпоха 3072 потеря 168.3481\n",
      "эпоха 3073 потеря 171.0341\n",
      "эпоха 3074 потеря 168.5376\n",
      "эпоха 3075 потеря 171.1784\n",
      "эпоха 3076 потеря 168.3361\n",
      "эпоха 3077 потеря 170.9800\n",
      "эпоха 3078 потеря 168.1004\n",
      "эпоха 3079 потеря 170.7270\n",
      "эпоха 3080 потеря 168.2062\n",
      "эпоха 3081 потеря 170.7972\n",
      "эпоха 3082 потеря 168.0382\n",
      "эпоха 3083 потеря 170.7207\n",
      "эпоха 3084 потеря 168.0576\n",
      "эпоха 3085 потеря 170.7069\n",
      "эпоха 3086 потеря 168.0811\n",
      "эпоха 3087 потеря 170.7826\n",
      "эпоха 3088 потеря 168.2127\n",
      "эпоха 3089 потеря 170.9129\n",
      "эпоха 3090 потеря 168.2374\n",
      "эпоха 3091 потеря 170.9987\n",
      "эпоха 3092 потеря 168.2318\n",
      "эпоха 3093 потеря 170.9488\n",
      "эпоха 3094 потеря 168.3210\n",
      "эпоха 3095 потеря 171.0947\n",
      "эпоха 3096 потеря 168.4278\n",
      "эпоха 3097 потеря 171.1874\n",
      "эпоха 3098 потеря 168.5599\n",
      "эпоха 3099 потеря 171.3313\n",
      "эпоха 3100 потеря 168.5554\n",
      "эпоха 3101 потеря 171.4100\n",
      "эпоха 3102 потеря 168.7290\n",
      "эпоха 3103 потеря 171.5868\n",
      "эпоха 3104 потеря 168.6915\n",
      "эпоха 3105 потеря 171.5097\n",
      "эпоха 3106 потеря 168.6566\n",
      "эпоха 3107 потеря 171.5071\n",
      "эпоха 3108 потеря 168.7635\n",
      "эпоха 3109 потеря 171.5682\n",
      "эпоха 3110 потеря 168.8098\n",
      "эпоха 3111 потеря 171.5780\n",
      "эпоха 3112 потеря 168.6655\n",
      "эпоха 3113 потеря 171.4440\n",
      "эпоха 3114 потеря 168.6124\n",
      "эпоха 3115 потеря 171.4750\n",
      "эпоха 3116 потеря 168.7570\n",
      "эпоха 3117 потеря 171.4613\n",
      "эпоха 3118 потеря 168.5900\n",
      "эпоха 3119 потеря 171.3741\n",
      "эпоха 3120 потеря 168.5197\n",
      "эпоха 3121 потеря 171.2896\n",
      "эпоха 3122 потеря 168.6312\n",
      "эпоха 3123 потеря 171.4287\n",
      "эпоха 3124 потеря 168.6990\n",
      "эпоха 3125 потеря 171.4773\n",
      "эпоха 3126 потеря 168.6482\n",
      "эпоха 3127 потеря 171.4451\n",
      "эпоха 3128 потеря 168.5553\n",
      "эпоха 3129 потеря 171.2905\n",
      "эпоха 3130 потеря 168.4859\n",
      "эпоха 3131 потеря 171.3235\n",
      "эпоха 3132 потеря 168.6124\n",
      "эпоха 3133 потеря 171.2797\n",
      "эпоха 3134 потеря 168.4978\n",
      "эпоха 3135 потеря 171.1503\n",
      "эпоха 3136 потеря 168.4001\n",
      "эпоха 3137 потеря 171.1047\n",
      "эпоха 3138 потеря 168.3138\n",
      "эпоха 3139 потеря 171.0174\n",
      "эпоха 3140 потеря 168.3996\n",
      "эпоха 3141 потеря 171.0934\n",
      "эпоха 3142 потеря 168.2836\n",
      "эпоха 3143 потеря 170.9021\n",
      "эпоха 3144 потеря 168.0550\n",
      "эпоха 3145 потеря 170.6864\n",
      "эпоха 3146 потеря 168.1988\n",
      "эпоха 3147 потеря 170.8903\n",
      "эпоха 3148 потеря 168.1311\n",
      "эпоха 3149 потеря 170.8214\n",
      "эпоха 3150 потеря 168.1267\n",
      "эпоха 3151 потеря 170.8274\n",
      "эпоха 3152 потеря 168.1109\n",
      "эпоха 3153 потеря 170.8248\n",
      "эпоха 3154 потеря 168.2673\n",
      "эпоха 3155 потеря 171.0582\n",
      "эпоха 3156 потеря 168.3026\n",
      "эпоха 3157 потеря 171.0521\n",
      "эпоха 3158 потеря 168.3674\n",
      "эпоха 3159 потеря 171.1669\n",
      "эпоха 3160 потеря 168.4072\n",
      "эпоха 3161 потеря 171.1988\n",
      "эпоха 3162 потеря 168.5775\n",
      "эпоха 3163 потеря 171.3780\n",
      "эпоха 3164 потеря 168.5729\n",
      "эпоха 3165 потеря 171.3853\n",
      "эпоха 3166 потеря 168.5168\n",
      "эпоха 3167 потеря 171.2452\n",
      "эпоха 3168 потеря 168.5142\n",
      "эпоха 3169 потеря 171.3272\n",
      "эпоха 3170 потеря 168.7096\n",
      "эпоха 3171 потеря 171.5236\n",
      "эпоха 3172 потеря 168.6124\n",
      "эпоха 3173 потеря 171.3751\n",
      "эпоха 3174 потеря 168.5026\n",
      "эпоха 3175 потеря 171.2732\n",
      "эпоха 3176 потеря 168.6090\n",
      "эпоха 3177 потеря 171.4450\n",
      "эпоха 3178 потеря 168.5602\n",
      "эпоха 3179 потеря 171.2647\n",
      "эпоха 3180 потеря 168.3895\n",
      "эпоха 3181 потеря 171.1611\n",
      "эпоха 3182 потеря 168.4084\n",
      "эпоха 3183 потеря 171.1295\n",
      "эпоха 3184 потеря 168.4787\n",
      "эпоха 3185 потеря 171.2483\n",
      "эпоха 3186 потеря 168.3932\n",
      "эпоха 3187 потеря 171.1379\n",
      "эпоха 3188 потеря 168.3812\n",
      "эпоха 3189 потеря 171.1379\n",
      "эпоха 3190 потеря 168.4327\n",
      "эпоха 3191 потеря 171.1978\n",
      "эпоха 3192 потеря 168.4396\n",
      "эпоха 3193 потеря 171.1689\n",
      "эпоха 3194 потеря 168.4258\n",
      "эпоха 3195 потеря 171.1873\n",
      "эпоха 3196 потеря 168.4644\n",
      "эпоха 3197 потеря 171.2789\n",
      "эпоха 3198 потеря 168.5901\n",
      "эпоха 3199 потеря 171.2875\n",
      "эпоха 3200 потеря 168.4432\n",
      "эпоха 3201 потеря 171.2171\n",
      "эпоха 3202 потеря 168.4020\n",
      "эпоха 3203 потеря 171.1095\n",
      "эпоха 3204 потеря 168.3195\n",
      "эпоха 3205 потеря 171.1321\n",
      "эпоха 3206 потеря 168.4220\n",
      "эпоха 3207 потеря 171.1208\n",
      "эпоха 3208 потеря 168.4841\n",
      "эпоха 3209 потеря 171.2492\n",
      "эпоха 3210 потеря 168.3988\n",
      "эпоха 3211 потеря 171.1429\n",
      "эпоха 3212 потеря 168.3909\n",
      "эпоха 3213 потеря 171.1699\n",
      "эпоха 3214 потеря 168.3941\n",
      "эпоха 3215 потеря 171.0974\n",
      "эпоха 3216 потеря 168.3216\n",
      "эпоха 3217 потеря 171.0434\n",
      "эпоха 3218 потеря 168.3568\n",
      "эпоха 3219 потеря 171.1040\n",
      "эпоха 3220 потеря 168.3468\n",
      "эпоха 3221 потеря 171.1018\n",
      "эпоха 3222 потеря 168.4483\n",
      "эпоха 3223 потеря 171.2266\n",
      "эпоха 3224 потеря 168.4393\n",
      "эпоха 3225 потеря 171.2776\n",
      "эпоха 3226 потеря 168.4741\n",
      "эпоха 3227 потеря 171.2091\n",
      "эпоха 3228 потеря 168.4309\n",
      "эпоха 3229 потеря 171.2856\n",
      "эпоха 3230 потеря 168.5447\n",
      "эпоха 3231 потеря 171.3102\n",
      "эпоха 3232 потеря 168.5691\n",
      "эпоха 3233 потеря 171.3600\n",
      "эпоха 3234 потеря 168.4830\n",
      "эпоха 3235 потеря 171.2412\n",
      "эпоха 3236 потеря 168.4136\n",
      "эпоха 3237 потеря 171.2940\n",
      "эпоха 3238 потеря 168.5747\n",
      "эпоха 3239 потеря 171.2979\n",
      "эпоха 3240 потеря 168.4680\n",
      "эпоха 3241 потеря 171.2307\n",
      "эпоха 3242 потеря 168.3784\n",
      "эпоха 3243 потеря 171.1427\n",
      "эпоха 3244 потеря 168.3688\n",
      "эпоха 3245 потеря 171.1779\n",
      "эпоха 3246 потеря 168.4701\n",
      "эпоха 3247 потеря 171.2068\n",
      "эпоха 3248 потеря 168.3707\n",
      "эпоха 3249 потеря 171.1208\n",
      "эпоха 3250 потеря 168.3708\n",
      "эпоха 3251 потеря 171.1661\n",
      "эпоха 3252 потеря 168.4200\n",
      "эпоха 3253 потеря 171.2444\n",
      "эпоха 3254 потеря 168.6055\n",
      "эпоха 3255 потеря 171.3885\n",
      "эпоха 3256 потеря 168.4809\n",
      "эпоха 3257 потеря 171.2496\n",
      "эпоха 3258 потеря 168.4051\n",
      "эпоха 3259 потеря 171.1985\n",
      "эпоха 3260 потеря 168.4213\n",
      "эпоха 3261 потеря 171.2505\n",
      "эпоха 3262 потеря 168.4966\n",
      "эпоха 3263 потеря 171.2773\n",
      "эпоха 3264 потеря 168.4552\n",
      "эпоха 3265 потеря 171.2459\n",
      "эпоха 3266 потеря 168.4984\n",
      "эпоха 3267 потеря 171.2931\n",
      "эпоха 3268 потеря 168.5782\n",
      "эпоха 3269 потеря 171.3749\n",
      "эпоха 3270 потеря 168.4261\n",
      "эпоха 3271 потеря 171.1881\n",
      "эпоха 3272 потеря 168.4035\n",
      "эпоха 3273 потеря 171.1621\n",
      "эпоха 3274 потеря 168.2925\n",
      "эпоха 3275 потеря 171.0521\n",
      "эпоха 3276 потеря 168.2918\n",
      "эпоха 3277 потеря 171.0589\n",
      "эпоха 3278 потеря 168.3593\n",
      "эпоха 3279 потеря 171.0497\n",
      "эпоха 3280 потеря 168.3091\n",
      "эпоха 3281 потеря 171.0220\n",
      "эпоха 3282 потеря 168.1659\n",
      "эпоха 3283 потеря 170.9669\n",
      "эпоха 3284 потеря 168.2234\n",
      "эпоха 3285 потеря 171.0853\n",
      "эпоха 3286 потеря 168.4015\n",
      "эпоха 3287 потеря 171.1976\n",
      "эпоха 3288 потеря 168.4011\n",
      "эпоха 3289 потеря 171.2839\n",
      "эпоха 3290 потеря 168.4691\n",
      "эпоха 3291 потеря 171.2401\n",
      "эпоха 3292 потеря 168.6108\n",
      "эпоха 3293 потеря 171.4633\n",
      "эпоха 3294 потеря 168.5250\n",
      "эпоха 3295 потеря 171.3280\n",
      "эпоха 3296 потеря 168.4312\n",
      "эпоха 3297 потеря 171.1809\n",
      "эпоха 3298 потеря 168.4377\n",
      "эпоха 3299 потеря 171.3213\n",
      "эпоха 3300 потеря 168.4610\n",
      "эпоха 3301 потеря 171.3133\n",
      "эпоха 3302 потеря 168.5580\n",
      "эпоха 3303 потеря 171.3599\n",
      "эпоха 3304 потеря 168.5457\n",
      "эпоха 3305 потеря 171.3316\n",
      "эпоха 3306 потеря 168.3989\n",
      "эпоха 3307 потеря 171.2301\n",
      "эпоха 3308 потеря 168.4640\n",
      "эпоха 3309 потеря 171.1627\n",
      "эпоха 3310 потеря 168.3519\n",
      "эпоха 3311 потеря 171.1733\n",
      "эпоха 3312 потеря 168.2956\n",
      "эпоха 3313 потеря 171.0193\n",
      "эпоха 3314 потеря 168.2783\n",
      "эпоха 3315 потеря 171.0884\n",
      "эпоха 3316 потеря 168.3774\n",
      "эпоха 3317 потеря 171.0579\n",
      "эпоха 3318 потеря 168.2956\n",
      "эпоха 3319 потеря 171.0696\n",
      "эпоха 3320 потеря 168.2758\n",
      "эпоха 3321 потеря 170.9943\n",
      "эпоха 3322 потеря 168.2080\n",
      "эпоха 3323 потеря 170.9067\n",
      "эпоха 3324 потеря 168.1553\n",
      "эпоха 3325 потеря 170.9602\n",
      "эпоха 3326 потеря 168.3299\n",
      "эпоха 3327 потеря 171.0674\n",
      "эпоха 3328 потеря 168.2393\n",
      "эпоха 3329 потеря 171.0153\n",
      "эпоха 3330 потеря 168.3407\n",
      "эпоха 3331 потеря 171.0798\n",
      "эпоха 3332 потеря 168.2354\n",
      "эпоха 3333 потеря 171.0187\n",
      "эпоха 3334 потеря 168.3750\n",
      "эпоха 3335 потеря 171.2057\n",
      "эпоха 3336 потеря 168.2952\n",
      "эпоха 3337 потеря 171.0209\n",
      "эпоха 3338 потеря 168.2556\n",
      "эпоха 3339 потеря 171.1038\n",
      "эпоха 3340 потеря 168.4236\n",
      "эпоха 3341 потеря 171.1337\n",
      "эпоха 3342 потеря 168.3816\n",
      "эпоха 3343 потеря 171.2081\n",
      "эпоха 3344 потеря 168.3010\n",
      "эпоха 3345 потеря 171.0597\n",
      "эпоха 3346 потеря 168.2852\n",
      "эпоха 3347 потеря 171.0462\n",
      "эпоха 3348 потеря 168.2793\n",
      "эпоха 3349 потеря 171.1004\n",
      "эпоха 3350 потеря 168.4267\n",
      "эпоха 3351 потеря 171.2007\n",
      "эпоха 3352 потеря 168.3988\n",
      "эпоха 3353 потеря 171.2256\n",
      "эпоха 3354 потеря 168.4150\n",
      "эпоха 3355 потеря 171.1508\n",
      "эпоха 3356 потеря 168.3387\n",
      "эпоха 3357 потеря 171.1391\n",
      "эпоха 3358 потеря 168.3817\n",
      "эпоха 3359 потеря 171.0161\n",
      "эпоха 3360 потеря 168.2186\n",
      "эпоха 3361 потеря 170.9447\n",
      "эпоха 3362 потеря 168.0509\n",
      "эпоха 3363 потеря 170.6821\n",
      "эпоха 3364 потеря 167.9835\n",
      "эпоха 3365 потеря 170.6912\n",
      "эпоха 3366 потеря 168.1537\n",
      "эпоха 3367 потеря 170.8431\n",
      "эпоха 3368 потеря 168.1299\n",
      "эпоха 3369 потеря 170.9016\n",
      "эпоха 3370 потеря 168.1951\n",
      "эпоха 3371 потеря 171.0200\n",
      "эпоха 3372 потеря 168.2941\n",
      "эпоха 3373 потеря 170.9864\n",
      "эпоха 3374 потеря 168.2364\n",
      "эпоха 3375 потеря 171.0512\n",
      "эпоха 3376 потеря 168.2504\n",
      "эпоха 3377 потеря 170.9794\n",
      "эпоха 3378 потеря 168.3093\n",
      "эпоха 3379 потеря 171.1432\n",
      "эпоха 3380 потеря 168.4007\n",
      "эпоха 3381 потеря 171.0971\n",
      "эпоха 3382 потеря 168.3462\n",
      "эпоха 3383 потеря 171.1712\n",
      "эпоха 3384 потеря 168.2552\n",
      "эпоха 3385 потеря 170.8702\n",
      "эпоха 3386 потеря 168.1755\n",
      "эпоха 3387 потеря 170.9771\n",
      "эпоха 3388 потеря 168.2489\n",
      "эпоха 3389 потеря 170.9649\n",
      "эпоха 3390 потеря 168.2486\n",
      "эпоха 3391 потеря 170.9917\n",
      "эпоха 3392 потеря 168.1784\n",
      "эпоха 3393 потеря 170.9618\n",
      "эпоха 3394 потеря 168.2474\n",
      "эпоха 3395 потеря 170.9741\n",
      "эпоха 3396 потеря 168.3569\n",
      "эпоха 3397 потеря 171.1940\n",
      "эпоха 3398 потеря 168.2748\n",
      "эпоха 3399 потеря 171.0200\n",
      "эпоха 3400 потеря 168.2386\n",
      "эпоха 3401 потеря 170.9988\n",
      "эпоха 3402 потеря 168.2591\n",
      "эпоха 3403 потеря 171.0414\n",
      "эпоха 3404 потеря 168.4211\n",
      "эпоха 3405 потеря 171.2091\n",
      "эпоха 3406 потеря 168.2765\n",
      "эпоха 3407 потеря 171.0127\n",
      "эпоха 3408 потеря 168.2842\n",
      "эпоха 3409 потеря 171.1320\n",
      "эпоха 3410 потеря 168.1793\n",
      "эпоха 3411 потеря 170.8214\n",
      "эпоха 3412 потеря 168.1690\n",
      "эпоха 3413 потеря 170.9499\n",
      "эпоха 3414 потеря 168.1869\n",
      "эпоха 3415 потеря 170.7932\n",
      "эпоха 3416 потеря 168.0006\n",
      "эпоха 3417 потеря 170.7979\n",
      "эпоха 3418 потеря 168.1117\n",
      "эпоха 3419 потеря 170.8232\n",
      "эпоха 3420 потеря 168.0793\n",
      "эпоха 3421 потеря 170.8209\n",
      "эпоха 3422 потеря 168.0228\n",
      "эпоха 3423 потеря 170.7674\n",
      "эпоха 3424 потеря 168.1001\n",
      "эпоха 3425 потеря 170.9160\n",
      "эпоха 3426 потеря 168.2951\n",
      "эпоха 3427 потеря 171.0325\n",
      "эпоха 3428 потеря 168.2754\n",
      "эпоха 3429 потеря 171.0910\n",
      "эпоха 3430 потеря 168.1860\n",
      "эпоха 3431 потеря 170.8757\n",
      "эпоха 3432 потеря 168.1153\n",
      "эпоха 3433 потеря 170.9778\n",
      "эпоха 3434 потеря 168.2108\n",
      "эпоха 3435 потеря 170.9171\n",
      "эпоха 3436 потеря 168.1683\n",
      "эпоха 3437 потеря 170.9993\n",
      "эпоха 3438 потеря 168.2285\n",
      "эпоха 3439 потеря 170.8854\n",
      "эпоха 3440 потеря 168.0891\n",
      "эпоха 3441 потеря 170.9000\n",
      "эпоха 3442 потеря 168.1989\n",
      "эпоха 3443 потеря 170.9299\n",
      "эпоха 3444 потеря 168.0988\n",
      "эпоха 3445 потеря 170.9118\n",
      "эпоха 3446 потеря 168.0680\n",
      "эпоха 3447 потеря 170.7722\n",
      "эпоха 3448 потеря 168.2055\n",
      "эпоха 3449 потеря 171.0006\n",
      "эпоха 3450 потеря 168.0907\n",
      "эпоха 3451 потеря 170.7432\n",
      "эпоха 3452 потеря 168.0423\n",
      "эпоха 3453 потеря 170.8691\n",
      "эпоха 3454 потеря 168.0235\n",
      "эпоха 3455 потеря 170.7783\n",
      "эпоха 3456 потеря 168.2165\n",
      "эпоха 3457 потеря 171.0729\n",
      "эпоха 3458 потеря 168.2061\n",
      "эпоха 3459 потеря 170.9237\n",
      "эпоха 3460 потеря 168.1761\n",
      "эпоха 3461 потеря 170.9913\n",
      "эпоха 3462 потеря 168.1147\n",
      "эпоха 3463 потеря 170.8362\n",
      "эпоха 3464 потеря 168.2161\n",
      "эпоха 3465 потеря 170.9927\n",
      "эпоха 3466 потеря 168.1560\n",
      "эпоха 3467 потеря 170.8889\n",
      "эпоха 3468 потеря 168.0720\n",
      "эпоха 3469 потеря 170.8110\n",
      "эпоха 3470 потеря 168.0362\n",
      "эпоха 3471 потеря 170.7714\n",
      "эпоха 3472 потеря 168.0219\n",
      "эпоха 3473 потеря 170.7695\n",
      "эпоха 3474 потеря 167.9304\n",
      "эпоха 3475 потеря 170.6385\n",
      "эпоха 3476 потеря 167.9217\n",
      "эпоха 3477 потеря 170.7547\n",
      "эпоха 3478 потеря 168.1598\n",
      "эпоха 3479 потеря 170.8610\n",
      "эпоха 3480 потеря 168.1077\n",
      "эпоха 3481 потеря 170.9674\n",
      "эпоха 3482 потеря 168.1289\n",
      "эпоха 3483 потеря 170.8548\n",
      "эпоха 3484 потеря 168.0435\n",
      "эпоха 3485 потеря 170.8505\n",
      "эпоха 3486 потеря 167.9877\n",
      "эпоха 3487 потеря 170.7469\n",
      "эпоха 3488 потеря 168.1174\n",
      "эпоха 3489 потеря 170.9524\n",
      "эпоха 3490 потеря 168.1373\n",
      "эпоха 3491 потеря 170.9074\n",
      "эпоха 3492 потеря 168.1660\n",
      "эпоха 3493 потеря 171.0215\n",
      "эпоха 3494 потеря 168.2129\n",
      "эпоха 3495 потеря 170.9910\n",
      "эпоха 3496 потеря 168.1136\n",
      "эпоха 3497 потеря 170.9327\n",
      "эпоха 3498 потеря 168.0628\n",
      "эпоха 3499 потеря 170.7881\n",
      "эпоха 3500 потеря 168.0494\n",
      "эпоха 3501 потеря 170.8506\n",
      "эпоха 3502 потеря 168.0808\n",
      "эпоха 3503 потеря 170.9141\n",
      "эпоха 3504 потеря 168.1598\n",
      "эпоха 3505 потеря 170.9882\n",
      "эпоха 3506 потеря 168.2201\n",
      "эпоха 3507 потеря 171.0345\n",
      "эпоха 3508 потеря 168.1674\n",
      "эпоха 3509 потеря 170.9787\n",
      "эпоха 3510 потеря 168.0802\n",
      "эпоха 3511 потеря 170.8545\n",
      "эпоха 3512 потеря 168.0351\n",
      "эпоха 3513 потеря 170.8438\n",
      "эпоха 3514 потеря 167.9997\n",
      "эпоха 3515 потеря 170.7743\n",
      "эпоха 3516 потеря 168.0296\n",
      "эпоха 3517 потеря 170.7739\n",
      "эпоха 3518 потеря 168.0663\n",
      "эпоха 3519 потеря 170.8495\n",
      "эпоха 3520 потеря 168.0010\n",
      "эпоха 3521 потеря 170.7834\n",
      "эпоха 3522 потеря 168.0398\n",
      "эпоха 3523 потеря 170.7659\n",
      "эпоха 3524 потеря 167.9589\n",
      "эпоха 3525 потеря 170.7834\n",
      "эпоха 3526 потеря 167.9440\n",
      "эпоха 3527 потеря 170.6712\n",
      "эпоха 3528 потеря 167.9219\n",
      "эпоха 3529 потеря 170.8156\n",
      "эпоха 3530 потеря 168.1276\n",
      "эпоха 3531 потеря 170.9267\n",
      "эпоха 3532 потеря 168.1750\n",
      "эпоха 3533 потеря 170.9656\n",
      "эпоха 3534 потеря 168.1033\n",
      "эпоха 3535 потеря 170.8854\n",
      "эпоха 3536 потеря 168.0387\n",
      "эпоха 3537 потеря 170.8354\n",
      "эпоха 3538 потеря 168.0618\n",
      "эпоха 3539 потеря 170.8607\n",
      "эпоха 3540 потеря 168.0396\n",
      "эпоха 3541 потеря 170.8136\n",
      "эпоха 3542 потеря 168.0005\n",
      "эпоха 3543 потеря 170.7717\n",
      "эпоха 3544 потеря 168.0669\n",
      "эпоха 3545 потеря 170.8667\n",
      "эпоха 3546 потеря 168.1618\n",
      "эпоха 3547 потеря 170.8980\n",
      "эпоха 3548 потеря 168.0111\n",
      "эпоха 3549 потеря 170.7168\n",
      "эпоха 3550 потеря 167.8908\n",
      "эпоха 3551 потеря 170.6565\n",
      "эпоха 3552 потеря 167.9394\n",
      "эпоха 3553 потеря 170.6627\n",
      "эпоха 3554 потеря 167.9018\n",
      "эпоха 3555 потеря 170.6169\n",
      "эпоха 3556 потеря 167.9003\n",
      "эпоха 3557 потеря 170.7012\n",
      "эпоха 3558 потеря 168.0095\n",
      "эпоха 3559 потеря 170.7388\n",
      "эпоха 3560 потеря 168.0686\n",
      "эпоха 3561 потеря 170.8108\n",
      "эпоха 3562 потеря 167.9425\n",
      "эпоха 3563 потеря 170.6693\n",
      "эпоха 3564 потеря 167.8918\n",
      "эпоха 3565 потеря 170.6058\n",
      "эпоха 3566 потеря 167.8860\n",
      "эпоха 3567 потеря 170.6822\n",
      "эпоха 3568 потеря 167.9816\n",
      "эпоха 3569 потеря 170.7192\n",
      "эпоха 3570 потеря 167.9889\n",
      "эпоха 3571 потеря 170.7133\n",
      "эпоха 3572 потеря 167.9372\n",
      "эпоха 3573 потеря 170.7253\n",
      "эпоха 3574 потеря 168.0712\n",
      "эпоха 3575 потеря 170.8697\n",
      "эпоха 3576 потеря 167.9978\n",
      "эпоха 3577 потеря 170.7631\n",
      "эпоха 3578 потеря 167.9556\n",
      "эпоха 3579 потеря 170.8221\n",
      "эпоха 3580 потеря 168.0376\n",
      "эпоха 3581 потеря 170.8822\n",
      "эпоха 3582 потеря 168.1542\n",
      "эпоха 3583 потеря 170.9311\n",
      "эпоха 3584 потеря 168.1227\n",
      "эпоха 3585 потеря 170.9332\n",
      "эпоха 3586 потеря 168.1055\n",
      "эпоха 3587 потеря 170.8783\n",
      "эпоха 3588 потеря 168.1097\n",
      "эпоха 3589 потеря 170.9774\n",
      "эпоха 3590 потеря 168.1586\n",
      "эпоха 3591 потеря 170.9808\n",
      "эпоха 3592 потеря 168.0804\n",
      "эпоха 3593 потеря 170.9590\n",
      "эпоха 3594 потеря 168.1372\n",
      "эпоха 3595 потеря 170.9513\n",
      "эпоха 3596 потеря 168.1151\n",
      "эпоха 3597 потеря 170.9178\n",
      "эпоха 3598 потеря 168.1489\n",
      "эпоха 3599 потеря 170.9902\n",
      "эпоха 3600 потеря 168.2124\n",
      "эпоха 3601 потеря 171.0330\n",
      "эпоха 3602 потеря 168.1797\n",
      "эпоха 3603 потеря 170.9244\n",
      "эпоха 3604 потеря 168.0191\n",
      "эпоха 3605 потеря 170.7805\n",
      "эпоха 3606 потеря 168.0426\n",
      "эпоха 3607 потеря 170.8677\n",
      "эпоха 3608 потеря 168.0195\n",
      "эпоха 3609 потеря 170.7881\n",
      "эпоха 3610 потеря 168.0024\n",
      "эпоха 3611 потеря 170.7604\n",
      "эпоха 3612 потеря 167.9676\n",
      "эпоха 3613 потеря 170.8208\n",
      "эпоха 3614 потеря 168.1705\n",
      "эпоха 3615 потеря 170.9248\n",
      "эпоха 3616 потеря 168.0614\n",
      "эпоха 3617 потеря 170.7972\n",
      "эпоха 3618 потеря 167.9261\n",
      "эпоха 3619 потеря 170.6437\n",
      "эпоха 3620 потеря 167.8511\n",
      "эпоха 3621 потеря 170.6522\n",
      "эпоха 3622 потеря 167.9283\n",
      "эпоха 3623 потеря 170.7006\n",
      "эпоха 3624 потеря 167.9843\n",
      "эпоха 3625 потеря 170.7467\n",
      "эпоха 3626 потеря 167.9848\n",
      "эпоха 3627 потеря 170.8283\n",
      "эпоха 3628 потеря 168.0596\n",
      "эпоха 3629 потеря 170.8583\n",
      "эпоха 3630 потеря 168.1385\n",
      "эпоха 3631 потеря 170.9642\n",
      "эпоха 3632 потеря 168.0937\n",
      "эпоха 3633 потеря 170.9095\n",
      "эпоха 3634 потеря 168.0000\n",
      "эпоха 3635 потеря 170.8221\n",
      "эпоха 3636 потеря 168.0347\n",
      "эпоха 3637 потеря 170.9047\n",
      "эпоха 3638 потеря 168.1035\n",
      "эпоха 3639 потеря 170.9815\n",
      "эпоха 3640 потеря 168.2047\n",
      "эпоха 3641 потеря 171.0867\n",
      "эпоха 3642 потеря 168.3354\n",
      "эпоха 3643 потеря 171.2100\n",
      "эпоха 3644 потеря 168.2700\n",
      "эпоха 3645 потеря 171.1393\n",
      "эпоха 3646 потеря 168.2313\n",
      "эпоха 3647 потеря 171.1168\n",
      "эпоха 3648 потеря 168.3804\n",
      "эпоха 3649 потеря 171.2277\n",
      "эпоха 3650 потеря 168.2897\n",
      "эпоха 3651 потеря 171.1385\n",
      "эпоха 3652 потеря 168.2499\n",
      "эпоха 3653 потеря 171.1133\n",
      "эпоха 3654 потеря 168.1709\n",
      "эпоха 3655 потеря 171.0225\n",
      "эпоха 3656 потеря 168.2532\n",
      "эпоха 3657 потеря 171.1030\n",
      "эпоха 3658 потеря 168.2793\n",
      "эпоха 3659 потеря 171.1124\n",
      "эпоха 3660 потеря 168.1894\n",
      "эпоха 3661 потеря 170.9773\n",
      "эпоха 3662 потеря 168.1349\n",
      "эпоха 3663 потеря 170.9840\n",
      "эпоха 3664 потеря 168.0882\n",
      "эпоха 3665 потеря 170.9334\n",
      "эпоха 3666 потеря 168.1883\n",
      "эпоха 3667 потеря 170.9912\n",
      "эпоха 3668 потеря 168.1234\n",
      "эпоха 3669 потеря 170.8808\n",
      "эпоха 3670 потеря 168.0125\n",
      "эпоха 3671 потеря 170.8002\n",
      "эпоха 3672 потеря 167.9422\n",
      "эпоха 3673 потеря 170.6871\n",
      "эпоха 3674 потеря 167.9552\n",
      "эпоха 3675 потеря 170.7522\n",
      "эпоха 3676 потеря 167.9756\n",
      "эпоха 3677 потеря 170.7405\n",
      "эпоха 3678 потеря 167.8774\n",
      "эпоха 3679 потеря 170.5909\n",
      "эпоха 3680 потеря 167.8275\n",
      "эпоха 3681 потеря 170.5968\n",
      "эпоха 3682 потеря 167.8813\n",
      "эпоха 3683 потеря 170.6294\n",
      "эпоха 3684 потеря 167.9497\n",
      "эпоха 3685 потеря 170.7334\n",
      "эпоха 3686 потеря 167.8877\n",
      "эпоха 3687 потеря 170.6485\n",
      "эпоха 3688 потеря 167.7973\n",
      "эпоха 3689 потеря 170.5836\n",
      "эпоха 3690 потеря 167.7812\n",
      "эпоха 3691 потеря 170.4917\n",
      "эпоха 3692 потеря 167.8008\n",
      "эпоха 3693 потеря 170.6173\n",
      "эпоха 3694 потеря 167.7672\n",
      "эпоха 3695 потеря 170.5337\n",
      "эпоха 3696 потеря 167.8278\n",
      "эпоха 3697 потеря 170.6200\n",
      "эпоха 3698 потеря 167.8621\n",
      "эпоха 3699 потеря 170.6598\n",
      "эпоха 3700 потеря 167.9394\n",
      "эпоха 3701 потеря 170.7201\n",
      "эпоха 3702 потеря 167.9069\n",
      "эпоха 3703 потеря 170.7063\n",
      "эпоха 3704 потеря 167.8930\n",
      "эпоха 3705 потеря 170.6754\n",
      "эпоха 3706 потеря 167.7798\n",
      "эпоха 3707 потеря 170.5719\n",
      "эпоха 3708 потеря 167.8087\n",
      "эпоха 3709 потеря 170.6465\n",
      "эпоха 3710 потеря 168.0201\n",
      "эпоха 3711 потеря 170.9098\n",
      "эпоха 3712 потеря 168.0407\n",
      "эпоха 3713 потеря 170.9286\n",
      "эпоха 3714 потеря 168.0743\n",
      "эпоха 3715 потеря 170.9511\n",
      "эпоха 3716 потеря 168.0509\n",
      "эпоха 3717 потеря 170.9129\n",
      "эпоха 3718 потеря 168.1629\n",
      "эпоха 3719 потеря 171.0010\n",
      "эпоха 3720 потеря 167.9952\n",
      "эпоха 3721 потеря 170.8488\n",
      "эпоха 3722 потеря 168.0162\n",
      "эпоха 3723 потеря 170.8763\n",
      "эпоха 3724 потеря 167.9934\n",
      "эпоха 3725 потеря 170.8790\n",
      "эпоха 3726 потеря 168.2034\n",
      "эпоха 3727 потеря 171.0665\n",
      "эпоха 3728 потеря 168.1732\n",
      "эпоха 3729 потеря 170.9676\n",
      "эпоха 3730 потеря 168.0273\n",
      "эпоха 3731 потеря 170.8826\n",
      "эпоха 3732 потеря 167.9834\n",
      "эпоха 3733 потеря 170.8391\n",
      "эпоха 3734 потеря 167.9931\n",
      "эпоха 3735 потеря 170.8740\n",
      "эпоха 3736 потеря 168.1243\n",
      "эпоха 3737 потеря 170.9846\n",
      "эпоха 3738 потеря 168.0703\n",
      "эпоха 3739 потеря 170.9192\n",
      "эпоха 3740 потеря 168.0504\n",
      "эпоха 3741 потеря 170.8163\n",
      "эпоха 3742 потеря 168.0569\n",
      "эпоха 3743 потеря 170.8756\n",
      "эпоха 3744 потеря 168.0754\n",
      "эпоха 3745 потеря 170.8532\n",
      "эпоха 3746 потеря 167.9497\n",
      "эпоха 3747 потеря 170.7132\n",
      "эпоха 3748 потеря 167.7908\n",
      "эпоха 3749 потеря 170.5789\n",
      "эпоха 3750 потеря 167.7715\n",
      "эпоха 3751 потеря 170.5034\n",
      "эпоха 3752 потеря 167.8425\n",
      "эпоха 3753 потеря 170.5824\n",
      "эпоха 3754 потеря 167.7547\n",
      "эпоха 3755 потеря 170.4690\n",
      "эпоха 3756 потеря 167.7024\n",
      "эпоха 3757 потеря 170.4512\n",
      "эпоха 3758 потеря 167.7353\n",
      "эпоха 3759 потеря 170.4730\n",
      "эпоха 3760 потеря 167.7309\n",
      "эпоха 3761 потеря 170.5546\n",
      "эпоха 3762 потеря 167.8010\n",
      "эпоха 3763 потеря 170.5880\n",
      "эпоха 3764 потеря 167.7653\n",
      "эпоха 3765 потеря 170.5461\n",
      "эпоха 3766 потеря 167.7686\n",
      "эпоха 3767 потеря 170.5888\n",
      "эпоха 3768 потеря 167.7468\n",
      "эпоха 3769 потеря 170.4943\n",
      "эпоха 3770 потеря 167.8338\n",
      "эпоха 3771 потеря 170.6041\n",
      "эпоха 3772 потеря 167.7756\n",
      "эпоха 3773 потеря 170.5384\n",
      "эпоха 3774 потеря 167.8707\n",
      "эпоха 3775 потеря 170.6545\n",
      "эпоха 3776 потеря 167.8170\n",
      "эпоха 3777 потеря 170.6486\n",
      "эпоха 3778 потеря 167.9606\n",
      "эпоха 3779 потеря 170.7804\n",
      "эпоха 3780 потеря 167.8524\n",
      "эпоха 3781 потеря 170.6541\n",
      "эпоха 3782 потеря 167.8158\n",
      "эпоха 3783 потеря 170.6325\n",
      "эпоха 3784 потеря 167.8425\n",
      "эпоха 3785 потеря 170.6621\n",
      "эпоха 3786 потеря 167.8995\n",
      "эпоха 3787 потеря 170.7021\n",
      "эпоха 3788 потеря 167.8789\n",
      "эпоха 3789 потеря 170.6517\n",
      "эпоха 3790 потеря 167.8664\n",
      "эпоха 3791 потеря 170.6164\n",
      "эпоха 3792 потеря 167.8254\n",
      "эпоха 3793 потеря 170.5666\n",
      "эпоха 3794 потеря 167.7343\n",
      "эпоха 3795 потеря 170.4913\n",
      "эпоха 3796 потеря 167.7800\n",
      "эпоха 3797 потеря 170.5738\n",
      "эпоха 3798 потеря 167.7911\n",
      "эпоха 3799 потеря 170.5477\n",
      "эпоха 3800 потеря 167.7671\n",
      "эпоха 3801 потеря 170.5444\n",
      "эпоха 3802 потеря 167.7177\n",
      "эпоха 3803 потеря 170.4627\n",
      "эпоха 3804 потеря 167.7895\n",
      "эпоха 3805 потеря 170.5325\n",
      "эпоха 3806 потеря 167.7904\n",
      "эпоха 3807 потеря 170.4841\n",
      "эпоха 3808 потеря 167.6814\n",
      "эпоха 3809 потеря 170.4463\n",
      "эпоха 3810 потеря 167.6526\n",
      "эпоха 3811 потеря 170.4132\n",
      "эпоха 3812 потеря 167.7687\n",
      "эпоха 3813 потеря 170.5266\n",
      "эпоха 3814 потеря 167.7326\n",
      "эпоха 3815 потеря 170.4608\n",
      "эпоха 3816 потеря 167.6847\n",
      "эпоха 3817 потеря 170.4517\n",
      "эпоха 3818 потеря 167.6812\n",
      "эпоха 3819 потеря 170.4513\n",
      "эпоха 3820 потеря 167.6502\n",
      "эпоха 3821 потеря 170.4302\n",
      "эпоха 3822 потеря 167.8521\n",
      "эпоха 3823 потеря 170.6664\n",
      "эпоха 3824 потеря 167.8441\n",
      "эпоха 3825 потеря 170.6474\n",
      "эпоха 3826 потеря 167.7623\n",
      "эпоха 3827 потеря 170.6047\n",
      "эпоха 3828 потеря 167.8167\n",
      "эпоха 3829 потеря 170.6696\n",
      "эпоха 3830 потеря 167.9638\n",
      "эпоха 3831 потеря 170.8303\n",
      "эпоха 3832 потеря 167.9605\n",
      "эпоха 3833 потеря 170.8322\n",
      "эпоха 3834 потеря 167.9758\n",
      "эпоха 3835 потеря 170.8886\n",
      "эпоха 3836 потеря 168.0356\n",
      "эпоха 3837 потеря 170.9917\n",
      "эпоха 3838 потеря 168.2337\n",
      "эпоха 3839 потеря 171.2160\n",
      "эпоха 3840 потеря 168.3503\n",
      "эпоха 3841 потеря 171.2945\n",
      "эпоха 3842 потеря 168.3797\n",
      "эпоха 3843 потеря 171.3341\n",
      "эпоха 3844 потеря 168.3656\n",
      "эпоха 3845 потеря 171.3600\n",
      "эпоха 3846 потеря 168.4644\n",
      "эпоха 3847 потеря 171.4401\n",
      "эпоха 3848 потеря 168.4140\n",
      "эпоха 3849 потеря 171.4098\n",
      "эпоха 3850 потеря 168.4418\n",
      "эпоха 3851 потеря 171.3586\n",
      "эпоха 3852 потеря 168.3450\n",
      "эпоха 3853 потеря 171.2928\n",
      "эпоха 3854 потеря 168.2804\n",
      "эпоха 3855 потеря 171.2178\n",
      "эпоха 3856 потеря 168.3369\n",
      "эпоха 3857 потеря 171.2311\n",
      "эпоха 3858 потеря 168.3382\n",
      "эпоха 3859 потеря 171.1724\n",
      "эпоха 3860 потеря 168.1908\n",
      "эпоха 3861 потеря 170.9791\n",
      "эпоха 3862 потеря 167.9590\n",
      "эпоха 3863 потеря 170.7210\n",
      "эпоха 3864 потеря 167.8207\n",
      "эпоха 3865 потеря 170.5375\n",
      "эпоха 3866 потеря 167.7224\n",
      "эпоха 3867 потеря 170.3731\n",
      "эпоха 3868 потеря 167.5283\n",
      "эпоха 3869 потеря 170.1901\n",
      "эпоха 3870 потеря 167.3875\n",
      "эпоха 3871 потеря 170.0005\n",
      "эпоха 3872 потеря 167.2548\n",
      "эпоха 3873 потеря 170.0063\n",
      "эпоха 3874 потеря 167.3358\n",
      "эпоха 3875 потеря 169.9748\n",
      "эпоха 3876 потеря 167.2248\n",
      "эпоха 3877 потеря 169.8919\n",
      "эпоха 3878 потеря 167.1925\n",
      "эпоха 3879 потеря 169.9257\n",
      "эпоха 3880 потеря 167.2236\n",
      "эпоха 3881 потеря 169.9279\n",
      "эпоха 3882 потеря 167.4163\n",
      "эпоха 3883 потеря 170.2642\n",
      "эпоха 3884 потеря 167.4725\n",
      "эпоха 3885 потеря 170.2375\n",
      "эпоха 3886 потеря 167.5570\n",
      "эпоха 3887 потеря 170.3909\n",
      "эпоха 3888 потеря 167.6202\n",
      "эпоха 3889 потеря 170.4078\n",
      "эпоха 3890 потеря 167.7503\n",
      "эпоха 3891 потеря 170.6061\n",
      "эпоха 3892 потеря 167.8684\n",
      "эпоха 3893 потеря 170.6964\n",
      "эпоха 3894 потеря 167.8799\n",
      "эпоха 3895 потеря 170.6831\n",
      "эпоха 3896 потеря 167.8586\n",
      "эпоха 3897 потеря 170.6660\n",
      "эпоха 3898 потеря 167.9012\n",
      "эпоха 3899 потеря 170.7078\n",
      "эпоха 3900 потеря 167.8745\n",
      "эпоха 3901 потеря 170.7366\n",
      "эпоха 3902 потеря 167.8878\n",
      "эпоха 3903 потеря 170.7107\n",
      "эпоха 3904 потеря 167.9115\n",
      "эпоха 3905 потеря 170.7986\n",
      "эпоха 3906 потеря 168.0816\n",
      "эпоха 3907 потеря 170.9447\n",
      "эпоха 3908 потеря 168.0695\n",
      "эпоха 3909 потеря 170.8994\n",
      "эпоха 3910 потеря 168.1207\n",
      "эпоха 3911 потеря 171.0241\n",
      "эпоха 3912 потеря 168.0925\n",
      "эпоха 3913 потеря 171.0238\n",
      "эпоха 3914 потеря 168.1845\n",
      "эпоха 3915 потеря 171.1469\n",
      "эпоха 3916 потеря 168.3392\n",
      "эпоха 3917 потеря 171.2500\n",
      "эпоха 3918 потеря 168.3204\n",
      "эпоха 3919 потеря 171.2153\n",
      "эпоха 3920 потеря 168.3019\n",
      "эпоха 3921 потеря 171.2127\n",
      "эпоха 3922 потеря 168.2148\n",
      "эпоха 3923 потеря 171.1129\n",
      "эпоха 3924 потеря 168.1930\n",
      "эпоха 3925 потеря 171.0801\n",
      "эпоха 3926 потеря 168.2626\n",
      "эпоха 3927 потеря 171.0913\n",
      "эпоха 3928 потеря 168.1256\n",
      "эпоха 3929 потеря 170.8771\n",
      "эпоха 3930 потеря 168.0812\n",
      "эпоха 3931 потеря 170.7927\n",
      "эпоха 3932 потеря 167.8002\n",
      "эпоха 3933 потеря 170.4944\n",
      "эпоха 3934 потеря 167.6447\n",
      "эпоха 3935 потеря 170.2584\n",
      "эпоха 3936 потеря 167.5642\n",
      "эпоха 3937 потеря 170.2416\n",
      "эпоха 3938 потеря 167.4590\n",
      "эпоха 3939 потеря 170.0940\n",
      "эпоха 3940 потеря 167.3708\n",
      "эпоха 3941 потеря 169.9638\n",
      "эпоха 3942 потеря 167.2630\n",
      "эпоха 3943 потеря 169.9779\n",
      "эпоха 3944 потеря 167.3062\n",
      "эпоха 3945 потеря 170.0144\n",
      "эпоха 3946 потеря 167.4692\n",
      "эпоха 3947 потеря 170.1937\n",
      "эпоха 3948 потеря 167.5600\n",
      "эпоха 3949 потеря 170.3170\n",
      "эпоха 3950 потеря 167.5488\n",
      "эпоха 3951 потеря 170.3105\n",
      "эпоха 3952 потеря 167.5404\n",
      "эпоха 3953 потеря 170.3432\n",
      "эпоха 3954 потеря 167.6544\n",
      "эпоха 3955 потеря 170.4289\n",
      "эпоха 3956 потеря 167.6778\n",
      "эпоха 3957 потеря 170.4567\n",
      "эпоха 3958 потеря 167.6752\n",
      "эпоха 3959 потеря 170.4279\n",
      "эпоха 3960 потеря 167.6275\n",
      "эпоха 3961 потеря 170.4798\n",
      "эпоха 3962 потеря 167.8239\n",
      "эпоха 3963 потеря 170.5901\n",
      "эпоха 3964 потеря 167.6969\n",
      "эпоха 3965 потеря 170.5237\n",
      "эпоха 3966 потеря 167.8340\n",
      "эпоха 3967 потеря 170.6466\n",
      "эпоха 3968 потеря 167.8462\n",
      "эпоха 3969 потеря 170.6295\n",
      "эпоха 3970 потеря 167.9260\n",
      "эпоха 3971 потеря 170.6426\n",
      "эпоха 3972 потеря 167.7666\n",
      "эпоха 3973 потеря 170.6161\n",
      "эпоха 3974 потеря 167.6939\n",
      "эпоха 3975 потеря 170.4802\n",
      "эпоха 3976 потеря 167.6873\n",
      "эпоха 3977 потеря 170.4512\n",
      "эпоха 3978 потеря 167.6547\n",
      "эпоха 3979 потеря 170.4383\n",
      "эпоха 3980 потеря 167.7282\n",
      "эпоха 3981 потеря 170.4803\n",
      "эпоха 3982 потеря 167.7521\n",
      "эпоха 3983 потеря 170.4835\n",
      "эпоха 3984 потеря 167.7239\n",
      "эпоха 3985 потеря 170.3626\n",
      "эпоха 3986 потеря 167.6071\n",
      "эпоха 3987 потеря 170.3240\n",
      "эпоха 3988 потеря 167.5571\n",
      "эпоха 3989 потеря 170.3026\n",
      "эпоха 3990 потеря 167.5097\n",
      "эпоха 3991 потеря 170.2579\n",
      "эпоха 3992 потеря 167.4760\n",
      "эпоха 3993 потеря 170.1415\n",
      "эпоха 3994 потеря 167.3765\n",
      "эпоха 3995 потеря 170.0942\n",
      "эпоха 3996 потеря 167.5219\n",
      "эпоха 3997 потеря 170.1804\n",
      "эпоха 3998 потеря 167.4298\n",
      "эпоха 3999 потеря 170.1783\n"
     ]
    }
   ],
   "source": [
    "net.fit(X_reg_train, y_reg_train, 4000)"
   ]
  },
  {
   "cell_type": "code",
   "execution_count": 457,
   "id": "73f177d8",
   "metadata": {},
   "outputs": [],
   "source": [
    "y_test_predict = net.predict(X_reg_test)"
   ]
  },
  {
   "cell_type": "code",
   "execution_count": 458,
   "id": "66823665",
   "metadata": {},
   "outputs": [],
   "source": [
    "y_test_predict = pd.Series(y_test_predict.flatten())"
   ]
  },
  {
   "cell_type": "code",
   "execution_count": 459,
   "id": "5f947b3f",
   "metadata": {},
   "outputs": [
    {
     "data": {
      "text/plain": [
       "0       16.519737\n",
       "1       10.084286\n",
       "2       24.182792\n",
       "3       19.426123\n",
       "4       31.585883\n",
       "          ...    \n",
       "1243    53.743506\n",
       "1244    19.905134\n",
       "1245    14.585155\n",
       "1246    17.217654\n",
       "1247    26.179235\n",
       "Length: 1248, dtype: float64"
      ]
     },
     "execution_count": 459,
     "metadata": {},
     "output_type": "execute_result"
    }
   ],
   "source": [
    "y_test_predict"
   ]
  },
  {
   "cell_type": "code",
   "execution_count": 460,
   "id": "10365fbb",
   "metadata": {},
   "outputs": [],
   "source": [
    "y_reg_test = y_reg_test.reset_index(drop=True)"
   ]
  },
  {
   "cell_type": "code",
   "execution_count": 461,
   "id": "60fe81d1",
   "metadata": {},
   "outputs": [
    {
     "name": "stdout",
     "output_type": "stream",
     "text": [
      "               Метрики качества\n",
      "MAE                     8.05137\n",
      "MSE                   228.10024\n",
      "RMSE                   15.10299\n",
      "MAPE                    0.41486\n",
      "Adjusted_rand           0.00056\n",
      "R^2                     0.66049\n"
     ]
    }
   ],
   "source": [
    "print_error(y_reg_test, y_test_predict)"
   ]
  },
  {
   "cell_type": "markdown",
   "id": "a5c705b1",
   "metadata": {},
   "source": [
    "#### Задача классификации"
   ]
  },
  {
   "cell_type": "code",
   "execution_count": 21,
   "id": "2446f36d",
   "metadata": {},
   "outputs": [],
   "source": [
    "layers_class = [\n",
    "    Affine([1, 20]),\n",
    "    ReLU(),\n",
    "    Affine([20, 1]),\n",
    "    Sigmoid()\n",
    "]\n",
    "\n",
    "loss_func_class = BinaryCrossEntropyLoss()\n",
    "optimizer = SGD(learning_rate=0.2)\n",
    "model_class = NeuralNetwork(layers_class, loss_func_class, optimizer)"
   ]
  },
  {
   "cell_type": "code",
   "execution_count": 23,
   "id": "bd992de1",
   "metadata": {},
   "outputs": [
    {
     "name": "stdout",
     "output_type": "stream",
     "text": [
      "эпоха 0 потеря 0.2637\n",
      "эпоха 1 потеря 0.2637\n",
      "эпоха 2 потеря 0.2637\n",
      "эпоха 3 потеря 0.2637\n",
      "эпоха 4 потеря 0.2637\n",
      "эпоха 5 потеря 0.2637\n",
      "эпоха 6 потеря 0.2637\n",
      "эпоха 7 потеря 0.2637\n",
      "эпоха 8 потеря 0.2637\n",
      "эпоха 9 потеря 0.2637\n",
      "эпоха 10 потеря 0.2637\n",
      "эпоха 11 потеря 0.2636\n",
      "эпоха 12 потеря 0.2636\n",
      "эпоха 13 потеря 0.2636\n",
      "эпоха 14 потеря 0.2636\n",
      "эпоха 15 потеря 0.2636\n",
      "эпоха 16 потеря 0.2636\n",
      "эпоха 17 потеря 0.2636\n",
      "эпоха 18 потеря 0.2636\n",
      "эпоха 19 потеря 0.2636\n",
      "эпоха 20 потеря 0.2636\n",
      "эпоха 21 потеря 0.2636\n",
      "эпоха 22 потеря 0.2636\n",
      "эпоха 23 потеря 0.2636\n",
      "эпоха 24 потеря 0.2636\n",
      "эпоха 25 потеря 0.2636\n",
      "эпоха 26 потеря 0.2636\n",
      "эпоха 27 потеря 0.2636\n",
      "эпоха 28 потеря 0.2636\n",
      "эпоха 29 потеря 0.2636\n",
      "эпоха 30 потеря 0.2636\n",
      "эпоха 31 потеря 0.2636\n",
      "эпоха 32 потеря 0.2636\n",
      "эпоха 33 потеря 0.2636\n",
      "эпоха 34 потеря 0.2636\n",
      "эпоха 35 потеря 0.2636\n",
      "эпоха 36 потеря 0.2636\n",
      "эпоха 37 потеря 0.2636\n",
      "эпоха 38 потеря 0.2636\n",
      "эпоха 39 потеря 0.2636\n",
      "эпоха 40 потеря 0.2636\n",
      "эпоха 41 потеря 0.2636\n",
      "эпоха 42 потеря 0.2636\n",
      "эпоха 43 потеря 0.2636\n",
      "эпоха 44 потеря 0.2636\n",
      "эпоха 45 потеря 0.2635\n",
      "эпоха 46 потеря 0.2635\n",
      "эпоха 47 потеря 0.2635\n",
      "эпоха 48 потеря 0.2635\n",
      "эпоха 49 потеря 0.2635\n",
      "эпоха 50 потеря 0.2635\n",
      "эпоха 51 потеря 0.2635\n",
      "эпоха 52 потеря 0.2635\n",
      "эпоха 53 потеря 0.2635\n",
      "эпоха 54 потеря 0.2635\n",
      "эпоха 55 потеря 0.2635\n",
      "эпоха 56 потеря 0.2635\n",
      "эпоха 57 потеря 0.2635\n",
      "эпоха 58 потеря 0.2635\n",
      "эпоха 59 потеря 0.2635\n",
      "эпоха 60 потеря 0.2635\n",
      "эпоха 61 потеря 0.2635\n",
      "эпоха 62 потеря 0.2635\n",
      "эпоха 63 потеря 0.2635\n",
      "эпоха 64 потеря 0.2635\n",
      "эпоха 65 потеря 0.2635\n",
      "эпоха 66 потеря 0.2635\n",
      "эпоха 67 потеря 0.2635\n",
      "эпоха 68 потеря 0.2635\n",
      "эпоха 69 потеря 0.2635\n",
      "эпоха 70 потеря 0.2635\n",
      "эпоха 71 потеря 0.2635\n",
      "эпоха 72 потеря 0.2635\n",
      "эпоха 73 потеря 0.2635\n",
      "эпоха 74 потеря 0.2635\n",
      "эпоха 75 потеря 0.2635\n",
      "эпоха 76 потеря 0.2635\n",
      "эпоха 77 потеря 0.2635\n",
      "эпоха 78 потеря 0.2635\n",
      "эпоха 79 потеря 0.2635\n",
      "эпоха 80 потеря 0.2635\n",
      "эпоха 81 потеря 0.2635\n",
      "эпоха 82 потеря 0.2635\n",
      "эпоха 83 потеря 0.2634\n",
      "эпоха 84 потеря 0.2634\n",
      "эпоха 85 потеря 0.2634\n",
      "эпоха 86 потеря 0.2634\n",
      "эпоха 87 потеря 0.2634\n",
      "эпоха 88 потеря 0.2634\n",
      "эпоха 89 потеря 0.2634\n",
      "эпоха 90 потеря 0.2634\n",
      "эпоха 91 потеря 0.2634\n",
      "эпоха 92 потеря 0.2634\n",
      "эпоха 93 потеря 0.2634\n",
      "эпоха 94 потеря 0.2634\n",
      "эпоха 95 потеря 0.2634\n",
      "эпоха 96 потеря 0.2634\n",
      "эпоха 97 потеря 0.2634\n",
      "эпоха 98 потеря 0.2634\n",
      "эпоха 99 потеря 0.2634\n",
      "эпоха 100 потеря 0.2634\n",
      "эпоха 101 потеря 0.2634\n",
      "эпоха 102 потеря 0.2634\n",
      "эпоха 103 потеря 0.2634\n",
      "эпоха 104 потеря 0.2634\n",
      "эпоха 105 потеря 0.2634\n",
      "эпоха 106 потеря 0.2634\n",
      "эпоха 107 потеря 0.2634\n",
      "эпоха 108 потеря 0.2634\n",
      "эпоха 109 потеря 0.2634\n",
      "эпоха 110 потеря 0.2634\n",
      "эпоха 111 потеря 0.2634\n",
      "эпоха 112 потеря 0.2634\n",
      "эпоха 113 потеря 0.2634\n",
      "эпоха 114 потеря 0.2634\n",
      "эпоха 115 потеря 0.2634\n",
      "эпоха 116 потеря 0.2634\n",
      "эпоха 117 потеря 0.2634\n",
      "эпоха 118 потеря 0.2634\n",
      "эпоха 119 потеря 0.2634\n",
      "эпоха 120 потеря 0.2634\n",
      "эпоха 121 потеря 0.2634\n",
      "эпоха 122 потеря 0.2634\n",
      "эпоха 123 потеря 0.2634\n",
      "эпоха 124 потеря 0.2634\n",
      "эпоха 125 потеря 0.2634\n",
      "эпоха 126 потеря 0.2633\n",
      "эпоха 127 потеря 0.2633\n",
      "эпоха 128 потеря 0.2633\n",
      "эпоха 129 потеря 0.2633\n",
      "эпоха 130 потеря 0.2633\n",
      "эпоха 131 потеря 0.2633\n",
      "эпоха 132 потеря 0.2633\n",
      "эпоха 133 потеря 0.2633\n",
      "эпоха 134 потеря 0.2633\n",
      "эпоха 135 потеря 0.2633\n",
      "эпоха 136 потеря 0.2633\n",
      "эпоха 137 потеря 0.2633\n",
      "эпоха 138 потеря 0.2633\n",
      "эпоха 139 потеря 0.2633\n",
      "эпоха 140 потеря 0.2633\n",
      "эпоха 141 потеря 0.2633\n",
      "эпоха 142 потеря 0.2633\n",
      "эпоха 143 потеря 0.2633\n",
      "эпоха 144 потеря 0.2633\n",
      "эпоха 145 потеря 0.2633\n",
      "эпоха 146 потеря 0.2633\n",
      "эпоха 147 потеря 0.2633\n",
      "эпоха 148 потеря 0.2633\n",
      "эпоха 149 потеря 0.2633\n",
      "эпоха 150 потеря 0.2633\n",
      "эпоха 151 потеря 0.2633\n",
      "эпоха 152 потеря 0.2633\n",
      "эпоха 153 потеря 0.2633\n",
      "эпоха 154 потеря 0.2633\n",
      "эпоха 155 потеря 0.2633\n",
      "эпоха 156 потеря 0.2633\n",
      "эпоха 157 потеря 0.2633\n",
      "эпоха 158 потеря 0.2633\n",
      "эпоха 159 потеря 0.2633\n",
      "эпоха 160 потеря 0.2633\n",
      "эпоха 161 потеря 0.2633\n",
      "эпоха 162 потеря 0.2633\n",
      "эпоха 163 потеря 0.2633\n",
      "эпоха 164 потеря 0.2633\n",
      "эпоха 165 потеря 0.2633\n",
      "эпоха 166 потеря 0.2633\n",
      "эпоха 167 потеря 0.2633\n",
      "эпоха 168 потеря 0.2633\n",
      "эпоха 169 потеря 0.2633\n",
      "эпоха 170 потеря 0.2633\n",
      "эпоха 171 потеря 0.2633\n",
      "эпоха 172 потеря 0.2633\n",
      "эпоха 173 потеря 0.2633\n",
      "эпоха 174 потеря 0.2633\n",
      "эпоха 175 потеря 0.2633\n",
      "эпоха 176 потеря 0.2632\n",
      "эпоха 177 потеря 0.2632\n",
      "эпоха 178 потеря 0.2632\n",
      "эпоха 179 потеря 0.2632\n",
      "эпоха 180 потеря 0.2632\n",
      "эпоха 181 потеря 0.2632\n",
      "эпоха 182 потеря 0.2632\n",
      "эпоха 183 потеря 0.2632\n",
      "эпоха 184 потеря 0.2632\n",
      "эпоха 185 потеря 0.2632\n",
      "эпоха 186 потеря 0.2632\n",
      "эпоха 187 потеря 0.2632\n",
      "эпоха 188 потеря 0.2632\n",
      "эпоха 189 потеря 0.2632\n",
      "эпоха 190 потеря 0.2632\n",
      "эпоха 191 потеря 0.2632\n",
      "эпоха 192 потеря 0.2632\n",
      "эпоха 193 потеря 0.2632\n",
      "эпоха 194 потеря 0.2632\n",
      "эпоха 195 потеря 0.2632\n",
      "эпоха 196 потеря 0.2632\n",
      "эпоха 197 потеря 0.2632\n",
      "эпоха 198 потеря 0.2632\n",
      "эпоха 199 потеря 0.2632\n",
      "эпоха 200 потеря 0.2632\n",
      "эпоха 201 потеря 0.2632\n",
      "эпоха 202 потеря 0.2632\n",
      "эпоха 203 потеря 0.2632\n",
      "эпоха 204 потеря 0.2632\n",
      "эпоха 205 потеря 0.2632\n",
      "эпоха 206 потеря 0.2632\n",
      "эпоха 207 потеря 0.2632\n",
      "эпоха 208 потеря 0.2632\n",
      "эпоха 209 потеря 0.2632\n",
      "эпоха 210 потеря 0.2632\n",
      "эпоха 211 потеря 0.2632\n",
      "эпоха 212 потеря 0.2632\n",
      "эпоха 213 потеря 0.2632\n",
      "эпоха 214 потеря 0.2632\n",
      "эпоха 215 потеря 0.2632\n",
      "эпоха 216 потеря 0.2632\n",
      "эпоха 217 потеря 0.2632\n",
      "эпоха 218 потеря 0.2632\n",
      "эпоха 219 потеря 0.2632\n",
      "эпоха 220 потеря 0.2632\n",
      "эпоха 221 потеря 0.2632\n",
      "эпоха 222 потеря 0.2632\n",
      "эпоха 223 потеря 0.2632\n",
      "эпоха 224 потеря 0.2632\n",
      "эпоха 225 потеря 0.2632\n",
      "эпоха 226 потеря 0.2631\n",
      "эпоха 227 потеря 0.2631\n",
      "эпоха 228 потеря 0.2631\n",
      "эпоха 229 потеря 0.2631\n",
      "эпоха 230 потеря 0.2631\n",
      "эпоха 231 потеря 0.2631\n",
      "эпоха 232 потеря 0.2631\n",
      "эпоха 233 потеря 0.2631\n",
      "эпоха 234 потеря 0.2631\n",
      "эпоха 235 потеря 0.2631\n",
      "эпоха 236 потеря 0.2631\n",
      "эпоха 237 потеря 0.2631\n",
      "эпоха 238 потеря 0.2631\n",
      "эпоха 239 потеря 0.2631\n",
      "эпоха 240 потеря 0.2631\n",
      "эпоха 241 потеря 0.2631\n",
      "эпоха 242 потеря 0.2631\n",
      "эпоха 243 потеря 0.2631\n",
      "эпоха 244 потеря 0.2631\n",
      "эпоха 245 потеря 0.2631\n",
      "эпоха 246 потеря 0.2631\n",
      "эпоха 247 потеря 0.2631\n",
      "эпоха 248 потеря 0.2631\n",
      "эпоха 249 потеря 0.2631\n",
      "эпоха 250 потеря 0.2631\n",
      "эпоха 251 потеря 0.2631\n",
      "эпоха 252 потеря 0.2631\n",
      "эпоха 253 потеря 0.2631\n",
      "эпоха 254 потеря 0.2631\n",
      "эпоха 255 потеря 0.2631\n",
      "эпоха 256 потеря 0.2631\n",
      "эпоха 257 потеря 0.2631\n",
      "эпоха 258 потеря 0.2631\n",
      "эпоха 259 потеря 0.2631\n",
      "эпоха 260 потеря 0.2631\n",
      "эпоха 261 потеря 0.2631\n",
      "эпоха 262 потеря 0.2631\n",
      "эпоха 263 потеря 0.2631\n",
      "эпоха 264 потеря 0.2631\n",
      "эпоха 265 потеря 0.2631\n",
      "эпоха 266 потеря 0.2631\n",
      "эпоха 267 потеря 0.2631\n",
      "эпоха 268 потеря 0.2631\n",
      "эпоха 269 потеря 0.2631\n",
      "эпоха 270 потеря 0.2631\n",
      "эпоха 271 потеря 0.2631\n",
      "эпоха 272 потеря 0.2631\n",
      "эпоха 273 потеря 0.2630\n",
      "эпоха 274 потеря 0.2630\n",
      "эпоха 275 потеря 0.2630\n",
      "эпоха 276 потеря 0.2630\n",
      "эпоха 277 потеря 0.2630\n",
      "эпоха 278 потеря 0.2630\n",
      "эпоха 279 потеря 0.2630\n",
      "эпоха 280 потеря 0.2630\n",
      "эпоха 281 потеря 0.2630\n",
      "эпоха 282 потеря 0.2630\n",
      "эпоха 283 потеря 0.2630\n",
      "эпоха 284 потеря 0.2630\n",
      "эпоха 285 потеря 0.2630\n",
      "эпоха 286 потеря 0.2630\n",
      "эпоха 287 потеря 0.2630\n",
      "эпоха 288 потеря 0.2630\n",
      "эпоха 289 потеря 0.2630\n",
      "эпоха 290 потеря 0.2630\n",
      "эпоха 291 потеря 0.2630\n",
      "эпоха 292 потеря 0.2630\n",
      "эпоха 293 потеря 0.2630\n",
      "эпоха 294 потеря 0.2630\n",
      "эпоха 295 потеря 0.2630\n",
      "эпоха 296 потеря 0.2630\n",
      "эпоха 297 потеря 0.2630\n",
      "эпоха 298 потеря 0.2630\n",
      "эпоха 299 потеря 0.2630\n",
      "эпоха 300 потеря 0.2630\n",
      "эпоха 301 потеря 0.2630\n",
      "эпоха 302 потеря 0.2630\n",
      "эпоха 303 потеря 0.2630\n",
      "эпоха 304 потеря 0.2630\n",
      "эпоха 305 потеря 0.2630\n",
      "эпоха 306 потеря 0.2630\n",
      "эпоха 307 потеря 0.2630\n",
      "эпоха 308 потеря 0.2630\n",
      "эпоха 309 потеря 0.2630\n",
      "эпоха 310 потеря 0.2630\n",
      "эпоха 311 потеря 0.2630\n",
      "эпоха 312 потеря 0.2630\n",
      "эпоха 313 потеря 0.2630\n",
      "эпоха 314 потеря 0.2630\n",
      "эпоха 315 потеря 0.2630\n",
      "эпоха 316 потеря 0.2630\n",
      "эпоха 317 потеря 0.2630\n",
      "эпоха 318 потеря 0.2630\n",
      "эпоха 319 потеря 0.2630\n",
      "эпоха 320 потеря 0.2630\n",
      "эпоха 321 потеря 0.2630\n",
      "эпоха 322 потеря 0.2630\n",
      "эпоха 323 потеря 0.2630\n",
      "эпоха 324 потеря 0.2629\n",
      "эпоха 325 потеря 0.2629\n",
      "эпоха 326 потеря 0.2629\n",
      "эпоха 327 потеря 0.2629\n",
      "эпоха 328 потеря 0.2629\n",
      "эпоха 329 потеря 0.2629\n",
      "эпоха 330 потеря 0.2629\n",
      "эпоха 331 потеря 0.2629\n",
      "эпоха 332 потеря 0.2629\n",
      "эпоха 333 потеря 0.2629\n",
      "эпоха 334 потеря 0.2629\n",
      "эпоха 335 потеря 0.2629\n",
      "эпоха 336 потеря 0.2629\n",
      "эпоха 337 потеря 0.2629\n",
      "эпоха 338 потеря 0.2629\n",
      "эпоха 339 потеря 0.2629\n",
      "эпоха 340 потеря 0.2629\n",
      "эпоха 341 потеря 0.2629\n",
      "эпоха 342 потеря 0.2629\n",
      "эпоха 343 потеря 0.2629\n",
      "эпоха 344 потеря 0.2629\n",
      "эпоха 345 потеря 0.2629\n",
      "эпоха 346 потеря 0.2629\n",
      "эпоха 347 потеря 0.2629\n",
      "эпоха 348 потеря 0.2629\n",
      "эпоха 349 потеря 0.2629\n",
      "эпоха 350 потеря 0.2629\n",
      "эпоха 351 потеря 0.2629\n",
      "эпоха 352 потеря 0.2629\n",
      "эпоха 353 потеря 0.2629\n",
      "эпоха 354 потеря 0.2629\n",
      "эпоха 355 потеря 0.2629\n",
      "эпоха 356 потеря 0.2628\n",
      "эпоха 357 потеря 0.2628\n",
      "эпоха 358 потеря 0.2628\n",
      "эпоха 359 потеря 0.2628\n",
      "эпоха 360 потеря 0.2628\n",
      "эпоха 361 потеря 0.2628\n",
      "эпоха 362 потеря 0.2628\n",
      "эпоха 363 потеря 0.2628\n",
      "эпоха 364 потеря 0.2628\n",
      "эпоха 365 потеря 0.2628\n",
      "эпоха 366 потеря 0.2628\n",
      "эпоха 367 потеря 0.2628\n",
      "эпоха 368 потеря 0.2628\n",
      "эпоха 369 потеря 0.2628\n",
      "эпоха 370 потеря 0.2628\n",
      "эпоха 371 потеря 0.2628\n",
      "эпоха 372 потеря 0.2628\n",
      "эпоха 373 потеря 0.2628\n",
      "эпоха 374 потеря 0.2628\n",
      "эпоха 375 потеря 0.2628\n",
      "эпоха 376 потеря 0.2628\n",
      "эпоха 377 потеря 0.2628\n",
      "эпоха 378 потеря 0.2628\n",
      "эпоха 379 потеря 0.2628\n",
      "эпоха 380 потеря 0.2628\n",
      "эпоха 381 потеря 0.2628\n",
      "эпоха 382 потеря 0.2628\n",
      "эпоха 383 потеря 0.2628\n",
      "эпоха 384 потеря 0.2628\n",
      "эпоха 385 потеря 0.2628\n",
      "эпоха 386 потеря 0.2628\n",
      "эпоха 387 потеря 0.2628\n",
      "эпоха 388 потеря 0.2628\n",
      "эпоха 389 потеря 0.2628\n",
      "эпоха 390 потеря 0.2628\n",
      "эпоха 391 потеря 0.2628\n",
      "эпоха 392 потеря 0.2628\n",
      "эпоха 393 потеря 0.2628\n",
      "эпоха 394 потеря 0.2628\n",
      "эпоха 395 потеря 0.2628\n",
      "эпоха 396 потеря 0.2627\n",
      "эпоха 397 потеря 0.2627\n",
      "эпоха 398 потеря 0.2627\n",
      "эпоха 399 потеря 0.2627\n",
      "эпоха 400 потеря 0.2627\n",
      "эпоха 401 потеря 0.2627\n",
      "эпоха 402 потеря 0.2627\n",
      "эпоха 403 потеря 0.2627\n",
      "эпоха 404 потеря 0.2627\n",
      "эпоха 405 потеря 0.2627\n",
      "эпоха 406 потеря 0.2627\n",
      "эпоха 407 потеря 0.2627\n",
      "эпоха 408 потеря 0.2627\n",
      "эпоха 409 потеря 0.2627\n",
      "эпоха 410 потеря 0.2627\n",
      "эпоха 411 потеря 0.2627\n",
      "эпоха 412 потеря 0.2627\n",
      "эпоха 413 потеря 0.2627\n",
      "эпоха 414 потеря 0.2627\n",
      "эпоха 415 потеря 0.2627\n",
      "эпоха 416 потеря 0.2627\n",
      "эпоха 417 потеря 0.2627\n",
      "эпоха 418 потеря 0.2627\n",
      "эпоха 419 потеря 0.2627\n",
      "эпоха 420 потеря 0.2627\n",
      "эпоха 421 потеря 0.2627\n",
      "эпоха 422 потеря 0.2627\n",
      "эпоха 423 потеря 0.2627\n",
      "эпоха 424 потеря 0.2627\n",
      "эпоха 425 потеря 0.2627\n",
      "эпоха 426 потеря 0.2627\n",
      "эпоха 427 потеря 0.2627\n",
      "эпоха 428 потеря 0.2627\n",
      "эпоха 429 потеря 0.2627\n",
      "эпоха 430 потеря 0.2627\n",
      "эпоха 431 потеря 0.2627\n",
      "эпоха 432 потеря 0.2627\n",
      "эпоха 433 потеря 0.2627\n",
      "эпоха 434 потеря 0.2627\n",
      "эпоха 435 потеря 0.2627\n",
      "эпоха 436 потеря 0.2627\n",
      "эпоха 437 потеря 0.2627\n",
      "эпоха 438 потеря 0.2627\n",
      "эпоха 439 потеря 0.2627\n",
      "эпоха 440 потеря 0.2627\n",
      "эпоха 441 потеря 0.2627\n",
      "эпоха 442 потеря 0.2627\n",
      "эпоха 443 потеря 0.2626\n",
      "эпоха 444 потеря 0.2626\n",
      "эпоха 445 потеря 0.2626\n",
      "эпоха 446 потеря 0.2626\n",
      "эпоха 447 потеря 0.2626\n",
      "эпоха 448 потеря 0.2626\n",
      "эпоха 449 потеря 0.2626\n",
      "эпоха 450 потеря 0.2626\n",
      "эпоха 451 потеря 0.2626\n",
      "эпоха 452 потеря 0.2626\n",
      "эпоха 453 потеря 0.2626\n",
      "эпоха 454 потеря 0.2626\n",
      "эпоха 455 потеря 0.2626\n",
      "эпоха 456 потеря 0.2626\n",
      "эпоха 457 потеря 0.2626\n",
      "эпоха 458 потеря 0.2626\n",
      "эпоха 459 потеря 0.2626\n",
      "эпоха 460 потеря 0.2626\n",
      "эпоха 461 потеря 0.2626\n",
      "эпоха 462 потеря 0.2626\n",
      "эпоха 463 потеря 0.2626\n",
      "эпоха 464 потеря 0.2626\n",
      "эпоха 465 потеря 0.2626\n",
      "эпоха 466 потеря 0.2626\n",
      "эпоха 467 потеря 0.2626\n",
      "эпоха 468 потеря 0.2626\n",
      "эпоха 469 потеря 0.2626\n",
      "эпоха 470 потеря 0.2626\n",
      "эпоха 471 потеря 0.2626\n",
      "эпоха 472 потеря 0.2626\n",
      "эпоха 473 потеря 0.2626\n",
      "эпоха 474 потеря 0.2626\n",
      "эпоха 475 потеря 0.2626\n",
      "эпоха 476 потеря 0.2626\n",
      "эпоха 477 потеря 0.2626\n",
      "эпоха 478 потеря 0.2626\n",
      "эпоха 479 потеря 0.2626\n",
      "эпоха 480 потеря 0.2626\n",
      "эпоха 481 потеря 0.2626\n",
      "эпоха 482 потеря 0.2626\n",
      "эпоха 483 потеря 0.2626\n",
      "эпоха 484 потеря 0.2626\n",
      "эпоха 485 потеря 0.2626\n",
      "эпоха 486 потеря 0.2626\n",
      "эпоха 487 потеря 0.2626\n",
      "эпоха 488 потеря 0.2626\n",
      "эпоха 489 потеря 0.2626\n",
      "эпоха 490 потеря 0.2626\n",
      "эпоха 491 потеря 0.2626\n",
      "эпоха 492 потеря 0.2626\n",
      "эпоха 493 потеря 0.2626\n",
      "эпоха 494 потеря 0.2626\n",
      "эпоха 495 потеря 0.2626\n",
      "эпоха 496 потеря 0.2626\n",
      "эпоха 497 потеря 0.2626\n",
      "эпоха 498 потеря 0.2626\n",
      "эпоха 499 потеря 0.2625\n",
      "эпоха 500 потеря 0.2625\n",
      "эпоха 501 потеря 0.2625\n",
      "эпоха 502 потеря 0.2625\n",
      "эпоха 503 потеря 0.2625\n",
      "эпоха 504 потеря 0.2625\n",
      "эпоха 505 потеря 0.2625\n",
      "эпоха 506 потеря 0.2625\n",
      "эпоха 507 потеря 0.2625\n",
      "эпоха 508 потеря 0.2625\n",
      "эпоха 509 потеря 0.2625\n",
      "эпоха 510 потеря 0.2625\n",
      "эпоха 511 потеря 0.2625\n",
      "эпоха 512 потеря 0.2625\n",
      "эпоха 513 потеря 0.2625\n",
      "эпоха 514 потеря 0.2625\n",
      "эпоха 515 потеря 0.2625\n",
      "эпоха 516 потеря 0.2625\n",
      "эпоха 517 потеря 0.2625\n",
      "эпоха 518 потеря 0.2625\n",
      "эпоха 519 потеря 0.2625\n",
      "эпоха 520 потеря 0.2625\n",
      "эпоха 521 потеря 0.2625\n",
      "эпоха 522 потеря 0.2625\n",
      "эпоха 523 потеря 0.2625\n",
      "эпоха 524 потеря 0.2625\n",
      "эпоха 525 потеря 0.2625\n",
      "эпоха 526 потеря 0.2625\n",
      "эпоха 527 потеря 0.2625\n",
      "эпоха 528 потеря 0.2625\n",
      "эпоха 529 потеря 0.2625\n",
      "эпоха 530 потеря 0.2625\n",
      "эпоха 531 потеря 0.2625\n",
      "эпоха 532 потеря 0.2625\n",
      "эпоха 533 потеря 0.2625\n",
      "эпоха 534 потеря 0.2625\n",
      "эпоха 535 потеря 0.2625\n",
      "эпоха 536 потеря 0.2625\n",
      "эпоха 537 потеря 0.2625\n",
      "эпоха 538 потеря 0.2625\n",
      "эпоха 539 потеря 0.2625\n",
      "эпоха 540 потеря 0.2625\n",
      "эпоха 541 потеря 0.2625\n",
      "эпоха 542 потеря 0.2625\n",
      "эпоха 543 потеря 0.2625\n",
      "эпоха 544 потеря 0.2625\n",
      "эпоха 545 потеря 0.2625\n",
      "эпоха 546 потеря 0.2625\n",
      "эпоха 547 потеря 0.2625\n",
      "эпоха 548 потеря 0.2625\n",
      "эпоха 549 потеря 0.2625\n",
      "эпоха 550 потеря 0.2625\n",
      "эпоха 551 потеря 0.2625\n",
      "эпоха 552 потеря 0.2625\n",
      "эпоха 553 потеря 0.2625\n",
      "эпоха 554 потеря 0.2625\n",
      "эпоха 555 потеря 0.2625\n",
      "эпоха 556 потеря 0.2625\n",
      "эпоха 557 потеря 0.2625\n",
      "эпоха 558 потеря 0.2625\n",
      "эпоха 559 потеря 0.2625\n",
      "эпоха 560 потеря 0.2624\n",
      "эпоха 561 потеря 0.2624\n",
      "эпоха 562 потеря 0.2624\n",
      "эпоха 563 потеря 0.2624\n",
      "эпоха 564 потеря 0.2624\n",
      "эпоха 565 потеря 0.2624\n",
      "эпоха 566 потеря 0.2624\n",
      "эпоха 567 потеря 0.2624\n",
      "эпоха 568 потеря 0.2624\n",
      "эпоха 569 потеря 0.2624\n",
      "эпоха 570 потеря 0.2624\n",
      "эпоха 571 потеря 0.2624\n",
      "эпоха 572 потеря 0.2624\n",
      "эпоха 573 потеря 0.2624\n",
      "эпоха 574 потеря 0.2624\n",
      "эпоха 575 потеря 0.2624\n",
      "эпоха 576 потеря 0.2624\n",
      "эпоха 577 потеря 0.2624\n",
      "эпоха 578 потеря 0.2624\n",
      "эпоха 579 потеря 0.2624\n",
      "эпоха 580 потеря 0.2624\n",
      "эпоха 581 потеря 0.2624\n",
      "эпоха 582 потеря 0.2624\n",
      "эпоха 583 потеря 0.2624\n",
      "эпоха 584 потеря 0.2624\n",
      "эпоха 585 потеря 0.2624\n",
      "эпоха 586 потеря 0.2624\n",
      "эпоха 587 потеря 0.2624\n",
      "эпоха 588 потеря 0.2624\n",
      "эпоха 589 потеря 0.2624\n",
      "эпоха 590 потеря 0.2624\n",
      "эпоха 591 потеря 0.2624\n",
      "эпоха 592 потеря 0.2624\n",
      "эпоха 593 потеря 0.2624\n",
      "эпоха 594 потеря 0.2624\n",
      "эпоха 595 потеря 0.2624\n",
      "эпоха 596 потеря 0.2624\n",
      "эпоха 597 потеря 0.2624\n",
      "эпоха 598 потеря 0.2624\n",
      "эпоха 599 потеря 0.2624\n",
      "эпоха 600 потеря 0.2624\n",
      "эпоха 601 потеря 0.2624\n",
      "эпоха 602 потеря 0.2624\n",
      "эпоха 603 потеря 0.2624\n",
      "эпоха 604 потеря 0.2624\n",
      "эпоха 605 потеря 0.2624\n",
      "эпоха 606 потеря 0.2624\n",
      "эпоха 607 потеря 0.2624\n",
      "эпоха 608 потеря 0.2624\n",
      "эпоха 609 потеря 0.2624\n",
      "эпоха 610 потеря 0.2624\n",
      "эпоха 611 потеря 0.2624\n",
      "эпоха 612 потеря 0.2624\n",
      "эпоха 613 потеря 0.2624\n",
      "эпоха 614 потеря 0.2624\n",
      "эпоха 615 потеря 0.2624\n",
      "эпоха 616 потеря 0.2624\n",
      "эпоха 617 потеря 0.2624\n",
      "эпоха 618 потеря 0.2624\n",
      "эпоха 619 потеря 0.2624\n",
      "эпоха 620 потеря 0.2624\n",
      "эпоха 621 потеря 0.2624\n",
      "эпоха 622 потеря 0.2624\n",
      "эпоха 623 потеря 0.2624\n",
      "эпоха 624 потеря 0.2624\n",
      "эпоха 625 потеря 0.2624\n",
      "эпоха 626 потеря 0.2624\n",
      "эпоха 627 потеря 0.2624\n",
      "эпоха 628 потеря 0.2623\n",
      "эпоха 629 потеря 0.2623\n",
      "эпоха 630 потеря 0.2623\n",
      "эпоха 631 потеря 0.2623\n",
      "эпоха 632 потеря 0.2623\n",
      "эпоха 633 потеря 0.2623\n",
      "эпоха 634 потеря 0.2623\n",
      "эпоха 635 потеря 0.2623\n",
      "эпоха 636 потеря 0.2623\n",
      "эпоха 637 потеря 0.2623\n",
      "эпоха 638 потеря 0.2623\n",
      "эпоха 639 потеря 0.2623\n",
      "эпоха 640 потеря 0.2623\n",
      "эпоха 641 потеря 0.2623\n",
      "эпоха 642 потеря 0.2623\n",
      "эпоха 643 потеря 0.2623\n",
      "эпоха 644 потеря 0.2623\n",
      "эпоха 645 потеря 0.2623\n",
      "эпоха 646 потеря 0.2623\n",
      "эпоха 647 потеря 0.2623\n",
      "эпоха 648 потеря 0.2623\n",
      "эпоха 649 потеря 0.2623\n",
      "эпоха 650 потеря 0.2623\n",
      "эпоха 651 потеря 0.2623\n",
      "эпоха 652 потеря 0.2623\n",
      "эпоха 653 потеря 0.2623\n",
      "эпоха 654 потеря 0.2623\n",
      "эпоха 655 потеря 0.2623\n",
      "эпоха 656 потеря 0.2623\n",
      "эпоха 657 потеря 0.2623\n",
      "эпоха 658 потеря 0.2623\n",
      "эпоха 659 потеря 0.2623\n",
      "эпоха 660 потеря 0.2623\n",
      "эпоха 661 потеря 0.2623\n",
      "эпоха 662 потеря 0.2623\n",
      "эпоха 663 потеря 0.2623\n",
      "эпоха 664 потеря 0.2623\n",
      "эпоха 665 потеря 0.2623\n",
      "эпоха 666 потеря 0.2623\n",
      "эпоха 667 потеря 0.2623\n",
      "эпоха 668 потеря 0.2623\n",
      "эпоха 669 потеря 0.2623\n",
      "эпоха 670 потеря 0.2623\n",
      "эпоха 671 потеря 0.2623\n",
      "эпоха 672 потеря 0.2623\n",
      "эпоха 673 потеря 0.2623\n",
      "эпоха 674 потеря 0.2623\n",
      "эпоха 675 потеря 0.2623\n",
      "эпоха 676 потеря 0.2623\n",
      "эпоха 677 потеря 0.2623\n",
      "эпоха 678 потеря 0.2623\n",
      "эпоха 679 потеря 0.2623\n",
      "эпоха 680 потеря 0.2623\n",
      "эпоха 681 потеря 0.2623\n",
      "эпоха 682 потеря 0.2623\n",
      "эпоха 683 потеря 0.2623\n",
      "эпоха 684 потеря 0.2623\n",
      "эпоха 685 потеря 0.2623\n",
      "эпоха 686 потеря 0.2623\n",
      "эпоха 687 потеря 0.2623\n",
      "эпоха 688 потеря 0.2623\n",
      "эпоха 689 потеря 0.2623\n",
      "эпоха 690 потеря 0.2623\n",
      "эпоха 691 потеря 0.2623\n",
      "эпоха 692 потеря 0.2623\n",
      "эпоха 693 потеря 0.2623\n",
      "эпоха 694 потеря 0.2623\n",
      "эпоха 695 потеря 0.2623\n",
      "эпоха 696 потеря 0.2623\n",
      "эпоха 697 потеря 0.2623\n",
      "эпоха 698 потеря 0.2623\n",
      "эпоха 699 потеря 0.2623\n"
     ]
    }
   ],
   "source": [
    "model_class.fit(X_class_train, y_class_train,epochs=700)"
   ]
  },
  {
   "cell_type": "code",
   "execution_count": 24,
   "id": "f644c27d",
   "metadata": {},
   "outputs": [],
   "source": [
    "y_pred_class = model_class.predict(X_class_test)"
   ]
  },
  {
   "cell_type": "code",
   "execution_count": 26,
   "id": "9d51d7ef",
   "metadata": {},
   "outputs": [],
   "source": [
    "y_pred_class = (y_pred_class > 0.5).astype(int).flatten()"
   ]
  },
  {
   "cell_type": "code",
   "execution_count": 27,
   "id": "8a8eef49",
   "metadata": {},
   "outputs": [],
   "source": [
    "y_pred_class = pd.Series(y_pred_class)"
   ]
  },
  {
   "cell_type": "code",
   "execution_count": 28,
   "id": "16850c58",
   "metadata": {},
   "outputs": [
    {
     "data": {
      "text/plain": [
       "0        0\n",
       "1        0\n",
       "2        1\n",
       "3        0\n",
       "4        1\n",
       "        ..\n",
       "13995    1\n",
       "13996    1\n",
       "13997    1\n",
       "13998    0\n",
       "13999    0\n",
       "Length: 14000, dtype: int64"
      ]
     },
     "execution_count": 28,
     "metadata": {},
     "output_type": "execute_result"
    }
   ],
   "source": [
    "y_pred_class"
   ]
  },
  {
   "cell_type": "code",
   "execution_count": 29,
   "id": "893f4ecb",
   "metadata": {},
   "outputs": [],
   "source": [
    "y_class_test = y_class_test.reset_index(drop=True)"
   ]
  },
  {
   "cell_type": "code",
   "execution_count": 30,
   "id": "062eb0bf",
   "metadata": {},
   "outputs": [
    {
     "data": {
      "text/plain": [
       "0        0\n",
       "1        0\n",
       "2        1\n",
       "3        0\n",
       "4        1\n",
       "        ..\n",
       "13995    1\n",
       "13996    1\n",
       "13997    1\n",
       "13998    0\n",
       "13999    0\n",
       "Name: danger, Length: 14000, dtype: int64"
      ]
     },
     "execution_count": 30,
     "metadata": {},
     "output_type": "execute_result"
    }
   ],
   "source": [
    "y_class_test"
   ]
  },
  {
   "cell_type": "code",
   "execution_count": 31,
   "id": "2ae6e363",
   "metadata": {},
   "outputs": [
    {
     "name": "stdout",
     "output_type": "stream",
     "text": [
      "                 Метрики качества\n",
      "accuracy_score             0.9043\n",
      "precision_score            0.8464\n",
      "recall_score               0.9879\n",
      "f1_score                   0.9117\n",
      "Матрица ошибок (Строки: Predicted, Столбцы: True):\n",
      "------------------\n",
      "              Class 0     Class 1\n",
      "-----------------------------------\n",
      "Predicted  Class 0  |   5745     1255 |\n",
      "Predicted  Class 1  |     85     6915 |\n",
      "-----------------------------------\n"
     ]
    }
   ],
   "source": [
    "custom_classifier_metrics(y_class_test, y_pred_class)"
   ]
  },
  {
   "cell_type": "markdown",
   "id": "b186489a",
   "metadata": {},
   "source": [
    "## Вывод по лабораторной работе"
   ]
  },
  {
   "cell_type": "markdown",
   "id": "b8112b48",
   "metadata": {},
   "source": [
    "Лучшей моделью для решения задачи регрессии является ```KerasRegressor_tuner```: R2 = 0.78\n",
    "\n",
    "Лучшей моделю для решения задачи классификации является ```OptunaClassifier``` на основе API Keras: f1_score = 0.913\n",
    "\n",
    "\n",
    "\n",
    "--- \n",
    "\n",
    "Основываясь на предыдущих лабораторных метрики моделей FCNN хуже метрик **классических моделей машинного обучения** (```GradientBoostingRegressor```: R2 = 0.9, ```BaggingClassofier```, F1 = 0.92)"
   ]
  }
 ],
 "metadata": {
  "kernelspec": {
   "display_name": "Python 3",
   "language": "python",
   "name": "python3"
  },
  "language_info": {
   "codemirror_mode": {
    "name": "ipython",
    "version": 3
   },
   "file_extension": ".py",
   "mimetype": "text/x-python",
   "name": "python",
   "nbconvert_exporter": "python",
   "pygments_lexer": "ipython3",
   "version": "3.12.8"
  }
 },
 "nbformat": 4,
 "nbformat_minor": 5
}
