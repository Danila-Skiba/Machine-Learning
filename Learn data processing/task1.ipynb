{
 "cells": [
  {
   "cell_type": "code",
   "execution_count": 20,
   "metadata": {},
   "outputs": [
    {
     "name": "stdout",
     "output_type": "stream",
     "text": [
      "Requirement already satisfied: numpy in c:\\users\\fiks1\\appdata\\local\\packages\\pythonsoftwarefoundation.python.3.11_qbz5n2kfra8p0\\localcache\\local-packages\\python311\\site-packages (2.1.3)\n",
      "Note: you may need to restart the kernel to use updated packages.\n"
     ]
    },
    {
     "name": "stderr",
     "output_type": "stream",
     "text": [
      "\n",
      "[notice] A new release of pip is available: 24.0 -> 25.0.1\n",
      "[notice] To update, run: C:\\Users\\fiks1\\AppData\\Local\\Microsoft\\WindowsApps\\PythonSoftwareFoundation.Python.3.11_qbz5n2kfra8p0\\python.exe -m pip install --upgrade pip\n"
     ]
    }
   ],
   "source": [
    "pip install numpy"
   ]
  },
  {
   "cell_type": "code",
   "execution_count": 21,
   "metadata": {},
   "outputs": [],
   "source": [
    "#!pip install scipy"
   ]
  },
  {
   "cell_type": "code",
   "execution_count": 22,
   "metadata": {},
   "outputs": [],
   "source": [
    "import numpy"
   ]
  },
  {
   "cell_type": "code",
   "execution_count": 23,
   "metadata": {},
   "outputs": [],
   "source": [
    "def print_matrix2D(matrix):\n",
    "    \n",
    "    for row in matrix:\n",
    "        for element in row:\n",
    "            if element.is_integer():\n",
    "                print(int(element),end=\" \")\n",
    "            else:\n",
    "                print(round(element,5) ,end=\" \")\n",
    "        print()\n",
    "\n",
    "def print_vector(vector):\n",
    "    vector= vector.ravel()\n",
    "    for element in vector:\n",
    "        if element.is_integer():\n",
    "            print(int(element),end=\"\\n\")\n",
    "        else: \n",
    "            print(round(element,5),end=\"\\n\")"
   ]
  },
  {
   "cell_type": "markdown",
   "metadata": {},
   "source": [
    "**Task 1**"
   ]
  },
  {
   "cell_type": "code",
   "execution_count": 24,
   "metadata": {},
   "outputs": [
    {
     "name": "stdout",
     "output_type": "stream",
     "text": [
      "10\n",
      "12\n",
      "14\n",
      "16\n",
      "18\n",
      "20\n",
      "22\n",
      "24\n",
      "26\n",
      "28\n",
      "30\n",
      "32\n",
      "34\n",
      "36\n",
      "38\n",
      "40\n",
      "42\n",
      "44\n",
      "46\n",
      "48\n",
      "50\n",
      "52\n",
      "54\n",
      "56\n",
      "58\n",
      "60\n",
      "62\n",
      "64\n",
      "66\n",
      "68\n"
     ]
    }
   ],
   "source": [
    "my_array=numpy.arange(10,70,2)\n",
    "print_vector(my_array)"
   ]
  },
  {
   "cell_type": "markdown",
   "metadata": {},
   "source": [
    "**Task 2**"
   ]
  },
  {
   "cell_type": "code",
   "execution_count": 25,
   "metadata": {},
   "outputs": [
    {
     "name": "stdout",
     "output_type": "stream",
     "text": [
      "[[10 12 14 16 18]\n",
      " [20 22 24 26 28]\n",
      " [30 32 34 36 38]\n",
      " [40 42 44 46 48]\n",
      " [50 52 54 56 58]\n",
      " [60 62 64 66 68]]\n",
      "10 12 14 16 18 \n",
      "20 22 24 26 28 \n",
      "30 32 34 36 38 \n",
      "40 42 44 46 48 \n",
      "50 52 54 56 58 \n",
      "60 62 64 66 68 \n"
     ]
    }
   ],
   "source": [
    "A = my_array.reshape(6,5)\n",
    "print(A)\n",
    "print_matrix2D(A)"
   ]
  },
  {
   "cell_type": "code",
   "execution_count": 26,
   "metadata": {},
   "outputs": [
    {
     "name": "stdout",
     "output_type": "stream",
     "text": [
      "Транспонированная матрица: \n",
      "10 20 30 40 50 60 \n",
      "12 22 32 42 52 62 \n",
      "14 24 34 44 54 64 \n",
      "16 26 36 46 56 66 \n",
      "18 28 38 48 58 68 \n"
     ]
    }
   ],
   "source": [
    "A= A.T\n",
    "print(\"Транспонированная матрица: \")\n",
    "print_matrix2D(A)"
   ]
  },
  {
   "cell_type": "markdown",
   "metadata": {},
   "source": [
    "**Task 3**"
   ]
  },
  {
   "cell_type": "code",
   "execution_count": 27,
   "metadata": {},
   "outputs": [
    {
     "name": "stdout",
     "output_type": "stream",
     "text": [
      "Матрица A, умноженная на скаляр 2.5: \n",
      "25 50 75 100 125 150 \n",
      "30 55 80 105 130 155 \n",
      "35 60 85 110 135 160 \n",
      "35 60 85 110 135 160 \n",
      "45 70 95 120 145 170 \n"
     ]
    }
   ],
   "source": [
    "scalar = 2.5\n",
    "A = A*scalar\n",
    "A[3]=A[3]-5\n",
    "print(\"Матрица A, умноженная на скаляр 2.5: \")\n",
    "print_matrix2D(A)"
   ]
  },
  {
   "cell_type": "markdown",
   "metadata": {},
   "source": [
    "**Task 4**"
   ]
  },
  {
   "cell_type": "code",
   "execution_count": 28,
   "metadata": {},
   "outputs": [
    {
     "name": "stdout",
     "output_type": "stream",
     "text": [
      "2.67372 3.15418 8.13421 \n",
      "2.95135 8.71731 2.54167 \n",
      "8.03603 0.3683 4.1705 \n",
      "4.41729 2.24942 5.88159 \n",
      "5.921 5.3513 9.46742 \n",
      "9.13281 4.4452 8.57044 \n"
     ]
    }
   ],
   "source": [
    "B = numpy.random.rand(6,3)*10\n",
    "print_matrix2D(B)"
   ]
  },
  {
   "cell_type": "markdown",
   "metadata": {},
   "source": [
    "**Task 5**"
   ]
  },
  {
   "cell_type": "code",
   "execution_count": 29,
   "metadata": {},
   "outputs": [
    {
     "name": "stdout",
     "output_type": "stream",
     "text": [
      "Вектор a: \n",
      "525\n",
      "555\n",
      "585\n",
      "585\n",
      "645\n",
      "[525. 555. 585. 585. 645.]\n",
      "\n",
      "Размер:5\n",
      "\n",
      "Вектор b: \n",
      "33.13219\n",
      "24.28571\n",
      "38.76583\n",
      "\n",
      "Размер:3\n"
     ]
    }
   ],
   "source": [
    "a=numpy.sum(A,axis=1)\n",
    "print(\"Вектор a: \")\n",
    "print_vector(a)\n",
    "\n",
    "print(a)\n",
    "\n",
    "print(\"\\nРазмер:\"+str(a.size) +\"\\n\")\n",
    "\n",
    "b=numpy.sum(B,axis=0)\n",
    "print(\"Вектор b: \")\n",
    "print_vector(b)\n",
    "\n",
    "print(\"\\nРазмер:\"+str(b.size))"
   ]
  },
  {
   "cell_type": "markdown",
   "metadata": {},
   "source": [
    "**Task 6**"
   ]
  },
  {
   "cell_type": "code",
   "execution_count": 30,
   "metadata": {},
   "outputs": [
    {
     "name": "stdout",
     "output_type": "stream",
     "text": [
      "3368.88702 2102.97732 3700.37901 \n",
      "3534.54796 2224.40589 3894.20815 \n",
      "3700.20889 2345.83446 4088.03729 \n",
      "3700.20889 2345.83446 4088.03729 \n",
      "4031.53076 2588.69159 4475.69557 \n"
     ]
    }
   ],
   "source": [
    "print_matrix2D(A.dot(B))"
   ]
  },
  {
   "cell_type": "markdown",
   "metadata": {},
   "source": [
    "**Task 7**"
   ]
  },
  {
   "cell_type": "code",
   "execution_count": 31,
   "metadata": {},
   "outputs": [
    {
     "name": "stdout",
     "output_type": "stream",
     "text": [
      "25 50 100 125 150 \n",
      "30 55 105 130 155 \n",
      "35 60 110 135 160 \n",
      "35 60 110 135 160 \n",
      "45 70 120 145 170 \n"
     ]
    }
   ],
   "source": [
    "A=numpy.delete(A,[2],axis=1)\n",
    "print_matrix2D(A)"
   ]
  },
  {
   "cell_type": "code",
   "execution_count": 32,
   "metadata": {},
   "outputs": [
    {
     "name": "stdout",
     "output_type": "stream",
     "text": [
      "2.67372 3.15418 8.13421 17.319 10.56198 17.73139 \n",
      "2.95135 8.71731 2.54167 12.94854 12.11673 16.39211 \n",
      "8.03603 0.3683 4.1705 17.07299 19.40355 10.18262 \n",
      "4.41729 2.24942 5.88159 11.66899 10.16711 11.64669 \n",
      "5.921 5.3513 9.46742 16.72229 14.78186 16.46272 \n",
      "9.13281 4.4452 8.57044 12.07644 19.74488 16.4025 \n"
     ]
    }
   ],
   "source": [
    "\n",
    "three_columns = numpy.random.uniform(10,20,size=(6,3))#три конкатенируемых столбца\n",
    "B=numpy.concatenate((B,three_columns),axis=1)\n",
    "print_matrix2D(B)"
   ]
  },
  {
   "cell_type": "markdown",
   "metadata": {},
   "source": [
    "**Task 8**"
   ]
  },
  {
   "cell_type": "code",
   "execution_count": 33,
   "metadata": {},
   "outputs": [],
   "source": [
    "def inversematrix_and_det(matrix):\n",
    "    det_matrix = numpy.linalg.det(matrix)\n",
    "    print(\"Определитель матрицы: \"+str(round(det_matrix,5)))\n",
    "    if det_matrix == 0:\n",
    "        print(\"Вырожденная, обратной стандартной матрицы нет\")\n",
    "    else:\n",
    "        inverse_matrix = numpy.linalg.inv(matrix)\n",
    "        print(\"Обратная матрица: \\n\")\n",
    "        print_matrix2D(inverse_matrix) "
   ]
  },
  {
   "cell_type": "code",
   "execution_count": 34,
   "metadata": {},
   "outputs": [
    {
     "name": "stdout",
     "output_type": "stream",
     "text": [
      "Для матрицы A\n",
      "Определитель матрицы: 0.0\n",
      "Вырожденная, обратной стандартной матрицы нет\n",
      "Для матрицы B\n",
      "Определитель матрицы: 32408.18176\n",
      "Обратная матрица: \n",
      "\n",
      "-0.57369 0.0563 -0.13842 1.4873 -0.19113 -0.2144 \n",
      "-0.18173 0.07966 -0.03436 -0.05137 0.25922 -0.08552 \n",
      "0.10367 -0.12592 -0.02342 -0.44788 0.27789 0.06741 \n",
      "-0.09299 0.01402 0.04055 0.20535 0.07835 -0.16311 \n",
      "0.27046 -0.03104 0.11617 -0.85696 0.08976 0.18493 \n",
      "0.0574 0.0399 -0.07108 0.30022 -0.27477 0.06578 \n"
     ]
    }
   ],
   "source": [
    "\n",
    "print(\"Для матрицы A\")\n",
    "inversematrix_and_det(A) \n",
    "print(\"Для матрицы B\")\n",
    "inversematrix_and_det(B)  "
   ]
  },
  {
   "cell_type": "markdown",
   "metadata": {},
   "source": [
    "**Task 9**"
   ]
  },
  {
   "cell_type": "code",
   "execution_count": 35,
   "metadata": {},
   "outputs": [
    {
     "name": "stdout",
     "output_type": "stream",
     "text": [
      "Матрица A в 6-ой степени: \n",
      "\n",
      "1119054298750000 1878303509687500 3396801931562500 4156051142500000 4915300353437500 \n",
      "1179317391312500 1979453544046875 3579725849515625 4379862002250000 5179998154984375 \n",
      "1239580483875000 2080603578406250 3762649767468750 4603672862000000 5444695956531250 \n",
      "1239580483875000 2080603578406250 3762649767468750 4603672862000000 5444695956531250 \n",
      "1360106669000000 2282903647125000 4128497603375000 5051294581500000 5974091559625000 \n",
      "Матрица B в 14-ой степени: \n",
      "\n",
      "942328896546995766820864 589593609125019099594752 1117935045218602204528640 2212242687552029533929472 2301129624315728660267008 2276523608442221522583552 \n",
      "892236427241324468502528 558251898311972933861376 1058507676342850454290432 2094643939039120088629248 2178805809885335265476608 2155507804517759392415744 \n",
      "936941283173834992648192 586222702826936707579904 1111543432036276963901440 2199594547048103456800768 2287973287094230357901312 2263507952148234931011584 \n",
      "732250323539903299715072 458152257265094828752896 868707625923598486601728 1719055236070472597635072 1788126118266202404945920 1769005657087839496568832 \n",
      "1089661582745751292739584 681776296631286301196288 1292723671368069785059328 2558125806360959662424064 2660910174487323181318144 2632457019437974303014912 \n",
      "1144051962118314573955072 715807111343545320996864 1357249880260855631708160 2685814471626761401532416 2793729314079590460686336 2763855921847694910291968 \n"
     ]
    }
   ],
   "source": [
    "A=numpy.linalg.matrix_power(A,6)\n",
    "B=numpy.linalg.matrix_power(B,14)\n",
    "print(\"Матрица A в 6-ой степени: \\n\")\n",
    "print_matrix2D(A)\n",
    "\n",
    "print(\"Матрица B в 14-ой степени: \\n\")\n",
    "print_matrix2D(B)\n",
    "\n"
   ]
  },
  {
   "attachments": {
    "image.png": {
     "image/png": "[encoded data removed]"
    }
   },
   "cell_type": "markdown",
   "metadata": {},
   "source": [
    "**Task 10**\n",
    "\n",
    "Решение варианта 3.\n",
    "\n",
    "\n",
    "![image.png](attachment:image.png)\n",
    "\n",
    "**Шаг 1** \n",
    "\n",
    "Составим матрицу коэффициентов системы линейных уравнений:\n",
    "\n"
   ]
  },
  {
   "cell_type": "code",
   "execution_count": 36,
   "metadata": {},
   "outputs": [],
   "source": [
    "A_matrix = numpy.array([[3,-1.2,-8,8],\n",
    "                       [21,-19,0.5,0],\n",
    "                       [7,0,-4.9,-2],\n",
    "                       [1,-2,13,9]])"
   ]
  },
  {
   "cell_type": "markdown",
   "metadata": {},
   "source": [
    "**Шаг 2**\n",
    "\n",
    "Составим вектор-столбец свободных членов уравнения"
   ]
  },
  {
   "cell_type": "code",
   "execution_count": 37,
   "metadata": {},
   "outputs": [],
   "source": [
    "b=numpy.array([[20],\n",
    "              [-8],\n",
    "              [11],\n",
    "              [3]])"
   ]
  },
  {
   "cell_type": "markdown",
   "metadata": {},
   "source": [
    "**Шаг 3**\n",
    "\n",
    "Решим систему уравнений с помощью метода"
   ]
  },
  {
   "cell_type": "code",
   "execution_count": 38,
   "metadata": {},
   "outputs": [
    {
     "name": "stdout",
     "output_type": "stream",
     "text": [
      "Решение системы уравнений:\n",
      "1.5644\n",
      "2.1329\n",
      "-0.65446\n",
      "1.57882\n"
     ]
    }
   ],
   "source": [
    "x=numpy.linalg.solve(A_matrix,b)\n",
    "\n",
    "print(\"Решение системы уравнений:\")\n",
    "print_vector(x)"
   ]
  }
 ],
 "metadata": {
  "kernelspec": {
   "display_name": "Python 3",
   "language": "python",
   "name": "python3"
  },
  "language_info": {
   "codemirror_mode": {
    "name": "ipython",
    "version": 3
   },
   "file_extension": ".py",
   "mimetype": "text/x-python",
   "name": "python",
   "nbconvert_exporter": "python",
   "pygments_lexer": "ipython3",
   "version": "3.11.9"
  }
 },
 "nbformat": 4,
 "nbformat_minor": 2
}
