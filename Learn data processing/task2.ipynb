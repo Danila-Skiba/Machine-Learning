{
 "cells": [
  {
   "cell_type": "code",
   "execution_count": 7,
   "metadata": {},
   "outputs": [
    {
     "name": "stdout",
     "output_type": "stream",
     "text": [
      "Requirement already satisfied: scipy in c:\\users\\fiks1\\appdata\\local\\packages\\pythonsoftwarefoundation.python.3.11_qbz5n2kfra8p0\\localcache\\local-packages\\python311\\site-packages (1.14.1)\n",
      "Requirement already satisfied: numpy<2.3,>=1.23.5 in c:\\users\\fiks1\\appdata\\local\\packages\\pythonsoftwarefoundation.python.3.11_qbz5n2kfra8p0\\localcache\\local-packages\\python311\\site-packages (from scipy) (2.1.3)\n",
      "Note: you may need to restart the kernel to use updated packages.\n"
     ]
    },
    {
     "name": "stderr",
     "output_type": "stream",
     "text": [
      "\n",
      "[notice] A new release of pip is available: 24.0 -> 24.3.1\n",
      "[notice] To update, run: C:\\Users\\fiks1\\AppData\\Local\\Microsoft\\WindowsApps\\PythonSoftwareFoundation.Python.3.11_qbz5n2kfra8p0\\python.exe -m pip install --upgrade pip\n"
     ]
    }
   ],
   "source": [
    "pip install scipy"
   ]
  },
  {
   "cell_type": "code",
   "execution_count": 8,
   "metadata": {},
   "outputs": [
    {
     "name": "stdout",
     "output_type": "stream",
     "text": [
      "Collecting sympy\n",
      "  Downloading sympy-1.13.3-py3-none-any.whl.metadata (12 kB)\n",
      "Collecting mpmath<1.4,>=1.1.0 (from sympy)\n",
      "  Downloading mpmath-1.3.0-py3-none-any.whl.metadata (8.6 kB)\n",
      "Downloading sympy-1.13.3-py3-none-any.whl (6.2 MB)\n",
      "   ---------------------------------------- 0.0/6.2 MB ? eta -:--:--\n",
      "   ---------------------------------------- 0.0/6.2 MB 660.6 kB/s eta 0:00:10\n",
      "   ---------------------------------------- 0.0/6.2 MB 330.3 kB/s eta 0:00:19\n",
      "   ---------------------------------------- 0.1/6.2 MB 469.7 kB/s eta 0:00:14\n",
      "    --------------------------------------- 0.1/6.2 MB 595.3 kB/s eta 0:00:11\n",
      "    --------------------------------------- 0.1/6.2 MB 554.9 kB/s eta 0:00:11\n",
      "   - -------------------------------------- 0.2/6.2 MB 728.8 kB/s eta 0:00:09\n",
      "   - -------------------------------------- 0.3/6.2 MB 874.1 kB/s eta 0:00:07\n",
      "   -- ------------------------------------- 0.4/6.2 MB 892.7 kB/s eta 0:00:07\n",
      "   -- ------------------------------------- 0.5/6.2 MB 1.1 MB/s eta 0:00:06\n",
      "   --- ------------------------------------ 0.6/6.2 MB 1.3 MB/s eta 0:00:05\n",
      "   ---- ----------------------------------- 0.8/6.2 MB 1.5 MB/s eta 0:00:04\n",
      "   ----- ---------------------------------- 0.9/6.2 MB 1.6 MB/s eta 0:00:04\n",
      "   -------- ------------------------------- 1.2/6.2 MB 2.0 MB/s eta 0:00:03\n",
      "   ---------- ----------------------------- 1.6/6.2 MB 2.5 MB/s eta 0:00:02\n",
      "   ------------ --------------------------- 1.9/6.2 MB 2.7 MB/s eta 0:00:02\n",
      "   -------------- ------------------------- 2.2/6.2 MB 2.9 MB/s eta 0:00:02\n",
      "   ---------------- ----------------------- 2.6/6.2 MB 3.3 MB/s eta 0:00:02\n",
      "   ------------------- -------------------- 3.0/6.2 MB 3.6 MB/s eta 0:00:01\n",
      "   --------------------- ------------------ 3.4/6.2 MB 3.8 MB/s eta 0:00:01\n",
      "   ------------------------ --------------- 3.8/6.2 MB 4.0 MB/s eta 0:00:01\n",
      "   -------------------------- ------------- 4.1/6.2 MB 4.1 MB/s eta 0:00:01\n",
      "   ------------------------------ --------- 4.7/6.2 MB 4.6 MB/s eta 0:00:01\n",
      "   -------------------------------- ------- 5.0/6.2 MB 4.7 MB/s eta 0:00:01\n",
      "   ----------------------------------- ---- 5.5/6.2 MB 4.9 MB/s eta 0:00:01\n",
      "   -------------------------------------- - 6.0/6.2 MB 5.1 MB/s eta 0:00:01\n",
      "   ---------------------------------------- 6.2/6.2 MB 5.1 MB/s eta 0:00:00\n",
      "Downloading mpmath-1.3.0-py3-none-any.whl (536 kB)\n",
      "   ---------------------------------------- 0.0/536.2 kB ? eta -:--:--\n",
      "   --------------------------------------  532.5/536.2 kB 16.8 MB/s eta 0:00:01\n",
      "   --------------------------------------  532.5/536.2 kB 16.8 MB/s eta 0:00:01\n",
      "   ---------------------------------------- 536.2/536.2 kB 5.6 MB/s eta 0:00:00\n",
      "Installing collected packages: mpmath, sympy\n",
      "Successfully installed mpmath-1.3.0 sympy-1.13.3\n",
      "Note: you may need to restart the kernel to use updated packages.\n"
     ]
    },
    {
     "name": "stderr",
     "output_type": "stream",
     "text": [
      "\n",
      "[notice] A new release of pip is available: 24.0 -> 24.3.1\n",
      "[notice] To update, run: C:\\Users\\fiks1\\AppData\\Local\\Microsoft\\WindowsApps\\PythonSoftwareFoundation.Python.3.11_qbz5n2kfra8p0\\python.exe -m pip install --upgrade pip\n"
     ]
    }
   ],
   "source": [
    "pip install sympy"
   ]
  },
  {
   "cell_type": "code",
   "execution_count": 9,
   "metadata": {},
   "outputs": [],
   "source": [
    "from scipy.misc import derivative\n",
    "import numpy"
   ]
  },
  {
   "cell_type": "markdown",
   "metadata": {},
   "source": [
    "**Task 1**\n",
    "\n",
    "Найдите первую и вторую производные функции $f(x)$ в заданной точке $x_0 = 3.5$\n",
    "\n",
    "$f(x) = sin(\\sqrt{2x})$\n"
   ]
  },
  {
   "cell_type": "code",
   "execution_count": 10,
   "metadata": {},
   "outputs": [],
   "source": [
    "def f(x):\n",
    "    return numpy.sin(numpy.sqrt(2*x))"
   ]
  },
  {
   "cell_type": "code",
   "execution_count": 11,
   "metadata": {},
   "outputs": [
    {
     "name": "stdout",
     "output_type": "stream",
     "text": [
      "Значение первой производной в точке x0: -0.3228\n",
      "Вторая производная в точке x0: -0.0237\n"
     ]
    },
    {
     "name": "stderr",
     "output_type": "stream",
     "text": [
      "C:\\Users\\fiks1\\AppData\\Local\\Temp\\ipykernel_19448\\3562467918.py:2: DeprecationWarning: scipy.misc.derivative is deprecated in SciPy v1.10.0; and will be completely removed in SciPy v1.12.0. You may consider using findiff: https://github.com/maroba/findiff or numdifftools: https://github.com/pbrod/numdifftools\n",
      "  dfdx = derivative(f,x0)\n",
      "C:\\Users\\fiks1\\AppData\\Local\\Temp\\ipykernel_19448\\3562467918.py:6: DeprecationWarning: scipy.misc.derivative is deprecated in SciPy v1.10.0; and will be completely removed in SciPy v1.12.0. You may consider using findiff: https://github.com/maroba/findiff or numdifftools: https://github.com/pbrod/numdifftools\n",
      "  dfdxdx = derivative(f,x0,n=2)\n"
     ]
    }
   ],
   "source": [
    "x0 = 3.5\n",
    "dfdx = derivative(f,x0)\n",
    "\n",
    "print(f\"Значение первой производной в точке x0: {dfdx:.4f}\") \n",
    "\n",
    "dfdxdx = derivative(f,x0,n=2)\n",
    "\n",
    "print(f\"Вторая производная в точке x0: {dfdxdx:.4f}\")\n",
    "\n"
   ]
  },
  {
   "cell_type": "markdown",
   "metadata": {},
   "source": [
    "**Task 2**"
   ]
  },
  {
   "cell_type": "markdown",
   "metadata": {},
   "source": [
    "Используя функцию $f(x)$ и пакет\n",
    "**sympy** выведите на экран символьное представление производной"
   ]
  },
  {
   "cell_type": "code",
   "execution_count": 12,
   "metadata": {},
   "outputs": [],
   "source": [
    "\n",
    "from sympy import symbols, diff, sin, sqrt, integrate"
   ]
  },
  {
   "cell_type": "code",
   "execution_count": 13,
   "metadata": {},
   "outputs": [
    {
     "name": "stdout",
     "output_type": "stream",
     "text": [
      "sqrt(2)*cos(sqrt(2)*sqrt(x))/(2*sqrt(x))\n"
     ]
    }
   ],
   "source": [
    "x = symbols('x')\n",
    "\n",
    "f1 = sin(sqrt(2*x))\n",
    "\n",
    "derivative = diff(f1,x) \n",
    "\n",
    "print(derivative)"
   ]
  },
  {
   "cell_type": "markdown",
   "metadata": {},
   "source": [
    "**Task 3**\n",
    "\n",
    "Вычислите определенный интеграл от $a=0$ до $b=1$ с помощью **scipy** функции\n",
    "для функции $f(x) = sin(\\sqrt{2x})$. \n",
    "\n",
    "Интеграл вычислите методом прямоугольников.\n"
   ]
  },
  {
   "cell_type": "code",
   "execution_count": 14,
   "metadata": {},
   "outputs": [],
   "source": [
    "def Rectangle_rule(f, a,b,dx):\n",
    "\n",
    "    x = numpy.arange(a,b-dx,dx)\n",
    "\n",
    "    integral = numpy.sum(f(x))*dx\n",
    "    \n",
    "    print(integral)\n",
    "    "
   ]
  },
  {
   "cell_type": "code",
   "execution_count": 15,
   "metadata": {},
   "outputs": [
    {
     "name": "stdout",
     "output_type": "stream",
     "text": [
      "0.7672282084913793\n"
     ]
    }
   ],
   "source": [
    "a=0\n",
    "b=1\n",
    "dx = 1e-7\n",
    "\n",
    "Rectangle_rule(f, a,b,dx)"
   ]
  },
  {
   "cell_type": "markdown",
   "metadata": {},
   "source": [
    "**Task 4**\n",
    "\n",
    "С помощью **sympy** выведите на экран неопределенный интеграл\n",
    "функции $f(x) = sin(\\sqrt{2x})$."
   ]
  },
  {
   "cell_type": "code",
   "execution_count": 16,
   "metadata": {},
   "outputs": [
    {
     "name": "stdout",
     "output_type": "stream",
     "text": [
      "-sqrt(2)*sqrt(x)*cos(sqrt(2)*sqrt(x)) + sin(sqrt(2)*sqrt(x))\n"
     ]
    }
   ],
   "source": [
    "\n",
    "integral = integrate(f1, x)\n",
    "\n",
    "print(integral)"
   ]
  },
  {
   "cell_type": "markdown",
   "metadata": {},
   "source": [
    "**Task 5**\n",
    "\n",
    "Решите задачу нелинейной оптимизации: \n",
    "\n",
    "$(x_1+3)^3+(x_2-3)^2 \\rightarrow min$\n",
    "\n",
    "$x_1-4x_2 \\ge 12$\n",
    "\n",
    "Все переменные неотрицательны\n",
    "\n",
    "Выведите оптимальное значение и решение."
   ]
  },
  {
   "cell_type": "code",
   "execution_count": null,
   "metadata": {},
   "outputs": [],
   "source": []
  },
  {
   "cell_type": "code",
   "execution_count": 17,
   "metadata": {},
   "outputs": [
    {
     "name": "stdout",
     "output_type": "stream",
     "text": [
      "Оптимальное решение: x1 = 12.000000000048797, x2 = -2.3297281050094556e-11\n",
      "Оптимальное значение: 3384.0000000330774\n"
     ]
    }
   ],
   "source": [
    "from scipy.optimize import minimize\n",
    "\n",
    "x0 = [0, 0]\n",
    "\n",
    "fun = lambda x: (x[0]+3)**3+(x[1]-3)**2\n",
    "\n",
    "cons = ({'type': 'ineq', 'fun': lambda x: x[0]-4*x[1]-12},\n",
    "        {'type': 'ineq', 'fun': lambda x: x[0]},\n",
    "        {'type': 'ineq', 'fun': lambda x: x[1]})\n",
    "\n",
    "result = minimize(fun, x0, constraints=cons)\n",
    "\n",
    "if result.success:\n",
    "    print(f\"Оптимальное решение: x1 = {result.x[0]}, x2 = {result.x[1]}\")\n",
    "    print(f\"Оптимальное значение: {result.fun}\")\n",
    "else:\n",
    "    print(\"Оптимальное значение не найдено, \", result.message)"
   ]
  }
 ],
 "metadata": {
  "kernelspec": {
   "display_name": "Python 3",
   "language": "python",
   "name": "python3"
  },
  "language_info": {
   "codemirror_mode": {
    "name": "ipython",
    "version": 3
   },
   "file_extension": ".py",
   "mimetype": "text/x-python",
   "name": "python",
   "nbconvert_exporter": "python",
   "pygments_lexer": "ipython3",
   "version": "3.11.9"
  }
 },
 "nbformat": 4,
 "nbformat_minor": 2
}
