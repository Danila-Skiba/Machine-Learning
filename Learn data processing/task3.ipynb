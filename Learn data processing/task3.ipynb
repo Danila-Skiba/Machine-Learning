{
 "cells": [
  {
   "cell_type": "markdown",
   "metadata": {},
   "source": [
    "**Task 1**"
   ]
  },
  {
   "cell_type": "code",
   "execution_count": 216,
   "metadata": {},
   "outputs": [],
   "source": [
    "def print_vector(vector):\n",
    "    for element in vector:\n",
    "        print(element,end=\" \")"
   ]
  },
  {
   "cell_type": "code",
   "execution_count": 217,
   "metadata": {},
   "outputs": [],
   "source": [
    "import numpy\n",
    "from scipy.linalg import lu\n",
    "\n",
    "Matrix = numpy.array([[3,-1.2,-8,8],\n",
    "                       [21,-19,0.5,0],\n",
    "                       [7,0,-4.9,-2],\n",
    "                       [1,-2,13,9]])"
   ]
  },
  {
   "cell_type": "markdown",
   "metadata": {},
   "source": [
    "**Task 2**\n",
    "\n",
    "Получить LU-разложение (LUP-разложение)"
   ]
  },
  {
   "cell_type": "code",
   "execution_count": 218,
   "metadata": {},
   "outputs": [],
   "source": [
    "def print_matrix2D(matrix):\n",
    "    \n",
    "    for row in matrix:\n",
    "        for element in row:\n",
    "            if element.is_integer():\n",
    "                print(int(element),end=\" \")\n",
    "            else:\n",
    "                print(round(element,3) ,end=\" \")\n",
    "        print()"
   ]
  },
  {
   "cell_type": "code",
   "execution_count": 219,
   "metadata": {},
   "outputs": [
    {
     "name": "stdout",
     "output_type": "stream",
     "text": [
      "Матрица L: \n",
      "1 0 0 0 \n",
      "0.333 1 0 0 \n",
      "0.048 -0.173 1 0 \n",
      "0.143 0.239 -0.567 1 \n",
      "Матрица U: \n",
      "21 -19 0.5 0 \n",
      "0 6.333 -5.067 -2 \n",
      "0 0 12.1 8.654 \n",
      "0 0 0 13.385 \n"
     ]
    }
   ],
   "source": [
    "P,L,U = lu(Matrix)\n",
    "\n",
    "print(\"Матрица L: \")\n",
    "print_matrix2D(L)\n",
    "\n",
    "print(\"Матрица U: \")\n",
    "print_matrix2D(U)"
   ]
  },
  {
   "cell_type": "markdown",
   "metadata": {},
   "source": [
    "**Task 3**\n",
    "\n",
    "Найти определитель"
   ]
  },
  {
   "cell_type": "code",
   "execution_count": 220,
   "metadata": {},
   "outputs": [
    {
     "name": "stdout",
     "output_type": "stream",
     "text": [
      "-21539.82000000001\n",
      "-21539.82\n"
     ]
    }
   ],
   "source": [
    "det_L = numpy.prod(numpy.diag(L))\n",
    "det_U = numpy.prod(numpy.diag(U))\n",
    "\n",
    "det_P = numpy.linalg.det(P)\n",
    "\n",
    "det_Matrix = det_L*det_P*det_U\n",
    "\n",
    "\n",
    "det = numpy.linalg.det(Matrix)\n",
    "print(det)\n",
    "\n",
    "print(det_Matrix)"
   ]
  },
  {
   "cell_type": "markdown",
   "metadata": {},
   "source": [
    "**Task 4**\n",
    "\n",
    "Сгенерировать две выборки (вектор целых чисел из 100 элементов) в одинаковых интервалах с разными распределениями (равномерное и\n",
    "нормальное)"
   ]
  },
  {
   "cell_type": "code",
   "execution_count": 221,
   "metadata": {},
   "outputs": [
    {
     "name": "stdout",
     "output_type": "stream",
     "text": [
      "59 87 19 72 30 50 92 66 86 64 40 70 31 80 26 44 10 83 34 11 35 61 49 92 26 93 30 56 83 64 73 57 28 17 82 28 60 15 29 52 45 88 28 32 36 13 100 10 86 54 42 2 22 59 65 51 47 16 75 61 11 75 36 51 30 26 64 82 41 9 68 3 44 2 16 36 52 22 15 27 23 83 51 81 1 18 44 54 79 12 26 100 80 6 99 12 7 15 73 3 \n",
      "\n",
      "64 54 59 69 33 45 59 54 54 49 42 55 64 55 68 64 61 64 52 56 55 64 56 48 57 75 34 62 61 66 71 69 56 58 60 60 67 78 54 51 54 73 49 40 59 55 66 59 42 64 54 63 44 47 35 79 57 60 54 59 57 54 73 59 82 57 55 65 65 60 56 73 53 56 54 78 62 59 52 70 69 51 76 74 75 57 52 52 71 54 57 57 56 73 64 79 61 63 73 65 "
     ]
    }
   ],
   "source": [
    "\n",
    "uniform_selection = numpy.array(numpy.random.randint(low=1, high=101, size=100))\n",
    "normal_selection = numpy.random.normal(loc =60, scale =10, size =100)\n",
    "\n",
    "normal_selection = numpy.array(normal_selection.astype(int))\n",
    "\n",
    "print_vector(uniform_selection)\n",
    "print(\"\\n\")\n",
    "\n",
    "print_vector(normal_selection)"
   ]
  },
  {
   "cell_type": "markdown",
   "metadata": {},
   "source": [
    "**Task 5**\n",
    "\n",
    "Вычислить для каждой из выборок:\n",
    "\n",
    "a. Среднее \n",
    "\n",
    "b. Моду\n",
    "\n",
    "c. Медиану\n",
    "\n",
    "d. Минимум\n",
    "\n",
    "e. Максимум\n",
    "\n",
    "f. Стандартное отклонение"
   ]
  },
  {
   "cell_type": "code",
   "execution_count": 222,
   "metadata": {},
   "outputs": [],
   "source": [
    "from scipy import stats\n",
    "\n",
    "def statistic_props(selection):\n",
    "    print(\"Среднее: \", numpy.mean(selection))\n",
    "    print(\"Мода: \", stats.mode(selection).mode)\n",
    "    print(\"Медиана: \",  numpy.median(selection))\n",
    "    print(\"Минимум: \", numpy.min(selection))\n",
    "    print(\"Максимум: \", numpy.max(selection))\n",
    "    print(\"Стандартное отклонение: \", numpy.std(selection),\"\\n\")"
   ]
  },
  {
   "cell_type": "code",
   "execution_count": 223,
   "metadata": {},
   "outputs": [
    {
     "name": "stdout",
     "output_type": "stream",
     "text": [
      "Равномерная выборка:\n",
      "Среднее:  45.93\n",
      "Мода:  26\n",
      "Медиана:  44.0\n",
      "Минимум:  1\n",
      "Максимум:  100\n",
      "Стандартное отклонение:  27.834961828606843 \n",
      "\n",
      "Нормальная выборка: \n",
      "Среднее:  59.55\n",
      "Мода:  54\n",
      "Медиана:  59.0\n",
      "Минимум:  33\n",
      "Максимум:  82\n",
      "Стандартное отклонение:  9.900883798934316 \n",
      "\n"
     ]
    }
   ],
   "source": [
    "\n",
    "print(\"Равномерная выборка:\")\n",
    "\n",
    "statistic_props(uniform_selection)\n",
    "\n",
    "print(\"Нормальная выборка: \")\n",
    "\n",
    "statistic_props(normal_selection)"
   ]
  },
  {
   "cell_type": "markdown",
   "metadata": {},
   "source": [
    "**Task 6**\n",
    "\n",
    "С помощью метода хи-квадрат (scipy.stats.chisquare) вычислить значение\n",
    "p-value для нулевой гипотезы: “Распределение выборки не\n",
    "равномерное”."
   ]
  },
  {
   "cell_type": "code",
   "execution_count": 224,
   "metadata": {},
   "outputs": [],
   "source": [
    "from scipy.stats import chisquare\n",
    "\n",
    "def p_value_find(selection):\n",
    "    chi,p_value= chisquare(selection)\n",
    "    print(\"Значение p_value: \"+ str(p_value))\n",
    "    "
   ]
  },
  {
   "cell_type": "code",
   "execution_count": 225,
   "metadata": {},
   "outputs": [
    {
     "name": "stdout",
     "output_type": "stream",
     "text": [
      "Для нормальной выборки выборки: \n",
      "Значение p_value: 3.852277058631736e-05\n",
      "Для равномерной выборки: \n",
      "Значение p_value: 5.0070381131268796e-287\n"
     ]
    }
   ],
   "source": [
    "print(\"Для нормальной выборки выборки: \")\n",
    "p_value_find(normal_selection)\n",
    "\n",
    "print(\"Для равномерной выборки: \")\n",
    "p_value_find(uniform_selection)"
   ]
  }
 ],
 "metadata": {
  "kernelspec": {
   "display_name": "Python 3",
   "language": "python",
   "name": "python3"
  },
  "language_info": {
   "codemirror_mode": {
    "name": "ipython",
    "version": 3
   },
   "file_extension": ".py",
   "mimetype": "text/x-python",
   "name": "python",
   "nbconvert_exporter": "python",
   "pygments_lexer": "ipython3",
   "version": "3.12.6"
  }
 },
 "nbformat": 4,
 "nbformat_minor": 2
}
