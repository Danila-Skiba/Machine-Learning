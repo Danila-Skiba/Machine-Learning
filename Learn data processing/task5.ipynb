{
 "cells": [
  {
   "cell_type": "markdown",
   "metadata": {},
   "source": [
    "**Задание 5: Анализ данных средствами pandas**"
   ]
  },
  {
   "cell_type": "markdown",
   "metadata": {},
   "source": [
    "1. Создать датафрейм "
   ]
  },
  {
   "cell_type": "code",
   "execution_count": 70,
   "metadata": {},
   "outputs": [
    {
     "name": "stdout",
     "output_type": "stream",
     "text": [
      "                                         name   age     sex\n",
      "0  Strom, Mrs. Wilhelm (Elna Matilda Persson)  29.0  female\n",
      "1    Navratil, Mr. Michel (\"Louis M Hoffman\")  36.5    male\n",
      "2                      Minahan, Miss. Daisy E  33.0    male\n"
     ]
    }
   ],
   "source": [
    "#%pip install pandas\n",
    "\n",
    "import pandas as ps\n",
    "\n",
    "data = [\n",
    "    {\n",
    "        'name': 'Strom, Mrs. Wilhelm (Elna Matilda Persson)', 'age': 29, 'sex':'female'\n",
    "    },\n",
    "\n",
    "    {\n",
    "        'name': 'Navratil, Mr. Michel (\"Louis M Hoffman\")', 'age': 36.5, 'sex':'male'\n",
    "    },\n",
    "    {\n",
    "        'name': 'Minahan, Miss. Daisy E' , 'age': 33, 'sex':'male'\n",
    "    }\n",
    "]\n",
    "\n",
    "df= ps.DataFrame(data)\n",
    "\n",
    "print(df)"
   ]
  },
  {
   "cell_type": "markdown",
   "metadata": {},
   "source": [
    "2. Загрузить данные из файла:\n",
    "**titanic_csv.csv**"
   ]
  },
  {
   "cell_type": "code",
   "execution_count": 71,
   "metadata": {},
   "outputs": [
    {
     "name": "stdout",
     "output_type": "stream",
     "text": [
      "     PassengerId  Survived  Pclass                                  Name  \\\n",
      "0            454         1       1              Goldenberg, Mr. Samuel L   \n",
      "1            234         1       3        Asplund, Miss. Lillian Gertrud   \n",
      "2            556         0       1                    Wright, Mr. George   \n",
      "3            766         1       1  Hogeboom, Mrs. John C (Anna Andrews)   \n",
      "4            444         1       2             Reynaldo, Ms. Encarnacion   \n",
      "..           ...       ...     ...                                   ...   \n",
      "489          363         0       3       Barbara, Mrs. (Catherine David)   \n",
      "490          447         1       2     Mellinger, Miss. Madeleine Violet   \n",
      "491           95         0       3                     Coxon, Mr. Daniel   \n",
      "492           59         1       2          West, Miss. Constance Mirium   \n",
      "493           33         1       3              Glynn, Miss. Mary Agatha   \n",
      "\n",
      "        Sex   Age  SibSp  Parch      Ticket     Fare Cabin Embarked  \n",
      "0      male  49.0      1      0       17453  89.1042   C92        C  \n",
      "1    female   5.0      4      2      347077  31.3875   NaN        S  \n",
      "2      male  62.0      0      0      113807  26.5500   NaN        S  \n",
      "3    female  51.0      1      0       13502  77.9583   D11        S  \n",
      "4    female  28.0      0      0      230434  13.0000   NaN        S  \n",
      "..      ...   ...    ...    ...         ...      ...   ...      ...  \n",
      "489  female  45.0      0      1        2691  14.4542   NaN        C  \n",
      "490  female  13.0      0      1      250644  19.5000   NaN        S  \n",
      "491    male  59.0      0      0      364500   7.2500   NaN        S  \n",
      "492  female   5.0      1      2  C.A. 34651  27.7500   NaN        S  \n",
      "493  female   NaN      0      0      335677   7.7500   NaN        Q  \n",
      "\n",
      "[494 rows x 12 columns]\n"
     ]
    }
   ],
   "source": [
    "df_2= ps.read_csv(\"./titanic_csv.csv\", sep =';')\n",
    "print(df_2)"
   ]
  },
  {
   "cell_type": "markdown",
   "metadata": {},
   "source": [
    "3. Загрузите напрямую данные по ссылке:\n",
    "\n",
    "https://gist.githubusercontent.com/zaryanezrya/8b4ef51c707cb16d5e88a44dc00a1bb2/raw/41230f49c6268e072dbf102672f670be256922ab/gistfile1.txt"
   ]
  },
  {
   "cell_type": "code",
   "execution_count": 72,
   "metadata": {},
   "outputs": [
    {
     "name": "stdout",
     "output_type": "stream",
     "text": [
      "     passengerid  survived  pclass  \\\n",
      "0            552         0       2   \n",
      "1            689         0       3   \n",
      "2            605         1       1   \n",
      "3            305         0       3   \n",
      "4            290         1       3   \n",
      "..           ...       ...     ...   \n",
      "495          482         0       2   \n",
      "496          155         0       3   \n",
      "497          851         0       3   \n",
      "498          850         1       1   \n",
      "499           77         0       3   \n",
      "\n",
      "                                             name     sex   age  sibsp  parch  \\\n",
      "0                     Sharp, Mr. Percival James R    male  27.0      0      0   \n",
      "1                 Fischer, Mr. Eberhard Thelander    male  18.0      0      0   \n",
      "2                 Homer, Mr. Harry (\"Mr E Haven\")    male  35.0      0      0   \n",
      "3               Williams, Mr. Howard Hugh \"Harry\"    male   NaN      0      0   \n",
      "4                            Connolly, Miss. Kate  female  22.0      0      0   \n",
      "..                                            ...     ...   ...    ...    ...   \n",
      "495              Frost, Mr. Anthony Wood \"Archie\"    male   NaN      0      0   \n",
      "496                         Olsen, Mr. Ole Martin    male   NaN      0      0   \n",
      "497       Andersson, Master. Sigvard Harald Elias    male   4.0      4      2   \n",
      "498  Goldenberg, Mrs. Samuel L (Edwiga Grabowska)  female   NaN      1      0   \n",
      "499                             Staneff, Mr. Ivan    male   NaN      0      0   \n",
      "\n",
      "        ticket     fare cabin embarked  \n",
      "0       244358  26.0000   NaN        S  \n",
      "1       350036   7.7958   NaN        S  \n",
      "2       111426  26.5500   NaN        C  \n",
      "3     A/5 2466   8.0500   NaN        S  \n",
      "4       370373   7.7500   NaN        Q  \n",
      "..         ...      ...   ...      ...  \n",
      "495     239854   0.0000   NaN        S  \n",
      "496  Fa 265302   7.3125   NaN        S  \n",
      "497     347082  31.2750   NaN        S  \n",
      "498      17453  89.1042   C92        C  \n",
      "499     349208   7.8958   NaN        S  \n",
      "\n",
      "[500 rows x 12 columns]\n"
     ]
    }
   ],
   "source": [
    "df_3 = ps.read_csv('https://gist.githubusercontent.com/zaryanezrya/8b4ef51c707cb16d5e88a44dc00a1bb2/raw/41230f49c6268e072dbf102672f670be256922ab/gistfile1.txt', sep=',')\n",
    "print(df_3)"
   ]
  },
  {
   "cell_type": "markdown",
   "metadata": {},
   "source": [
    "4. Объединить датафреймы из п. 2, 3 в один датафрейм, удалить дубликаты\n",
    "строк.\n"
   ]
  },
  {
   "cell_type": "code",
   "execution_count": 73,
   "metadata": {},
   "outputs": [
    {
     "name": "stdout",
     "output_type": "stream",
     "text": [
      "     passengerid  survived  pclass  \\\n",
      "0            454         1       1   \n",
      "1            234         1       3   \n",
      "2            556         0       1   \n",
      "3            766         1       1   \n",
      "4            444         1       2   \n",
      "..           ...       ...     ...   \n",
      "987          445         1       3   \n",
      "988          640         0       3   \n",
      "991          851         0       3   \n",
      "992          850         1       1   \n",
      "993           77         0       3   \n",
      "\n",
      "                                             name     sex   age  sibsp  parch  \\\n",
      "0                        Goldenberg, Mr. Samuel L    male  49.0      1      0   \n",
      "1                  Asplund, Miss. Lillian Gertrud  female   5.0      4      2   \n",
      "2                              Wright, Mr. George    male  62.0      0      0   \n",
      "3            Hogeboom, Mrs. John C (Anna Andrews)  female  51.0      1      0   \n",
      "4                       Reynaldo, Ms. Encarnacion  female  28.0      0      0   \n",
      "..                                            ...     ...   ...    ...    ...   \n",
      "987             Johannesen-Bratthammer, Mr. Bernt    male   NaN      0      0   \n",
      "988                    Thorneycroft, Mr. Percival    male   NaN      1      0   \n",
      "991       Andersson, Master. Sigvard Harald Elias    male   4.0      4      2   \n",
      "992  Goldenberg, Mrs. Samuel L (Edwiga Grabowska)  female   NaN      1      0   \n",
      "993                             Staneff, Mr. Ivan    male   NaN      0      0   \n",
      "\n",
      "     ticket     fare cabin embarked  \n",
      "0     17453  89.1042   C92        C  \n",
      "1    347077  31.3875   NaN        S  \n",
      "2    113807  26.5500   NaN        S  \n",
      "3     13502  77.9583   D11        S  \n",
      "4    230434  13.0000   NaN        S  \n",
      "..      ...      ...   ...      ...  \n",
      "987   65306   8.1125   NaN        S  \n",
      "988  376564  16.1000   NaN        S  \n",
      "991  347082  31.2750   NaN        S  \n",
      "992   17453  89.1042   C92        C  \n",
      "993  349208   7.8958   NaN        S  \n",
      "\n",
      "[891 rows x 12 columns]\n"
     ]
    }
   ],
   "source": [
    "df_2.columns = df_2.columns.str.lower() \n",
    "\n",
    "df_merge = ps.concat([df_2, df_3], ignore_index=True).drop_duplicates()\n",
    "\n",
    "print(df_merge)"
   ]
  },
  {
   "cell_type": "markdown",
   "metadata": {},
   "source": [
    "5. Задайть в качестве индекса датафрейма id пассажира. Отсортировать по\n",
    "индексу (sort_values)"
   ]
  },
  {
   "cell_type": "code",
   "execution_count": 74,
   "metadata": {},
   "outputs": [
    {
     "name": "stdout",
     "output_type": "stream",
     "text": [
      "             survived  pclass  \\\n",
      "passengerid                     \n",
      "1                   0       3   \n",
      "2                   1       1   \n",
      "3                   1       3   \n",
      "4                   1       1   \n",
      "5                   0       3   \n",
      "...               ...     ...   \n",
      "887                 0       2   \n",
      "888                 1       1   \n",
      "889                 0       3   \n",
      "890                 1       1   \n",
      "891                 0       3   \n",
      "\n",
      "                                                          name     sex   age  \\\n",
      "passengerid                                                                    \n",
      "1                                      Braund, Mr. Owen Harris    male  22.0   \n",
      "2            Cumings, Mrs. John Bradley (Florence Briggs Th...  female  38.0   \n",
      "3                                       Heikkinen, Miss. Laina  female  26.0   \n",
      "4                 Futrelle, Mrs. Jacques Heath (Lily May Peel)  female  35.0   \n",
      "5                                     Allen, Mr. William Henry    male  35.0   \n",
      "...                                                        ...     ...   ...   \n",
      "887                                      Montvila, Rev. Juozas    male  27.0   \n",
      "888                               Graham, Miss. Margaret Edith  female  19.0   \n",
      "889                   Johnston, Miss. Catherine Helen \"Carrie\"  female   NaN   \n",
      "890                                      Behr, Mr. Karl Howell    male  26.0   \n",
      "891                                        Dooley, Mr. Patrick    male  32.0   \n",
      "\n",
      "             sibsp  parch            ticket     fare cabin embarked  \n",
      "passengerid                                                          \n",
      "1                1      0         A/5 21171   7.2500   NaN        S  \n",
      "2                1      0          PC 17599  71.2833   C85        C  \n",
      "3                0      0  STON/O2. 3101282   7.9250   NaN        S  \n",
      "4                1      0            113803  53.1000  C123        S  \n",
      "5                0      0            373450   8.0500   NaN        S  \n",
      "...            ...    ...               ...      ...   ...      ...  \n",
      "887              0      0            211536  13.0000   NaN        S  \n",
      "888              0      0            112053  30.0000   B42        S  \n",
      "889              1      2        W./C. 6607  23.4500   NaN        S  \n",
      "890              0      0            111369  30.0000  C148        C  \n",
      "891              0      0            370376   7.7500   NaN        Q  \n",
      "\n",
      "[891 rows x 11 columns]\n"
     ]
    }
   ],
   "source": [
    "passangreid = 'passengerid'\n",
    "df_merge_pass = df_merge.set_index(passangreid).sort_values(by=passangreid)\n",
    "\n",
    "\n",
    "print(df_merge_pass)"
   ]
  },
  {
   "cell_type": "markdown",
   "metadata": {},
   "source": [
    "6. Отобразить информацию и базовую статистику по датафрейму (info, describe)"
   ]
  },
  {
   "cell_type": "code",
   "execution_count": 75,
   "metadata": {},
   "outputs": [
    {
     "name": "stdout",
     "output_type": "stream",
     "text": [
      "<class 'pandas.core.frame.DataFrame'>\n",
      "Index: 891 entries, 1 to 891\n",
      "Data columns (total 11 columns):\n",
      " #   Column    Non-Null Count  Dtype  \n",
      "---  ------    --------------  -----  \n",
      " 0   survived  891 non-null    int64  \n",
      " 1   pclass    891 non-null    int64  \n",
      " 2   name      891 non-null    object \n",
      " 3   sex       891 non-null    object \n",
      " 4   age       714 non-null    float64\n",
      " 5   sibsp     891 non-null    int64  \n",
      " 6   parch     891 non-null    int64  \n",
      " 7   ticket    891 non-null    object \n",
      " 8   fare      891 non-null    float64\n",
      " 9   cabin     204 non-null    object \n",
      " 10  embarked  889 non-null    object \n",
      "dtypes: float64(2), int64(4), object(5)\n",
      "memory usage: 83.5+ KB\n",
      "None\n",
      "         survived      pclass         age       sibsp       parch        fare\n",
      "count  891.000000  891.000000  714.000000  891.000000  891.000000  891.000000\n",
      "mean     0.383838    2.308642   29.699118    0.523008    0.381594   32.204208\n",
      "std      0.486592    0.836071   14.526497    1.102743    0.806057   49.693429\n",
      "min      0.000000    1.000000    0.420000    0.000000    0.000000    0.000000\n",
      "25%      0.000000    2.000000   20.125000    0.000000    0.000000    7.910400\n",
      "50%      0.000000    3.000000   28.000000    0.000000    0.000000   14.454200\n",
      "75%      1.000000    3.000000   38.000000    1.000000    0.000000   31.000000\n",
      "max      1.000000    3.000000   80.000000    8.000000    6.000000  512.329200\n"
     ]
    }
   ],
   "source": [
    "print(df_merge_pass.info())\n",
    "\n",
    "print(df_merge_pass.describe())"
   ]
  },
  {
   "cell_type": "markdown",
   "metadata": {},
   "source": [
    "7. Поменять местами нулевую по порядку строку с элементом с индексом 2 (loc,\n",
    "iloc).\n"
   ]
  },
  {
   "cell_type": "code",
   "execution_count": null,
   "metadata": {},
   "outputs": [
    {
     "name": "stdout",
     "output_type": "stream",
     "text": [
      "             survived  pclass  \\\n",
      "passengerid                     \n",
      "1                   1       1   \n",
      "2                   0       3   \n",
      "3                   1       3   \n",
      "4                   1       1   \n",
      "5                   0       3   \n",
      "...               ...     ...   \n",
      "887                 0       2   \n",
      "888                 1       1   \n",
      "889                 0       3   \n",
      "890                 1       1   \n",
      "891                 0       3   \n",
      "\n",
      "                                                          name     sex   age  \\\n",
      "passengerid                                                                    \n",
      "1            Cumings, Mrs. John Bradley (Florence Briggs Th...  female  38.0   \n",
      "2                                      Braund, Mr. Owen Harris    male  22.0   \n",
      "3                                       Heikkinen, Miss. Laina  female  26.0   \n",
      "4                 Futrelle, Mrs. Jacques Heath (Lily May Peel)  female  35.0   \n",
      "5                                     Allen, Mr. William Henry    male  35.0   \n",
      "...                                                        ...     ...   ...   \n",
      "887                                      Montvila, Rev. Juozas    male  27.0   \n",
      "888                               Graham, Miss. Margaret Edith  female  19.0   \n",
      "889                   Johnston, Miss. Catherine Helen \"Carrie\"  female   NaN   \n",
      "890                                      Behr, Mr. Karl Howell    male  26.0   \n",
      "891                                        Dooley, Mr. Patrick    male  32.0   \n",
      "\n",
      "             sibsp  parch            ticket     fare cabin embarked  \n",
      "passengerid                                                          \n",
      "1                1      0          PC 17599  71.2833   C85        C  \n",
      "2                1      0         A/5 21171   7.2500   NaN        S  \n",
      "3                0      0  STON/O2. 3101282   7.9250   NaN        S  \n",
      "4                1      0            113803  53.1000  C123        S  \n",
      "5                0      0            373450   8.0500   NaN        S  \n",
      "...            ...    ...               ...      ...   ...      ...  \n",
      "887              0      0            211536  13.0000   NaN        S  \n",
      "888              0      0            112053  30.0000   B42        S  \n",
      "889              1      2        W./C. 6607  23.4500   NaN        S  \n",
      "890              0      0            111369  30.0000  C148        C  \n",
      "891              0      0            370376   7.7500   NaN        Q  \n",
      "\n",
      "[891 rows x 11 columns]\n"
     ]
    }
   ],
   "source": [
    "\n",
    "df_copy=df_merge_pass.copy()\n",
    "\n",
    "row_index = 2\n",
    "row=0\n",
    "\n",
    "df_merge_pass.iloc[row]=df_copy.loc[row_index]\n",
    "df_merge_pass.loc[row_index]=df_copy.iloc[row]\n",
    "\n",
    "print(df_merge_pass)"
   ]
  },
  {
   "cell_type": "markdown",
   "metadata": {},
   "source": [
    "8. В столбце Sex заменить female/male на f/m (map)"
   ]
  },
  {
   "cell_type": "code",
   "execution_count": 77,
   "metadata": {},
   "outputs": [
    {
     "name": "stdout",
     "output_type": "stream",
     "text": [
      "             survived  pclass  \\\n",
      "passengerid                     \n",
      "1                   1       1   \n",
      "2                   0       3   \n",
      "3                   1       3   \n",
      "4                   1       1   \n",
      "5                   0       3   \n",
      "...               ...     ...   \n",
      "887                 0       2   \n",
      "888                 1       1   \n",
      "889                 0       3   \n",
      "890                 1       1   \n",
      "891                 0       3   \n",
      "\n",
      "                                                          name sex   age  \\\n",
      "passengerid                                                                \n",
      "1            Cumings, Mrs. John Bradley (Florence Briggs Th...   f  38.0   \n",
      "2                                      Braund, Mr. Owen Harris   m  22.0   \n",
      "3                                       Heikkinen, Miss. Laina   f  26.0   \n",
      "4                 Futrelle, Mrs. Jacques Heath (Lily May Peel)   f  35.0   \n",
      "5                                     Allen, Mr. William Henry   m  35.0   \n",
      "...                                                        ...  ..   ...   \n",
      "887                                      Montvila, Rev. Juozas   m  27.0   \n",
      "888                               Graham, Miss. Margaret Edith   f  19.0   \n",
      "889                   Johnston, Miss. Catherine Helen \"Carrie\"   f   NaN   \n",
      "890                                      Behr, Mr. Karl Howell   m  26.0   \n",
      "891                                        Dooley, Mr. Patrick   m  32.0   \n",
      "\n",
      "             sibsp  parch            ticket     fare cabin embarked  \n",
      "passengerid                                                          \n",
      "1                1      0          PC 17599  71.2833   C85        C  \n",
      "2                1      0         A/5 21171   7.2500   NaN        S  \n",
      "3                0      0  STON/O2. 3101282   7.9250   NaN        S  \n",
      "4                1      0            113803  53.1000  C123        S  \n",
      "5                0      0            373450   8.0500   NaN        S  \n",
      "...            ...    ...               ...      ...   ...      ...  \n",
      "887              0      0            211536  13.0000   NaN        S  \n",
      "888              0      0            112053  30.0000   B42        S  \n",
      "889              1      2        W./C. 6607  23.4500   NaN        S  \n",
      "890              0      0            111369  30.0000  C148        C  \n",
      "891              0      0            370376   7.7500   NaN        Q  \n",
      "\n",
      "[891 rows x 11 columns]\n"
     ]
    }
   ],
   "source": [
    "mapping = {'female': 'f', 'male': 'm'}\n",
    "\n",
    "df_merge_pass['sex']=df_merge_pass['sex'].map(mapping)\n",
    "\n",
    "print(df_merge_pass)"
   ]
  },
  {
   "cell_type": "markdown",
   "metadata": {},
   "source": [
    "9. Найти билеты по которым плыло 6 и более человек, отобразите список людей\n",
    "(groupby, count).\n"
   ]
  },
  {
   "cell_type": "code",
   "execution_count": 78,
   "metadata": {},
   "outputs": [
    {
     "name": "stdout",
     "output_type": "stream",
     "text": [
      "ticket\n",
      "110152         3\n",
      "110413         3\n",
      "110465         2\n",
      "110564         1\n",
      "110813         1\n",
      "              ..\n",
      "W./C. 6608     4\n",
      "W./C. 6609     1\n",
      "W.E.P. 5734    1\n",
      "W/C 14208      1\n",
      "WE/P 5735      2\n",
      "Name: name, Length: 681, dtype: int64\n",
      "          ticket  passenger_count\n",
      "0         110152                3\n",
      "1         110413                3\n",
      "2         110465                2\n",
      "3         110564                1\n",
      "4         110813                1\n",
      "..           ...              ...\n",
      "676   W./C. 6608                4\n",
      "677   W./C. 6609                1\n",
      "678  W.E.P. 5734                1\n",
      "679    W/C 14208                1\n",
      "680    WE/P 5735                2\n",
      "\n",
      "[681 rows x 2 columns]\n",
      "Билет 1601: Bing, Mr. Lee; Ling, Mr. Lee; Lang, Mr. Fang; Foo, Mr. Choong; Lam, Mr. Ali; Lam, Mr. Len; Chip, Mr. Chang\n",
      "Билет 3101295: Panula, Master. Juha Niilo; Panula, Master. Eino Viljami; Panula, Mr. Ernesti Arvid; Panula, Mrs. Juha (Maria Emilia Ojala); Panula, Mr. Jaako Arnold; Panula, Master. Urho Abraham\n",
      "Билет 347082: Andersson, Mr. Anders Johan; Andersson, Miss. Ellis Anna Maria; Andersson, Miss. Ingeborg Constanzia; Andersson, Miss. Sigrid Elisabeth; Andersson, Mrs. Anders Johan (Alfrida Konstantia Brogren); Andersson, Miss. Ebba Iris Alfrida; Andersson, Master. Sigvard Harald Elias\n",
      "Билет 347088: Skoog, Master. Harald; Skoog, Mrs. William (Anna Bernhardina Karlsson); Skoog, Mr. Wilhelm; Skoog, Miss. Mabel; Skoog, Miss. Margit Elizabeth; Skoog, Master. Karl Thorsten\n",
      "Билет CA 2144: Goodwin, Master. William Frederick; Goodwin, Miss. Lillian Amy; Goodwin, Master. Sidney Leonard; Goodwin, Master. Harold Victor; Goodwin, Mrs. Frederick (Augusta Tyler); Goodwin, Mr. Charles Edward\n",
      "Билет CA. 2343: Sage, Master. Thomas Henry; Sage, Miss. Constance Gladys; Sage, Mr. Frederick; Sage, Mr. George John Jr; Sage, Miss. Stella Anna; Sage, Mr. Douglas Bullen; Sage, Miss. Dorothy Edith \"Dolly\"\n"
     ]
    }
   ],
   "source": [
    "group_ticket = df_merge_pass.groupby('ticket')\n",
    "\n",
    "gropt = df_merge_pass.groupby('ticket')['name'].count()\n",
    "\n",
    "print(gropt)\n",
    "\n",
    "passenger_count = 'passenger_count'\n",
    "\n",
    "group_ticket_pass = group_ticket['name'].count().reset_index(name=passenger_count)\n",
    "\n",
    "print(group_ticket_pass)\n",
    "\n",
    "total_group = group_ticket_pass[group_ticket_pass[passenger_count]>=6]\n",
    "\n",
    "\n",
    "for index, row in total_group.iterrows():\n",
    "    ticket = row['ticket']\n",
    "    passenger_names = df_merge_pass[df_merge_pass['ticket']==ticket]['name'].tolist()\n",
    "    print(f\"Билет {ticket}: {'; '.join(passenger_names)}\")"
   ]
  },
  {
   "cell_type": "markdown",
   "metadata": {},
   "source": [
    "10.Найдите людей, которые плыли в одной каюте с людьми из датафрейма из п1"
   ]
  },
  {
   "cell_type": "code",
   "execution_count": 79,
   "metadata": {},
   "outputs": [
    {
     "name": "stdout",
     "output_type": "stream",
     "text": [
      "Сожители Strom, Mrs. Wilhelm (Elna Matilda Persson) (каюта G6): \n",
      "Sandstrom, Miss. Marguerite Rut; Strom, Miss. Telma Matilda; Sandstrom, Mrs. Hjalmar (Agnes Charlotta Bengtsson)\n",
      "--------------------\n",
      "Сожители Navratil, Mr. Michel (\"Louis M Hoffman\") (каюта F2): \n",
      "Navratil, Master. Michel M; Navratil, Master. Edmond Roger\n",
      "--------------------\n",
      "Сожители Minahan, Miss. Daisy E (каюта C78): \n",
      "Minahan, Dr. William Edward\n",
      "--------------------\n"
     ]
    }
   ],
   "source": [
    "result ={}\n",
    "\n",
    "for name in df['name']:\n",
    "\n",
    "    if df_merge_pass[df_merge_pass['name']==name].empty:\n",
    "                print(f\"Пассажир '{name}' не найден в списке.\")\n",
    "                continue  \n",
    "\n",
    "    cabin= df_merge_pass[df_merge_pass['name'] == name]['cabin'].iloc[0]\n",
    "\n",
    "    cabin_mates = df_merge_pass[df_merge_pass['cabin']==cabin]\n",
    "\n",
    "    cabin_mates=cabin_mates[cabin_mates['name']!=name]\n",
    "\n",
    "    result[name]=cabin_mates\n",
    "\n",
    "for name, mates in result.items():\n",
    "    print(f\"Сожители {name} (каюта {df_merge_pass[df_merge_pass['name']==name]['cabin'].iloc[0]}): \")\n",
    "    print('; '.join( mates['name'].tolist()))\n",
    "    print(\"--\"*10)"
   ]
  },
  {
   "cell_type": "markdown",
   "metadata": {},
   "source": [
    "11.Добавьте колонку “BirthYear” с годом рождения каждого пассажира."
   ]
  },
  {
   "cell_type": "code",
   "execution_count": 80,
   "metadata": {},
   "outputs": [
    {
     "name": "stdout",
     "output_type": "stream",
     "text": [
      "             survived  pclass  \\\n",
      "passengerid                     \n",
      "1                   1       1   \n",
      "2                   0       3   \n",
      "3                   1       3   \n",
      "4                   1       1   \n",
      "5                   0       3   \n",
      "...               ...     ...   \n",
      "887                 0       2   \n",
      "888                 1       1   \n",
      "889                 0       3   \n",
      "890                 1       1   \n",
      "891                 0       3   \n",
      "\n",
      "                                                          name sex   age  \\\n",
      "passengerid                                                                \n",
      "1            Cumings, Mrs. John Bradley (Florence Briggs Th...   f  38.0   \n",
      "2                                      Braund, Mr. Owen Harris   m  22.0   \n",
      "3                                       Heikkinen, Miss. Laina   f  26.0   \n",
      "4                 Futrelle, Mrs. Jacques Heath (Lily May Peel)   f  35.0   \n",
      "5                                     Allen, Mr. William Henry   m  35.0   \n",
      "...                                                        ...  ..   ...   \n",
      "887                                      Montvila, Rev. Juozas   m  27.0   \n",
      "888                               Graham, Miss. Margaret Edith   f  19.0   \n",
      "889                   Johnston, Miss. Catherine Helen \"Carrie\"   f   NaN   \n",
      "890                                      Behr, Mr. Karl Howell   m  26.0   \n",
      "891                                        Dooley, Mr. Patrick   m  32.0   \n",
      "\n",
      "             sibsp  parch            ticket     fare cabin embarked  BirthYear  \n",
      "passengerid                                                                     \n",
      "1                1      0          PC 17599  71.2833   C85        C     1874.0  \n",
      "2                1      0         A/5 21171   7.2500   NaN        S     1890.0  \n",
      "3                0      0  STON/O2. 3101282   7.9250   NaN        S     1886.0  \n",
      "4                1      0            113803  53.1000  C123        S     1877.0  \n",
      "5                0      0            373450   8.0500   NaN        S     1877.0  \n",
      "...            ...    ...               ...      ...   ...      ...        ...  \n",
      "887              0      0            211536  13.0000   NaN        S     1885.0  \n",
      "888              0      0            112053  30.0000   B42        S     1893.0  \n",
      "889              1      2        W./C. 6607  23.4500   NaN        S        NaN  \n",
      "890              0      0            111369  30.0000  C148        C     1886.0  \n",
      "891              0      0            370376   7.7500   NaN        Q     1880.0  \n",
      "\n",
      "[891 rows x 12 columns]\n"
     ]
    }
   ],
   "source": [
    "destroy_year = 1912\n",
    "\n",
    "df_merge_pass['BirthYear']= destroy_year - df_merge_pass['age']\n",
    "\n",
    "print(df_merge_pass)"
   ]
  },
  {
   "cell_type": "markdown",
   "metadata": {},
   "source": [
    "12.Добавьте колонку “Companion” с количеством попутчиков в одной каюте с этим\n",
    "пассажиром.\n"
   ]
  },
  {
   "cell_type": "code",
   "execution_count": 81,
   "metadata": {},
   "outputs": [
    {
     "name": "stdout",
     "output_type": "stream",
     "text": [
      "             survived  pclass  \\\n",
      "passengerid                     \n",
      "1                   1       1   \n",
      "2                   0       3   \n",
      "3                   1       3   \n",
      "4                   1       1   \n",
      "5                   0       3   \n",
      "...               ...     ...   \n",
      "887                 0       2   \n",
      "888                 1       1   \n",
      "889                 0       3   \n",
      "890                 1       1   \n",
      "891                 0       3   \n",
      "\n",
      "                                                          name sex   age  \\\n",
      "passengerid                                                                \n",
      "1            Cumings, Mrs. John Bradley (Florence Briggs Th...   f  38.0   \n",
      "2                                      Braund, Mr. Owen Harris   m  22.0   \n",
      "3                                       Heikkinen, Miss. Laina   f  26.0   \n",
      "4                 Futrelle, Mrs. Jacques Heath (Lily May Peel)   f  35.0   \n",
      "5                                     Allen, Mr. William Henry   m  35.0   \n",
      "...                                                        ...  ..   ...   \n",
      "887                                      Montvila, Rev. Juozas   m  27.0   \n",
      "888                               Graham, Miss. Margaret Edith   f  19.0   \n",
      "889                   Johnston, Miss. Catherine Helen \"Carrie\"   f   NaN   \n",
      "890                                      Behr, Mr. Karl Howell   m  26.0   \n",
      "891                                        Dooley, Mr. Patrick   m  32.0   \n",
      "\n",
      "             sibsp  parch            ticket     fare cabin embarked  \\\n",
      "passengerid                                                           \n",
      "1                1      0          PC 17599  71.2833   C85        C   \n",
      "2                1      0         A/5 21171   7.2500   NaN        S   \n",
      "3                0      0  STON/O2. 3101282   7.9250   NaN        S   \n",
      "4                1      0            113803  53.1000  C123        S   \n",
      "5                0      0            373450   8.0500   NaN        S   \n",
      "...            ...    ...               ...      ...   ...      ...   \n",
      "887              0      0            211536  13.0000   NaN        S   \n",
      "888              0      0            112053  30.0000   B42        S   \n",
      "889              1      2        W./C. 6607  23.4500   NaN        S   \n",
      "890              0      0            111369  30.0000  C148        C   \n",
      "891              0      0            370376   7.7500   NaN        Q   \n",
      "\n",
      "             BirthYear  Companion  \n",
      "passengerid                        \n",
      "1               1874.0        0.0  \n",
      "2               1890.0        NaN  \n",
      "3               1886.0        NaN  \n",
      "4               1877.0        1.0  \n",
      "5               1877.0        NaN  \n",
      "...                ...        ...  \n",
      "887             1885.0        NaN  \n",
      "888             1893.0        0.0  \n",
      "889                NaN        NaN  \n",
      "890             1886.0        0.0  \n",
      "891             1880.0        NaN  \n",
      "\n",
      "[891 rows x 13 columns]\n"
     ]
    }
   ],
   "source": [
    "df_merge_pass['Companion']=df_merge_pass.groupby('cabin')['name'].transform('count')-1\n",
    "\n",
    "print(df_merge_pass)"
   ]
  },
  {
   "cell_type": "markdown",
   "metadata": {},
   "source": [
    "13.Поменяйте местами нулевую по порядку строку с элементом с индексом 1."
   ]
  },
  {
   "cell_type": "code",
   "execution_count": 82,
   "metadata": {},
   "outputs": [
    {
     "name": "stdout",
     "output_type": "stream",
     "text": [
      "             survived  pclass  \\\n",
      "passengerid                     \n",
      "1                   1       1   \n",
      "2                   0       3   \n",
      "3                   1       3   \n",
      "4                   1       1   \n",
      "5                   0       3   \n",
      "...               ...     ...   \n",
      "887                 0       2   \n",
      "888                 1       1   \n",
      "889                 0       3   \n",
      "890                 1       1   \n",
      "891                 0       3   \n",
      "\n",
      "                                                          name sex   age  \\\n",
      "passengerid                                                                \n",
      "1            Cumings, Mrs. John Bradley (Florence Briggs Th...   f  38.0   \n",
      "2                                      Braund, Mr. Owen Harris   m  22.0   \n",
      "3                                       Heikkinen, Miss. Laina   f  26.0   \n",
      "4                 Futrelle, Mrs. Jacques Heath (Lily May Peel)   f  35.0   \n",
      "5                                     Allen, Mr. William Henry   m  35.0   \n",
      "...                                                        ...  ..   ...   \n",
      "887                                      Montvila, Rev. Juozas   m  27.0   \n",
      "888                               Graham, Miss. Margaret Edith   f  19.0   \n",
      "889                   Johnston, Miss. Catherine Helen \"Carrie\"   f   NaN   \n",
      "890                                      Behr, Mr. Karl Howell   m  26.0   \n",
      "891                                        Dooley, Mr. Patrick   m  32.0   \n",
      "\n",
      "             sibsp  parch            ticket     fare cabin embarked  \\\n",
      "passengerid                                                           \n",
      "1                1      0          PC 17599  71.2833   C85        C   \n",
      "2                1      0         A/5 21171   7.2500   NaN        S   \n",
      "3                0      0  STON/O2. 3101282   7.9250   NaN        S   \n",
      "4                1      0            113803  53.1000  C123        S   \n",
      "5                0      0            373450   8.0500   NaN        S   \n",
      "...            ...    ...               ...      ...   ...      ...   \n",
      "887              0      0            211536  13.0000   NaN        S   \n",
      "888              0      0            112053  30.0000   B42        S   \n",
      "889              1      2        W./C. 6607  23.4500   NaN        S   \n",
      "890              0      0            111369  30.0000  C148        C   \n",
      "891              0      0            370376   7.7500   NaN        Q   \n",
      "\n",
      "             BirthYear  Companion  \n",
      "passengerid                        \n",
      "1               1874.0        0.0  \n",
      "2               1890.0        NaN  \n",
      "3               1886.0        NaN  \n",
      "4               1877.0        1.0  \n",
      "5               1877.0        NaN  \n",
      "...                ...        ...  \n",
      "887             1885.0        NaN  \n",
      "888             1893.0        0.0  \n",
      "889                NaN        NaN  \n",
      "890             1886.0        0.0  \n",
      "891             1880.0        NaN  \n",
      "\n",
      "[891 rows x 13 columns]\n"
     ]
    }
   ],
   "source": [
    "df_copy=df_merge_pass.copy()\n",
    "\n",
    "row_index = 1\n",
    "row=0\n",
    "\n",
    "df_merge_pass.iloc[row]=df_copy.loc[row_index].values\n",
    "df_merge_pass.loc[row_index]=df_copy.iloc[row].values\n",
    "\n",
    "\n",
    "print(df_merge_pass)"
   ]
  },
  {
   "cell_type": "markdown",
   "metadata": {},
   "source": [
    "14.Запишите получившийся датафрейм в csv файл (to_csv)."
   ]
  },
  {
   "cell_type": "code",
   "execution_count": 83,
   "metadata": {},
   "outputs": [],
   "source": [
    "df_merge_pass.to_csv('result.csv', index=True)"
   ]
  },
  {
   "cell_type": "markdown",
   "metadata": {},
   "source": [
    "15.Отобразите топ-10 людей, которые больше остальных заплатили за билет. "
   ]
  },
  {
   "cell_type": "code",
   "execution_count": 84,
   "metadata": {},
   "outputs": [
    {
     "name": "stdout",
     "output_type": "stream",
     "text": [
      " survived  pclass                                            name sex  age  sibsp  parch   ticket     fare           cabin embarked  BirthYear  Companion\n",
      "        1       1              Cardeza, Mr. Thomas Drake Martinez   m 36.0      0      1 PC 17755 512.3292     B51 B53 B55        C     1876.0        1.0\n",
      "        1       1                                Ward, Miss. Anna   f 35.0      0      0 PC 17755 512.3292             NaN        C     1877.0        NaN\n",
      "        1       1                          Lesurer, Mr. Gustave J   m 35.0      0      0 PC 17755 512.3292            B101        C     1877.0        0.0\n",
      "        1       1                      Fortune, Miss. Mabel Helen   f 23.0      3      2    19950 263.0000     C23 C25 C27        S     1889.0        3.0\n",
      "        0       1                               Fortune, Mr. Mark   m 64.0      1      4    19950 263.0000     C23 C25 C27        S     1848.0        3.0\n",
      "        1       1                  Fortune, Miss. Alice Elizabeth   f 24.0      3      2    19950 263.0000     C23 C25 C27        S     1888.0        3.0\n",
      "        0       1                  Fortune, Mr. Charles Alexander   m 19.0      3      2    19950 263.0000     C23 C25 C27        S     1893.0        3.0\n",
      "        1       1           Ryerson, Miss. Susan Parker \"Suzette\"   f 21.0      2      2 PC 17608 262.3750 B57 B59 B63 B66        C     1891.0        1.0\n",
      "        1       1                      Ryerson, Miss. Emily Borie   f 18.0      2      2 PC 17608 262.3750 B57 B59 B63 B66        C     1894.0        1.0\n",
      "        1       1 Baxter, Mrs. James (Helene DeLaudeniere Chaput)   f 50.0      0      1 PC 17558 247.5208         B58 B60        C     1862.0        1.0\n"
     ]
    }
   ],
   "source": [
    "top10=df_merge_pass.sort_values('fare', ascending=False).head(10)\n",
    "\n",
    "print(f\"{top10.to_string(index=False)}\")"
   ]
  },
  {
   "cell_type": "markdown",
   "metadata": {},
   "source": [
    "16.Отобразите сколько женщин и мужчин выжило/не выжило. "
   ]
  },
  {
   "cell_type": "code",
   "execution_count": 85,
   "metadata": {},
   "outputs": [
    {
     "name": "stdout",
     "output_type": "stream",
     "text": [
      "survived  Погибли  Выжили\n",
      "sex                      \n",
      "f              81     233\n",
      "m             468     109\n"
     ]
    }
   ],
   "source": [
    "survived_counts_on_gender = ps.crosstab(df_merge_pass['sex'], df_merge_pass['survived']).rename(columns={0:'Погибли', 1:\"Выжили\"})\n",
    "\n",
    "print(survived_counts_on_gender)"
   ]
  },
  {
   "cell_type": "markdown",
   "metadata": {},
   "source": [
    "17.Отобразите сколько в каком классе пассажиров выжило/не выжило."
   ]
  },
  {
   "cell_type": "code",
   "execution_count": 86,
   "metadata": {},
   "outputs": [
    {
     "name": "stdout",
     "output_type": "stream",
     "text": [
      "survived  Погибли  Выжили\n",
      "pclass                   \n",
      "1              80     136\n",
      "2              97      87\n",
      "3             372     119\n"
     ]
    }
   ],
   "source": [
    "survived_counts_on_class = ps.crosstab(df_merge_pass['pclass'], df_merge_pass['survived']).rename(columns={0: 'Погибли', 1: 'Выжили'})\n",
    "\n",
    "print(survived_counts_on_class)"
   ]
  }
 ],
 "metadata": {
  "kernelspec": {
   "display_name": "Python 3",
   "language": "python",
   "name": "python3"
  },
  "language_info": {
   "codemirror_mode": {
    "name": "ipython",
    "version": 3
   },
   "file_extension": ".py",
   "mimetype": "text/x-python",
   "name": "python",
   "nbconvert_exporter": "python",
   "pygments_lexer": "ipython3",
   "version": "3.11.9"
  }
 },
 "nbformat": 4,
 "nbformat_minor": 2
}
