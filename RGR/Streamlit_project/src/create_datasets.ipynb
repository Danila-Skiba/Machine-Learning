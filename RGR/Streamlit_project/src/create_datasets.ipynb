{
 "cells": [
  {
   "cell_type": "code",
   "execution_count": 6,
   "id": "10ae7ede",
   "metadata": {},
   "outputs": [],
   "source": [
    "import pandas as pd"
   ]
  },
  {
   "cell_type": "code",
   "execution_count": 7,
   "id": "4d9bf090",
   "metadata": {},
   "outputs": [],
   "source": [
    "data = pd.read_csv('result_mumbai.csv')"
   ]
  },
  {
   "cell_type": "code",
   "execution_count": 5,
   "id": "8b25a4df",
   "metadata": {},
   "outputs": [
    {
     "data": {
      "text/html": [
       "<div>\n",
       "<style scoped>\n",
       "    .dataframe tbody tr th:only-of-type {\n",
       "        vertical-align: middle;\n",
       "    }\n",
       "\n",
       "    .dataframe tbody tr th {\n",
       "        vertical-align: top;\n",
       "    }\n",
       "\n",
       "    .dataframe thead th {\n",
       "        text-align: right;\n",
       "    }\n",
       "</style>\n",
       "<table border=\"1\" class=\"dataframe\">\n",
       "  <thead>\n",
       "    <tr style=\"text-align: right;\">\n",
       "      <th></th>\n",
       "      <th>area</th>\n",
       "      <th>latitude</th>\n",
       "      <th>longitude</th>\n",
       "      <th>bedrooms</th>\n",
       "      <th>bathrooms</th>\n",
       "      <th>balcony</th>\n",
       "      <th>ready_to_move</th>\n",
       "      <th>new_housing</th>\n",
       "      <th>parking</th>\n",
       "      <th>lift</th>\n",
       "      <th>flat_or_individual</th>\n",
       "      <th>furnished_status_Semi-Furnished</th>\n",
       "      <th>furnished_status_Unfurnished</th>\n",
       "    </tr>\n",
       "  </thead>\n",
       "  <tbody>\n",
       "    <tr>\n",
       "      <th>0</th>\n",
       "      <td>629</td>\n",
       "      <td>19.032800</td>\n",
       "      <td>72.896357</td>\n",
       "      <td>2</td>\n",
       "      <td>2</td>\n",
       "      <td>0</td>\n",
       "      <td>0</td>\n",
       "      <td>1</td>\n",
       "      <td>0</td>\n",
       "      <td>0</td>\n",
       "      <td>1</td>\n",
       "      <td>0</td>\n",
       "      <td>1</td>\n",
       "    </tr>\n",
       "    <tr>\n",
       "      <th>1</th>\n",
       "      <td>974</td>\n",
       "      <td>19.032800</td>\n",
       "      <td>72.896357</td>\n",
       "      <td>3</td>\n",
       "      <td>2</td>\n",
       "      <td>0</td>\n",
       "      <td>0</td>\n",
       "      <td>1</td>\n",
       "      <td>0</td>\n",
       "      <td>0</td>\n",
       "      <td>1</td>\n",
       "      <td>0</td>\n",
       "      <td>1</td>\n",
       "    </tr>\n",
       "    <tr>\n",
       "      <th>2</th>\n",
       "      <td>968</td>\n",
       "      <td>19.085600</td>\n",
       "      <td>72.909277</td>\n",
       "      <td>3</td>\n",
       "      <td>3</td>\n",
       "      <td>0</td>\n",
       "      <td>0</td>\n",
       "      <td>1</td>\n",
       "      <td>0</td>\n",
       "      <td>0</td>\n",
       "      <td>1</td>\n",
       "      <td>0</td>\n",
       "      <td>1</td>\n",
       "    </tr>\n",
       "    <tr>\n",
       "      <th>3</th>\n",
       "      <td>629</td>\n",
       "      <td>19.155756</td>\n",
       "      <td>72.846862</td>\n",
       "      <td>2</td>\n",
       "      <td>2</td>\n",
       "      <td>2</td>\n",
       "      <td>1</td>\n",
       "      <td>1</td>\n",
       "      <td>2</td>\n",
       "      <td>2</td>\n",
       "      <td>1</td>\n",
       "      <td>0</td>\n",
       "      <td>1</td>\n",
       "    </tr>\n",
       "    <tr>\n",
       "      <th>4</th>\n",
       "      <td>1090</td>\n",
       "      <td>19.177555</td>\n",
       "      <td>72.849887</td>\n",
       "      <td>2</td>\n",
       "      <td>2</td>\n",
       "      <td>0</td>\n",
       "      <td>1</td>\n",
       "      <td>1</td>\n",
       "      <td>0</td>\n",
       "      <td>0</td>\n",
       "      <td>1</td>\n",
       "      <td>0</td>\n",
       "      <td>1</td>\n",
       "    </tr>\n",
       "    <tr>\n",
       "      <th>...</th>\n",
       "      <td>...</td>\n",
       "      <td>...</td>\n",
       "      <td>...</td>\n",
       "      <td>...</td>\n",
       "      <td>...</td>\n",
       "      <td>...</td>\n",
       "      <td>...</td>\n",
       "      <td>...</td>\n",
       "      <td>...</td>\n",
       "      <td>...</td>\n",
       "      <td>...</td>\n",
       "      <td>...</td>\n",
       "      <td>...</td>\n",
       "    </tr>\n",
       "    <tr>\n",
       "      <th>6232</th>\n",
       "      <td>810</td>\n",
       "      <td>19.138320</td>\n",
       "      <td>72.810020</td>\n",
       "      <td>2</td>\n",
       "      <td>2</td>\n",
       "      <td>0</td>\n",
       "      <td>1</td>\n",
       "      <td>0</td>\n",
       "      <td>0</td>\n",
       "      <td>0</td>\n",
       "      <td>1</td>\n",
       "      <td>1</td>\n",
       "      <td>0</td>\n",
       "    </tr>\n",
       "    <tr>\n",
       "      <th>6233</th>\n",
       "      <td>1400</td>\n",
       "      <td>19.221920</td>\n",
       "      <td>72.854250</td>\n",
       "      <td>3</td>\n",
       "      <td>3</td>\n",
       "      <td>1</td>\n",
       "      <td>1</td>\n",
       "      <td>0</td>\n",
       "      <td>1</td>\n",
       "      <td>1</td>\n",
       "      <td>1</td>\n",
       "      <td>0</td>\n",
       "      <td>1</td>\n",
       "    </tr>\n",
       "    <tr>\n",
       "      <th>6234</th>\n",
       "      <td>750</td>\n",
       "      <td>19.144320</td>\n",
       "      <td>72.824111</td>\n",
       "      <td>2</td>\n",
       "      <td>2</td>\n",
       "      <td>0</td>\n",
       "      <td>1</td>\n",
       "      <td>0</td>\n",
       "      <td>0</td>\n",
       "      <td>0</td>\n",
       "      <td>1</td>\n",
       "      <td>0</td>\n",
       "      <td>1</td>\n",
       "    </tr>\n",
       "    <tr>\n",
       "      <th>6235</th>\n",
       "      <td>700</td>\n",
       "      <td>19.047201</td>\n",
       "      <td>72.872225</td>\n",
       "      <td>2</td>\n",
       "      <td>2</td>\n",
       "      <td>0</td>\n",
       "      <td>1</td>\n",
       "      <td>0</td>\n",
       "      <td>0</td>\n",
       "      <td>0</td>\n",
       "      <td>1</td>\n",
       "      <td>0</td>\n",
       "      <td>0</td>\n",
       "    </tr>\n",
       "    <tr>\n",
       "      <th>6236</th>\n",
       "      <td>900</td>\n",
       "      <td>19.168818</td>\n",
       "      <td>72.936375</td>\n",
       "      <td>2</td>\n",
       "      <td>2</td>\n",
       "      <td>0</td>\n",
       "      <td>1</td>\n",
       "      <td>0</td>\n",
       "      <td>0</td>\n",
       "      <td>0</td>\n",
       "      <td>1</td>\n",
       "      <td>0</td>\n",
       "      <td>1</td>\n",
       "    </tr>\n",
       "  </tbody>\n",
       "</table>\n",
       "<p>6237 rows × 13 columns</p>\n",
       "</div>"
      ],
      "text/plain": [
       "      area   latitude  longitude  bedrooms  bathrooms  balcony  ready_to_move  \\\n",
       "0      629  19.032800  72.896357         2          2        0              0   \n",
       "1      974  19.032800  72.896357         3          2        0              0   \n",
       "2      968  19.085600  72.909277         3          3        0              0   \n",
       "3      629  19.155756  72.846862         2          2        2              1   \n",
       "4     1090  19.177555  72.849887         2          2        0              1   \n",
       "...    ...        ...        ...       ...        ...      ...            ...   \n",
       "6232   810  19.138320  72.810020         2          2        0              1   \n",
       "6233  1400  19.221920  72.854250         3          3        1              1   \n",
       "6234   750  19.144320  72.824111         2          2        0              1   \n",
       "6235   700  19.047201  72.872225         2          2        0              1   \n",
       "6236   900  19.168818  72.936375         2          2        0              1   \n",
       "\n",
       "      new_housing  parking  lift  flat_or_individual  \\\n",
       "0               1        0     0                   1   \n",
       "1               1        0     0                   1   \n",
       "2               1        0     0                   1   \n",
       "3               1        2     2                   1   \n",
       "4               1        0     0                   1   \n",
       "...           ...      ...   ...                 ...   \n",
       "6232            0        0     0                   1   \n",
       "6233            0        1     1                   1   \n",
       "6234            0        0     0                   1   \n",
       "6235            0        0     0                   1   \n",
       "6236            0        0     0                   1   \n",
       "\n",
       "      furnished_status_Semi-Furnished  furnished_status_Unfurnished  \n",
       "0                                   0                             1  \n",
       "1                                   0                             1  \n",
       "2                                   0                             1  \n",
       "3                                   0                             1  \n",
       "4                                   0                             1  \n",
       "...                               ...                           ...  \n",
       "6232                                1                             0  \n",
       "6233                                0                             1  \n",
       "6234                                0                             1  \n",
       "6235                                0                             0  \n",
       "6236                                0                             1  \n",
       "\n",
       "[6237 rows x 13 columns]"
      ]
     },
     "execution_count": 5,
     "metadata": {},
     "output_type": "execute_result"
    }
   ],
   "source": [
    "data"
   ]
  },
  {
   "cell_type": "code",
   "execution_count": 8,
   "id": "6713375f",
   "metadata": {},
   "outputs": [],
   "source": [
    "import pandas as pd\n",
    "import numpy as np\n",
    "from sklearn.utils import shuffle\n",
    "\n",
    "# Функция для обнаружения выбросов с использованием IQR\n",
    "def detect_outliers_iqr(df, column):\n",
    "    Q1 = df[column].quantile(0.25)\n",
    "    Q3 = df[column].quantile(0.75)\n",
    "    IQR = Q3 - Q1\n",
    "    lower_bound = Q1 - 1.5 * IQR\n",
    "    upper_bound = Q3 + 1.5 * IQR\n",
    "    outliers = df[(df[column] < lower_bound) | (df[column] > upper_bound)]\n",
    "    non_outliers = df[(df[column] >= lower_bound) & (df[column] <= upper_bound)]\n",
    "    return non_outliers, outliers\n",
    "\n",
    "# Функция для создания искусственных выбросов\n",
    "def add_artificial_outliers(df, column, fraction=0.1, scale_factor=10):\n",
    "    df_copy = df.copy()\n",
    "    n_outliers = int(len(df_copy) * fraction)  # Количество выбросов (10% от подвыборки)\n",
    "    outlier_indices = np.random.choice(df_copy.index, size=n_outliers, replace=False)\n",
    "    df_copy.loc[outlier_indices, column] = df_copy.loc[outlier_indices, column] * scale_factor\n",
    "    return df_copy\n",
    "\n",
    "# Основная функция для создания подвыборок\n",
    "def create_subsamples(df, target_column, min_size=200, max_size=600):\n",
    "    # Перемешиваем датасет\n",
    "    df = shuffle(df, random_state=42)\n",
    "    \n",
    "    # Определяем размер подвыборок\n",
    "    sample_size = np.random.randint(min_size, max_size + 1)\n",
    "    \n",
    "    # 1. Подвыборка без выбросов\n",
    "    non_outliers, _ = detect_outliers_iqr(df, target_column)\n",
    "    subsample_no_outliers = non_outliers.sample(n=sample_size, random_state=42)\n",
    "    \n",
    "    # 2. Подвыборка с искусственными выбросами\n",
    "    subsample_base = df.sample(n=sample_size, random_state=43)\n",
    "    subsample_with_outliers = add_artificial_outliers(subsample_base, target_column)\n",
    "    \n",
    "    return subsample_no_outliers, subsample_with_outliers"
   ]
  },
  {
   "cell_type": "code",
   "execution_count": 9,
   "id": "6b49eb59",
   "metadata": {},
   "outputs": [],
   "source": [
    "np.random.seed(42)"
   ]
  },
  {
   "cell_type": "code",
   "execution_count": 20,
   "id": "5c913023",
   "metadata": {},
   "outputs": [],
   "source": [
    "subsample_no_outliers, subsample_with_outliers = create_subsamples(data, target_column='area')"
   ]
  },
  {
   "cell_type": "code",
   "execution_count": 21,
   "id": "6ed964a0",
   "metadata": {},
   "outputs": [],
   "source": [
    "subsample_with_outliers = subsample_with_outliers.reset_index(drop=True)"
   ]
  },
  {
   "cell_type": "code",
   "execution_count": 22,
   "id": "eede6af5",
   "metadata": {},
   "outputs": [],
   "source": [
    "subsample_no_outliers = subsample_no_outliers.reset_index(drop=True)"
   ]
  },
  {
   "cell_type": "code",
   "execution_count": 23,
   "id": "a1971907",
   "metadata": {},
   "outputs": [],
   "source": [
    "y_with_out = subsample_no_outliers['price']\n",
    "subsample_no_outliers = subsample_no_outliers.drop(columns=['price'])"
   ]
  },
  {
   "cell_type": "code",
   "execution_count": 30,
   "id": "745a0de4",
   "metadata": {},
   "outputs": [
    {
     "data": {
      "text/plain": [
       "0      19.00\n",
       "1      15.00\n",
       "2       9.80\n",
       "3       2.50\n",
       "4      12.00\n",
       "       ...  \n",
       "529    47.50\n",
       "530     5.58\n",
       "531    42.00\n",
       "532     7.20\n",
       "533    11.00\n",
       "Name: price, Length: 534, dtype: float64"
      ]
     },
     "execution_count": 30,
     "metadata": {},
     "output_type": "execute_result"
    }
   ],
   "source": [
    "y_with_out"
   ]
  },
  {
   "cell_type": "code",
   "execution_count": 25,
   "id": "f82ba82e",
   "metadata": {},
   "outputs": [],
   "source": [
    "y_with = subsample_with_outliers['price']\n",
    "subsample_with_outliers = subsample_with_outliers.drop(columns=['price'])"
   ]
  },
  {
   "cell_type": "code",
   "execution_count": 26,
   "id": "097e53bb",
   "metadata": {},
   "outputs": [],
   "source": [
    "subsample_with_outliers.to_csv('with_outliers.csv')"
   ]
  },
  {
   "cell_type": "code",
   "execution_count": 29,
   "id": "b261ee25",
   "metadata": {},
   "outputs": [],
   "source": [
    "y_with.to_csv('true_with_outliers.csv')"
   ]
  },
  {
   "cell_type": "code",
   "execution_count": 28,
   "id": "97d77c8b",
   "metadata": {},
   "outputs": [],
   "source": [
    "y_with_out.to_csv('true_no_outliers.csv')"
   ]
  },
  {
   "cell_type": "code",
   "execution_count": 10,
   "id": "8a14da71",
   "metadata": {},
   "outputs": [
    {
     "data": {
      "text/plain": [
       "area  latitude   longitude  bedrooms  bathrooms  balcony  ready_to_move  new_housing  parking  lift  flat_or_individual  furnished_status_Semi-Furnished  furnished_status_Unfurnished\n",
       "1940  19.167035  72.881274  3         3          0        1              0            0        0     1                   0                                1                               1\n",
       "525   19.071989  72.884082  2         2          0        1              0            0        0     1                   0                                1                               1\n",
       "550   19.040233  72.860180  2         2          0        1              0            0        0     1                   0                                0                               1\n",
       "      19.047201  72.872225  2         2          0        1              0            0        0     1                   1                                0                               1\n",
       "600   19.015128  72.858064  2         2          1        1              1            1        1     1                   1                                0                               1\n",
       "                                                                                                                                                                                         ..\n",
       "650   19.170670  72.936180  2         2          0        1              0            0        0     1                   1                                0                               1\n",
       "      19.153811  72.950485  2         2          0        1              0            0        0     1                   0                                0                               1\n",
       "      19.141149  72.825820  2         2          0        1              0            0        0     1                   0                                1                               1\n",
       "      19.085650  72.908220  2         2          0        1              0            0        0     1                   0                                1                               1\n",
       "649   19.096202  72.919057  2         2          0        1              0            0        0     1                   0                                1                               1\n",
       "Name: count, Length: 302, dtype: int64"
      ]
     },
     "execution_count": 10,
     "metadata": {},
     "output_type": "execute_result"
    }
   ],
   "source": [
    "subsample_no_outliers.value_counts()"
   ]
  },
  {
   "cell_type": "code",
   "execution_count": 12,
   "id": "20ca7527",
   "metadata": {},
   "outputs": [],
   "source": [
    "import streamlit as st\n",
    "import pandas as pd\n",
    "import numpy as np\n",
    "import plotly.express as px"
   ]
  },
  {
   "cell_type": "code",
   "execution_count": 21,
   "id": "a0f63e27",
   "metadata": {},
   "outputs": [],
   "source": [
    "fig = px.histogram(subsample_with_outliers, x=subsample_with_outliers['area'], nbins=100)"
   ]
  },
  {
   "cell_type": "code",
   "execution_count": 22,
   "id": "eb7f1820",
   "metadata": {},
   "outputs": [
    {
     "ename": "ValueError",
     "evalue": "Mime type rendering requires nbformat>=4.2.0 but it is not installed",
     "output_type": "error",
     "traceback": [
      "\u001b[31m---------------------------------------------------------------------------\u001b[39m",
      "\u001b[31mValueError\u001b[39m                                Traceback (most recent call last)",
      "\u001b[36mFile \u001b[39m\u001b[32m~\\AppData\\Roaming\\Python\\Python312\\site-packages\\IPython\\core\\formatters.py:984\u001b[39m, in \u001b[36mIPythonDisplayFormatter.__call__\u001b[39m\u001b[34m(self, obj)\u001b[39m\n\u001b[32m    982\u001b[39m method = get_real_method(obj, \u001b[38;5;28mself\u001b[39m.print_method)\n\u001b[32m    983\u001b[39m \u001b[38;5;28;01mif\u001b[39;00m method \u001b[38;5;129;01mis\u001b[39;00m \u001b[38;5;129;01mnot\u001b[39;00m \u001b[38;5;28;01mNone\u001b[39;00m:\n\u001b[32m--> \u001b[39m\u001b[32m984\u001b[39m     \u001b[43mmethod\u001b[49m\u001b[43m(\u001b[49m\u001b[43m)\u001b[49m\n\u001b[32m    985\u001b[39m     \u001b[38;5;28;01mreturn\u001b[39;00m \u001b[38;5;28;01mTrue\u001b[39;00m\n",
      "\u001b[36mFile \u001b[39m\u001b[32mc:\\Users\\fiks1\\AppData\\Local\\Programs\\Python\\Python312\\Lib\\site-packages\\plotly\\basedatatypes.py:846\u001b[39m, in \u001b[36mBaseFigure._ipython_display_\u001b[39m\u001b[34m(self)\u001b[39m\n\u001b[32m    843\u001b[39m \u001b[38;5;28;01mimport\u001b[39;00m\u001b[38;5;250m \u001b[39m\u001b[34;01mplotly\u001b[39;00m\u001b[34;01m.\u001b[39;00m\u001b[34;01mio\u001b[39;00m\u001b[38;5;250m \u001b[39m\u001b[38;5;28;01mas\u001b[39;00m\u001b[38;5;250m \u001b[39m\u001b[34;01mpio\u001b[39;00m\n\u001b[32m    845\u001b[39m \u001b[38;5;28;01mif\u001b[39;00m pio.renderers.render_on_display \u001b[38;5;129;01mand\u001b[39;00m pio.renderers.default:\n\u001b[32m--> \u001b[39m\u001b[32m846\u001b[39m     \u001b[43mpio\u001b[49m\u001b[43m.\u001b[49m\u001b[43mshow\u001b[49m\u001b[43m(\u001b[49m\u001b[38;5;28;43mself\u001b[39;49m\u001b[43m)\u001b[49m\n\u001b[32m    847\u001b[39m \u001b[38;5;28;01melse\u001b[39;00m:\n\u001b[32m    848\u001b[39m     \u001b[38;5;28mprint\u001b[39m(\u001b[38;5;28mrepr\u001b[39m(\u001b[38;5;28mself\u001b[39m))\n",
      "\u001b[36mFile \u001b[39m\u001b[32mc:\\Users\\fiks1\\AppData\\Local\\Programs\\Python\\Python312\\Lib\\site-packages\\plotly\\io\\_renderers.py:425\u001b[39m, in \u001b[36mshow\u001b[39m\u001b[34m(fig, renderer, validate, **kwargs)\u001b[39m\n\u001b[32m    420\u001b[39m     \u001b[38;5;28;01mraise\u001b[39;00m \u001b[38;5;167;01mValueError\u001b[39;00m(\n\u001b[32m    421\u001b[39m         \u001b[33m\"\u001b[39m\u001b[33mMime type rendering requires ipython but it is not installed\u001b[39m\u001b[33m\"\u001b[39m\n\u001b[32m    422\u001b[39m     )\n\u001b[32m    424\u001b[39m \u001b[38;5;28;01mif\u001b[39;00m \u001b[38;5;129;01mnot\u001b[39;00m nbformat \u001b[38;5;129;01mor\u001b[39;00m Version(nbformat.__version__) < Version(\u001b[33m\"\u001b[39m\u001b[33m4.2.0\u001b[39m\u001b[33m\"\u001b[39m):\n\u001b[32m--> \u001b[39m\u001b[32m425\u001b[39m     \u001b[38;5;28;01mraise\u001b[39;00m \u001b[38;5;167;01mValueError\u001b[39;00m(\n\u001b[32m    426\u001b[39m         \u001b[33m\"\u001b[39m\u001b[33mMime type rendering requires nbformat>=4.2.0 but it is not installed\u001b[39m\u001b[33m\"\u001b[39m\n\u001b[32m    427\u001b[39m     )\n\u001b[32m    429\u001b[39m display_jupyter_version_warnings()\n\u001b[32m    431\u001b[39m ipython_display.display(bundle, raw=\u001b[38;5;28;01mTrue\u001b[39;00m)\n",
      "\u001b[31mValueError\u001b[39m: Mime type rendering requires nbformat>=4.2.0 but it is not installed"
     ]
    },
    {
     "data": {
      "application/vnd.plotly.v1+json": {
       "config": {
        "plotlyServerURL": "https://plot.ly"
       },
       "data": [
        {
         "bingroup": "x",
         "hovertemplate": "area=%{x}<br>count=%{y}<extra></extra>",
         "legendgroup": "",
         "marker": {
          "color": "#000001",
          "pattern": {
           "shape": ""
          }
         },
         "name": "",
         "nbinsx": 100,
         "orientation": "v",
         "showlegend": false,
         "type": "histogram",
         "x": {
          "bdata": "SAMAANMEAABMBAAAYgMAAH4EAADQawAAGgQAAIoCAADoAwAAyDIAAEwEAAC7AwAAsAQAAO4CAAAABQAAhAMAAGAJAAAgAwAAagYAAEgDAABSAwAACAIAAFUFAABsBwAAQgMAAMArAAACCAAAkwgAALAEAAAgAwAA/gIAALAEAACADAAAdkgAABIEAACsAwAA6AMAAAYEAAC2AwAAfQoAANQDAAAbAwAAhAMAAJ0DAABrAwAAlCoAACIkAAAaBAAAIAMAANoCAABJAgAAaQMAACMDAACFAgAAtgMAAEwDAACYAgAA1AMAAKoFAADAAwAADDoAABYDAACoAgAAjAoAAPMCAACKAgAAjwcAAC4EAADAAwAALwQAANwFAABIAwAAsAQAAORXAABwAwAAKgMAAFIDAADAAwAAjAUAABgFAAAWDQAAfgQAAPwDAAAIBwAADAMAAHIGAACEAwAAxQMAAIQDAAAjBQAAFAUAAMoHAABiAwAAGAMAANwFAACKAgAA7AQAAHAXAADoAwAAQAYAAIQDAAA0IQAA4gQAAPYEAADoAwAADgYAADwFAAB4BQAAsAQAANxQAADQBwAAVCQAAEwEAAACAwAAzgQAAIEFAACwBAAATAQAADQhAADkKgAATAQAALAEAACPBAAAdgMAAOQCAABkGQAAGgQAAA0DAAAaBAAAJAkAAEYFAACRBQAAcgYAAC8EAABSAwAArQIAANIEAACKAgAA4wMAAE4CAADZAwAAUgMAAD4DAADjAwAAeAQAALgLAACoFgAAtgMAALAEAACnAwAABgQAALwCAAD4KgAAFAUAAFQLAAA4BAAAvAIAALAEAAAQDgAALQUAAGoOAAA6BwAAhAMAAO4CAAC6BAAARgUAACQEAACoAgAAGgQAAIQDAAB4AwAAhAMAAAwDAABMBAAAQwQAAAAZAABGBQAAEA4AAKQGAABgLAAA3AUAACADAAD/CAAAtggAADwEAAAHAwAAjgMAAJIEAACgDwAA7gIAAEQHAAAgAwAAmDoAAPcBAADYBAAATAQAAKAPAADoAwAAqAcAABEDAADoAwAAPgQAAIgEAABMBAAA7gIAAJgDAADcBQAAIAMAAFwEAAC8AgAA+BEAALwCAAAJBgAAIAMAANAHAAAqBAAAEgMAAOIEAADtAwAAnQMAAKoDAACsAwAA6QIAAEgmAAAVCQAAOAkAAGEFAADoAwAATB0AANgOAAB2BwAA5hQAACoIAAB+BAAAhAMAALoEAACEAwAAvAIAAOgDAABmAwAAFAUAAIoCAADcBQAATAQAAOgDAADqBAAAcDUAAHMCAADcBQAAwQIAAIQDAADQBwAAeAUAADwDAAAYLgAAsAQAALIMAACwBAAAQAYAAKAPAADWBgAAUQQAAC4EAADaAgAA6AMAANQFAABMBAAANAMAAL4jAAAoIwAA1wUAAEwEAABQwwAAZgMAAJgIAAAfBAAAaQUAACgDAAC4CwAAIE4AAEAGAACEAwAA3AUAACBOAAAXAgAAWBsAAEMDAADvAwAAVwMAAIQDAABSAwAAbAQAACoDAADAAwAAVwMAAPwDAADRAwAA7gIAACADAACdCAAAogMAAJwCAAA=",
          "dtype": "i4"
         },
         "xaxis": "x",
         "yaxis": "y"
        }
       ],
       "layout": {
        "barmode": "relative",
        "legend": {
         "tracegroupgap": 0
        },
        "margin": {
         "t": 60
        },
        "template": {
         "data": {
          "candlestick": [
           {
            "decreasing": {
             "line": {
              "color": "#000033"
             }
            },
            "increasing": {
             "line": {
              "color": "#000032"
             }
            },
            "type": "candlestick"
           }
          ],
          "contour": [
           {
            "colorscale": [
             [
              0,
              "#000011"
             ],
             [
              0.1111111111111111,
              "#000012"
             ],
             [
              0.2222222222222222,
              "#000013"
             ],
             [
              0.3333333333333333,
              "#000014"
             ],
             [
              0.4444444444444444,
              "#000015"
             ],
             [
              0.5555555555555556,
              "#000016"
             ],
             [
              0.6666666666666666,
              "#000017"
             ],
             [
              0.7777777777777778,
              "#000018"
             ],
             [
              0.8888888888888888,
              "#000019"
             ],
             [
              1,
              "#000020"
             ]
            ],
            "type": "contour"
           }
          ],
          "contourcarpet": [
           {
            "colorscale": [
             [
              0,
              "#000011"
             ],
             [
              0.1111111111111111,
              "#000012"
             ],
             [
              0.2222222222222222,
              "#000013"
             ],
             [
              0.3333333333333333,
              "#000014"
             ],
             [
              0.4444444444444444,
              "#000015"
             ],
             [
              0.5555555555555556,
              "#000016"
             ],
             [
              0.6666666666666666,
              "#000017"
             ],
             [
              0.7777777777777778,
              "#000018"
             ],
             [
              0.8888888888888888,
              "#000019"
             ],
             [
              1,
              "#000020"
             ]
            ],
            "type": "contourcarpet"
           }
          ],
          "heatmap": [
           {
            "colorscale": [
             [
              0,
              "#000011"
             ],
             [
              0.1111111111111111,
              "#000012"
             ],
             [
              0.2222222222222222,
              "#000013"
             ],
             [
              0.3333333333333333,
              "#000014"
             ],
             [
              0.4444444444444444,
              "#000015"
             ],
             [
              0.5555555555555556,
              "#000016"
             ],
             [
              0.6666666666666666,
              "#000017"
             ],
             [
              0.7777777777777778,
              "#000018"
             ],
             [
              0.8888888888888888,
              "#000019"
             ],
             [
              1,
              "#000020"
             ]
            ],
            "type": "heatmap"
           }
          ],
          "histogram2d": [
           {
            "colorscale": [
             [
              0,
              "#000011"
             ],
             [
              0.1111111111111111,
              "#000012"
             ],
             [
              0.2222222222222222,
              "#000013"
             ],
             [
              0.3333333333333333,
              "#000014"
             ],
             [
              0.4444444444444444,
              "#000015"
             ],
             [
              0.5555555555555556,
              "#000016"
             ],
             [
              0.6666666666666666,
              "#000017"
             ],
             [
              0.7777777777777778,
              "#000018"
             ],
             [
              0.8888888888888888,
              "#000019"
             ],
             [
              1,
              "#000020"
             ]
            ],
            "type": "histogram2d"
           }
          ],
          "icicle": [
           {
            "textfont": {
             "color": "white"
            },
            "type": "icicle"
           }
          ],
          "sankey": [
           {
            "textfont": {
             "color": "#000036"
            },
            "type": "sankey"
           }
          ],
          "scatter": [
           {
            "marker": {
             "line": {
              "width": 0
             }
            },
            "type": "scatter"
           }
          ],
          "table": [
           {
            "cells": {
             "fill": {
              "color": "#000038"
             },
             "font": {
              "color": "#000037"
             },
             "line": {
              "color": "#000039"
             }
            },
            "header": {
             "fill": {
              "color": "#000040"
             },
             "font": {
              "color": "#000036"
             },
             "line": {
              "color": "#000039"
             }
            },
            "type": "table"
           }
          ],
          "waterfall": [
           {
            "connector": {
             "line": {
              "color": "#000036",
              "width": 2
             }
            },
            "decreasing": {
             "marker": {
              "color": "#000033"
             }
            },
            "increasing": {
             "marker": {
              "color": "#000032"
             }
            },
            "totals": {
             "marker": {
              "color": "#000034"
             }
            },
            "type": "waterfall"
           }
          ]
         },
         "layout": {
          "coloraxis": {
           "colorscale": [
            [
             0,
             "#000011"
            ],
            [
             0.1111111111111111,
             "#000012"
            ],
            [
             0.2222222222222222,
             "#000013"
            ],
            [
             0.3333333333333333,
             "#000014"
            ],
            [
             0.4444444444444444,
             "#000015"
            ],
            [
             0.5555555555555556,
             "#000016"
            ],
            [
             0.6666666666666666,
             "#000017"
            ],
            [
             0.7777777777777778,
             "#000018"
            ],
            [
             0.8888888888888888,
             "#000019"
            ],
            [
             1,
             "#000020"
            ]
           ]
          },
          "colorscale": {
           "diverging": [
            [
             0,
             "#000021"
            ],
            [
             0.1,
             "#000022"
            ],
            [
             0.2,
             "#000023"
            ],
            [
             0.3,
             "#000024"
            ],
            [
             0.4,
             "#000025"
            ],
            [
             0.5,
             "#000026"
            ],
            [
             0.6,
             "#000027"
            ],
            [
             0.7,
             "#000028"
            ],
            [
             0.8,
             "#000029"
            ],
            [
             0.9,
             "#000030"
            ],
            [
             1,
             "#000031"
            ]
           ],
           "sequential": [
            [
             0,
             "#000011"
            ],
            [
             0.1111111111111111,
             "#000012"
            ],
            [
             0.2222222222222222,
             "#000013"
            ],
            [
             0.3333333333333333,
             "#000014"
            ],
            [
             0.4444444444444444,
             "#000015"
            ],
            [
             0.5555555555555556,
             "#000016"
            ],
            [
             0.6666666666666666,
             "#000017"
            ],
            [
             0.7777777777777778,
             "#000018"
            ],
            [
             0.8888888888888888,
             "#000019"
            ],
            [
             1,
             "#000020"
            ]
           ],
           "sequentialminus": [
            [
             0,
             "#000011"
            ],
            [
             0.1111111111111111,
             "#000012"
            ],
            [
             0.2222222222222222,
             "#000013"
            ],
            [
             0.3333333333333333,
             "#000014"
            ],
            [
             0.4444444444444444,
             "#000015"
            ],
            [
             0.5555555555555556,
             "#000016"
            ],
            [
             0.6666666666666666,
             "#000017"
            ],
            [
             0.7777777777777778,
             "#000018"
            ],
            [
             0.8888888888888888,
             "#000019"
            ],
            [
             1,
             "#000020"
            ]
           ]
          },
          "colorway": [
           "#000001",
           "#000002",
           "#000003",
           "#000004",
           "#000005",
           "#000006",
           "#000007",
           "#000008",
           "#000009",
           "#000010"
          ]
         }
        },
        "xaxis": {
         "anchor": "y",
         "domain": [
          0,
          1
         ],
         "title": {
          "text": "area"
         }
        },
        "yaxis": {
         "anchor": "x",
         "domain": [
          0,
          1
         ],
         "title": {
          "text": "count"
         }
        }
       }
      },
      "text/html": [
       "<div>                        <script type=\"text/javascript\">window.PlotlyConfig = {MathJaxConfig: 'local'};</script>\n",
       "        <script charset=\"utf-8\" src=\"https://cdn.plot.ly/plotly-3.0.1.min.js\"></script>                <div id=\"4321fa4b-5e85-48d8-b4fb-1d7a72ddee28\" class=\"plotly-graph-div\" style=\"height:100%; width:100%;\"></div>            <script type=\"text/javascript\">                window.PLOTLYENV=window.PLOTLYENV || {};                                if (document.getElementById(\"4321fa4b-5e85-48d8-b4fb-1d7a72ddee28\")) {                    Plotly.newPlot(                        \"4321fa4b-5e85-48d8-b4fb-1d7a72ddee28\",                        [{\"bingroup\":\"x\",\"hovertemplate\":\"area=%{x}\\u003cbr\\u003ecount=%{y}\\u003cextra\\u003e\\u003c\\u002fextra\\u003e\",\"legendgroup\":\"\",\"marker\":{\"color\":\"#000001\",\"pattern\":{\"shape\":\"\"}},\"name\":\"\",\"nbinsx\":100,\"orientation\":\"v\",\"showlegend\":false,\"x\":{\"dtype\":\"i4\",\"bdata\":\"SAMAANMEAABMBAAAYgMAAH4EAADQawAAGgQAAIoCAADoAwAAyDIAAEwEAAC7AwAAsAQAAO4CAAAABQAAhAMAAGAJAAAgAwAAagYAAEgDAABSAwAACAIAAFUFAABsBwAAQgMAAMArAAACCAAAkwgAALAEAAAgAwAA\\u002fgIAALAEAACADAAAdkgAABIEAACsAwAA6AMAAAYEAAC2AwAAfQoAANQDAAAbAwAAhAMAAJ0DAABrAwAAlCoAACIkAAAaBAAAIAMAANoCAABJAgAAaQMAACMDAACFAgAAtgMAAEwDAACYAgAA1AMAAKoFAADAAwAADDoAABYDAACoAgAAjAoAAPMCAACKAgAAjwcAAC4EAADAAwAALwQAANwFAABIAwAAsAQAAORXAABwAwAAKgMAAFIDAADAAwAAjAUAABgFAAAWDQAAfgQAAPwDAAAIBwAADAMAAHIGAACEAwAAxQMAAIQDAAAjBQAAFAUAAMoHAABiAwAAGAMAANwFAACKAgAA7AQAAHAXAADoAwAAQAYAAIQDAAA0IQAA4gQAAPYEAADoAwAADgYAADwFAAB4BQAAsAQAANxQAADQBwAAVCQAAEwEAAACAwAAzgQAAIEFAACwBAAATAQAADQhAADkKgAATAQAALAEAACPBAAAdgMAAOQCAABkGQAAGgQAAA0DAAAaBAAAJAkAAEYFAACRBQAAcgYAAC8EAABSAwAArQIAANIEAACKAgAA4wMAAE4CAADZAwAAUgMAAD4DAADjAwAAeAQAALgLAACoFgAAtgMAALAEAACnAwAABgQAALwCAAD4KgAAFAUAAFQLAAA4BAAAvAIAALAEAAAQDgAALQUAAGoOAAA6BwAAhAMAAO4CAAC6BAAARgUAACQEAACoAgAAGgQAAIQDAAB4AwAAhAMAAAwDAABMBAAAQwQAAAAZAABGBQAAEA4AAKQGAABgLAAA3AUAACADAAD\\u002fCAAAtggAADwEAAAHAwAAjgMAAJIEAACgDwAA7gIAAEQHAAAgAwAAmDoAAPcBAADYBAAATAQAAKAPAADoAwAAqAcAABEDAADoAwAAPgQAAIgEAABMBAAA7gIAAJgDAADcBQAAIAMAAFwEAAC8AgAA+BEAALwCAAAJBgAAIAMAANAHAAAqBAAAEgMAAOIEAADtAwAAnQMAAKoDAACsAwAA6QIAAEgmAAAVCQAAOAkAAGEFAADoAwAATB0AANgOAAB2BwAA5hQAACoIAAB+BAAAhAMAALoEAACEAwAAvAIAAOgDAABmAwAAFAUAAIoCAADcBQAATAQAAOgDAADqBAAAcDUAAHMCAADcBQAAwQIAAIQDAADQBwAAeAUAADwDAAAYLgAAsAQAALIMAACwBAAAQAYAAKAPAADWBgAAUQQAAC4EAADaAgAA6AMAANQFAABMBAAANAMAAL4jAAAoIwAA1wUAAEwEAABQwwAAZgMAAJgIAAAfBAAAaQUAACgDAAC4CwAAIE4AAEAGAACEAwAA3AUAACBOAAAXAgAAWBsAAEMDAADvAwAAVwMAAIQDAABSAwAAbAQAACoDAADAAwAAVwMAAPwDAADRAwAA7gIAACADAACdCAAAogMAAJwCAAA=\"},\"xaxis\":\"x\",\"yaxis\":\"y\",\"type\":\"histogram\"}],                        {\"template\":{\"data\":{\"candlestick\":[{\"decreasing\":{\"line\":{\"color\":\"#000033\"}},\"increasing\":{\"line\":{\"color\":\"#000032\"}},\"type\":\"candlestick\"}],\"contourcarpet\":[{\"colorscale\":[[0.0,\"#000011\"],[0.1111111111111111,\"#000012\"],[0.2222222222222222,\"#000013\"],[0.3333333333333333,\"#000014\"],[0.4444444444444444,\"#000015\"],[0.5555555555555556,\"#000016\"],[0.6666666666666666,\"#000017\"],[0.7777777777777778,\"#000018\"],[0.8888888888888888,\"#000019\"],[1.0,\"#000020\"]],\"type\":\"contourcarpet\"}],\"contour\":[{\"colorscale\":[[0.0,\"#000011\"],[0.1111111111111111,\"#000012\"],[0.2222222222222222,\"#000013\"],[0.3333333333333333,\"#000014\"],[0.4444444444444444,\"#000015\"],[0.5555555555555556,\"#000016\"],[0.6666666666666666,\"#000017\"],[0.7777777777777778,\"#000018\"],[0.8888888888888888,\"#000019\"],[1.0,\"#000020\"]],\"type\":\"contour\"}],\"heatmap\":[{\"colorscale\":[[0.0,\"#000011\"],[0.1111111111111111,\"#000012\"],[0.2222222222222222,\"#000013\"],[0.3333333333333333,\"#000014\"],[0.4444444444444444,\"#000015\"],[0.5555555555555556,\"#000016\"],[0.6666666666666666,\"#000017\"],[0.7777777777777778,\"#000018\"],[0.8888888888888888,\"#000019\"],[1.0,\"#000020\"]],\"type\":\"heatmap\"}],\"histogram2d\":[{\"colorscale\":[[0.0,\"#000011\"],[0.1111111111111111,\"#000012\"],[0.2222222222222222,\"#000013\"],[0.3333333333333333,\"#000014\"],[0.4444444444444444,\"#000015\"],[0.5555555555555556,\"#000016\"],[0.6666666666666666,\"#000017\"],[0.7777777777777778,\"#000018\"],[0.8888888888888888,\"#000019\"],[1.0,\"#000020\"]],\"type\":\"histogram2d\"}],\"icicle\":[{\"textfont\":{\"color\":\"white\"},\"type\":\"icicle\"}],\"sankey\":[{\"textfont\":{\"color\":\"#000036\"},\"type\":\"sankey\"}],\"scatter\":[{\"marker\":{\"line\":{\"width\":0}},\"type\":\"scatter\"}],\"table\":[{\"cells\":{\"fill\":{\"color\":\"#000038\"},\"font\":{\"color\":\"#000037\"},\"line\":{\"color\":\"#000039\"}},\"header\":{\"fill\":{\"color\":\"#000040\"},\"font\":{\"color\":\"#000036\"},\"line\":{\"color\":\"#000039\"}},\"type\":\"table\"}],\"waterfall\":[{\"connector\":{\"line\":{\"color\":\"#000036\",\"width\":2}},\"decreasing\":{\"marker\":{\"color\":\"#000033\"}},\"increasing\":{\"marker\":{\"color\":\"#000032\"}},\"totals\":{\"marker\":{\"color\":\"#000034\"}},\"type\":\"waterfall\"}]},\"layout\":{\"coloraxis\":{\"colorscale\":[[0.0,\"#000011\"],[0.1111111111111111,\"#000012\"],[0.2222222222222222,\"#000013\"],[0.3333333333333333,\"#000014\"],[0.4444444444444444,\"#000015\"],[0.5555555555555556,\"#000016\"],[0.6666666666666666,\"#000017\"],[0.7777777777777778,\"#000018\"],[0.8888888888888888,\"#000019\"],[1.0,\"#000020\"]]},\"colorscale\":{\"diverging\":[[0.0,\"#000021\"],[0.1,\"#000022\"],[0.2,\"#000023\"],[0.3,\"#000024\"],[0.4,\"#000025\"],[0.5,\"#000026\"],[0.6,\"#000027\"],[0.7,\"#000028\"],[0.8,\"#000029\"],[0.9,\"#000030\"],[1.0,\"#000031\"]],\"sequential\":[[0.0,\"#000011\"],[0.1111111111111111,\"#000012\"],[0.2222222222222222,\"#000013\"],[0.3333333333333333,\"#000014\"],[0.4444444444444444,\"#000015\"],[0.5555555555555556,\"#000016\"],[0.6666666666666666,\"#000017\"],[0.7777777777777778,\"#000018\"],[0.8888888888888888,\"#000019\"],[1.0,\"#000020\"]],\"sequentialminus\":[[0.0,\"#000011\"],[0.1111111111111111,\"#000012\"],[0.2222222222222222,\"#000013\"],[0.3333333333333333,\"#000014\"],[0.4444444444444444,\"#000015\"],[0.5555555555555556,\"#000016\"],[0.6666666666666666,\"#000017\"],[0.7777777777777778,\"#000018\"],[0.8888888888888888,\"#000019\"],[1.0,\"#000020\"]]},\"colorway\":[\"#000001\",\"#000002\",\"#000003\",\"#000004\",\"#000005\",\"#000006\",\"#000007\",\"#000008\",\"#000009\",\"#000010\"]}},\"xaxis\":{\"anchor\":\"y\",\"domain\":[0.0,1.0],\"title\":{\"text\":\"area\"}},\"yaxis\":{\"anchor\":\"x\",\"domain\":[0.0,1.0],\"title\":{\"text\":\"count\"}},\"legend\":{\"tracegroupgap\":0},\"margin\":{\"t\":60},\"barmode\":\"relative\"},                        {\"responsive\": true}                    )                };            </script>        </div>"
      ],
      "text/plain": [
       "Figure({\n",
       "    'data': [{'bingroup': 'x',\n",
       "              'hovertemplate': 'area=%{x}<br>count=%{y}<extra></extra>',\n",
       "              'legendgroup': '',\n",
       "              'marker': {'color': '#000001', 'pattern': {'shape': ''}},\n",
       "              'name': '',\n",
       "              'nbinsx': 100,\n",
       "              'orientation': 'v',\n",
       "              'showlegend': False,\n",
       "              'type': 'histogram',\n",
       "              'x': {'bdata': ('SAMAANMEAABMBAAAYgMAAH4EAADQaw' ... 'AA7gIAACADAACdCAAAogMAAJwCAAA='),\n",
       "                    'dtype': 'i4'},\n",
       "              'xaxis': 'x',\n",
       "              'yaxis': 'y'}],\n",
       "    'layout': {'barmode': 'relative',\n",
       "               'legend': {'tracegroupgap': 0},\n",
       "               'margin': {'t': 60},\n",
       "               'template': '...',\n",
       "               'xaxis': {'anchor': 'y', 'domain': [0.0, 1.0], 'title': {'text': 'area'}},\n",
       "               'yaxis': {'anchor': 'x', 'domain': [0.0, 1.0], 'title': {'text': 'count'}}}\n",
       "})"
      ]
     },
     "execution_count": 22,
     "metadata": {},
     "output_type": "execute_result"
    }
   ],
   "source": [
    "fig"
   ]
  },
  {
   "cell_type": "code",
   "execution_count": null,
   "id": "ed4064a3",
   "metadata": {},
   "outputs": [],
   "source": []
  }
 ],
 "metadata": {
  "kernelspec": {
   "display_name": "Python 3",
   "language": "python",
   "name": "python3"
  },
  "language_info": {
   "codemirror_mode": {
    "name": "ipython",
    "version": 3
   },
   "file_extension": ".py",
   "mimetype": "text/x-python",
   "name": "python",
   "nbconvert_exporter": "python",
   "pygments_lexer": "ipython3",
   "version": "3.12.8"
  }
 },
 "nbformat": 4,
 "nbformat_minor": 5
}
